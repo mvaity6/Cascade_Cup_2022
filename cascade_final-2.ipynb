{
  "nbformat": 4,
  "nbformat_minor": 0,
  "metadata": {
    "colab": {
      "name": "cascade final.ipynb",
      "provenance": [],
      "collapsed_sections": []
    },
    "kernelspec": {
      "name": "python3",
      "display_name": "Python 3"
    },
    "language_info": {
      "name": "python"
    },
    "widgets": {
      "application/vnd.jupyter.widget-state+json": {
        "4dc2d9d8ab424804bf43b7a2a71efe26": {
          "model_module": "catboost-widget",
          "model_name": "CatboostWidgetModel",
          "model_module_version": "^1.0.0",
          "state": {
            "_view_name": "CatboostWidgetView",
            "_dom_classes": [],
            "_model_name": "CatboostWidgetModel",
            "data": {
              "catboost_info": {
                "content": {
                  "data": {
                    "meta": {
                      "name": "experiment",
                      "parameters": "",
                      "test_metrics": [
                        {
                          "best_value": "Max",
                          "name": "AUC"
                        },
                        {
                          "best_value": "Min",
                          "name": "Logloss"
                        }
                      ],
                      "learn_sets": [
                        "learn"
                      ],
                      "launch_mode": "Train",
                      "learn_metrics": [
                        {
                          "best_value": "Min",
                          "name": "Logloss"
                        }
                      ],
                      "iteration_count": 1000,
                      "test_sets": [
                        "test"
                      ]
                    },
                    "iterations": [
                      {
                        "test": [
                          0.8929455639,
                          0.6653025714
                        ],
                        "passed_time": 0.1454262709,
                        "iteration": 0,
                        "remaining_time": 145.2808447,
                        "learn": [
                          0.6651730469
                        ]
                      },
                      {
                        "test": [
                          0.9258364695,
                          0.6368822264
                        ],
                        "passed_time": 0.2316717689,
                        "iteration": 1,
                        "remaining_time": 115.6042127,
                        "learn": [
                          0.6368153863
                        ]
                      },
                      {
                        "test": [
                          0.9260263218,
                          0.611327283
                        ],
                        "passed_time": 0.3350531798,
                        "iteration": 2,
                        "remaining_time": 111.3493401,
                        "learn": [
                          0.6112969401
                        ]
                      },
                      {
                        "test": [
                          0.9288127454,
                          0.5880385748
                        ],
                        "passed_time": 0.4100497749,
                        "iteration": 3,
                        "remaining_time": 102.102394,
                        "learn": [
                          0.5880137153
                        ]
                      },
                      {
                        "test": [
                          0.9272900517,
                          0.5644745828
                        ],
                        "passed_time": 0.4956705879,
                        "iteration": 4,
                        "remaining_time": 98.63844699,
                        "learn": [
                          0.5644944227
                        ]
                      },
                      {
                        "test": [
                          0.9275244626,
                          0.5439234077
                        ],
                        "passed_time": 0.5775715527,
                        "iteration": 5,
                        "remaining_time": 95.68435389,
                        "learn": [
                          0.5439773872
                        ]
                      },
                      {
                        "test": [
                          0.9261875512,
                          0.5229044599
                        ],
                        "passed_time": 0.672592622,
                        "iteration": 6,
                        "remaining_time": 95.41206766,
                        "learn": [
                          0.5230009983
                        ]
                      },
                      {
                        "test": [
                          0.925033128,
                          0.5066111204
                        ],
                        "passed_time": 0.7431421975,
                        "iteration": 7,
                        "remaining_time": 92.14963249,
                        "learn": [
                          0.5067578125
                        ]
                      },
                      {
                        "test": [
                          0.9250508801,
                          0.4912438175
                        ],
                        "passed_time": 0.8298443453,
                        "iteration": 8,
                        "remaining_time": 91.37508291,
                        "learn": [
                          0.4914444444
                        ]
                      },
                      {
                        "test": [
                          0.9278561021,
                          0.4722638515
                        ],
                        "passed_time": 0.9111819228,
                        "iteration": 9,
                        "remaining_time": 90.20701036,
                        "learn": [
                          0.4725092665
                        ]
                      },
                      {
                        "test": [
                          0.932755403,
                          0.4522328959
                        ],
                        "passed_time": 1.003659084,
                        "iteration": 10,
                        "remaining_time": 90.23807583,
                        "learn": [
                          0.4525040148
                        ]
                      },
                      {
                        "test": [
                          0.931391047,
                          0.4350066768
                        ],
                        "passed_time": 1.092670594,
                        "iteration": 11,
                        "remaining_time": 89.96321227,
                        "learn": [
                          0.4353054253
                        ]
                      },
                      {
                        "test": [
                          0.9317337528,
                          0.4174224912
                        ],
                        "passed_time": 1.182542701,
                        "iteration": 12,
                        "remaining_time": 89.78228047,
                        "learn": [
                          0.4177413194
                        ]
                      },
                      {
                        "test": [
                          0.9301854715,
                          0.4017407442
                        ],
                        "passed_time": 1.255495482,
                        "iteration": 13,
                        "remaining_time": 88.42275322,
                        "learn": [
                          0.4021022352
                        ]
                      },
                      {
                        "test": [
                          0.9294963232,
                          0.3898946863
                        ],
                        "passed_time": 1.35090123,
                        "iteration": 14,
                        "remaining_time": 88.70918079,
                        "learn": [
                          0.3902974826
                        ]
                      },
                      {
                        "test": [
                          0.9307492109,
                          0.3740760889
                        ],
                        "passed_time": 1.440176533,
                        "iteration": 15,
                        "remaining_time": 88.57085676,
                        "learn": [
                          0.374500434
                        ]
                      },
                      {
                        "test": [
                          0.9301744684,
                          0.3630840049
                        ],
                        "passed_time": 1.525440247,
                        "iteration": 16,
                        "remaining_time": 88.20633899,
                        "learn": [
                          0.3635429796
                        ]
                      },
                      {
                        "test": [
                          0.9306869807,
                          0.3519492624
                        ],
                        "passed_time": 1.608601057,
                        "iteration": 17,
                        "remaining_time": 87.75812431,
                        "learn": [
                          0.3524375543
                        ]
                      },
                      {
                        "test": [
                          0.9309819432,
                          0.3385187342
                        ],
                        "passed_time": 1.700074688,
                        "iteration": 18,
                        "remaining_time": 87.77754048,
                        "learn": [
                          0.3390121094
                        ]
                      },
                      {
                        "test": [
                          0.9315433256,
                          0.3286587997
                        ],
                        "passed_time": 1.789561297,
                        "iteration": 19,
                        "remaining_time": 87.68850354,
                        "learn": [
                          0.3291740777
                        ]
                      },
                      {
                        "test": [
                          0.9322006431,
                          0.3160160016
                        ],
                        "passed_time": 1.868097794,
                        "iteration": 20,
                        "remaining_time": 87.08894,
                        "learn": [
                          0.3165355252
                        ]
                      },
                      {
                        "test": [
                          0.9320489796,
                          0.3048143415
                        ],
                        "passed_time": 1.952863541,
                        "iteration": 21,
                        "remaining_time": 86.81366107,
                        "learn": [
                          0.3053482422
                        ]
                      },
                      {
                        "test": [
                          0.932042771,
                          0.2965941881
                        ],
                        "passed_time": 2.019334641,
                        "iteration": 22,
                        "remaining_time": 85.77782368,
                        "learn": [
                          0.29715676
                        ]
                      },
                      {
                        "test": [
                          0.9323875924,
                          0.2881445335
                        ],
                        "passed_time": 2.108991269,
                        "iteration": 23,
                        "remaining_time": 85.76564495,
                        "learn": [
                          0.2887222439
                        ]
                      },
                      {
                        "test": [
                          0.9321219025,
                          0.2802413158
                        ],
                        "passed_time": 2.201758168,
                        "iteration": 24,
                        "remaining_time": 85.86856855,
                        "learn": [
                          0.2808444987
                        ]
                      },
                      {
                        "test": [
                          0.9317440718,
                          0.270215847
                        ],
                        "passed_time": 2.285039115,
                        "iteration": 25,
                        "remaining_time": 85.6010807,
                        "learn": [
                          0.2708428168
                        ]
                      },
                      {
                        "test": [
                          0.932284776,
                          0.2599240377
                        ],
                        "passed_time": 2.373971199,
                        "iteration": 26,
                        "remaining_time": 85.55088802,
                        "learn": [
                          0.2605563043
                        ]
                      },
                      {
                        "test": [
                          0.9317794496,
                          0.2507858032
                        ],
                        "passed_time": 2.465849632,
                        "iteration": 27,
                        "remaining_time": 85.60020864,
                        "learn": [
                          0.2514351671
                        ]
                      },
                      {
                        "test": [
                          0.9318998399,
                          0.2425398189
                        ],
                        "passed_time": 2.559546904,
                        "iteration": 28,
                        "remaining_time": 85.70069116,
                        "learn": [
                          0.2432051541
                        ]
                      },
                      {
                        "test": [
                          0.9322730658,
                          0.2338964502
                        ],
                        "passed_time": 2.64901728,
                        "iteration": 29,
                        "remaining_time": 85.65155872,
                        "learn": [
                          0.2345744141
                        ]
                      },
                      {
                        "test": [
                          0.9326504021,
                          0.2257513868
                        ],
                        "passed_time": 2.735834204,
                        "iteration": 30,
                        "remaining_time": 85.51688204,
                        "learn": [
                          0.226445855
                        ]
                      },
                      {
                        "test": [
                          0.9324421825,
                          0.2184668047
                        ],
                        "passed_time": 2.826349266,
                        "iteration": 31,
                        "remaining_time": 85.4970653,
                        "learn": [
                          0.2191751628
                        ]
                      },
                      {
                        "test": [
                          0.932300746,
                          0.212813462
                        ],
                        "passed_time": 2.915524292,
                        "iteration": 32,
                        "remaining_time": 85.43369669,
                        "learn": [
                          0.2135411892
                        ]
                      },
                      {
                        "test": [
                          0.931837351,
                          0.2062067485
                        ],
                        "passed_time": 2.988858376,
                        "iteration": 33,
                        "remaining_time": 84.91874091,
                        "learn": [
                          0.2069509983
                        ]
                      },
                      {
                        "test": [
                          0.9317773571,
                          0.1995423121
                        ],
                        "passed_time": 3.059523947,
                        "iteration": 34,
                        "remaining_time": 84.35544595,
                        "learn": [
                          0.2003028646
                        ]
                      },
                      {
                        "test": [
                          0.9318180927,
                          0.1928055738
                        ],
                        "passed_time": 3.147559059,
                        "iteration": 35,
                        "remaining_time": 84.28463701,
                        "learn": [
                          0.1935785916
                        ]
                      },
                      {
                        "test": [
                          0.9313607569,
                          0.1869914018
                        ],
                        "passed_time": 3.235395604,
                        "iteration": 36,
                        "remaining_time": 84.20772882,
                        "learn": [
                          0.1877791884
                        ]
                      },
                      {
                        "test": [
                          0.9315092183,
                          0.1811391731
                        ],
                        "passed_time": 3.329924855,
                        "iteration": 37,
                        "remaining_time": 84.29967659,
                        "learn": [
                          0.1819411296
                        ]
                      },
                      {
                        "test": [
                          0.9311911171,
                          0.1758469752
                        ],
                        "passed_time": 3.416817359,
                        "iteration": 38,
                        "remaining_time": 84.19388416,
                        "learn": [
                          0.176658355
                        ]
                      },
                      {
                        "test": [
                          0.9312597571,
                          0.1705156519
                        ],
                        "passed_time": 3.504551217,
                        "iteration": 39,
                        "remaining_time": 84.10922921,
                        "learn": [
                          0.1713388401
                        ]
                      },
                      {
                        "test": [
                          0.9314185605,
                          0.1651838126
                        ],
                        "passed_time": 3.590646738,
                        "iteration": 40,
                        "remaining_time": 83.98610296,
                        "learn": [
                          0.1660147732
                        ]
                      },
                      {
                        "test": [
                          0.931705722,
                          0.1598977323
                        ],
                        "passed_time": 3.687377977,
                        "iteration": 41,
                        "remaining_time": 84.10733577,
                        "learn": [
                          0.1607394531
                        ]
                      },
                      {
                        "test": [
                          0.9314172153,
                          0.1554636647
                        ],
                        "passed_time": 3.780598472,
                        "iteration": 42,
                        "remaining_time": 84.14029623,
                        "learn": [
                          0.1563193142
                        ]
                      },
                      {
                        "test": [
                          0.9314496153,
                          0.1506642069
                        ],
                        "passed_time": 3.860082761,
                        "iteration": 43,
                        "remaining_time": 83.86907089,
                        "learn": [
                          0.1515279568
                        ]
                      },
                      {
                        "test": [
                          0.9313398717,
                          0.1463222939
                        ],
                        "passed_time": 3.947320577,
                        "iteration": 44,
                        "remaining_time": 83.77091446,
                        "learn": [
                          0.1471992296
                        ]
                      },
                      {
                        "test": [
                          0.9310587234,
                          0.1423368252
                        ],
                        "passed_time": 4.038316002,
                        "iteration": 45,
                        "remaining_time": 83.75116229,
                        "learn": [
                          0.1432263672
                        ]
                      },
                      {
                        "test": [
                          0.9307058308,
                          0.1385938282
                        ],
                        "passed_time": 4.116833553,
                        "iteration": 46,
                        "remaining_time": 83.4753697,
                        "learn": [
                          0.1394985786
                        ]
                      },
                      {
                        "test": [
                          0.9309840012,
                          0.1344979597
                        ],
                        "passed_time": 4.204554448,
                        "iteration": 47,
                        "remaining_time": 83.39032989,
                        "learn": [
                          0.1354090169
                        ]
                      },
                      {
                        "test": [
                          0.9314498567,
                          0.1305332001
                        ],
                        "passed_time": 4.298604292,
                        "iteration": 48,
                        "remaining_time": 83.42801392,
                        "learn": [
                          0.1314537598
                        ]
                      },
                      {
                        "test": [
                          0.9315849638,
                          0.1267588152
                        ],
                        "passed_time": 4.396054922,
                        "iteration": 49,
                        "remaining_time": 83.52504351,
                        "learn": [
                          0.1276825846
                        ]
                      },
                      {
                        "test": [
                          0.9316668604,
                          0.1233280357
                        ],
                        "passed_time": 4.47941346,
                        "iteration": 50,
                        "remaining_time": 83.35222302,
                        "learn": [
                          0.1242628526
                        ]
                      },
                      {
                        "test": [
                          0.9318506709,
                          0.1198971205
                        ],
                        "passed_time": 4.564713507,
                        "iteration": 51,
                        "remaining_time": 83.21823855,
                        "learn": [
                          0.1208379449
                        ]
                      },
                      {
                        "test": [
                          0.932088646,
                          0.1166268592
                        ],
                        "passed_time": 4.661102909,
                        "iteration": 52,
                        "remaining_time": 83.284235,
                        "learn": [
                          0.1175709581
                        ]
                      },
                      {
                        "test": [
                          0.9319056979,
                          0.1137157893
                        ],
                        "passed_time": 4.7459452,
                        "iteration": 53,
                        "remaining_time": 83.14192887,
                        "learn": [
                          0.1146666667
                        ]
                      },
                      {
                        "test": [
                          0.9320275713,
                          0.1107072285
                        ],
                        "passed_time": 4.832015642,
                        "iteration": 54,
                        "remaining_time": 83.02281421,
                        "learn": [
                          0.1116671821
                        ]
                      },
                      {
                        "test": [
                          0.9321524226,
                          0.1078621018
                        ],
                        "passed_time": 4.901263034,
                        "iteration": 55,
                        "remaining_time": 82.62129115,
                        "learn": [
                          0.1088307183
                        ]
                      },
                      {
                        "test": [
                          0.9323811538,
                          0.1050989688
                        ],
                        "passed_time": 4.986575157,
                        "iteration": 56,
                        "remaining_time": 82.49719953,
                        "learn": [
                          0.1060730252
                        ]
                      },
                      {
                        "test": [
                          0.932522136,
                          0.1024268417
                        ],
                        "passed_time": 5.079539168,
                        "iteration": 57,
                        "remaining_time": 82.49872236,
                        "learn": [
                          0.1034088759
                        ]
                      },
                      {
                        "test": [
                          0.9326523567,
                          0.09999125344
                        ],
                        "passed_time": 5.165259416,
                        "iteration": 58,
                        "remaining_time": 82.38151035,
                        "learn": [
                          0.1009785482
                        ]
                      },
                      {
                        "test": [
                          0.9328393519,
                          0.09757800962
                        ],
                        "passed_time": 5.258798598,
                        "iteration": 59,
                        "remaining_time": 82.3878447,
                        "learn": [
                          0.0985694553
                        ]
                      },
                      {
                        "test": [
                          0.9330741537,
                          0.09527859016
                        ],
                        "passed_time": 5.353172461,
                        "iteration": 60,
                        "remaining_time": 82.40375314,
                        "learn": [
                          0.09627884115
                        ]
                      },
                      {
                        "test": [
                          0.9333521402,
                          0.09303913815
                        ],
                        "passed_time": 5.438205896,
                        "iteration": 61,
                        "remaining_time": 82.27479243,
                        "learn": [
                          0.0940445204
                        ]
                      },
                      {
                        "test": [
                          0.9334302082,
                          0.09107083951
                        ],
                        "passed_time": 5.520576685,
                        "iteration": 62,
                        "remaining_time": 82.10762466,
                        "learn": [
                          0.09208416884
                        ]
                      },
                      {
                        "test": [
                          0.9335110585,
                          0.08903136283
                        ],
                        "passed_time": 5.600728458,
                        "iteration": 63,
                        "remaining_time": 81.91065369,
                        "learn": [
                          0.09005033366
                        ]
                      },
                      {
                        "test": [
                          0.9335984165,
                          0.08708182122
                        ],
                        "passed_time": 5.689752676,
                        "iteration": 64,
                        "remaining_time": 81.84490387,
                        "learn": [
                          0.08810889214
                        ]
                      },
                      {
                        "test": [
                          0.9338320111,
                          0.08521468636
                        ],
                        "passed_time": 5.78786382,
                        "iteration": 65,
                        "remaining_time": 81.90704254,
                        "learn": [
                          0.08624966363
                        ]
                      },
                      {
                        "test": [
                          0.9338642156,
                          0.08346326589
                        ],
                        "passed_time": 5.871150765,
                        "iteration": 66,
                        "remaining_time": 81.75796513,
                        "learn": [
                          0.08450405273
                        ]
                      },
                      {
                        "test": [
                          0.9339163107,
                          0.08176461856
                        ],
                        "passed_time": 5.950558768,
                        "iteration": 67,
                        "remaining_time": 81.5576584,
                        "learn": [
                          0.08281218533
                        ]
                      },
                      {
                        "test": [
                          0.9339976785,
                          0.08010786511
                        ],
                        "passed_time": 6.030697247,
                        "iteration": 68,
                        "remaining_time": 81.37071213,
                        "learn": [
                          0.08115927463
                        ]
                      },
                      {
                        "test": [
                          0.9342054497,
                          0.07849537982
                        ],
                        "passed_time": 6.116066254,
                        "iteration": 69,
                        "remaining_time": 81.2563088,
                        "learn": [
                          0.07955386556
                        ]
                      },
                      {
                        "test": [
                          0.9345337377,
                          0.07697615522
                        ],
                        "passed_time": 6.195003819,
                        "iteration": 70,
                        "remaining_time": 81.05857109,
                        "learn": [
                          0.07804053548
                        ]
                      },
                      {
                        "test": [
                          0.934614772,
                          0.07552690995
                        ],
                        "passed_time": 6.275038581,
                        "iteration": 71,
                        "remaining_time": 80.87827504,
                        "learn": [
                          0.07659926487
                        ]
                      },
                      {
                        "test": [
                          0.9346642227,
                          0.07415703114
                        ],
                        "passed_time": 6.368709661,
                        "iteration": 72,
                        "remaining_time": 80.87388844,
                        "learn": [
                          0.07523510742
                        ]
                      },
                      {
                        "test": [
                          0.9348373175,
                          0.07281301384
                        ],
                        "passed_time": 6.452211953,
                        "iteration": 73,
                        "remaining_time": 80.73984147,
                        "learn": [
                          0.07389678006
                        ]
                      },
                      {
                        "test": [
                          0.9348812035,
                          0.07152614174
                        ],
                        "passed_time": 6.529307903,
                        "iteration": 74,
                        "remaining_time": 80.5281308,
                        "learn": [
                          0.07261366916
                        ]
                      },
                      {
                        "test": [
                          0.9350496992,
                          0.07028553874
                        ],
                        "passed_time": 6.614554503,
                        "iteration": 75,
                        "remaining_time": 80.41905738,
                        "learn": [
                          0.07137844238
                        ]
                      },
                      {
                        "test": [
                          0.9352375568,
                          0.06908010507
                        ],
                        "passed_time": 6.708556636,
                        "iteration": 76,
                        "remaining_time": 80.41555552,
                        "learn": [
                          0.07017674967
                        ]
                      },
                      {
                        "test": [
                          0.9354179065,
                          0.06792485781
                        ],
                        "passed_time": 6.790841067,
                        "iteration": 77,
                        "remaining_time": 80.2712239,
                        "learn": [
                          0.06902706706
                        ]
                      },
                      {
                        "test": [
                          0.9354371188,
                          0.06683926131
                        ],
                        "passed_time": 6.872085441,
                        "iteration": 78,
                        "remaining_time": 80.11633786,
                        "learn": [
                          0.06794663086
                        ]
                      },
                      {
                        "test": [
                          0.9355336863,
                          0.0657830429
                        ],
                        "passed_time": 6.956433683,
                        "iteration": 79,
                        "remaining_time": 79.99898736,
                        "learn": [
                          0.06689548882
                        ]
                      },
                      {
                        "test": [
                          0.9355683397,
                          0.06477627936
                        ],
                        "passed_time": 7.038146012,
                        "iteration": 80,
                        "remaining_time": 79.8525455,
                        "learn": [
                          0.06589284939
                        ]
                      },
                      {
                        "test": [
                          0.9357791808,
                          0.0637830921
                        ],
                        "passed_time": 7.124488644,
                        "iteration": 81,
                        "remaining_time": 79.75951921,
                        "learn": [
                          0.06490673014
                        ]
                      },
                      {
                        "test": [
                          0.9358578811,
                          0.06284517874
                        ],
                        "passed_time": 7.202451211,
                        "iteration": 82,
                        "remaining_time": 79.57406941,
                        "learn": [
                          0.06397231988
                        ]
                      },
                      {
                        "test": [
                          0.9359396168,
                          0.06194358226
                        ],
                        "passed_time": 7.279863562,
                        "iteration": 83,
                        "remaining_time": 79.38517885,
                        "learn": [
                          0.06307712131
                        ]
                      },
                      {
                        "test": [
                          0.9359676017,
                          0.06108542469
                        ],
                        "passed_time": 7.363673983,
                        "iteration": 84,
                        "remaining_time": 79.26778464,
                        "learn": [
                          0.06222362467
                        ]
                      },
                      {
                        "test": [
                          0.9360975349,
                          0.06024704167
                        ],
                        "passed_time": 7.448413498,
                        "iteration": 85,
                        "remaining_time": 79.16104578,
                        "learn": [
                          0.06139188097
                        ]
                      },
                      {
                        "test": [
                          0.936119909,
                          0.05944968315
                        ],
                        "passed_time": 7.530412576,
                        "iteration": 86,
                        "remaining_time": 79.02605381,
                        "learn": [
                          0.06060044217
                        ]
                      },
                      {
                        "test": [
                          0.9362444959,
                          0.0586743578
                        ],
                        "passed_time": 7.618859597,
                        "iteration": 87,
                        "remaining_time": 78.95909037,
                        "learn": [
                          0.05982998861
                        ]
                      },
                      {
                        "test": [
                          0.9364283293,
                          0.05791664672
                        ],
                        "passed_time": 7.708774394,
                        "iteration": 88,
                        "remaining_time": 78.90666824,
                        "learn": [
                          0.05907606879
                        ]
                      },
                      {
                        "test": [
                          0.9364504505,
                          0.05721277676
                        ],
                        "passed_time": 7.786553686,
                        "iteration": 89,
                        "remaining_time": 78.73070949,
                        "learn": [
                          0.0583764974
                        ]
                      },
                      {
                        "test": [
                          0.9364959116,
                          0.05652803599
                        ],
                        "passed_time": 7.869015765,
                        "iteration": 90,
                        "remaining_time": 78.60368495,
                        "learn": [
                          0.05769729275
                        ]
                      },
                      {
                        "test": [
                          0.9365254601,
                          0.05586854122
                        ],
                        "passed_time": 7.947945676,
                        "iteration": 91,
                        "remaining_time": 78.44276819,
                        "learn": [
                          0.05704124891
                        ]
                      },
                      {
                        "test": [
                          0.9366624298,
                          0.05521880715
                        ],
                        "passed_time": 8.035298586,
                        "iteration": 92,
                        "remaining_time": 78.36576148,
                        "learn": [
                          0.05639435764
                        ]
                      },
                      {
                        "test": [
                          0.9366912885,
                          0.05460992997
                        ],
                        "passed_time": 8.117099648,
                        "iteration": 93,
                        "remaining_time": 78.23502426,
                        "learn": [
                          0.05578913032
                        ]
                      },
                      {
                        "test": [
                          0.9368156799,
                          0.05401142561
                        ],
                        "passed_time": 8.196545997,
                        "iteration": 94,
                        "remaining_time": 78.08288555,
                        "learn": [
                          0.05519356554
                        ]
                      },
                      {
                        "test": [
                          0.9368828828,
                          0.0534351632
                        ],
                        "passed_time": 8.277237879,
                        "iteration": 95,
                        "remaining_time": 77.94399002,
                        "learn": [
                          0.05461987847
                        ]
                      },
                      {
                        "test": [
                          0.936904521,
                          0.05288489508
                        ],
                        "passed_time": 8.358707855,
                        "iteration": 96,
                        "remaining_time": 77.81353807,
                        "learn": [
                          0.05407401801
                        ]
                      },
                      {
                        "test": [
                          0.9370121261,
                          0.05234848032
                        ],
                        "passed_time": 8.448100353,
                        "iteration": 97,
                        "remaining_time": 77.75700529,
                        "learn": [
                          0.05354152018
                        ]
                      },
                      {
                        "test": [
                          0.9371692853,
                          0.05183962795
                        ],
                        "passed_time": 8.528075315,
                        "iteration": 98,
                        "remaining_time": 77.61409958,
                        "learn": [
                          0.05303539497
                        ]
                      },
                      {
                        "test": [
                          0.9371943269,
                          0.05134986318
                        ],
                        "passed_time": 8.607394055,
                        "iteration": 99,
                        "remaining_time": 77.46654649,
                        "learn": [
                          0.0525506212
                        ]
                      },
                      {
                        "test": [
                          0.9373061515,
                          0.05086282808
                        ],
                        "passed_time": 8.69996896,
                        "iteration": 100,
                        "remaining_time": 77.43833757,
                        "learn": [
                          0.05206798503
                        ]
                      },
                      {
                        "test": [
                          0.9373529118,
                          0.05040352913
                        ],
                        "passed_time": 8.7808697,
                        "iteration": 101,
                        "remaining_time": 77.30608814,
                        "learn": [
                          0.05161013997
                        ]
                      },
                      {
                        "test": [
                          0.9374457081,
                          0.04995720131
                        ],
                        "passed_time": 8.863892196,
                        "iteration": 102,
                        "remaining_time": 77.19331359,
                        "learn": [
                          0.05116639269
                        ]
                      },
                      {
                        "test": [
                          0.9375980384,
                          0.04952489289
                        ],
                        "passed_time": 8.948779407,
                        "iteration": 103,
                        "remaining_time": 77.09717643,
                        "learn": [
                          0.0507380127
                        ]
                      },
                      {
                        "test": [
                          0.9376378083,
                          0.04911058394
                        ],
                        "passed_time": 9.027454005,
                        "iteration": 104,
                        "remaining_time": 76.94829842,
                        "learn": [
                          0.05032670627
                        ]
                      },
                      {
                        "test": [
                          0.9377739616,
                          0.04869067056
                        ],
                        "passed_time": 9.111877299,
                        "iteration": 105,
                        "remaining_time": 76.8492293,
                        "learn": [
                          0.04991042752
                        ]
                      },
                      {
                        "test": [
                          0.9378210438,
                          0.048298699
                        ],
                        "passed_time": 9.192165782,
                        "iteration": 106,
                        "remaining_time": 76.71592564,
                        "learn": [
                          0.04952160645
                        ]
                      },
                      {
                        "test": [
                          0.9379215434,
                          0.04791910065
                        ],
                        "passed_time": 9.273988792,
                        "iteration": 107,
                        "remaining_time": 76.5962778,
                        "learn": [
                          0.04914574653
                        ]
                      },
                      {
                        "test": [
                          0.9379573006,
                          0.04755724153
                        ],
                        "passed_time": 9.353915039,
                        "iteration": 108,
                        "remaining_time": 76.46181926,
                        "learn": [
                          0.04878793674
                        ]
                      },
                      {
                        "test": [
                          0.9379853315,
                          0.04720292208
                        ],
                        "passed_time": 9.453321673,
                        "iteration": 109,
                        "remaining_time": 76.48596626,
                        "learn": [
                          0.04843557943
                        ]
                      },
                      {
                        "test": [
                          0.9380598468,
                          0.04685659221
                        ],
                        "passed_time": 9.539133373,
                        "iteration": 110,
                        "remaining_time": 76.39900512,
                        "learn": [
                          0.04809470215
                        ]
                      },
                      {
                        "test": [
                          0.9381596105,
                          0.04653207027
                        ],
                        "passed_time": 9.621052756,
                        "iteration": 111,
                        "remaining_time": 76.281204,
                        "learn": [
                          0.04777653266
                        ]
                      },
                      {
                        "test": [
                          0.9382107399,
                          0.04621310139
                        ],
                        "passed_time": 9.723821064,
                        "iteration": 112,
                        "remaining_time": 76.32769278,
                        "learn": [
                          0.04746289605
                        ]
                      },
                      {
                        "test": [
                          0.9382748154,
                          0.04589759752
                        ],
                        "passed_time": 9.801267971,
                        "iteration": 113,
                        "remaining_time": 76.17476686,
                        "learn": [
                          0.0471504069
                        ]
                      },
                      {
                        "test": [
                          0.9383687615,
                          0.04559069459
                        ],
                        "passed_time": 9.885116778,
                        "iteration": 114,
                        "remaining_time": 76.07242042,
                        "learn": [
                          0.04684607476
                        ]
                      },
                      {
                        "test": [
                          0.9385074212,
                          0.0452970537
                        ],
                        "passed_time": 9.97051133,
                        "iteration": 115,
                        "remaining_time": 75.98217255,
                        "learn": [
                          0.04655398492
                        ]
                      },
                      {
                        "test": [
                          0.93857298,
                          0.04501180915
                        ],
                        "passed_time": 10.0514304,
                        "iteration": 116,
                        "remaining_time": 75.85823114,
                        "learn": [
                          0.04627119141
                        ]
                      },
                      {
                        "test": [
                          0.9386837238,
                          0.04473206694
                        ],
                        "passed_time": 10.13787197,
                        "iteration": 117,
                        "remaining_time": 75.77629729,
                        "learn": [
                          0.04599458279
                        ]
                      },
                      {
                        "test": [
                          0.9387668852,
                          0.04446054707
                        ],
                        "passed_time": 10.21709305,
                        "iteration": 118,
                        "remaining_time": 75.64083173,
                        "learn": [
                          0.04572583822
                        ]
                      },
                      {
                        "test": [
                          0.9388043555,
                          0.04420109612
                        ],
                        "passed_time": 10.29724689,
                        "iteration": 119,
                        "remaining_time": 75.51314387,
                        "learn": [
                          0.04546879612
                        ]
                      },
                      {
                        "test": [
                          0.9388674538,
                          0.0439469891
                        ],
                        "passed_time": 10.38043955,
                        "iteration": 120,
                        "remaining_time": 75.40831707,
                        "learn": [
                          0.04521569146
                        ]
                      },
                      {
                        "test": [
                          0.9389013369,
                          0.04371142073
                        ],
                        "passed_time": 10.46666118,
                        "iteration": 121,
                        "remaining_time": 75.32564357,
                        "learn": [
                          0.0449848999
                        ]
                      },
                      {
                        "test": [
                          0.9389409228,
                          0.04347923319
                        ],
                        "passed_time": 10.54325104,
                        "iteration": 122,
                        "remaining_time": 75.17423708,
                        "learn": [
                          0.04475612115
                        ]
                      },
                      {
                        "test": [
                          0.9390309712,
                          0.04324287905
                        ],
                        "passed_time": 10.62895925,
                        "iteration": 123,
                        "remaining_time": 75.08845403,
                        "learn": [
                          0.04452093913
                        ]
                      },
                      {
                        "test": [
                          0.9390909651,
                          0.04302665601
                        ],
                        "passed_time": 10.72620144,
                        "iteration": 124,
                        "remaining_time": 75.08341007,
                        "learn": [
                          0.04430746392
                        ]
                      },
                      {
                        "test": [
                          0.9391620426,
                          0.04281018494
                        ],
                        "passed_time": 10.80523663,
                        "iteration": 125,
                        "remaining_time": 74.95060963,
                        "learn": [
                          0.04409240451
                        ]
                      },
                      {
                        "test": [
                          0.9391997314,
                          0.04260635524
                        ],
                        "passed_time": 10.8913487,
                        "iteration": 126,
                        "remaining_time": 74.86730245,
                        "learn": [
                          0.04389010688
                        ]
                      },
                      {
                        "test": [
                          0.9392668538,
                          0.04240532467
                        ],
                        "passed_time": 10.96684032,
                        "iteration": 127,
                        "remaining_time": 74.71159968,
                        "learn": [
                          0.04369380697
                        ]
                      },
                      {
                        "test": [
                          0.9393026914,
                          0.04221029385
                        ],
                        "passed_time": 11.05201863,
                        "iteration": 128,
                        "remaining_time": 74.6225444,
                        "learn": [
                          0.04350028483
                        ]
                      },
                      {
                        "test": [
                          0.9393545911,
                          0.04201374657
                        ],
                        "passed_time": 11.13826793,
                        "iteration": 129,
                        "remaining_time": 74.54071612,
                        "learn": [
                          0.04330452338
                        ]
                      },
                      {
                        "test": [
                          0.9393944185,
                          0.04182949389
                        ],
                        "passed_time": 11.22014195,
                        "iteration": 130,
                        "remaining_time": 74.42979659,
                        "learn": [
                          0.04312129856
                        ]
                      },
                      {
                        "test": [
                          0.9394874217,
                          0.04164734216
                        ],
                        "passed_time": 11.29965253,
                        "iteration": 131,
                        "remaining_time": 74.30377576,
                        "learn": [
                          0.04294189589
                        ]
                      },
                      {
                        "test": [
                          0.9395286977,
                          0.04147802063
                        ],
                        "passed_time": 11.38308649,
                        "iteration": 132,
                        "remaining_time": 74.20402996,
                        "learn": [
                          0.04277450222
                        ]
                      },
                      {
                        "test": [
                          0.9395680766,
                          0.04130311417
                        ],
                        "passed_time": 11.47625989,
                        "iteration": 133,
                        "remaining_time": 74.16747066,
                        "learn": [
                          0.04260096436
                        ]
                      },
                      {
                        "test": [
                          0.9396046157,
                          0.04113703578
                        ],
                        "passed_time": 11.55811872,
                        "iteration": 134,
                        "remaining_time": 74.05757549,
                        "learn": [
                          0.04243527425
                        ]
                      },
                      {
                        "test": [
                          0.9396788435,
                          0.04097105283
                        ],
                        "passed_time": 11.64584565,
                        "iteration": 135,
                        "remaining_time": 73.98537236,
                        "learn": [
                          0.04227072754
                        ]
                      },
                      {
                        "test": [
                          0.9396828791,
                          0.04081618484
                        ],
                        "passed_time": 11.73891005,
                        "iteration": 136,
                        "remaining_time": 73.94656478,
                        "learn": [
                          0.04211750488
                        ]
                      },
                      {
                        "test": [
                          0.9397602687,
                          0.04066485267
                        ],
                        "passed_time": 11.82597068,
                        "iteration": 137,
                        "remaining_time": 73.86946903,
                        "learn": [
                          0.04196829427
                        ]
                      },
                      {
                        "test": [
                          0.9397489667,
                          0.04051948234
                        ],
                        "passed_time": 11.90954171,
                        "iteration": 138,
                        "remaining_time": 73.77061446,
                        "learn": [
                          0.04182588162
                        ]
                      },
                      {
                        "test": [
                          0.9397900472,
                          0.04037638339
                        ],
                        "passed_time": 11.98782989,
                        "iteration": 139,
                        "remaining_time": 73.63952646,
                        "learn": [
                          0.04168395182
                        ]
                      },
                      {
                        "test": [
                          0.9398459136,
                          0.04023725956
                        ],
                        "passed_time": 12.06707918,
                        "iteration": 140,
                        "remaining_time": 73.51504269,
                        "learn": [
                          0.04154712728
                        ]
                      },
                      {
                        "test": [
                          0.9398814753,
                          0.0401030142
                        ],
                        "passed_time": 12.15298039,
                        "iteration": 141,
                        "remaining_time": 73.43138857,
                        "learn": [
                          0.04141434733
                        ]
                      },
                      {
                        "test": [
                          0.9399554847,
                          0.03997122493
                        ],
                        "passed_time": 12.23326689,
                        "iteration": 142,
                        "remaining_time": 73.31405404,
                        "learn": [
                          0.04128291423
                        ]
                      },
                      {
                        "test": [
                          0.9399993706,
                          0.03984441776
                        ],
                        "passed_time": 12.31149201,
                        "iteration": 143,
                        "remaining_time": 73.18498026,
                        "learn": [
                          0.04115717638
                        ]
                      },
                      {
                        "test": [
                          0.9400166744,
                          0.03972019557
                        ],
                        "passed_time": 12.39419741,
                        "iteration": 144,
                        "remaining_time": 73.08302613,
                        "learn": [
                          0.04103560655
                        ]
                      },
                      {
                        "test": [
                          0.9401290394,
                          0.03958627066
                        ],
                        "passed_time": 12.4849182,
                        "iteration": 145,
                        "remaining_time": 73.02822016,
                        "learn": [
                          0.04090342068
                        ]
                      },
                      {
                        "test": [
                          0.9401360988,
                          0.03946984881
                        ],
                        "passed_time": 12.56370401,
                        "iteration": 146,
                        "remaining_time": 72.90367024,
                        "learn": [
                          0.04078878716
                        ]
                      },
                      {
                        "test": [
                          0.9401551617,
                          0.03934973434
                        ],
                        "passed_time": 12.64669891,
                        "iteration": 147,
                        "remaining_time": 72.8039694,
                        "learn": [
                          0.04067044271
                        ]
                      },
                      {
                        "test": [
                          0.9401899761,
                          0.03923774079
                        ],
                        "passed_time": 12.747024,
                        "iteration": 148,
                        "remaining_time": 72.80347262,
                        "learn": [
                          0.04055859782
                        ]
                      },
                      {
                        "test": [
                          0.9402279523,
                          0.03912317647
                        ],
                        "passed_time": 12.82584942,
                        "iteration": 149,
                        "remaining_time": 72.67981339,
                        "learn": [
                          0.04044337836
                        ]
                      },
                      {
                        "test": [
                          0.940130787,
                          0.03903971928
                        ],
                        "passed_time": 12.90680337,
                        "iteration": 150,
                        "remaining_time": 72.56871565,
                        "learn": [
                          0.04036217177
                        ]
                      },
                      {
                        "test": [
                          0.9402342414,
                          0.03893107208
                        ],
                        "passed_time": 12.98538702,
                        "iteration": 151,
                        "remaining_time": 72.44479072,
                        "learn": [
                          0.04025724013
                        ]
                      },
                      {
                        "test": [
                          0.940314448,
                          0.03882366511
                        ],
                        "passed_time": 13.07113776,
                        "iteration": 152,
                        "remaining_time": 72.36113518,
                        "learn": [
                          0.04015238444
                        ]
                      },
                      {
                        "test": [
                          0.9403330739,
                          0.03872468231
                        ],
                        "passed_time": 13.15060965,
                        "iteration": 153,
                        "remaining_time": 72.24295949,
                        "learn": [
                          0.04005599094
                        ]
                      },
                      {
                        "test": [
                          0.9403603575,
                          0.03863047177
                        ],
                        "passed_time": 13.23364965,
                        "iteration": 154,
                        "remaining_time": 72.14473517,
                        "learn": [
                          0.03996466336
                        ]
                      },
                      {
                        "test": [
                          0.9403460546,
                          0.03854420963
                        ],
                        "passed_time": 13.30904647,
                        "iteration": 155,
                        "remaining_time": 72.005354,
                        "learn": [
                          0.03988161757
                        ]
                      },
                      {
                        "test": [
                          0.9403483656,
                          0.03845803017
                        ],
                        "passed_time": 13.38821824,
                        "iteration": 156,
                        "remaining_time": 71.88705716,
                        "learn": [
                          0.03979891222
                        ]
                      },
                      {
                        "test": [
                          0.9403556895,
                          0.03836858459
                        ],
                        "passed_time": 13.48260821,
                        "iteration": 157,
                        "remaining_time": 71.85035514,
                        "learn": [
                          0.039709611
                        ]
                      },
                      {
                        "test": [
                          0.9404423346,
                          0.03827557652
                        ],
                        "passed_time": 13.56385533,
                        "iteration": 158,
                        "remaining_time": 71.74341091,
                        "learn": [
                          0.03961630588
                        ]
                      },
                      {
                        "test": [
                          0.9404562121,
                          0.03819119013
                        ],
                        "passed_time": 13.65343881,
                        "iteration": 159,
                        "remaining_time": 71.68055375,
                        "learn": [
                          0.03953219944
                        ]
                      },
                      {
                        "test": [
                          0.9405014087,
                          0.03810958917
                        ],
                        "passed_time": 13.75756712,
                        "iteration": 160,
                        "remaining_time": 71.69316035,
                        "learn": [
                          0.03945026991
                        ]
                      },
                      {
                        "test": [
                          0.9405475482,
                          0.038025457
                        ],
                        "passed_time": 13.8406039,
                        "iteration": 161,
                        "remaining_time": 71.59522267,
                        "learn": [
                          0.03936957601
                        ]
                      },
                      {
                        "test": [
                          0.9406203043,
                          0.0379429123
                        ],
                        "passed_time": 13.92951146,
                        "iteration": 162,
                        "remaining_time": 71.52761406,
                        "learn": [
                          0.03928919542
                        ]
                      },
                      {
                        "test": [
                          0.940571302,
                          0.03787863888
                        ],
                        "passed_time": 14.0118719,
                        "iteration": 163,
                        "remaining_time": 71.4263714,
                        "learn": [
                          0.03922568495
                        ]
                      },
                      {
                        "test": [
                          0.9406001147,
                          0.03780285402
                        ],
                        "passed_time": 14.09073659,
                        "iteration": 164,
                        "remaining_time": 71.30766697,
                        "learn": [
                          0.03914906141
                        ]
                      },
                      {
                        "test": [
                          0.940628548,
                          0.03772565957
                        ],
                        "passed_time": 14.17822,
                        "iteration": 165,
                        "remaining_time": 71.23274388,
                        "learn": [
                          0.03907290175
                        ]
                      },
                      {
                        "test": [
                          0.9406457713,
                          0.03765325769
                        ],
                        "passed_time": 14.25587334,
                        "iteration": 166,
                        "remaining_time": 71.10863769,
                        "learn": [
                          0.03900241564
                        ]
                      },
                      {
                        "test": [
                          0.9406524628,
                          0.03758220276
                        ],
                        "passed_time": 14.33548233,
                        "iteration": 167,
                        "remaining_time": 70.99476964,
                        "learn": [
                          0.03893368056
                        ]
                      },
                      {
                        "test": [
                          0.9407109161,
                          0.03751097101
                        ],
                        "passed_time": 14.42132337,
                        "iteration": 168,
                        "remaining_time": 70.91195103,
                        "learn": [
                          0.03886356201
                        ]
                      },
                      {
                        "test": [
                          0.940658292,
                          0.03745841239
                        ],
                        "passed_time": 14.51468142,
                        "iteration": 169,
                        "remaining_time": 70.86579753,
                        "learn": [
                          0.03881279026
                        ]
                      },
                      {
                        "test": [
                          0.9407331637,
                          0.03738825967
                        ],
                        "passed_time": 14.59309503,
                        "iteration": 170,
                        "remaining_time": 70.746642,
                        "learn": [
                          0.0387425076
                        ]
                      },
                      {
                        "test": [
                          0.9407015801,
                          0.0373261265
                        ],
                        "passed_time": 14.67426324,
                        "iteration": 171,
                        "remaining_time": 70.64122071,
                        "learn": [
                          0.03868170166
                        ]
                      },
                      {
                        "test": [
                          0.9407482484,
                          0.03726182502
                        ],
                        "passed_time": 14.77947326,
                        "iteration": 172,
                        "remaining_time": 70.65100803,
                        "learn": [
                          0.03861649984
                        ]
                      },
                      {
                        "test": [
                          0.9408209356,
                          0.03719747499
                        ],
                        "passed_time": 14.85722123,
                        "iteration": 173,
                        "remaining_time": 70.52910766,
                        "learn": [
                          0.03855197076
                        ]
                      },
                      {
                        "test": [
                          0.9408781471,
                          0.03713981372
                        ],
                        "passed_time": 14.93591581,
                        "iteration": 174,
                        "remaining_time": 70.41217452,
                        "learn": [
                          0.03849653456
                        ]
                      },
                      {
                        "test": [
                          0.9408447354,
                          0.03708863558
                        ],
                        "passed_time": 15.01482855,
                        "iteration": 175,
                        "remaining_time": 70.29669732,
                        "learn": [
                          0.03844789768
                        ]
                      },
                      {
                        "test": [
                          0.9408588543,
                          0.03703264847
                        ],
                        "passed_time": 15.09455193,
                        "iteration": 176,
                        "remaining_time": 70.18540247,
                        "learn": [
                          0.03839151476
                        ]
                      },
                      {
                        "test": [
                          0.9408662127,
                          0.03697922266
                        ],
                        "passed_time": 15.18267431,
                        "iteration": 177,
                        "remaining_time": 70.11324877,
                        "learn": [
                          0.03833747016
                        ]
                      },
                      {
                        "test": [
                          0.9409156864,
                          0.03692366811
                        ],
                        "passed_time": 15.26386896,
                        "iteration": 178,
                        "remaining_time": 70.00914201,
                        "learn": [
                          0.03828084581
                        ]
                      },
                      {
                        "test": [
                          0.9409473505,
                          0.03686222483
                        ],
                        "passed_time": 15.34533977,
                        "iteration": 179,
                        "remaining_time": 69.90654783,
                        "learn": [
                          0.03822068142
                        ]
                      },
                      {
                        "test": [
                          0.9412095164,
                          0.03679828172
                        ],
                        "passed_time": 15.43076833,
                        "iteration": 180,
                        "remaining_time": 69.82209536,
                        "learn": [
                          0.0381561225
                        ]
                      },
                      {
                        "test": [
                          0.9411969267,
                          0.03675021365
                        ],
                        "passed_time": 15.5197553,
                        "iteration": 181,
                        "remaining_time": 69.75362547,
                        "learn": [
                          0.03810849067
                        ]
                      },
                      {
                        "test": [
                          0.9412200251,
                          0.03669477725
                        ],
                        "passed_time": 15.60231588,
                        "iteration": 182,
                        "remaining_time": 69.65624085,
                        "learn": [
                          0.03805139025
                        ]
                      },
                      {
                        "test": [
                          0.9412470442,
                          0.03664119331
                        ],
                        "passed_time": 15.68404215,
                        "iteration": 183,
                        "remaining_time": 69.55531735,
                        "learn": [
                          0.03799780273
                        ]
                      },
                      {
                        "test": [
                          0.9412360986,
                          0.03659404335
                        ],
                        "passed_time": 15.78527179,
                        "iteration": 184,
                        "remaining_time": 69.54052166,
                        "learn": [
                          0.03795137804
                        ]
                      },
                      {
                        "test": [
                          0.9412771792,
                          0.03654377047
                        ],
                        "passed_time": 15.86400437,
                        "iteration": 185,
                        "remaining_time": 69.42634171,
                        "learn": [
                          0.03790256619
                        ]
                      },
                      {
                        "test": [
                          0.9412710625,
                          0.03649895469
                        ],
                        "passed_time": 15.95281532,
                        "iteration": 186,
                        "remaining_time": 69.3563575,
                        "learn": [
                          0.03785903049
                        ]
                      },
                      {
                        "test": [
                          0.9412637041,
                          0.0364501178
                        ],
                        "passed_time": 16.03569422,
                        "iteration": 187,
                        "remaining_time": 69.26055162,
                        "learn": [
                          0.03781054281
                        ]
                      },
                      {
                        "test": [
                          0.9413190301,
                          0.03640314977
                        ],
                        "passed_time": 16.11674344,
                        "iteration": 188,
                        "remaining_time": 69.15703137,
                        "learn": [
                          0.0377625
                        ]
                      },
                      {
                        "test": [
                          0.941523444,
                          0.03635392785
                        ],
                        "passed_time": 16.21192122,
                        "iteration": 189,
                        "remaining_time": 69.11397993,
                        "learn": [
                          0.03771440837
                        ]
                      },
                      {
                        "test": [
                          0.9415281925,
                          0.03631464377
                        ],
                        "passed_time": 16.29032488,
                        "iteration": 190,
                        "remaining_time": 68.99933416,
                        "learn": [
                          0.03767569038
                        ]
                      },
                      {
                        "test": [
                          0.941583277,
                          0.03627075593
                        ],
                        "passed_time": 16.37055779,
                        "iteration": 191,
                        "remaining_time": 68.89276405,
                        "learn": [
                          0.03763018121
                        ]
                      },
                      {
                        "test": [
                          0.9416282207,
                          0.03622881662
                        ],
                        "passed_time": 16.4534678,
                        "iteration": 192,
                        "remaining_time": 68.79766068,
                        "learn": [
                          0.03758936903
                        ]
                      },
                      {
                        "test": [
                          0.9416072148,
                          0.03619446175
                        ],
                        "passed_time": 16.54557874,
                        "iteration": 193,
                        "remaining_time": 68.7409096,
                        "learn": [
                          0.03755654433
                        ]
                      },
                      {
                        "test": [
                          0.9416594594,
                          0.03615167324
                        ],
                        "passed_time": 16.62933468,
                        "iteration": 194,
                        "remaining_time": 68.64930471,
                        "learn": [
                          0.03751421984
                        ]
                      },
                      {
                        "test": [
                          0.9416706809,
                          0.03611340315
                        ],
                        "passed_time": 16.71275401,
                        "iteration": 195,
                        "remaining_time": 68.5563991,
                        "learn": [
                          0.03747605252
                        ]
                      },
                      {
                        "test": [
                          0.941695711,
                          0.03607559098
                        ],
                        "passed_time": 16.81014005,
                        "iteration": 196,
                        "remaining_time": 68.52052009,
                        "learn": [
                          0.03743931071
                        ]
                      },
                      {
                        "test": [
                          0.9417606488,
                          0.03603429795
                        ],
                        "passed_time": 16.89518425,
                        "iteration": 197,
                        "remaining_time": 68.43402913,
                        "learn": [
                          0.03739983181
                        ]
                      },
                      {
                        "test": [
                          0.9418231032,
                          0.03599649887
                        ],
                        "passed_time": 16.98081149,
                        "iteration": 198,
                        "remaining_time": 68.34989952,
                        "learn": [
                          0.03736192491
                        ]
                      },
                      {
                        "test": [
                          0.941821597,
                          0.03596308136
                        ],
                        "passed_time": 17.06160075,
                        "iteration": 199,
                        "remaining_time": 68.24640301,
                        "learn": [
                          0.03733023139
                        ]
                      },
                      {
                        "test": [
                          0.9418754628,
                          0.03592383988
                        ],
                        "passed_time": 17.14109166,
                        "iteration": 200,
                        "remaining_time": 68.13797134,
                        "learn": [
                          0.03729352485
                        ]
                      },
                      {
                        "test": [
                          0.9418953305,
                          0.03588864138
                        ],
                        "passed_time": 17.22244695,
                        "iteration": 201,
                        "remaining_time": 68.03719142,
                        "learn": [
                          0.03725879856
                        ]
                      },
                      {
                        "test": [
                          0.9419282248,
                          0.0358497839
                        ],
                        "passed_time": 17.30791104,
                        "iteration": 202,
                        "remaining_time": 67.9527345,
                        "learn": [
                          0.0372201945
                        ]
                      },
                      {
                        "test": [
                          0.9418946176,
                          0.03582158778
                        ],
                        "passed_time": 17.38652444,
                        "iteration": 203,
                        "remaining_time": 67.84153655,
                        "learn": [
                          0.03719288601
                        ]
                      },
                      {
                        "test": [
                          0.9419848385,
                          0.03579071192
                        ],
                        "passed_time": 17.46622399,
                        "iteration": 204,
                        "remaining_time": 67.73486863,
                        "learn": [
                          0.03716419271
                        ]
                      },
                      {
                        "test": [
                          0.9420779682,
                          0.03576147608
                        ],
                        "passed_time": 17.56789849,
                        "iteration": 205,
                        "remaining_time": 67.71316213,
                        "learn": [
                          0.0371348565
                        ]
                      },
                      {
                        "test": [
                          0.942046741,
                          0.03573754396
                        ],
                        "passed_time": 17.64725433,
                        "iteration": 206,
                        "remaining_time": 67.60518204,
                        "learn": [
                          0.03711171332
                        ]
                      },
                      {
                        "test": [
                          0.9420943176,
                          0.03570625873
                        ],
                        "passed_time": 17.73329764,
                        "iteration": 207,
                        "remaining_time": 67.52294103,
                        "learn": [
                          0.03707968886
                        ]
                      },
                      {
                        "test": [
                          0.9421104486,
                          0.03568163293
                        ],
                        "passed_time": 17.83508317,
                        "iteration": 208,
                        "remaining_time": 67.50024299,
                        "learn": [
                          0.03705437826
                        ]
                      },
                      {
                        "test": [
                          0.9421623943,
                          0.03564656507
                        ],
                        "passed_time": 17.92064371,
                        "iteration": 209,
                        "remaining_time": 67.41575492,
                        "learn": [
                          0.0370188151
                        ]
                      },
                      {
                        "test": [
                          0.9421602442,
                          0.03561932941
                        ],
                        "passed_time": 18.00646669,
                        "iteration": 210,
                        "remaining_time": 67.33223799,
                        "learn": [
                          0.03699236789
                        ]
                      },
                      {
                        "test": [
                          0.9421903102,
                          0.03559271467
                        ],
                        "passed_time": 18.08697988,
                        "iteration": 211,
                        "remaining_time": 67.22896294,
                        "learn": [
                          0.03696500515
                        ]
                      },
                      {
                        "test": [
                          0.9422002095,
                          0.03556617053
                        ],
                        "passed_time": 18.16527081,
                        "iteration": 212,
                        "remaining_time": 67.11769074,
                        "learn": [
                          0.03693777262
                        ]
                      },
                      {
                        "test": [
                          0.9422092236,
                          0.03554223156
                        ],
                        "passed_time": 18.25258723,
                        "iteration": 213,
                        "remaining_time": 67.03987645,
                        "learn": [
                          0.03691165907
                        ]
                      },
                      {
                        "test": [
                          0.9424247441,
                          0.03550721159
                        ],
                        "passed_time": 18.33679212,
                        "iteration": 214,
                        "remaining_time": 66.95061308,
                        "learn": [
                          0.03687859701
                        ]
                      },
                      {
                        "test": [
                          0.9424042901,
                          0.03548196547
                        ],
                        "passed_time": 18.41905677,
                        "iteration": 215,
                        "remaining_time": 66.8543542,
                        "learn": [
                          0.03685432536
                        ]
                      },
                      {
                        "test": [
                          0.9424171328,
                          0.0354587243
                        ],
                        "passed_time": 18.50466414,
                        "iteration": 216,
                        "remaining_time": 66.7702858,
                        "learn": [
                          0.03682964003
                        ]
                      },
                      {
                        "test": [
                          0.9424655372,
                          0.03542688576
                        ],
                        "passed_time": 18.59595744,
                        "iteration": 217,
                        "remaining_time": 66.70659961,
                        "learn": [
                          0.03679504395
                        ]
                      },
                      {
                        "test": [
                          0.9424968564,
                          0.03540291612
                        ],
                        "passed_time": 18.67867768,
                        "iteration": 218,
                        "remaining_time": 66.612088,
                        "learn": [
                          0.03676714681
                        ]
                      },
                      {
                        "test": [
                          0.9425226338,
                          0.03538068711
                        ],
                        "passed_time": 18.7675258,
                        "iteration": 219,
                        "remaining_time": 66.53940966,
                        "learn": [
                          0.03674205865
                        ]
                      },
                      {
                        "test": [
                          0.9424902683,
                          0.03535870639
                        ],
                        "passed_time": 18.85736947,
                        "iteration": 220,
                        "remaining_time": 66.47009419,
                        "learn": [
                          0.03671980523
                        ]
                      },
                      {
                        "test": [
                          0.9424909812,
                          0.03534049835
                        ],
                        "passed_time": 18.93361507,
                        "iteration": 221,
                        "remaining_time": 66.3529393,
                        "learn": [
                          0.03670261637
                        ]
                      },
                      {
                        "test": [
                          0.9424964885,
                          0.03531338641
                        ],
                        "passed_time": 19.02220456,
                        "iteration": 222,
                        "remaining_time": 66.27916119,
                        "learn": [
                          0.03667488742
                        ]
                      },
                      {
                        "test": [
                          0.9425121136,
                          0.03528740922
                        ],
                        "passed_time": 19.10829208,
                        "iteration": 223,
                        "remaining_time": 66.19658327,
                        "learn": [
                          0.03664667019
                        ]
                      },
                      {
                        "test": [
                          0.9425535965,
                          0.03526536304
                        ],
                        "passed_time": 19.18821814,
                        "iteration": 224,
                        "remaining_time": 66.09275136,
                        "learn": [
                          0.03662687581
                        ]
                      },
                      {
                        "test": [
                          0.9425328435,
                          0.03524875043
                        ],
                        "passed_time": 19.2773572,
                        "iteration": 225,
                        "remaining_time": 66.0206835,
                        "learn": [
                          0.03660891113
                        ]
                      },
                      {
                        "test": [
                          0.9425956314,
                          0.03522766803
                        ],
                        "passed_time": 19.37378422,
                        "iteration": 226,
                        "remaining_time": 65.97328282,
                        "learn": [
                          0.03658565809
                        ]
                      },
                      {
                        "test": [
                          0.9426106931,
                          0.03520486938
                        ],
                        "passed_time": 19.453776,
                        "iteration": 227,
                        "remaining_time": 65.86980293,
                        "learn": [
                          0.03656094428
                        ]
                      },
                      {
                        "test": [
                          0.9426275944,
                          0.0351829865
                        ],
                        "passed_time": 19.53788472,
                        "iteration": 228,
                        "remaining_time": 65.78038917,
                        "learn": [
                          0.03653773058
                        ]
                      },
                      {
                        "test": [
                          0.9425897906,
                          0.03516551065
                        ],
                        "passed_time": 19.63189096,
                        "iteration": 229,
                        "remaining_time": 65.72415669,
                        "learn": [
                          0.03652061225
                        ]
                      },
                      {
                        "test": [
                          0.9426003223,
                          0.03514511553
                        ],
                        "passed_time": 19.71580107,
                        "iteration": 230,
                        "remaining_time": 65.63398712,
                        "learn": [
                          0.03649791667
                        ]
                      },
                      {
                        "test": [
                          0.9426243061,
                          0.03512701966
                        ],
                        "passed_time": 19.8240728,
                        "iteration": 231,
                        "remaining_time": 65.62451686,
                        "learn": [
                          0.0364764662
                        ]
                      },
                      {
                        "test": [
                          0.9426595229,
                          0.03510588212
                        ],
                        "passed_time": 19.92449108,
                        "iteration": 232,
                        "remaining_time": 65.58834617,
                        "learn": [
                          0.03645348036
                        ]
                      },
                      {
                        "test": [
                          0.9426785858,
                          0.03509127813
                        ],
                        "passed_time": 20.01508768,
                        "iteration": 233,
                        "remaining_time": 65.51947506,
                        "learn": [
                          0.03643757189
                        ]
                      },
                      {
                        "test": [
                          0.9426929117,
                          0.03507059525
                        ],
                        "passed_time": 20.09733079,
                        "iteration": 234,
                        "remaining_time": 65.42322575,
                        "learn": [
                          0.03641442871
                        ]
                      },
                      {
                        "test": [
                          0.9427065017,
                          0.03505513249
                        ],
                        "passed_time": 20.18290949,
                        "iteration": 235,
                        "remaining_time": 65.33789343,
                        "learn": [
                          0.0363959554
                        ]
                      },
                      {
                        "test": [
                          0.9427277721,
                          0.03504198938
                        ],
                        "passed_time": 20.26764492,
                        "iteration": 236,
                        "remaining_time": 65.24984419,
                        "learn": [
                          0.03638032633
                        ]
                      },
                      {
                        "test": [
                          0.9427650354,
                          0.03501746165
                        ],
                        "passed_time": 20.35185998,
                        "iteration": 237,
                        "remaining_time": 65.16015673,
                        "learn": [
                          0.03635667182
                        ]
                      },
                      {
                        "test": [
                          0.9427729457,
                          0.03499658692
                        ],
                        "passed_time": 20.42997905,
                        "iteration": 238,
                        "remaining_time": 65.05110485,
                        "learn": [
                          0.03633399929
                        ]
                      },
                      {
                        "test": [
                          0.9427975504,
                          0.03497922653
                        ],
                        "passed_time": 20.5076206,
                        "iteration": 239,
                        "remaining_time": 64.94079856,
                        "learn": [
                          0.03631649848
                        ]
                      },
                      {
                        "test": [
                          0.9428185908,
                          0.03496490003
                        ],
                        "passed_time": 20.60297674,
                        "iteration": 240,
                        "remaining_time": 64.88655329,
                        "learn": [
                          0.03630172662
                        ]
                      },
                      {
                        "test": [
                          0.9428086799,
                          0.03494541936
                        ],
                        "passed_time": 20.68682835,
                        "iteration": 241,
                        "remaining_time": 64.79593344,
                        "learn": [
                          0.03628283963
                        ]
                      },
                      {
                        "test": [
                          0.9428153945,
                          0.03492740632
                        ],
                        "passed_time": 20.772849,
                        "iteration": 242,
                        "remaining_time": 64.71212631,
                        "learn": [
                          0.03626527642
                        ]
                      },
                      {
                        "test": [
                          0.9428102551,
                          0.03491449441
                        ],
                        "passed_time": 20.89194532,
                        "iteration": 243,
                        "remaining_time": 64.7307814,
                        "learn": [
                          0.03625347493
                        ]
                      },
                      {
                        "test": [
                          0.9428508872,
                          0.03489765666
                        ],
                        "passed_time": 20.98518382,
                        "iteration": 244,
                        "remaining_time": 64.66862768,
                        "learn": [
                          0.03623478326
                        ]
                      },
                      {
                        "test": [
                          0.9428853912,
                          0.03488593917
                        ],
                        "passed_time": 21.07088877,
                        "iteration": 245,
                        "remaining_time": 64.58313063,
                        "learn": [
                          0.03621984592
                        ]
                      },
                      {
                        "test": [
                          0.942911847,
                          0.03487065553
                        ],
                        "passed_time": 21.16151942,
                        "iteration": 246,
                        "remaining_time": 64.51264827,
                        "learn": [
                          0.03620372314
                        ]
                      },
                      {
                        "test": [
                          0.9429172048,
                          0.03485590086
                        ],
                        "passed_time": 21.23760743,
                        "iteration": 247,
                        "remaining_time": 64.39790641,
                        "learn": [
                          0.0361902181
                        ]
                      },
                      {
                        "test": [
                          0.9430473449,
                          0.03483284214
                        ],
                        "passed_time": 21.3176077,
                        "iteration": 248,
                        "remaining_time": 64.29527464,
                        "learn": [
                          0.03616694472
                        ]
                      },
                      {
                        "test": [
                          0.9430737892,
                          0.03482116969
                        ],
                        "passed_time": 21.40452178,
                        "iteration": 249,
                        "remaining_time": 64.21356534,
                        "learn": [
                          0.03615261637
                        ]
                      },
                      {
                        "test": [
                          0.9430807911,
                          0.03480274216
                        ],
                        "passed_time": 21.48173151,
                        "iteration": 250,
                        "remaining_time": 64.10285618,
                        "learn": [
                          0.03613320041
                        ]
                      },
                      {
                        "test": [
                          0.9430923806,
                          0.03479067574
                        ],
                        "passed_time": 21.5621361,
                        "iteration": 251,
                        "remaining_time": 64.00189604,
                        "learn": [
                          0.03611971842
                        ]
                      },
                      {
                        "test": [
                          0.9430661088,
                          0.03477811046
                        ],
                        "passed_time": 21.65372614,
                        "iteration": 252,
                        "remaining_time": 63.93412421,
                        "learn": [
                          0.0361070421
                        ]
                      },
                      {
                        "test": [
                          0.9430627286,
                          0.03476682599
                        ],
                        "passed_time": 21.74105581,
                        "iteration": 253,
                        "remaining_time": 63.85365211,
                        "learn": [
                          0.03609558241
                        ]
                      },
                      {
                        "test": [
                          0.9430715586,
                          0.03474876781
                        ],
                        "passed_time": 21.84425692,
                        "iteration": 254,
                        "remaining_time": 63.81949572,
                        "learn": [
                          0.0360776964
                        ]
                      },
                      {
                        "test": [
                          0.9430544619,
                          0.03473734932
                        ],
                        "passed_time": 21.93155958,
                        "iteration": 255,
                        "remaining_time": 63.73859503,
                        "learn": [
                          0.03606578098
                        ]
                      },
                      {
                        "test": [
                          0.9430358934,
                          0.0347264279
                        ],
                        "passed_time": 22.02280368,
                        "iteration": 256,
                        "remaining_time": 63.66903944,
                        "learn": [
                          0.03605176324
                        ]
                      },
                      {
                        "test": [
                          0.9430553587,
                          0.03471637126
                        ],
                        "passed_time": 22.11137461,
                        "iteration": 257,
                        "remaining_time": 63.59162776,
                        "learn": [
                          0.036039662
                        ]
                      },
                      {
                        "test": [
                          0.9430827227,
                          0.0347024332
                        ],
                        "passed_time": 22.19726992,
                        "iteration": 258,
                        "remaining_time": 63.50647493,
                        "learn": [
                          0.03602320285
                        ]
                      },
                      {
                        "test": [
                          0.9431009003,
                          0.03468724922
                        ],
                        "passed_time": 22.27513661,
                        "iteration": 259,
                        "remaining_time": 63.39846574,
                        "learn": [
                          0.03600626356
                        ]
                      },
                      {
                        "test": [
                          0.9431146857,
                          0.03467761807
                        ],
                        "passed_time": 22.35449944,
                        "iteration": 260,
                        "remaining_time": 63.2949237,
                        "learn": [
                          0.03599547797
                        ]
                      },
                      {
                        "test": [
                          0.9431008313,
                          0.03466635383
                        ],
                        "passed_time": 22.437057,
                        "iteration": 261,
                        "remaining_time": 63.20056514,
                        "learn": [
                          0.03598286404
                        ]
                      },
                      {
                        "test": [
                          0.9431251945,
                          0.03465275738
                        ],
                        "passed_time": 22.52485782,
                        "iteration": 262,
                        "remaining_time": 63.12098939,
                        "learn": [
                          0.03596715495
                        ]
                      },
                      {
                        "test": [
                          0.9433070503,
                          0.03463762744
                        ],
                        "passed_time": 22.61934583,
                        "iteration": 263,
                        "remaining_time": 63.05999445,
                        "learn": [
                          0.03595374891
                        ]
                      },
                      {
                        "test": [
                          0.943400548,
                          0.03462194714
                        ],
                        "passed_time": 22.70589055,
                        "iteration": 264,
                        "remaining_time": 62.9767153,
                        "learn": [
                          0.03593787977
                        ]
                      },
                      {
                        "test": [
                          0.9434151843,
                          0.03460720017
                        ],
                        "passed_time": 22.78513376,
                        "iteration": 265,
                        "remaining_time": 62.87326383,
                        "learn": [
                          0.03592245687
                        ]
                      },
                      {
                        "test": [
                          0.9434286708,
                          0.03459284269
                        ],
                        "passed_time": 22.88488691,
                        "iteration": 266,
                        "remaining_time": 62.82630002,
                        "learn": [
                          0.03590672336
                        ]
                      },
                      {
                        "test": [
                          0.9434206226,
                          0.03458199375
                        ],
                        "passed_time": 22.97001692,
                        "iteration": 267,
                        "remaining_time": 62.73900143,
                        "learn": [
                          0.03589472656
                        ]
                      },
                      {
                        "test": [
                          0.9434405017,
                          0.03457052875
                        ],
                        "passed_time": 23.05006823,
                        "iteration": 268,
                        "remaining_time": 62.63791776,
                        "learn": [
                          0.03588041721
                        ]
                      },
                      {
                        "test": [
                          0.9434684407,
                          0.03455796442
                        ],
                        "passed_time": 23.14197032,
                        "iteration": 269,
                        "remaining_time": 62.56903087,
                        "learn": [
                          0.03586706
                        ]
                      },
                      {
                        "test": [
                          0.9435487852,
                          0.0345450289
                        ],
                        "passed_time": 23.22646617,
                        "iteration": 270,
                        "remaining_time": 62.48005107,
                        "learn": [
                          0.03584878608
                        ]
                      },
                      {
                        "test": [
                          0.943567687,
                          0.03453242287
                        ],
                        "passed_time": 23.30174604,
                        "iteration": 271,
                        "remaining_time": 62.36643793,
                        "learn": [
                          0.03583704563
                        ]
                      },
                      {
                        "test": [
                          0.9435762757,
                          0.03452457914
                        ],
                        "passed_time": 23.37889711,
                        "iteration": 272,
                        "remaining_time": 62.25808865,
                        "learn": [
                          0.03582924805
                        ]
                      },
                      {
                        "test": [
                          0.9435969826,
                          0.03451321761
                        ],
                        "passed_time": 23.46353992,
                        "iteration": 273,
                        "remaining_time": 62.16981745,
                        "learn": [
                          0.03581628011
                        ]
                      },
                      {
                        "test": [
                          0.943579403,
                          0.03450337441
                        ],
                        "passed_time": 23.54210621,
                        "iteration": 274,
                        "remaining_time": 62.06555272,
                        "learn": [
                          0.03580690647
                        ]
                      },
                      {
                        "test": [
                          0.9436241052,
                          0.03449177485
                        ],
                        "passed_time": 23.64471343,
                        "iteration": 275,
                        "remaining_time": 62.02453813,
                        "learn": [
                          0.03579234348
                        ]
                      },
                      {
                        "test": [
                          0.9436492962,
                          0.0344801826
                        ],
                        "passed_time": 23.73137147,
                        "iteration": 276,
                        "remaining_time": 61.94144972,
                        "learn": [
                          0.03577895101
                        ]
                      },
                      {
                        "test": [
                          0.9436662321,
                          0.03447064556
                        ],
                        "passed_time": 23.81508617,
                        "iteration": 277,
                        "remaining_time": 61.85069141,
                        "learn": [
                          0.03576856011
                        ]
                      },
                      {
                        "test": [
                          0.9436601499,
                          0.03446091181
                        ],
                        "passed_time": 23.92159839,
                        "iteration": 278,
                        "remaining_time": 61.81889764,
                        "learn": [
                          0.03575886502
                        ]
                      },
                      {
                        "test": [
                          0.9436810868,
                          0.03445102411
                        ],
                        "passed_time": 24.00884153,
                        "iteration": 279,
                        "remaining_time": 61.73702108,
                        "learn": [
                          0.03574594862
                        ]
                      },
                      {
                        "test": [
                          0.943700966,
                          0.03443930748
                        ],
                        "passed_time": 24.09741884,
                        "iteration": 280,
                        "remaining_time": 61.6585201,
                        "learn": [
                          0.03573302273
                        ]
                      },
                      {
                        "test": [
                          0.943728629,
                          0.03442716718
                        ],
                        "passed_time": 24.17779153,
                        "iteration": 281,
                        "remaining_time": 61.55905787,
                        "learn": [
                          0.03572063531
                        ]
                      },
                      {
                        "test": [
                          0.9437356309,
                          0.03441525133
                        ],
                        "passed_time": 24.26338278,
                        "iteration": 282,
                        "remaining_time": 61.47295213,
                        "learn": [
                          0.03570615777
                        ]
                      },
                      {
                        "test": [
                          0.9437432768,
                          0.03440598183
                        ],
                        "passed_time": 24.33849892,
                        "iteration": 283,
                        "remaining_time": 61.36044094,
                        "learn": [
                          0.03569720866
                        ]
                      },
                      {
                        "test": [
                          0.9437519344,
                          0.03439925781
                        ],
                        "passed_time": 24.42163459,
                        "iteration": 284,
                        "remaining_time": 61.26831135,
                        "learn": [
                          0.03568951416
                        ]
                      },
                      {
                        "test": [
                          0.9438337735,
                          0.03438924336
                        ],
                        "passed_time": 24.51000488,
                        "iteration": 285,
                        "remaining_time": 61.18931288,
                        "learn": [
                          0.03567929145
                        ]
                      },
                      {
                        "test": [
                          0.9438399707,
                          0.03438054961
                        ],
                        "passed_time": 24.59759211,
                        "iteration": 286,
                        "remaining_time": 61.10830375,
                        "learn": [
                          0.03567035455
                        ]
                      },
                      {
                        "test": [
                          0.9438580333,
                          0.03437052156
                        ],
                        "passed_time": 24.69331882,
                        "iteration": 287,
                        "remaining_time": 61.04737154,
                        "learn": [
                          0.03565917833
                        ]
                      },
                      {
                        "test": [
                          0.9438746126,
                          0.0343619519
                        ],
                        "passed_time": 24.77740174,
                        "iteration": 288,
                        "remaining_time": 60.95755237,
                        "learn": [
                          0.03564999457
                        ]
                      },
                      {
                        "test": [
                          0.9438687604,
                          0.0343507743
                        ],
                        "passed_time": 24.8565647,
                        "iteration": 289,
                        "remaining_time": 60.85572738,
                        "learn": [
                          0.03563664144
                        ]
                      },
                      {
                        "test": [
                          0.9439819188,
                          0.03433519352
                        ],
                        "passed_time": 24.96277248,
                        "iteration": 290,
                        "remaining_time": 60.81995083,
                        "learn": [
                          0.03562002767
                        ]
                      },
                      {
                        "test": [
                          0.9439978428,
                          0.03432744182
                        ],
                        "passed_time": 25.05495768,
                        "iteration": 291,
                        "remaining_time": 60.74969191,
                        "learn": [
                          0.0356099216
                        ]
                      },
                      {
                        "test": [
                          0.9440325997,
                          0.03431862503
                        ],
                        "passed_time": 25.14440568,
                        "iteration": 292,
                        "remaining_time": 60.67267856,
                        "learn": [
                          0.03559847819
                        ]
                      },
                      {
                        "test": [
                          0.944070323,
                          0.03431064751
                        ],
                        "passed_time": 25.22845092,
                        "iteration": 293,
                        "remaining_time": 60.58260662,
                        "learn": [
                          0.03558699951
                        ]
                      },
                      {
                        "test": [
                          0.944074968,
                          0.03430398654
                        ],
                        "passed_time": 25.30942028,
                        "iteration": 294,
                        "remaining_time": 60.48522474,
                        "learn": [
                          0.03557868381
                        ]
                      },
                      {
                        "test": [
                          0.9440817515,
                          0.0342931024
                        ],
                        "passed_time": 25.3881231,
                        "iteration": 295,
                        "remaining_time": 60.38256304,
                        "learn": [
                          0.03556645372
                        ]
                      },
                      {
                        "test": [
                          0.9442302417,
                          0.03428334944
                        ],
                        "passed_time": 25.4681923,
                        "iteration": 296,
                        "remaining_time": 60.28329693,
                        "learn": [
                          0.03555767958
                        ]
                      },
                      {
                        "test": [
                          0.9442092242,
                          0.03427646605
                        ],
                        "passed_time": 25.56564085,
                        "iteration": 297,
                        "remaining_time": 60.22510026,
                        "learn": [
                          0.03554917806
                        ]
                      },
                      {
                        "test": [
                          0.9442130644,
                          0.03426541323
                        ],
                        "passed_time": 25.64435631,
                        "iteration": 298,
                        "remaining_time": 60.12272165,
                        "learn": [
                          0.03553716498
                        ]
                      },
                      {
                        "test": [
                          0.9442717591,
                          0.03425335813
                        ],
                        "passed_time": 25.73414526,
                        "iteration": 299,
                        "remaining_time": 60.04633895,
                        "learn": [
                          0.03552440728
                        ]
                      },
                      {
                        "test": [
                          0.9443127247,
                          0.03424461482
                        ],
                        "passed_time": 25.82075311,
                        "iteration": 300,
                        "remaining_time": 59.96247981,
                        "learn": [
                          0.03551471219
                        ]
                      },
                      {
                        "test": [
                          0.944318048,
                          0.03423838429
                        ],
                        "passed_time": 25.92929184,
                        "iteration": 301,
                        "remaining_time": 59.92929041,
                        "learn": [
                          0.03550736491
                        ]
                      },
                      {
                        "test": [
                          0.9443308792,
                          0.03423163063
                        ],
                        "passed_time": 26.01028347,
                        "iteration": 302,
                        "remaining_time": 59.83223624,
                        "learn": [
                          0.03549925673
                        ]
                      },
                      {
                        "test": [
                          0.9443346964,
                          0.03422168677
                        ],
                        "passed_time": 26.09373884,
                        "iteration": 303,
                        "remaining_time": 59.7409284,
                        "learn": [
                          0.03548699137
                        ]
                      },
                      {
                        "test": [
                          0.9443716378,
                          0.0342149204
                        ],
                        "passed_time": 26.17963233,
                        "iteration": 304,
                        "remaining_time": 59.65522777,
                        "learn": [
                          0.03547774116
                        ]
                      },
                      {
                        "test": [
                          0.9443596689,
                          0.03420919372
                        ],
                        "passed_time": 26.26468699,
                        "iteration": 305,
                        "remaining_time": 59.56762343,
                        "learn": [
                          0.03547105984
                        ]
                      },
                      {
                        "test": [
                          0.9444292173,
                          0.03420155342
                        ],
                        "passed_time": 26.36066798,
                        "iteration": 306,
                        "remaining_time": 59.50470003,
                        "learn": [
                          0.03546413845
                        ]
                      },
                      {
                        "test": [
                          0.9444851871,
                          0.03419377469
                        ],
                        "passed_time": 26.44552559,
                        "iteration": 307,
                        "remaining_time": 59.41657048,
                        "learn": [
                          0.03545478516
                        ]
                      },
                      {
                        "test": [
                          0.9445011686,
                          0.03418590168
                        ],
                        "passed_time": 26.52704392,
                        "iteration": 308,
                        "remaining_time": 59.32099466,
                        "learn": [
                          0.03544686144
                        ]
                      },
                      {
                        "test": [
                          0.9445145287,
                          0.03417855612
                        ],
                        "passed_time": 26.61358203,
                        "iteration": 309,
                        "remaining_time": 59.23668259,
                        "learn": [
                          0.03543828803
                        ]
                      },
                      {
                        "test": [
                          0.9445387194,
                          0.03417048404
                        ],
                        "passed_time": 26.70456458,
                        "iteration": 310,
                        "remaining_time": 59.16220257,
                        "learn": [
                          0.0354285848
                        ]
                      },
                      {
                        "test": [
                          0.9445513322,
                          0.03416489957
                        ],
                        "passed_time": 26.78919057,
                        "iteration": 311,
                        "remaining_time": 59.07359973,
                        "learn": [
                          0.03542013482
                        ]
                      },
                      {
                        "test": [
                          0.9445621168,
                          0.03415943383
                        ],
                        "passed_time": 26.87605789,
                        "iteration": 312,
                        "remaining_time": 58.98994177,
                        "learn": [
                          0.03541232096
                        ]
                      },
                      {
                        "test": [
                          0.9445725681,
                          0.03415385033
                        ],
                        "passed_time": 26.98334203,
                        "iteration": 313,
                        "remaining_time": 58.95086825,
                        "learn": [
                          0.03540569797
                        ]
                      },
                      {
                        "test": [
                          0.9445835597,
                          0.03414911743
                        ],
                        "passed_time": 27.06524853,
                        "iteration": 314,
                        "remaining_time": 58.85617538,
                        "learn": [
                          0.03539629991
                        ]
                      },
                      {
                        "test": [
                          0.9445757529,
                          0.0341454458
                        ],
                        "passed_time": 27.15520313,
                        "iteration": 315,
                        "remaining_time": 58.778984,
                        "learn": [
                          0.03538837755
                        ]
                      },
                      {
                        "test": [
                          0.944660041,
                          0.03413492277
                        ],
                        "passed_time": 27.24550011,
                        "iteration": 316,
                        "remaining_time": 58.70244976,
                        "learn": [
                          0.03537561035
                        ]
                      },
                      {
                        "test": [
                          0.9446775172,
                          0.03412596742
                        ],
                        "passed_time": 27.3256549,
                        "iteration": 317,
                        "remaining_time": 58.6040775,
                        "learn": [
                          0.03536400553
                        ]
                      },
                      {
                        "test": [
                          0.9446867497,
                          0.03411966489
                        ],
                        "passed_time": 27.40894865,
                        "iteration": 318,
                        "remaining_time": 58.51252048,
                        "learn": [
                          0.03535703939
                        ]
                      },
                      {
                        "test": [
                          0.9446982932,
                          0.03411451399
                        ],
                        "passed_time": 27.48622452,
                        "iteration": 319,
                        "remaining_time": 58.40822711,
                        "learn": [
                          0.03535135634
                        ]
                      },
                      {
                        "test": [
                          0.9447141712,
                          0.03410724098
                        ],
                        "passed_time": 27.5669892,
                        "iteration": 320,
                        "remaining_time": 58.31148183,
                        "learn": [
                          0.03534396294
                        ]
                      },
                      {
                        "test": [
                          0.9447020298,
                          0.03410143618
                        ],
                        "passed_time": 27.65901767,
                        "iteration": 321,
                        "remaining_time": 58.23855274,
                        "learn": [
                          0.03533720161
                        ]
                      },
                      {
                        "test": [
                          0.9447341078,
                          0.03409702652
                        ],
                        "passed_time": 27.7522068,
                        "iteration": 322,
                        "remaining_time": 58.1679381,
                        "learn": [
                          0.0353274197
                        ]
                      },
                      {
                        "test": [
                          0.9447406844,
                          0.0340903355
                        ],
                        "passed_time": 27.83389699,
                        "iteration": 323,
                        "remaining_time": 58.07319248,
                        "learn": [
                          0.03531914198
                        ]
                      },
                      {
                        "test": [
                          0.9447731993,
                          0.03408558292
                        ],
                        "passed_time": 27.91857038,
                        "iteration": 324,
                        "remaining_time": 57.9847231,
                        "learn": [
                          0.03531273058
                        ]
                      },
                      {
                        "test": [
                          0.9448040356,
                          0.0340771589
                        ],
                        "passed_time": 28.02967212,
                        "iteration": 325,
                        "remaining_time": 57.95091721,
                        "learn": [
                          0.03530411513
                        ]
                      },
                      {
                        "test": [
                          0.9448343775,
                          0.03407077495
                        ],
                        "passed_time": 28.11032567,
                        "iteration": 326,
                        "remaining_time": 57.85397302,
                        "learn": [
                          0.0352951416
                        ]
                      },
                      {
                        "test": [
                          0.9448441389,
                          0.03406477039
                        ],
                        "passed_time": 28.19346376,
                        "iteration": 327,
                        "remaining_time": 57.76221843,
                        "learn": [
                          0.03528777805
                        ]
                      },
                      {
                        "test": [
                          0.9448488873,
                          0.03406006545
                        ],
                        "passed_time": 28.27244802,
                        "iteration": 328,
                        "remaining_time": 57.66204444,
                        "learn": [
                          0.03528193088
                        ]
                      },
                      {
                        "test": [
                          0.9448606493,
                          0.03405420488
                        ],
                        "passed_time": 28.35492714,
                        "iteration": 329,
                        "remaining_time": 57.5690945,
                        "learn": [
                          0.03527545166
                        ]
                      },
                      {
                        "test": [
                          0.9448834603,
                          0.03404856645
                        ],
                        "passed_time": 28.44313717,
                        "iteration": 330,
                        "remaining_time": 57.48779084,
                        "learn": [
                          0.03526769613
                        ]
                      },
                      {
                        "test": [
                          0.9449017758,
                          0.03404266582
                        ],
                        "passed_time": 28.52906983,
                        "iteration": 331,
                        "remaining_time": 57.40186339,
                        "learn": [
                          0.03526085069
                        ]
                      },
                      {
                        "test": [
                          0.9449348656,
                          0.03403725775
                        ],
                        "passed_time": 28.61106737,
                        "iteration": 332,
                        "remaining_time": 57.30805387,
                        "learn": [
                          0.03525472412
                        ]
                      },
                      {
                        "test": [
                          0.9449396716,
                          0.03403250186
                        ],
                        "passed_time": 28.70125734,
                        "iteration": 333,
                        "remaining_time": 57.23065086,
                        "learn": [
                          0.03524789361
                        ]
                      },
                      {
                        "test": [
                          0.9449675645,
                          0.03402650832
                        ],
                        "passed_time": 28.79073885,
                        "iteration": 334,
                        "remaining_time": 57.15176517,
                        "learn": [
                          0.03523952772
                        ]
                      },
                      {
                        "test": [
                          0.9449724279,
                          0.03401769942
                        ],
                        "passed_time": 28.87361467,
                        "iteration": 335,
                        "remaining_time": 57.05976232,
                        "learn": [
                          0.03523044027
                        ]
                      },
                      {
                        "test": [
                          0.9449941582,
                          0.03401065502
                        ],
                        "passed_time": 29.05234083,
                        "iteration": 336,
                        "remaining_time": 57.15638567,
                        "learn": [
                          0.03522177463
                        ]
                      },
                      {
                        "test": [
                          0.9449892028,
                          0.0340040443
                        ],
                        "passed_time": 29.13345621,
                        "iteration": 337,
                        "remaining_time": 57.06020121,
                        "learn": [
                          0.03521076525
                        ]
                      },
                      {
                        "test": [
                          0.9450076907,
                          0.03399770594
                        ],
                        "passed_time": 29.21483168,
                        "iteration": 338,
                        "remaining_time": 56.9646128,
                        "learn": [
                          0.03520240207
                        ]
                      },
                      {
                        "test": [
                          0.9450244311,
                          0.03399261114
                        ],
                        "passed_time": 29.30204624,
                        "iteration": 339,
                        "remaining_time": 56.8804427,
                        "learn": [
                          0.03519741347
                        ]
                      },
                      {
                        "test": [
                          0.9450314216,
                          0.03398839645
                        ],
                        "passed_time": 29.38230692,
                        "iteration": 340,
                        "remaining_time": 56.78281602,
                        "learn": [
                          0.03519022624
                        ]
                      },
                      {
                        "test": [
                          0.9450534853,
                          0.03397815425
                        ],
                        "passed_time": 29.46198319,
                        "iteration": 341,
                        "remaining_time": 56.68416649,
                        "learn": [
                          0.03517865804
                        ]
                      },
                      {
                        "test": [
                          0.9450802399,
                          0.03396807472
                        ],
                        "passed_time": 29.54789355,
                        "iteration": 342,
                        "remaining_time": 56.5975687,
                        "learn": [
                          0.03516845025
                        ]
                      },
                      {
                        "test": [
                          0.9451153648,
                          0.03396228797
                        ],
                        "passed_time": 29.63599878,
                        "iteration": 343,
                        "remaining_time": 56.51516046,
                        "learn": [
                          0.03516022271
                        ]
                      },
                      {
                        "test": [
                          0.9451924555,
                          0.03395672094
                        ],
                        "passed_time": 29.72813209,
                        "iteration": 344,
                        "remaining_time": 56.44036672,
                        "learn": [
                          0.03515515815
                        ]
                      },
                      {
                        "test": [
                          0.9451983767,
                          0.03394910809
                        ],
                        "passed_time": 29.82174008,
                        "iteration": 345,
                        "remaining_time": 56.36826014,
                        "learn": [
                          0.03514699978
                        ]
                      },
                      {
                        "test": [
                          0.9452134384,
                          0.03394325968
                        ],
                        "passed_time": 29.90211615,
                        "iteration": 346,
                        "remaining_time": 56.27112924,
                        "learn": [
                          0.03513991835
                        ]
                      },
                      {
                        "test": [
                          0.9452343063,
                          0.0339394589
                        ],
                        "passed_time": 29.98544998,
                        "iteration": 347,
                        "remaining_time": 56.17963618,
                        "learn": [
                          0.03513555094
                        ]
                      },
                      {
                        "test": [
                          0.9452732369,
                          0.03393363783
                        ],
                        "passed_time": 30.10465063,
                        "iteration": 348,
                        "remaining_time": 56.1550933,
                        "learn": [
                          0.03512696533
                        ]
                      },
                      {
                        "test": [
                          0.9452852747,
                          0.03392952353
                        ],
                        "passed_time": 30.18900316,
                        "iteration": 349,
                        "remaining_time": 56.06529158,
                        "learn": [
                          0.03512208388
                        ]
                      },
                      {
                        "test": [
                          0.9452966458,
                          0.03392540915
                        ],
                        "passed_time": 30.2756069,
                        "iteration": 350,
                        "remaining_time": 55.97968342,
                        "learn": [
                          0.03511455621
                        ]
                      },
                      {
                        "test": [
                          0.9453158351,
                          0.03392051316
                        ],
                        "passed_time": 30.3642429,
                        "iteration": 351,
                        "remaining_time": 55.89781079,
                        "learn": [
                          0.03510904134
                        ]
                      },
                      {
                        "test": [
                          0.9453210894,
                          0.03391434567
                        ],
                        "passed_time": 30.45774582,
                        "iteration": 352,
                        "remaining_time": 55.82482024,
                        "learn": [
                          0.03510189887
                        ]
                      },
                      {
                        "test": [
                          0.9453320006,
                          0.03390967836
                        ],
                        "passed_time": 30.54339791,
                        "iteration": 353,
                        "remaining_time": 55.73738715,
                        "learn": [
                          0.03509653863
                        ]
                      },
                      {
                        "test": [
                          0.9453350704,
                          0.03390339911
                        ],
                        "passed_time": 30.62589906,
                        "iteration": 354,
                        "remaining_time": 55.64423914,
                        "learn": [
                          0.03508774821
                        ]
                      },
                      {
                        "test": [
                          0.9453480051,
                          0.03389768816
                        ],
                        "passed_time": 30.71136387,
                        "iteration": 355,
                        "remaining_time": 55.55651216,
                        "learn": [
                          0.0350820516
                        ]
                      },
                      {
                        "test": [
                          0.9453583068,
                          0.03389336029
                        ],
                        "passed_time": 30.80169097,
                        "iteration": 356,
                        "remaining_time": 55.47755544,
                        "learn": [
                          0.03507510308
                        ]
                      },
                      {
                        "test": [
                          0.9453466944,
                          0.0338885978
                        ],
                        "passed_time": 30.88709519,
                        "iteration": 357,
                        "remaining_time": 55.38970701,
                        "learn": [
                          0.03506898736
                        ]
                      },
                      {
                        "test": [
                          0.9453669644,
                          0.03388328105
                        ],
                        "passed_time": 30.97194472,
                        "iteration": 358,
                        "remaining_time": 55.3008818,
                        "learn": [
                          0.03506205783
                        ]
                      },
                      {
                        "test": [
                          0.9453697583,
                          0.0338809296
                        ],
                        "passed_time": 31.05540442,
                        "iteration": 359,
                        "remaining_time": 55.20960786,
                        "learn": [
                          0.03505716688
                        ]
                      },
                      {
                        "test": [
                          0.9454021008,
                          0.03387623274
                        ],
                        "passed_time": 31.1507475,
                        "iteration": 360,
                        "remaining_time": 55.13941179,
                        "learn": [
                          0.0350513699
                        ]
                      },
                      {
                        "test": [
                          0.9454146101,
                          0.03387280447
                        ],
                        "passed_time": 31.22740517,
                        "iteration": 361,
                        "remaining_time": 55.03614502,
                        "learn": [
                          0.03504756673
                        ]
                      },
                      {
                        "test": [
                          0.9454049982,
                          0.03386881442
                        ],
                        "passed_time": 31.30760361,
                        "iteration": 362,
                        "remaining_time": 54.93923829,
                        "learn": [
                          0.03504231635
                        ]
                      },
                      {
                        "test": [
                          0.9453851305,
                          0.0338650283
                        ],
                        "passed_time": 31.39095439,
                        "iteration": 363,
                        "remaining_time": 54.84793129,
                        "learn": [
                          0.03503676622
                        ]
                      },
                      {
                        "test": [
                          0.9453797497,
                          0.03386265453
                        ],
                        "passed_time": 31.48257689,
                        "iteration": 364,
                        "remaining_time": 54.77105842,
                        "learn": [
                          0.03503155382
                        ]
                      },
                      {
                        "test": [
                          0.9454075506,
                          0.03385689846
                        ],
                        "passed_time": 31.5673218,
                        "iteration": 365,
                        "remaining_time": 54.68219132,
                        "learn": [
                          0.03502360975
                        ]
                      },
                      {
                        "test": [
                          0.9454228308,
                          0.03385264476
                        ],
                        "passed_time": 31.6524544,
                        "iteration": 366,
                        "remaining_time": 54.59401535,
                        "learn": [
                          0.03501681722
                        ]
                      },
                      {
                        "test": [
                          0.9454396171,
                          0.0338486959
                        ],
                        "passed_time": 31.73419049,
                        "iteration": 367,
                        "remaining_time": 54.5000228,
                        "learn": [
                          0.03501045871
                        ]
                      },
                      {
                        "test": [
                          0.9454465961,
                          0.03384615288
                        ],
                        "passed_time": 31.82688673,
                        "iteration": 368,
                        "remaining_time": 54.42483883,
                        "learn": [
                          0.03500495063
                        ]
                      },
                      {
                        "test": [
                          0.945435685,
                          0.03384252418
                        ],
                        "passed_time": 31.90880411,
                        "iteration": 369,
                        "remaining_time": 54.33120699,
                        "learn": [
                          0.03499955377
                        ]
                      },
                      {
                        "test": [
                          0.9454382374,
                          0.03383972758
                        ],
                        "passed_time": 31.99940855,
                        "iteration": 370,
                        "remaining_time": 54.25236651,
                        "learn": [
                          0.0349921129
                        ]
                      },
                      {
                        "test": [
                          0.9454405139,
                          0.03383749252
                        ],
                        "passed_time": 32.11281364,
                        "iteration": 371,
                        "remaining_time": 54.2119542,
                        "learn": [
                          0.03498763699
                        ]
                      },
                      {
                        "test": [
                          0.9454504707,
                          0.03383113836
                        ],
                        "passed_time": 32.19342208,
                        "iteration": 372,
                        "remaining_time": 54.11602049,
                        "learn": [
                          0.03497902832
                        ]
                      },
                      {
                        "test": [
                          0.9455154891,
                          0.03382664705
                        ],
                        "passed_time": 32.2750049,
                        "iteration": 373,
                        "remaining_time": 54.02179965,
                        "learn": [
                          0.03497466092
                        ]
                      },
                      {
                        "test": [
                          0.9455222381,
                          0.03382305307
                        ],
                        "passed_time": 32.35765693,
                        "iteration": 374,
                        "remaining_time": 53.92942822,
                        "learn": [
                          0.03497030707
                        ]
                      },
                      {
                        "test": [
                          0.9456148619,
                          0.03381748594
                        ],
                        "passed_time": 32.44652581,
                        "iteration": 375,
                        "remaining_time": 53.8474258,
                        "learn": [
                          0.03496478
                        ]
                      },
                      {
                        "test": [
                          0.9458499972,
                          0.03380541199
                        ],
                        "passed_time": 32.52752885,
                        "iteration": 376,
                        "remaining_time": 53.75238852,
                        "learn": [
                          0.03495350613
                        ]
                      },
                      {
                        "test": [
                          0.945844076,
                          0.03379933681
                        ],
                        "passed_time": 32.61128292,
                        "iteration": 377,
                        "remaining_time": 53.66195232,
                        "learn": [
                          0.03494644368
                        ]
                      },
                      {
                        "test": [
                          0.9458362462,
                          0.03379649098
                        ],
                        "passed_time": 32.69399446,
                        "iteration": 378,
                        "remaining_time": 53.56984317,
                        "learn": [
                          0.03493926459
                        ]
                      },
                      {
                        "test": [
                          0.9458262664,
                          0.03379397517
                        ],
                        "passed_time": 32.78396075,
                        "iteration": 379,
                        "remaining_time": 53.48962018,
                        "learn": [
                          0.03493460151
                        ]
                      },
                      {
                        "test": [
                          0.945924248,
                          0.03378727964
                        ],
                        "passed_time": 32.87570109,
                        "iteration": 380,
                        "remaining_time": 53.41222828,
                        "learn": [
                          0.03492803819
                        ]
                      },
                      {
                        "test": [
                          0.9459318708,
                          0.03378361617
                        ],
                        "passed_time": 32.96466264,
                        "iteration": 381,
                        "remaining_time": 53.33026573,
                        "learn": [
                          0.03492328423
                        ]
                      },
                      {
                        "test": [
                          0.9459184648,
                          0.03378012111
                        ],
                        "passed_time": 33.04538662,
                        "iteration": 382,
                        "remaining_time": 53.2349962,
                        "learn": [
                          0.03491862929
                        ]
                      },
                      {
                        "test": [
                          0.9459253403,
                          0.03377749078
                        ],
                        "passed_time": 33.15804972,
                        "iteration": 383,
                        "remaining_time": 53.1910381,
                        "learn": [
                          0.03491457113
                        ]
                      },
                      {
                        "test": [
                          0.945930997,
                          0.03377390419
                        ],
                        "passed_time": 33.24029174,
                        "iteration": 384,
                        "remaining_time": 53.09812837,
                        "learn": [
                          0.03490896674
                        ]
                      },
                      {
                        "test": [
                          0.9459339289,
                          0.03377068779
                        ],
                        "passed_time": 33.321793,
                        "iteration": 385,
                        "remaining_time": 53.0040956,
                        "learn": [
                          0.03490466851
                        ]
                      },
                      {
                        "test": [
                          0.9459586255,
                          0.03376648155
                        ],
                        "passed_time": 33.41921166,
                        "iteration": 386,
                        "remaining_time": 52.93534043,
                        "learn": [
                          0.03489804281
                        ]
                      },
                      {
                        "test": [
                          0.9459767341,
                          0.03376188537
                        ],
                        "passed_time": 33.50367896,
                        "iteration": 387,
                        "remaining_time": 52.84600909,
                        "learn": [
                          0.03489102919
                        ]
                      },
                      {
                        "test": [
                          0.9459861045,
                          0.03375843045
                        ],
                        "passed_time": 33.58393535,
                        "iteration": 388,
                        "remaining_time": 52.75008869,
                        "learn": [
                          0.03488552924
                        ]
                      },
                      {
                        "test": [
                          0.9460858108,
                          0.03375255481
                        ],
                        "passed_time": 33.67466269,
                        "iteration": 389,
                        "remaining_time": 52.67062626,
                        "learn": [
                          0.03488052029
                        ]
                      },
                      {
                        "test": [
                          0.9460813613,
                          0.03374816716
                        ],
                        "passed_time": 33.75786737,
                        "iteration": 390,
                        "remaining_time": 52.57938933,
                        "learn": [
                          0.03487412652
                        ]
                      },
                      {
                        "test": [
                          0.9460844426,
                          0.03374142047
                        ],
                        "passed_time": 33.84503388,
                        "iteration": 391,
                        "remaining_time": 52.49433826,
                        "learn": [
                          0.03486707086
                        ]
                      },
                      {
                        "test": [
                          0.9461016083,
                          0.03373749158
                        ],
                        "passed_time": 33.94080413,
                        "iteration": 392,
                        "remaining_time": 52.42256515,
                        "learn": [
                          0.03486200765
                        ]
                      },
                      {
                        "test": [
                          0.946124086,
                          0.03373329026
                        ],
                        "passed_time": 34.02467096,
                        "iteration": 393,
                        "remaining_time": 52.33236194,
                        "learn": [
                          0.03485577528
                        ]
                      },
                      {
                        "test": [
                          0.9461398605,
                          0.03372883854
                        ],
                        "passed_time": 34.13022014,
                        "iteration": 394,
                        "remaining_time": 52.27540047,
                        "learn": [
                          0.03484929335
                        ]
                      },
                      {
                        "test": [
                          0.9461534276,
                          0.03372564079
                        ],
                        "passed_time": 34.22666406,
                        "iteration": 395,
                        "remaining_time": 52.20430578,
                        "learn": [
                          0.03484510498
                        ]
                      },
                      {
                        "test": [
                          0.9461824587,
                          0.03372318798
                        ],
                        "passed_time": 34.31794203,
                        "iteration": 396,
                        "remaining_time": 52.12523689,
                        "learn": [
                          0.03484071723
                        ]
                      },
                      {
                        "test": [
                          0.9463103799,
                          0.03371534162
                        ],
                        "passed_time": 34.40450382,
                        "iteration": 397,
                        "remaining_time": 52.03897311,
                        "learn": [
                          0.03483378228
                        ]
                      },
                      {
                        "test": [
                          0.94629825,
                          0.03371332042
                        ],
                        "passed_time": 34.49400272,
                        "iteration": 398,
                        "remaining_time": 51.95713192,
                        "learn": [
                          0.03483041585
                        ]
                      },
                      {
                        "test": [
                          0.9462990318,
                          0.03370949281
                        ],
                        "passed_time": 34.57751162,
                        "iteration": 399,
                        "remaining_time": 51.86626743,
                        "learn": [
                          0.03482542318
                        ]
                      },
                      {
                        "test": [
                          0.9463129208,
                          0.03370526016
                        ],
                        "passed_time": 34.66641644,
                        "iteration": 400,
                        "remaining_time": 51.78349986,
                        "learn": [
                          0.03481914063
                        ]
                      },
                      {
                        "test": [
                          0.9463437916,
                          0.03370167586
                        ],
                        "passed_time": 34.75765778,
                        "iteration": 401,
                        "remaining_time": 51.70417749,
                        "learn": [
                          0.03481374919
                        ]
                      },
                      {
                        "test": [
                          0.9463674304,
                          0.03369903183
                        ],
                        "passed_time": 34.85380373,
                        "iteration": 402,
                        "remaining_time": 51.6320616,
                        "learn": [
                          0.03480820991
                        ]
                      },
                      {
                        "test": [
                          0.9465933907,
                          0.03368732615
                        ],
                        "passed_time": 34.94242551,
                        "iteration": 403,
                        "remaining_time": 51.54872674,
                        "learn": [
                          0.03479557292
                        ]
                      },
                      {
                        "test": [
                          0.9465957822,
                          0.03368553082
                        ],
                        "passed_time": 35.0254555,
                        "iteration": 404,
                        "remaining_time": 51.45715068,
                        "learn": [
                          0.03479295383
                        ]
                      },
                      {
                        "test": [
                          0.9465839742,
                          0.03368303767
                        ],
                        "passed_time": 35.11345191,
                        "iteration": 405,
                        "remaining_time": 51.37288284,
                        "learn": [
                          0.03478702528
                        ]
                      },
                      {
                        "test": [
                          0.9465976218,
                          0.03367617878
                        ],
                        "passed_time": 35.22601327,
                        "iteration": 406,
                        "remaining_time": 51.32438788,
                        "learn": [
                          0.03477817112
                        ]
                      },
                      {
                        "test": [
                          0.9466111658,
                          0.03367377501
                        ],
                        "passed_time": 35.31563337,
                        "iteration": 407,
                        "remaining_time": 51.24229155,
                        "learn": [
                          0.03477327745
                        ]
                      },
                      {
                        "test": [
                          0.9466142011,
                          0.03366905653
                        ],
                        "passed_time": 35.39692634,
                        "iteration": 408,
                        "remaining_time": 51.14812584,
                        "learn": [
                          0.03476689453
                        ]
                      },
                      {
                        "test": [
                          0.9466337699,
                          0.03366536435
                        ],
                        "passed_time": 35.49490038,
                        "iteration": 409,
                        "remaining_time": 51.07802737,
                        "learn": [
                          0.0347601454
                        ]
                      },
                      {
                        "test": [
                          0.9466348162,
                          0.03366180831
                        ],
                        "passed_time": 35.57909302,
                        "iteration": 410,
                        "remaining_time": 50.98804329,
                        "learn": [
                          0.03475456679
                        ]
                      },
                      {
                        "test": [
                          0.9466375411,
                          0.03365880436
                        ],
                        "passed_time": 35.65914421,
                        "iteration": 411,
                        "remaining_time": 50.89217669,
                        "learn": [
                          0.03475026313
                        ]
                      },
                      {
                        "test": [
                          0.9466512346,
                          0.03365759144
                        ],
                        "passed_time": 35.75312649,
                        "iteration": 412,
                        "remaining_time": 50.81618704,
                        "learn": [
                          0.03474599338
                        ]
                      },
                      {
                        "test": [
                          0.9466573397,
                          0.03365254412
                        ],
                        "passed_time": 35.84545414,
                        "iteration": 413,
                        "remaining_time": 50.73776841,
                        "learn": [
                          0.03473790961
                        ]
                      },
                      {
                        "test": [
                          0.9466554772,
                          0.0336489374
                        ],
                        "passed_time": 35.93082271,
                        "iteration": 414,
                        "remaining_time": 50.64947297,
                        "learn": [
                          0.03473387451
                        ]
                      },
                      {
                        "test": [
                          0.9466727579,
                          0.03364567907
                        ],
                        "passed_time": 36.01800328,
                        "iteration": 415,
                        "remaining_time": 50.56373537,
                        "learn": [
                          0.03472840441
                        ]
                      },
                      {
                        "test": [
                          0.9466714357,
                          0.03364267433
                        ],
                        "passed_time": 36.09666415,
                        "iteration": 416,
                        "remaining_time": 50.46607962,
                        "learn": [
                          0.03472520616
                        ]
                      },
                      {
                        "test": [
                          0.9466888544,
                          0.0336394142
                        ],
                        "passed_time": 36.21101891,
                        "iteration": 417,
                        "remaining_time": 50.41821293,
                        "learn": [
                          0.03471910265
                        ]
                      },
                      {
                        "test": [
                          0.9466912344,
                          0.03363826539
                        ],
                        "passed_time": 36.29760355,
                        "iteration": 418,
                        "remaining_time": 50.33152186,
                        "learn": [
                          0.03471323378
                        ]
                      },
                      {
                        "test": [
                          0.9466918437,
                          0.03363497515
                        ],
                        "passed_time": 36.38976499,
                        "iteration": 419,
                        "remaining_time": 50.25253261,
                        "learn": [
                          0.03470832113
                        ]
                      },
                      {
                        "test": [
                          0.9466983743,
                          0.03363104984
                        ],
                        "passed_time": 36.46910582,
                        "iteration": 420,
                        "remaining_time": 50.15584863,
                        "learn": [
                          0.03470331353
                        ]
                      },
                      {
                        "test": [
                          0.9466959943,
                          0.03362582766
                        ],
                        "passed_time": 36.5573265,
                        "iteration": 421,
                        "remaining_time": 50.07140929,
                        "learn": [
                          0.03469613715
                        ]
                      },
                      {
                        "test": [
                          0.9467760974,
                          0.03362094944
                        ],
                        "passed_time": 36.64258833,
                        "iteration": 422,
                        "remaining_time": 49.98291599,
                        "learn": [
                          0.03469090169
                        ]
                      },
                      {
                        "test": [
                          0.9468593162,
                          0.03361664376
                        ],
                        "passed_time": 36.72759136,
                        "iteration": 423,
                        "remaining_time": 49.89408638,
                        "learn": [
                          0.03468661024
                        ]
                      },
                      {
                        "test": [
                          0.9468520153,
                          0.03361455568
                        ],
                        "passed_time": 36.82833984,
                        "iteration": 424,
                        "remaining_time": 49.82657743,
                        "learn": [
                          0.0346821167
                        ]
                      },
                      {
                        "test": [
                          0.946862639,
                          0.03361276992
                        ],
                        "passed_time": 36.91703815,
                        "iteration": 425,
                        "remaining_time": 49.74267581,
                        "learn": [
                          0.0346770874
                        ]
                      },
                      {
                        "test": [
                          0.9468676864,
                          0.03361037236
                        ],
                        "passed_time": 37.00711218,
                        "iteration": 426,
                        "remaining_time": 49.66059785,
                        "learn": [
                          0.03467183431
                        ]
                      },
                      {
                        "test": [
                          0.9468685832,
                          0.03360529125
                        ],
                        "passed_time": 37.09646838,
                        "iteration": 427,
                        "remaining_time": 49.57752316,
                        "learn": [
                          0.03466431342
                        ]
                      },
                      {
                        "test": [
                          0.9468638003,
                          0.03360228165
                        ],
                        "passed_time": 37.21261416,
                        "iteration": 428,
                        "remaining_time": 49.53007618,
                        "learn": [
                          0.03465947808
                        ]
                      },
                      {
                        "test": [
                          0.9468877725,
                          0.03360002879
                        ],
                        "passed_time": 37.30694777,
                        "iteration": 429,
                        "remaining_time": 49.45339588,
                        "learn": [
                          0.03465589735
                        ]
                      },
                      {
                        "test": [
                          0.9468947745,
                          0.03359487686
                        ],
                        "passed_time": 37.38779138,
                        "iteration": 430,
                        "remaining_time": 49.35882435,
                        "learn": [
                          0.03464782986
                        ]
                      },
                      {
                        "test": [
                          0.9468977868,
                          0.03359014408
                        ],
                        "passed_time": 37.46955942,
                        "iteration": 431,
                        "remaining_time": 49.26553183,
                        "learn": [
                          0.03464060601
                        ]
                      },
                      {
                        "test": [
                          0.9469041795,
                          0.03358713369
                        ],
                        "passed_time": 37.56297121,
                        "iteration": 432,
                        "remaining_time": 49.18753967,
                        "learn": [
                          0.03463526476
                        ]
                      },
                      {
                        "test": [
                          0.9469708419,
                          0.0335830251
                        ],
                        "passed_time": 37.64903887,
                        "iteration": 433,
                        "remaining_time": 49.09989862,
                        "learn": [
                          0.03463151313
                        ]
                      },
                      {
                        "test": [
                          0.9469680595,
                          0.03358165873
                        ],
                        "passed_time": 37.7353525,
                        "iteration": 434,
                        "remaining_time": 49.01258429,
                        "learn": [
                          0.03462617459
                        ]
                      },
                      {
                        "test": [
                          0.946979488,
                          0.03357944428
                        ],
                        "passed_time": 37.82118996,
                        "iteration": 435,
                        "remaining_time": 48.92465858,
                        "learn": [
                          0.03462022976
                        ]
                      },
                      {
                        "test": [
                          0.9470018277,
                          0.03357289633
                        ],
                        "passed_time": 37.9180575,
                        "iteration": 436,
                        "remaining_time": 48.8509528,
                        "learn": [
                          0.03461260715
                        ]
                      },
                      {
                        "test": [
                          0.9470042307,
                          0.03356979185
                        ],
                        "passed_time": 38.00785596,
                        "iteration": 437,
                        "remaining_time": 48.76807089,
                        "learn": [
                          0.03460903592
                        ]
                      },
                      {
                        "test": [
                          0.9470125893,
                          0.03356797335
                        ],
                        "passed_time": 38.09790839,
                        "iteration": 438,
                        "remaining_time": 48.68548201,
                        "learn": [
                          0.03460694173
                        ]
                      },
                      {
                        "test": [
                          0.9470115201,
                          0.03356602912
                        ],
                        "passed_time": 38.19163615,
                        "iteration": 439,
                        "remaining_time": 48.60753692,
                        "learn": [
                          0.03460143229
                        ]
                      },
                      {
                        "test": [
                          0.947016395,
                          0.03356517336
                        ],
                        "passed_time": 38.31813784,
                        "iteration": 440,
                        "remaining_time": 48.57106361,
                        "learn": [
                          0.03459418132
                        ]
                      },
                      {
                        "test": [
                          0.9470157971,
                          0.03356333957
                        ],
                        "passed_time": 38.41481682,
                        "iteration": 441,
                        "remaining_time": 48.49653345,
                        "learn": [
                          0.03459060872
                        ]
                      },
                      {
                        "test": [
                          0.9470402753,
                          0.03356151127
                        ],
                        "passed_time": 38.50045367,
                        "iteration": 442,
                        "remaining_time": 48.40801962,
                        "learn": [
                          0.03458614231
                        ]
                      },
                      {
                        "test": [
                          0.9470497147,
                          0.03355821662
                        ],
                        "passed_time": 38.58981445,
                        "iteration": 443,
                        "remaining_time": 48.32418206,
                        "learn": [
                          0.03458065592
                        ]
                      },
                      {
                        "test": [
                          0.9470536699,
                          0.03355467551
                        ],
                        "passed_time": 38.66951802,
                        "iteration": 444,
                        "remaining_time": 48.22827528,
                        "learn": [
                          0.0345764974
                        ]
                      },
                      {
                        "test": [
                          0.9471021548,
                          0.0335520436
                        ],
                        "passed_time": 38.76253422,
                        "iteration": 445,
                        "remaining_time": 48.14897749,
                        "learn": [
                          0.03457274577
                        ]
                      },
                      {
                        "test": [
                          0.9471697601,
                          0.03354761429
                        ],
                        "passed_time": 38.86051085,
                        "iteration": 446,
                        "remaining_time": 48.07575504,
                        "learn": [
                          0.03456539849
                        ]
                      },
                      {
                        "test": [
                          0.9471871328,
                          0.03354496592
                        ],
                        "passed_time": 38.94398942,
                        "iteration": 447,
                        "remaining_time": 47.98455839,
                        "learn": [
                          0.0345610026
                        ]
                      },
                      {
                        "test": [
                          0.9472673623,
                          0.03353983809
                        ],
                        "passed_time": 39.0337279,
                        "iteration": 448,
                        "remaining_time": 47.90107811,
                        "learn": [
                          0.0345551039
                        ]
                      },
                      {
                        "test": [
                          0.947291599,
                          0.03353682492
                        ],
                        "passed_time": 39.11897234,
                        "iteration": 449,
                        "remaining_time": 47.8120773,
                        "learn": [
                          0.0345509101
                        ]
                      },
                      {
                        "test": [
                          0.9473634584,
                          0.03353213356
                        ],
                        "passed_time": 39.20742457,
                        "iteration": 450,
                        "remaining_time": 47.72699798,
                        "learn": [
                          0.03454637994
                        ]
                      },
                      {
                        "test": [
                          0.9473697475,
                          0.03353012502
                        ],
                        "passed_time": 39.32678267,
                        "iteration": 451,
                        "remaining_time": 47.67937368,
                        "learn": [
                          0.03454131673
                        ]
                      },
                      {
                        "test": [
                          0.9473596642,
                          0.03352797829
                        ],
                        "passed_time": 39.40668534,
                        "iteration": 452,
                        "remaining_time": 47.58379003,
                        "learn": [
                          0.03453860948
                        ]
                      },
                      {
                        "test": [
                          0.9474072408,
                          0.03352397927
                        ],
                        "passed_time": 39.48700911,
                        "iteration": 453,
                        "remaining_time": 47.48878188,
                        "learn": [
                          0.03453299696
                        ]
                      },
                      {
                        "test": [
                          0.9474165193,
                          0.03352166826
                        ],
                        "passed_time": 39.57834678,
                        "iteration": 454,
                        "remaining_time": 47.40703076,
                        "learn": [
                          0.03452947184
                        ]
                      },
                      {
                        "test": [
                          0.9474893789,
                          0.03351634613
                        ],
                        "passed_time": 39.66552824,
                        "iteration": 455,
                        "remaining_time": 47.32027931,
                        "learn": [
                          0.03452232259
                        ]
                      },
                      {
                        "test": [
                          0.9474914025,
                          0.03351409581
                        ],
                        "passed_time": 39.75052332,
                        "iteration": 456,
                        "remaining_time": 47.23092814,
                        "learn": [
                          0.03451725532
                        ]
                      },
                      {
                        "test": [
                          0.9474939204,
                          0.03351032614
                        ],
                        "passed_time": 39.83805538,
                        "iteration": 457,
                        "remaining_time": 47.14459829,
                        "learn": [
                          0.03450910916
                        ]
                      },
                      {
                        "test": [
                          0.94758083,
                          0.03350331702
                        ],
                        "passed_time": 39.93290625,
                        "iteration": 458,
                        "remaining_time": 47.0668895,
                        "learn": [
                          0.03450333659
                        ]
                      },
                      {
                        "test": [
                          0.9475849116,
                          0.03350227415
                        ],
                        "passed_time": 40.01490536,
                        "iteration": 459,
                        "remaining_time": 46.97401933,
                        "learn": [
                          0.03449996338
                        ]
                      },
                      {
                        "test": [
                          0.9476716602,
                          0.03349499932
                        ],
                        "passed_time": 40.10142775,
                        "iteration": 460,
                        "remaining_time": 46.88648494,
                        "learn": [
                          0.03449104275
                        ]
                      },
                      {
                        "test": [
                          0.9476698206,
                          0.03349153489
                        ],
                        "passed_time": 40.18063606,
                        "iteration": 461,
                        "remaining_time": 46.79043766,
                        "learn": [
                          0.03448487684
                        ]
                      },
                      {
                        "test": [
                          0.9476745806,
                          0.03348977533
                        ],
                        "passed_time": 40.28747765,
                        "iteration": 462,
                        "remaining_time": 46.72651296,
                        "learn": [
                          0.0344799981
                        ]
                      },
                      {
                        "test": [
                          0.9476631866,
                          0.03348770939
                        ],
                        "passed_time": 40.3971945,
                        "iteration": 463,
                        "remaining_time": 46.66572468,
                        "learn": [
                          0.03447718235
                        ]
                      },
                      {
                        "test": [
                          0.9476674866,
                          0.03348194846
                        ],
                        "passed_time": 40.48077477,
                        "iteration": 464,
                        "remaining_time": 46.57465484,
                        "learn": [
                          0.03447132433
                        ]
                      },
                      {
                        "test": [
                          0.9476762822,
                          0.03348024736
                        ],
                        "passed_time": 40.56233586,
                        "iteration": 465,
                        "remaining_time": 46.48130332,
                        "learn": [
                          0.03446719971
                        ]
                      },
                      {
                        "test": [
                          0.9476875957,
                          0.03347855256
                        ],
                        "passed_time": 40.65260635,
                        "iteration": 466,
                        "remaining_time": 46.39794258,
                        "learn": [
                          0.03446263156
                        ]
                      },
                      {
                        "test": [
                          0.9476801913,
                          0.03347719654
                        ],
                        "passed_time": 40.7315983,
                        "iteration": 467,
                        "remaining_time": 46.30173141,
                        "learn": [
                          0.0344598131
                        ]
                      },
                      {
                        "test": [
                          0.9476898607,
                          0.03347464088
                        ],
                        "passed_time": 40.81925408,
                        "iteration": 468,
                        "remaining_time": 46.21540281,
                        "learn": [
                          0.03445474311
                        ]
                      },
                      {
                        "test": [
                          0.9476976216,
                          0.03347200478
                        ],
                        "passed_time": 40.91392967,
                        "iteration": 469,
                        "remaining_time": 46.13698452,
                        "learn": [
                          0.0344503852
                        ]
                      },
                      {
                        "test": [
                          0.9476951726,
                          0.03347081329
                        ],
                        "passed_time": 40.99686129,
                        "iteration": 470,
                        "remaining_time": 46.04530705,
                        "learn": [
                          0.03444611545
                        ]
                      },
                      {
                        "test": [
                          0.9477041176,
                          0.03346928731
                        ],
                        "passed_time": 41.0986229,
                        "iteration": 471,
                        "remaining_time": 45.9747307,
                        "learn": [
                          0.03444121365
                        ]
                      },
                      {
                        "test": [
                          0.9477073139,
                          0.03346842922
                        ],
                        "passed_time": 41.18666725,
                        "iteration": 472,
                        "remaining_time": 45.8887392,
                        "learn": [
                          0.03443686388
                        ]
                      },
                      {
                        "test": [
                          0.9477127638,
                          0.03346587992
                        ],
                        "passed_time": 41.27208914,
                        "iteration": 473,
                        "remaining_time": 45.79982888,
                        "learn": [
                          0.03443221164
                        ]
                      },
                      {
                        "test": [
                          0.9477068655,
                          0.03346350622
                        ],
                        "passed_time": 41.38643216,
                        "iteration": 474,
                        "remaining_time": 45.7428987,
                        "learn": [
                          0.03442881944
                        ]
                      },
                      {
                        "test": [
                          0.947713856,
                          0.03346135695
                        ],
                        "passed_time": 41.48059784,
                        "iteration": 475,
                        "remaining_time": 45.66351526,
                        "learn": [
                          0.03442567681
                        ]
                      },
                      {
                        "test": [
                          0.947718685,
                          0.03345842674
                        ],
                        "passed_time": 41.56339532,
                        "iteration": 476,
                        "remaining_time": 45.57160536,
                        "learn": [
                          0.03442225749
                        ]
                      },
                      {
                        "test": [
                          0.9477246062,
                          0.03345564877
                        ],
                        "passed_time": 41.64762431,
                        "iteration": 477,
                        "remaining_time": 45.48129684,
                        "learn": [
                          0.03441610786
                        ]
                      },
                      {
                        "test": [
                          0.947725434,
                          0.03345158617
                        ],
                        "passed_time": 41.73815891,
                        "iteration": 478,
                        "remaining_time": 45.39787221,
                        "learn": [
                          0.03440946316
                        ]
                      },
                      {
                        "test": [
                          0.9477385526,
                          0.03344988553
                        ],
                        "passed_time": 41.82180688,
                        "iteration": 479,
                        "remaining_time": 45.30695745,
                        "learn": [
                          0.03440441352
                        ]
                      },
                      {
                        "test": [
                          0.94779174,
                          0.03344696311
                        ],
                        "passed_time": 41.92041519,
                        "iteration": 480,
                        "remaining_time": 45.23221514,
                        "learn": [
                          0.03439909261
                        ]
                      },
                      {
                        "test": [
                          0.9477944305,
                          0.03344287136
                        ],
                        "passed_time": 42.00651558,
                        "iteration": 481,
                        "remaining_time": 45.14393168,
                        "learn": [
                          0.03439166124
                        ]
                      },
                      {
                        "test": [
                          0.9477932577,
                          0.03344043762
                        ],
                        "passed_time": 42.08577311,
                        "iteration": 482,
                        "remaining_time": 45.04833271,
                        "learn": [
                          0.03438729384
                        ]
                      },
                      {
                        "test": [
                          0.9477985696,
                          0.03343614652
                        ],
                        "passed_time": 42.16579037,
                        "iteration": 483,
                        "remaining_time": 44.95361122,
                        "learn": [
                          0.0343823839
                        ]
                      },
                      {
                        "test": [
                          0.9478127805,
                          0.03343316208
                        ],
                        "passed_time": 42.26173881,
                        "iteration": 484,
                        "remaining_time": 44.87586698,
                        "learn": [
                          0.03437479384
                        ]
                      },
                      {
                        "test": [
                          0.9478007426,
                          0.03343003034
                        ],
                        "passed_time": 42.38329517,
                        "iteration": 485,
                        "remaining_time": 44.82513111,
                        "learn": [
                          0.03436724175
                        ]
                      },
                      {
                        "test": [
                          0.9478019843,
                          0.03342763144
                        ],
                        "passed_time": 42.47258973,
                        "iteration": 486,
                        "remaining_time": 44.74012019,
                        "learn": [
                          0.03436411947
                        ]
                      },
                      {
                        "test": [
                          0.947803387,
                          0.03342482653
                        ],
                        "passed_time": 42.55146813,
                        "iteration": 487,
                        "remaining_time": 44.64416328,
                        "learn": [
                          0.03435823296
                        ]
                      },
                      {
                        "test": [
                          0.9478212196,
                          0.03342233797
                        ],
                        "passed_time": 42.63837003,
                        "iteration": 488,
                        "remaining_time": 44.55666071,
                        "learn": [
                          0.03435279677
                        ]
                      },
                      {
                        "test": [
                          0.9478226913,
                          0.03341882507
                        ],
                        "passed_time": 42.72059168,
                        "iteration": 489,
                        "remaining_time": 44.4642893,
                        "learn": [
                          0.03434818793
                        ]
                      },
                      {
                        "test": [
                          0.9478301187,
                          0.03341769978
                        ],
                        "passed_time": 42.8046038,
                        "iteration": 490,
                        "remaining_time": 44.37381535,
                        "learn": [
                          0.03434518094
                        ]
                      },
                      {
                        "test": [
                          0.9479927392,
                          0.03340934832
                        ],
                        "passed_time": 42.8898296,
                        "iteration": 491,
                        "remaining_time": 44.2846208,
                        "learn": [
                          0.03433739827
                        ]
                      },
                      {
                        "test": [
                          0.9479942339,
                          0.03340600287
                        ],
                        "passed_time": 42.98460742,
                        "iteration": 492,
                        "remaining_time": 44.20526565,
                        "learn": [
                          0.03433273112
                        ]
                      },
                      {
                        "test": [
                          0.9480035239,
                          0.03340396991
                        ],
                        "passed_time": 43.0748799,
                        "iteration": 493,
                        "remaining_time": 44.12123326,
                        "learn": [
                          0.03432846002
                        ]
                      },
                      {
                        "test": [
                          0.948033038,
                          0.03340264402
                        ],
                        "passed_time": 43.16463441,
                        "iteration": 494,
                        "remaining_time": 44.03664723,
                        "learn": [
                          0.03432188178
                        ]
                      },
                      {
                        "test": [
                          0.9481016895,
                          0.03339703214
                        ],
                        "passed_time": 43.25056612,
                        "iteration": 495,
                        "remaining_time": 43.94815589,
                        "learn": [
                          0.03431542562
                        ]
                      },
                      {
                        "test": [
                          0.9481019999,
                          0.03339511769
                        ],
                        "passed_time": 43.33335661,
                        "iteration": 496,
                        "remaining_time": 43.85649573,
                        "learn": [
                          0.03431198324
                        ]
                      },
                      {
                        "test": [
                          0.9481056676,
                          0.03339381713
                        ],
                        "passed_time": 43.46130513,
                        "iteration": 497,
                        "remaining_time": 43.81039191,
                        "learn": [
                          0.03430759956
                        ]
                      },
                      {
                        "test": [
                          0.9481123592,
                          0.0333915101
                        ],
                        "passed_time": 43.55022373,
                        "iteration": 498,
                        "remaining_time": 43.72477372,
                        "learn": [
                          0.03430208605
                        ]
                      },
                      {
                        "test": [
                          0.9481138998,
                          0.0333899877
                        ],
                        "passed_time": 43.64223099,
                        "iteration": 499,
                        "remaining_time": 43.64223099,
                        "learn": [
                          0.03429924452
                        ]
                      },
                      {
                        "test": [
                          0.9481143597,
                          0.03338674018
                        ],
                        "passed_time": 43.7292876,
                        "iteration": 500,
                        "remaining_time": 43.55471958,
                        "learn": [
                          0.03429501275
                        ]
                      },
                      {
                        "test": [
                          0.9481234083,
                          0.03338349696
                        ],
                        "passed_time": 43.82001298,
                        "iteration": 501,
                        "remaining_time": 43.47084953,
                        "learn": [
                          0.03428829481
                        ]
                      },
                      {
                        "test": [
                          0.9481192462,
                          0.03338033801
                        ],
                        "passed_time": 43.90753103,
                        "iteration": 502,
                        "remaining_time": 43.38378314,
                        "learn": [
                          0.03428227403
                        ]
                      },
                      {
                        "test": [
                          0.9482354858,
                          0.03337382659
                        ],
                        "passed_time": 44.00342861,
                        "iteration": 503,
                        "remaining_time": 43.30496149,
                        "learn": [
                          0.03427322591
                        ]
                      },
                      {
                        "test": [
                          0.9482298866,
                          0.03337307221
                        ],
                        "passed_time": 44.08715611,
                        "iteration": 504,
                        "remaining_time": 43.21414311,
                        "learn": [
                          0.03426907145
                        ]
                      },
                      {
                        "test": [
                          0.9482512949,
                          0.03337138172
                        ],
                        "passed_time": 44.17682584,
                        "iteration": 505,
                        "remaining_time": 43.12915408,
                        "learn": [
                          0.03426322157
                        ]
                      },
                      {
                        "test": [
                          0.9482714385,
                          0.03336699306
                        ],
                        "passed_time": 44.26146324,
                        "iteration": 506,
                        "remaining_time": 43.03925321,
                        "learn": [
                          0.03425642361
                        ]
                      },
                      {
                        "test": [
                          0.9482700703,
                          0.0333651751
                        ],
                        "passed_time": 44.34101461,
                        "iteration": 507,
                        "remaining_time": 42.94444722,
                        "learn": [
                          0.03425356988
                        ]
                      },
                      {
                        "test": [
                          0.9483743526,
                          0.0333602993
                        ],
                        "passed_time": 44.47720484,
                        "iteration": 508,
                        "remaining_time": 42.90433708,
                        "learn": [
                          0.03424911024
                        ]
                      },
                      {
                        "test": [
                          0.9483895868,
                          0.03335778915
                        ],
                        "passed_time": 44.56163132,
                        "iteration": 509,
                        "remaining_time": 42.81411637,
                        "learn": [
                          0.03424528402
                        ]
                      },
                      {
                        "test": [
                          0.9484043725,
                          0.03335574687
                        ],
                        "passed_time": 44.64741921,
                        "iteration": 510,
                        "remaining_time": 42.72522113,
                        "learn": [
                          0.03423894179
                        ]
                      },
                      {
                        "test": [
                          0.9484199286,
                          0.03335390312
                        ],
                        "passed_time": 44.73252303,
                        "iteration": 511,
                        "remaining_time": 42.63568602,
                        "learn": [
                          0.03423587511
                        ]
                      },
                      {
                        "test": [
                          0.9484232629,
                          0.03335288236
                        ],
                        "passed_time": 44.81909171,
                        "iteration": 512,
                        "remaining_time": 42.5475588,
                        "learn": [
                          0.03423274197
                        ]
                      },
                      {
                        "test": [
                          0.9484255509,
                          0.03335151841
                        ],
                        "passed_time": 44.90380851,
                        "iteration": 513,
                        "remaining_time": 42.45768665,
                        "learn": [
                          0.0342289605
                        ]
                      },
                      {
                        "test": [
                          0.9484244012,
                          0.03334979721
                        ],
                        "passed_time": 44.99619584,
                        "iteration": 514,
                        "remaining_time": 42.37505822,
                        "learn": [
                          0.03422567274
                        ]
                      },
                      {
                        "test": [
                          0.9484351513,
                          0.03334806649
                        ],
                        "passed_time": 45.07776327,
                        "iteration": 515,
                        "remaining_time": 42.28224306,
                        "learn": [
                          0.03422199843
                        ]
                      },
                      {
                        "test": [
                          0.9484377958,
                          0.03334693872
                        ],
                        "passed_time": 45.15875654,
                        "iteration": 516,
                        "remaining_time": 42.18893503,
                        "learn": [
                          0.03421924778
                        ]
                      },
                      {
                        "test": [
                          0.9484529495,
                          0.03334583815
                        ],
                        "passed_time": 45.24391678,
                        "iteration": 517,
                        "remaining_time": 42.0995519,
                        "learn": [
                          0.0342144043
                        ]
                      },
                      {
                        "test": [
                          0.9484300694,
                          0.03334518996
                        ],
                        "passed_time": 45.33292008,
                        "iteration": 518,
                        "remaining_time": 42.01374674,
                        "learn": [
                          0.03420974799
                        ]
                      },
                      {
                        "test": [
                          0.9484306328,
                          0.03334181233
                        ],
                        "passed_time": 45.44737298,
                        "iteration": 519,
                        "remaining_time": 41.95142121,
                        "learn": [
                          0.0342038425
                        ]
                      },
                      {
                        "test": [
                          0.9484477641,
                          0.03333930655
                        ],
                        "passed_time": 45.53316946,
                        "iteration": 520,
                        "remaining_time": 41.86254927,
                        "learn": [
                          0.03419851345
                        ]
                      },
                      {
                        "test": [
                          0.9484564332,
                          0.03333749664
                        ],
                        "passed_time": 45.61698238,
                        "iteration": 521,
                        "remaining_time": 41.77187275,
                        "learn": [
                          0.03419548747
                        ]
                      },
                      {
                        "test": [
                          0.948486982,
                          0.03333562887
                        ],
                        "passed_time": 45.708579,
                        "iteration": 522,
                        "remaining_time": 41.68832158,
                        "learn": [
                          0.03419242757
                        ]
                      },
                      {
                        "test": [
                          0.9484887871,
                          0.03333548416
                        ],
                        "passed_time": 45.79291351,
                        "iteration": 523,
                        "remaining_time": 41.59814281,
                        "learn": [
                          0.03418870985
                        ]
                      },
                      {
                        "test": [
                          0.9484959156,
                          0.0333330394
                        ],
                        "passed_time": 45.87328211,
                        "iteration": 524,
                        "remaining_time": 41.5043981,
                        "learn": [
                          0.03418515082
                        ]
                      },
                      {
                        "test": [
                          0.9484980311,
                          0.03333165229
                        ],
                        "passed_time": 45.96146741,
                        "iteration": 525,
                        "remaining_time": 41.4177482,
                        "learn": [
                          0.0341813246
                        ]
                      },
                      {
                        "test": [
                          0.9485170595,
                          0.03333052297
                        ],
                        "passed_time": 46.0550342,
                        "iteration": 526,
                        "remaining_time": 41.33592254,
                        "learn": [
                          0.03417655165
                        ]
                      },
                      {
                        "test": [
                          0.9486802434,
                          0.03332212014
                        ],
                        "passed_time": 46.14647724,
                        "iteration": 527,
                        "remaining_time": 41.2521539,
                        "learn": [
                          0.03416552056
                        ]
                      },
                      {
                        "test": [
                          0.9486882227,
                          0.03332087214
                        ],
                        "passed_time": 46.23772007,
                        "iteration": 528,
                        "remaining_time": 41.16817798,
                        "learn": [
                          0.03416059163
                        ]
                      },
                      {
                        "test": [
                          0.948693454,
                          0.03331900024
                        ],
                        "passed_time": 46.31817808,
                        "iteration": 529,
                        "remaining_time": 41.07461075,
                        "learn": [
                          0.03415707601
                        ]
                      },
                      {
                        "test": [
                          0.9487536549,
                          0.03331502484
                        ],
                        "passed_time": 46.4014719,
                        "iteration": 530,
                        "remaining_time": 40.98359759,
                        "learn": [
                          0.03415024685
                        ]
                      },
                      {
                        "test": [
                          0.9487551841,
                          0.03331451074
                        ],
                        "passed_time": 46.53075919,
                        "iteration": 531,
                        "remaining_time": 40.93307387,
                        "learn": [
                          0.03414783257
                        ]
                      },
                      {
                        "test": [
                          0.9487615307,
                          0.03331344159
                        ],
                        "passed_time": 46.62322699,
                        "iteration": 532,
                        "remaining_time": 40.84999438,
                        "learn": [
                          0.03414515245
                        ]
                      },
                      {
                        "test": [
                          0.9487609098,
                          0.03331063168
                        ],
                        "passed_time": 46.70275622,
                        "iteration": 533,
                        "remaining_time": 40.75558876,
                        "learn": [
                          0.0341400038
                        ]
                      },
                      {
                        "test": [
                          0.9487701538,
                          0.0333092881
                        ],
                        "passed_time": 46.7899689,
                        "iteration": 534,
                        "remaining_time": 40.66791689,
                        "learn": [
                          0.03413405762
                        ]
                      },
                      {
                        "test": [
                          0.9487768799,
                          0.0333073167
                        ],
                        "passed_time": 46.87143363,
                        "iteration": 535,
                        "remaining_time": 40.57527091,
                        "learn": [
                          0.03413016764
                        ]
                      },
                      {
                        "test": [
                          0.9487945285,
                          0.03330501427
                        ],
                        "passed_time": 46.95943715,
                        "iteration": 536,
                        "remaining_time": 40.48830429,
                        "learn": [
                          0.03412462701
                        ]
                      },
                      {
                        "test": [
                          0.9487916426,
                          0.03330432813
                        ],
                        "passed_time": 47.05815486,
                        "iteration": 537,
                        "remaining_time": 40.41053447,
                        "learn": [
                          0.03412092963
                        ]
                      },
                      {
                        "test": [
                          0.9487848246,
                          0.03330396242
                        ],
                        "passed_time": 47.14735405,
                        "iteration": 538,
                        "remaining_time": 40.32454586,
                        "learn": [
                          0.03411701931
                        ]
                      },
                      {
                        "test": [
                          0.9488497395,
                          0.03330074988
                        ],
                        "passed_time": 47.23438935,
                        "iteration": 539,
                        "remaining_time": 40.23670204,
                        "learn": [
                          0.03411200087
                        ]
                      },
                      {
                        "test": [
                          0.9488579372,
                          0.03329887344
                        ],
                        "passed_time": 47.31678877,
                        "iteration": 540,
                        "remaining_time": 40.144928,
                        "learn": [
                          0.03410844455
                        ]
                      },
                      {
                        "test": [
                          0.9488676066,
                          0.03329607505
                        ],
                        "passed_time": 47.40302931,
                        "iteration": 541,
                        "remaining_time": 40.05643436,
                        "learn": [
                          0.03410372721
                        ]
                      },
                      {
                        "test": [
                          0.9488683079,
                          0.03329480661
                        ],
                        "passed_time": 47.52449792,
                        "iteration": 542,
                        "remaining_time": 39.9975977,
                        "learn": [
                          0.03409996609
                        ]
                      },
                      {
                        "test": [
                          0.9488719641,
                          0.03329244298
                        ],
                        "passed_time": 47.61337311,
                        "iteration": 543,
                        "remaining_time": 39.91120982,
                        "learn": [
                          0.03409729953
                        ]
                      },
                      {
                        "test": [
                          0.9488696187,
                          0.03328918753
                        ],
                        "passed_time": 47.70139605,
                        "iteration": 544,
                        "remaining_time": 39.82410129,
                        "learn": [
                          0.03409175754
                        ]
                      },
                      {
                        "test": [
                          0.9488665143,
                          0.03328725606
                        ],
                        "passed_time": 47.79483399,
                        "iteration": 545,
                        "remaining_time": 39.741492,
                        "learn": [
                          0.0340879164
                        ]
                      },
                      {
                        "test": [
                          0.9488741372,
                          0.03328543672
                        ],
                        "passed_time": 47.87421724,
                        "iteration": 546,
                        "remaining_time": 39.64720368,
                        "learn": [
                          0.03408392334
                        ]
                      },
                      {
                        "test": [
                          0.9488826338,
                          0.03328361633
                        ],
                        "passed_time": 47.95950768,
                        "iteration": 547,
                        "remaining_time": 39.5578421,
                        "learn": [
                          0.03408039822
                        ]
                      },
                      {
                        "test": [
                          0.9488787707,
                          0.03328262242
                        ],
                        "passed_time": 48.0592468,
                        "iteration": 548,
                        "remaining_time": 39.48036486,
                        "learn": [
                          0.0340780938
                        ]
                      },
                      {
                        "test": [
                          0.9488775404,
                          0.03328174732
                        ],
                        "passed_time": 48.14228509,
                        "iteration": 549,
                        "remaining_time": 39.38914234,
                        "learn": [
                          0.03407579888
                        ]
                      },
                      {
                        "test": [
                          0.948886313,
                          0.03328007557
                        ],
                        "passed_time": 48.22297378,
                        "iteration": 550,
                        "remaining_time": 39.2960349,
                        "learn": [
                          0.0340717041
                        ]
                      },
                      {
                        "test": [
                          0.9489332343,
                          0.03327833811
                        ],
                        "passed_time": 48.31406153,
                        "iteration": 551,
                        "remaining_time": 39.21141226,
                        "learn": [
                          0.03406748318
                        ]
                      },
                      {
                        "test": [
                          0.9489371894,
                          0.03327791362
                        ],
                        "passed_time": 48.39748993,
                        "iteration": 552,
                        "remaining_time": 39.12057504,
                        "learn": [
                          0.03406396213
                        ]
                      },
                      {
                        "test": [
                          0.9489398568,
                          0.0332745543
                        ],
                        "passed_time": 48.47883985,
                        "iteration": 553,
                        "remaining_time": 39.02809129,
                        "learn": [
                          0.03406024984
                        ]
                      },
                      {
                        "test": [
                          0.9489520557,
                          0.03327341015
                        ],
                        "passed_time": 48.60829783,
                        "iteration": 554,
                        "remaining_time": 38.97422079,
                        "learn": [
                          0.03405752631
                        ]
                      },
                      {
                        "test": [
                          0.9489845591,
                          0.03326939593
                        ],
                        "passed_time": 48.70086569,
                        "iteration": 555,
                        "remaining_time": 38.89061937,
                        "learn": [
                          0.03405245768
                        ]
                      },
                      {
                        "test": [
                          0.9489935501,
                          0.03326780538
                        ],
                        "passed_time": 48.78329933,
                        "iteration": 556,
                        "remaining_time": 38.79892568,
                        "learn": [
                          0.03404829915
                        ]
                      },
                      {
                        "test": [
                          0.9490361599,
                          0.03326219778
                        ],
                        "passed_time": 48.86807888,
                        "iteration": 557,
                        "remaining_time": 38.70912341,
                        "learn": [
                          0.03404132216
                        ]
                      },
                      {
                        "test": [
                          0.9490834721,
                          0.03325909424
                        ],
                        "passed_time": 48.9553846,
                        "iteration": 558,
                        "remaining_time": 38.62133203,
                        "learn": [
                          0.03403599175
                        ]
                      },
                      {
                        "test": [
                          0.9491062371,
                          0.03325712276
                        ],
                        "passed_time": 49.04916244,
                        "iteration": 559,
                        "remaining_time": 38.53862763,
                        "learn": [
                          0.03402988688
                        ]
                      },
                      {
                        "test": [
                          0.9491030408,
                          0.03325540774
                        ],
                        "passed_time": 49.13322885,
                        "iteration": 560,
                        "remaining_time": 38.44828425,
                        "learn": [
                          0.03402655165
                        ]
                      },
                      {
                        "test": [
                          0.9491081112,
                          0.03325381755
                        ],
                        "passed_time": 49.21479447,
                        "iteration": 561,
                        "remaining_time": 38.35601419,
                        "learn": [
                          0.03402414551
                        ]
                      },
                      {
                        "test": [
                          0.9491627933,
                          0.03324978208
                        ],
                        "passed_time": 49.29702001,
                        "iteration": 562,
                        "remaining_time": 38.26429439,
                        "learn": [
                          0.03401888021
                        ]
                      },
                      {
                        "test": [
                          0.9491672658,
                          0.03324830629
                        ],
                        "passed_time": 49.37854229,
                        "iteration": 563,
                        "remaining_time": 38.1720646,
                        "learn": [
                          0.03401649577
                        ]
                      },
                      {
                        "test": [
                          0.9491673808,
                          0.03324732652
                        ],
                        "passed_time": 49.46101558,
                        "iteration": 564,
                        "remaining_time": 38.08060492,
                        "learn": [
                          0.03401296794
                        ]
                      },
                      {
                        "test": [
                          0.9491725431,
                          0.03324496368
                        ],
                        "passed_time": 49.5463612,
                        "iteration": 565,
                        "remaining_time": 37.99137944,
                        "learn": [
                          0.0340094279
                        ]
                      },
                      {
                        "test": [
                          0.9491734514,
                          0.0332435306
                        ],
                        "passed_time": 49.67201777,
                        "iteration": 566,
                        "remaining_time": 37.93295184,
                        "learn": [
                          0.03400675456
                        ]
                      },
                      {
                        "test": [
                          0.9492091167,
                          0.03324129542
                        ],
                        "passed_time": 49.76032562,
                        "iteration": 567,
                        "remaining_time": 37.84588146,
                        "learn": [
                          0.03400219727
                        ]
                      },
                      {
                        "test": [
                          0.9492112897,
                          0.03324008495
                        ],
                        "passed_time": 49.84042853,
                        "iteration": 568,
                        "remaining_time": 37.75259173,
                        "learn": [
                          0.03399930962
                        ]
                      },
                      {
                        "test": [
                          0.9492104159,
                          0.03323986253
                        ],
                        "passed_time": 49.92381732,
                        "iteration": 569,
                        "remaining_time": 37.6618271,
                        "learn": [
                          0.03399605035
                        ]
                      },
                      {
                        "test": [
                          0.9492139226,
                          0.03323829589
                        ],
                        "passed_time": 50.00825694,
                        "iteration": 570,
                        "remaining_time": 37.57187781,
                        "learn": [
                          0.03399256592
                        ]
                      },
                      {
                        "test": [
                          0.9492219709,
                          0.0332372376
                        ],
                        "passed_time": 50.10266659,
                        "iteration": 571,
                        "remaining_time": 37.48940787,
                        "learn": [
                          0.03398686117
                        ]
                      },
                      {
                        "test": [
                          0.9492188091,
                          0.03323623734
                        ],
                        "passed_time": 50.18504892,
                        "iteration": 572,
                        "remaining_time": 37.39793349,
                        "learn": [
                          0.03398442654
                        ]
                      },
                      {
                        "test": [
                          0.9492129568,
                          0.03323489518
                        ],
                        "passed_time": 50.26509155,
                        "iteration": 573,
                        "remaining_time": 37.30475435,
                        "learn": [
                          0.03398116591
                        ]
                      },
                      {
                        "test": [
                          0.949223477,
                          0.03323259014
                        ],
                        "passed_time": 50.3514194,
                        "iteration": 574,
                        "remaining_time": 37.21626651,
                        "learn": [
                          0.03397653266
                        ]
                      },
                      {
                        "test": [
                          0.9492861959,
                          0.03322880083
                        ],
                        "passed_time": 50.44303835,
                        "iteration": 575,
                        "remaining_time": 37.13168101,
                        "learn": [
                          0.03396984863
                        ]
                      },
                      {
                        "test": [
                          0.9492848622,
                          0.03322586375
                        ],
                        "passed_time": 50.52490696,
                        "iteration": 576,
                        "remaining_time": 37.03992312,
                        "learn": [
                          0.03396584608
                        ]
                      },
                      {
                        "test": [
                          0.9493002573,
                          0.03322418144
                        ],
                        "passed_time": 50.65293856,
                        "iteration": 577,
                        "remaining_time": 36.98190324,
                        "learn": [
                          0.0339617079
                        ]
                      },
                      {
                        "test": [
                          0.9493054657,
                          0.03322305477
                        ],
                        "passed_time": 50.76682343,
                        "iteration": 578,
                        "remaining_time": 36.91335521,
                        "learn": [
                          0.03395946452
                        ]
                      },
                      {
                        "test": [
                          0.9493067534,
                          0.03322188333
                        ],
                        "passed_time": 50.85423315,
                        "iteration": 579,
                        "remaining_time": 36.82547918,
                        "learn": [
                          0.0339559082
                        ]
                      },
                      {
                        "test": [
                          0.9493052702,
                          0.03321843194
                        ],
                        "passed_time": 50.93744022,
                        "iteration": 580,
                        "remaining_time": 36.73457393,
                        "learn": [
                          0.03395132785
                        ]
                      },
                      {
                        "test": [
                          0.9493074892,
                          0.03321615671
                        ],
                        "passed_time": 51.02448548,
                        "iteration": 581,
                        "remaining_time": 36.64645177,
                        "learn": [
                          0.03394720188
                        ]
                      },
                      {
                        "test": [
                          0.9492917262,
                          0.03321523433
                        ],
                        "passed_time": 51.12434734,
                        "iteration": 582,
                        "remaining_time": 36.56750058,
                        "learn": [
                          0.03394326172
                        ]
                      },
                      {
                        "test": [
                          0.9493025798,
                          0.03321362813
                        ],
                        "passed_time": 51.20670234,
                        "iteration": 583,
                        "remaining_time": 36.47600715,
                        "learn": [
                          0.03393884142
                        ]
                      },
                      {
                        "test": [
                          0.949347581,
                          0.03321017448
                        ],
                        "passed_time": 51.28876768,
                        "iteration": 584,
                        "remaining_time": 36.38433946,
                        "learn": [
                          0.03393486192
                        ]
                      },
                      {
                        "test": [
                          0.9493854422,
                          0.0332081291
                        ],
                        "passed_time": 51.37936108,
                        "iteration": 585,
                        "remaining_time": 36.2987295,
                        "learn": [
                          0.03393138428
                        ]
                      },
                      {
                        "test": [
                          0.9494087362,
                          0.03320603195
                        ],
                        "passed_time": 51.47392268,
                        "iteration": 586,
                        "remaining_time": 36.21589449,
                        "learn": [
                          0.03392579074
                        ]
                      },
                      {
                        "test": [
                          0.9494016767,
                          0.03320564802
                        ],
                        "passed_time": 51.55601825,
                        "iteration": 587,
                        "remaining_time": 36.1242849,
                        "learn": [
                          0.0339226766
                        ]
                      },
                      {
                        "test": [
                          0.9494197738,
                          0.03320565735
                        ],
                        "passed_time": 51.68615748,
                        "iteration": 588,
                        "remaining_time": 36.06623213,
                        "learn": [
                          0.03391722412
                        ]
                      },
                      {
                        "test": [
                          0.9494299376,
                          0.03320401624
                        ],
                        "passed_time": 51.77896931,
                        "iteration": 589,
                        "remaining_time": 35.98199562,
                        "learn": [
                          0.0339134847
                        ]
                      },
                      {
                        "test": [
                          0.9494346975,
                          0.03320158396
                        ],
                        "passed_time": 51.86521993,
                        "iteration": 590,
                        "remaining_time": 35.89318943,
                        "learn": [
                          0.03391024848
                        ]
                      },
                      {
                        "test": [
                          0.9494313517,
                          0.03320123328
                        ],
                        "passed_time": 51.95003705,
                        "iteration": 591,
                        "remaining_time": 35.80340391,
                        "learn": [
                          0.03390743815
                        ]
                      },
                      {
                        "test": [
                          0.949441573,
                          0.03319969824
                        ],
                        "passed_time": 52.04148627,
                        "iteration": 592,
                        "remaining_time": 35.71818704,
                        "learn": [
                          0.03390226915
                        ]
                      },
                      {
                        "test": [
                          0.9494510125,
                          0.0331982968
                        ],
                        "passed_time": 52.1345347,
                        "iteration": 593,
                        "remaining_time": 35.63404224,
                        "learn": [
                          0.03389888373
                        ]
                      },
                      {
                        "test": [
                          0.9494427688,
                          0.03319760442
                        ],
                        "passed_time": 52.22419474,
                        "iteration": 594,
                        "remaining_time": 35.54756113,
                        "learn": [
                          0.03389588216
                        ]
                      },
                      {
                        "test": [
                          0.9494478277,
                          0.0331960475
                        ],
                        "passed_time": 52.30658975,
                        "iteration": 595,
                        "remaining_time": 35.45614473,
                        "learn": [
                          0.03389217122
                        ]
                      },
                      {
                        "test": [
                          0.9494524611,
                          0.03319461156
                        ],
                        "passed_time": 52.38802655,
                        "iteration": 596,
                        "remaining_time": 35.36411172,
                        "learn": [
                          0.03388903266
                        ]
                      },
                      {
                        "test": [
                          0.9495146051,
                          0.03319068556
                        ],
                        "passed_time": 52.48044331,
                        "iteration": 597,
                        "remaining_time": 35.27949534,
                        "learn": [
                          0.03388510742
                        ]
                      },
                      {
                        "test": [
                          0.9495187442,
                          0.03318868512
                        ],
                        "passed_time": 52.56265977,
                        "iteration": 598,
                        "remaining_time": 35.18802432,
                        "learn": [
                          0.03388217095
                        ]
                      },
                      {
                        "test": [
                          0.9495364848,
                          0.03318768569
                        ],
                        "passed_time": 52.64372361,
                        "iteration": 599,
                        "remaining_time": 35.09581574,
                        "learn": [
                          0.03387853054
                        ]
                      },
                      {
                        "test": [
                          0.9495388303,
                          0.03318688501
                        ],
                        "passed_time": 52.76752205,
                        "iteration": 600,
                        "remaining_time": 35.03201547,
                        "learn": [
                          0.03387518311
                        ]
                      },
                      {
                        "test": [
                          0.9495461542,
                          0.03318373985
                        ],
                        "passed_time": 52.84769321,
                        "iteration": 601,
                        "remaining_time": 34.93917258,
                        "learn": [
                          0.0338714464
                        ]
                      },
                      {
                        "test": [
                          0.9495633775,
                          0.03318223995
                        ],
                        "passed_time": 52.92998248,
                        "iteration": 602,
                        "remaining_time": 34.84776624,
                        "learn": [
                          0.03386791721
                        ]
                      },
                      {
                        "test": [
                          0.9495709543,
                          0.03318150523
                        ],
                        "passed_time": 53.01882612,
                        "iteration": 603,
                        "remaining_time": 34.76068732,
                        "learn": [
                          0.03386439345
                        ]
                      },
                      {
                        "test": [
                          0.9496372604,
                          0.03317701536
                        ],
                        "passed_time": 53.11618832,
                        "iteration": 604,
                        "remaining_time": 34.67916427,
                        "learn": [
                          0.03386117486
                        ]
                      },
                      {
                        "test": [
                          0.9496375593,
                          0.03317538522
                        ],
                        "passed_time": 53.20487496,
                        "iteration": 605,
                        "remaining_time": 34.59194841,
                        "learn": [
                          0.03385670573
                        ]
                      },
                      {
                        "test": [
                          0.9496367315,
                          0.03317437294
                        ],
                        "passed_time": 53.28872513,
                        "iteration": 606,
                        "remaining_time": 34.50159633,
                        "learn": [
                          0.03385393745
                        ]
                      },
                      {
                        "test": [
                          0.9496397668,
                          0.03317262825
                        ],
                        "passed_time": 53.37506773,
                        "iteration": 607,
                        "remaining_time": 34.41287262,
                        "learn": [
                          0.03384949409
                        ]
                      },
                      {
                        "test": [
                          0.9496504135,
                          0.03317146568
                        ],
                        "passed_time": 53.45826011,
                        "iteration": 608,
                        "remaining_time": 34.32213416,
                        "learn": [
                          0.03384624023
                        ]
                      },
                      {
                        "test": [
                          0.9497036124,
                          0.03316744525
                        ],
                        "passed_time": 53.55955329,
                        "iteration": 609,
                        "remaining_time": 34.24299309,
                        "learn": [
                          0.0338402086
                        ]
                      },
                      {
                        "test": [
                          0.9497126264,
                          0.03316661564
                        ],
                        "passed_time": 53.64525645,
                        "iteration": 610,
                        "remaining_time": 34.15385395,
                        "learn": [
                          0.03383606771
                        ]
                      },
                      {
                        "test": [
                          0.9497116837,
                          0.0331662032
                        ],
                        "passed_time": 53.7655765,
                        "iteration": 611,
                        "remaining_time": 34.08667268,
                        "learn": [
                          0.03383296441
                        ]
                      },
                      {
                        "test": [
                          0.9497202953,
                          0.03316492726
                        ],
                        "passed_time": 53.86322554,
                        "iteration": 612,
                        "remaining_time": 34.00500536,
                        "learn": [
                          0.03383045112
                        ]
                      },
                      {
                        "test": [
                          0.9497185822,
                          0.0331641844
                        ],
                        "passed_time": 53.94302756,
                        "iteration": 613,
                        "remaining_time": 33.91206619,
                        "learn": [
                          0.03382734239
                        ]
                      },
                      {
                        "test": [
                          0.9497182602,
                          0.03316119918
                        ],
                        "passed_time": 54.02900699,
                        "iteration": 614,
                        "remaining_time": 33.8230369,
                        "learn": [
                          0.03382314317
                        ]
                      },
                      {
                        "test": [
                          0.9497114652,
                          0.03316086327
                        ],
                        "passed_time": 54.12777075,
                        "iteration": 615,
                        "remaining_time": 33.74198696,
                        "learn": [
                          0.03381924235
                        ]
                      },
                      {
                        "test": [
                          0.9497236296,
                          0.03315893223
                        ],
                        "passed_time": 54.2116097,
                        "iteration": 616,
                        "remaining_time": 33.6516151,
                        "learn": [
                          0.03381601427
                        ]
                      },
                      {
                        "test": [
                          0.9497319192,
                          0.03315742871
                        ],
                        "passed_time": 54.29959471,
                        "iteration": 617,
                        "remaining_time": 33.56382715,
                        "learn": [
                          0.03380927599
                        ]
                      },
                      {
                        "test": [
                          0.949732839,
                          0.03315747001
                        ],
                        "passed_time": 54.38126408,
                        "iteration": 618,
                        "remaining_time": 33.47215124,
                        "learn": [
                          0.03380604926
                        ]
                      },
                      {
                        "test": [
                          0.9497371506,
                          0.0331570173
                        ],
                        "passed_time": 54.46439056,
                        "iteration": 619,
                        "remaining_time": 33.38140067,
                        "learn": [
                          0.03380356038
                        ]
                      },
                      {
                        "test": [
                          0.9497565009,
                          0.03315486434
                        ],
                        "passed_time": 54.55579034,
                        "iteration": 620,
                        "remaining_time": 33.2957239,
                        "learn": [
                          0.03380106337
                        ]
                      },
                      {
                        "test": [
                          0.9497590878,
                          0.03315318912
                        ],
                        "passed_time": 54.64599053,
                        "iteration": 621,
                        "remaining_time": 33.20929971,
                        "learn": [
                          0.03379739041
                        ]
                      },
                      {
                        "test": [
                          0.9498530224,
                          0.03314875286
                        ],
                        "passed_time": 54.73190587,
                        "iteration": 622,
                        "remaining_time": 33.12027049,
                        "learn": [
                          0.03379102783
                        ]
                      },
                      {
                        "test": [
                          0.9498516427,
                          0.0331481446
                        ],
                        "passed_time": 54.85806716,
                        "iteration": 623,
                        "remaining_time": 33.05550201,
                        "learn": [
                          0.03378827989
                        ]
                      },
                      {
                        "test": [
                          0.949863761,
                          0.03314526425
                        ],
                        "passed_time": 54.94701422,
                        "iteration": 624,
                        "remaining_time": 32.96820853,
                        "learn": [
                          0.03378233643
                        ]
                      },
                      {
                        "test": [
                          0.949875178,
                          0.03314355126
                        ],
                        "passed_time": 55.03291343,
                        "iteration": 625,
                        "remaining_time": 32.87908886,
                        "learn": [
                          0.03377753364
                        ]
                      },
                      {
                        "test": [
                          0.9499284574,
                          0.03313997155
                        ],
                        "passed_time": 55.13354875,
                        "iteration": 626,
                        "remaining_time": 32.79874591,
                        "learn": [
                          0.03377390815
                        ]
                      },
                      {
                        "test": [
                          0.9499360343,
                          0.03313778403
                        ],
                        "passed_time": 55.21629625,
                        "iteration": 627,
                        "remaining_time": 32.70774237,
                        "learn": [
                          0.03377055257
                        ]
                      },
                      {
                        "test": [
                          0.9499525332,
                          0.0331365374
                        ],
                        "passed_time": 55.29634091,
                        "iteration": 628,
                        "remaining_time": 32.61517087,
                        "learn": [
                          0.03376743435
                        ]
                      },
                      {
                        "test": [
                          0.9499875085,
                          0.03313428472
                        ],
                        "passed_time": 55.38836489,
                        "iteration": 629,
                        "remaining_time": 32.52967462,
                        "learn": [
                          0.03376207682
                        ]
                      },
                      {
                        "test": [
                          0.9499912682,
                          0.03313239084
                        ],
                        "passed_time": 55.46913274,
                        "iteration": 630,
                        "remaining_time": 32.43757525,
                        "learn": [
                          0.03375943332
                        ]
                      },
                      {
                        "test": [
                          0.950003582,
                          0.03313157472
                        ],
                        "passed_time": 55.55696111,
                        "iteration": 631,
                        "remaining_time": 32.34962292,
                        "learn": [
                          0.03375629883
                        ]
                      },
                      {
                        "test": [
                          0.949996695,
                          0.033131196
                        ],
                        "passed_time": 55.64562467,
                        "iteration": 632,
                        "remaining_time": 32.26215522,
                        "learn": [
                          0.03375360243
                        ]
                      },
                      {
                        "test": [
                          0.9500120327,
                          0.03312902772
                        ],
                        "passed_time": 55.72820557,
                        "iteration": 633,
                        "remaining_time": 32.1711723,
                        "learn": [
                          0.03375039876
                        ]
                      },
                      {
                        "test": [
                          0.9500203799,
                          0.03312809919
                        ],
                        "passed_time": 55.84842308,
                        "iteration": 634,
                        "remaining_time": 32.10184949,
                        "learn": [
                          0.0337476359
                        ]
                      },
                      {
                        "test": [
                          0.950067876,
                          0.0331252674
                        ],
                        "passed_time": 55.94720734,
                        "iteration": 635,
                        "remaining_time": 32.0200998,
                        "learn": [
                          0.03374320611
                        ]
                      },
                      {
                        "test": [
                          0.9500673816,
                          0.03312488414
                        ],
                        "passed_time": 56.03408547,
                        "iteration": 636,
                        "remaining_time": 31.93151181,
                        "learn": [
                          0.03374134928
                        ]
                      },
                      {
                        "test": [
                          0.9500626447,
                          0.03312460134
                        ],
                        "passed_time": 56.13483758,
                        "iteration": 637,
                        "remaining_time": 31.85080126,
                        "learn": [
                          0.03373663601
                        ]
                      },
                      {
                        "test": [
                          0.9500661859,
                          0.03312200784
                        ],
                        "passed_time": 56.21717931,
                        "iteration": 638,
                        "remaining_time": 31.75962712,
                        "learn": [
                          0.03373367784
                        ]
                      },
                      {
                        "test": [
                          0.9500710263,
                          0.03312097624
                        ],
                        "passed_time": 56.29917912,
                        "iteration": 639,
                        "remaining_time": 31.66828825,
                        "learn": [
                          0.03373084581
                        ]
                      },
                      {
                        "test": [
                          0.9500757288,
                          0.033120434
                        ],
                        "passed_time": 56.38576109,
                        "iteration": 640,
                        "remaining_time": 31.57954482,
                        "learn": [
                          0.03372832981
                        ]
                      },
                      {
                        "test": [
                          0.9501257774,
                          0.03311747319
                        ],
                        "passed_time": 56.47824217,
                        "iteration": 641,
                        "remaining_time": 31.49409766,
                        "learn": [
                          0.03372210286
                        ]
                      },
                      {
                        "test": [
                          0.9501313767,
                          0.0331157593
                        ],
                        "passed_time": 56.55942262,
                        "iteration": 642,
                        "remaining_time": 31.40235439,
                        "learn": [
                          0.03371998969
                        ]
                      },
                      {
                        "test": [
                          0.9501335957,
                          0.03311439792
                        ],
                        "passed_time": 56.64595263,
                        "iteration": 643,
                        "remaining_time": 31.31360114,
                        "learn": [
                          0.03371636149
                        ]
                      },
                      {
                        "test": [
                          0.950139218,
                          0.03311377577
                        ],
                        "passed_time": 56.72953131,
                        "iteration": 644,
                        "remaining_time": 31.22323041,
                        "learn": [
                          0.03371174181
                        ]
                      },
                      {
                        "test": [
                          0.9501427477,
                          0.03311186505
                        ],
                        "passed_time": 56.81574522,
                        "iteration": 645,
                        "remaining_time": 31.13432478,
                        "learn": [
                          0.03370778266
                        ]
                      },
                      {
                        "test": [
                          0.9501461165,
                          0.03311116592
                        ],
                        "passed_time": 56.94294779,
                        "iteration": 646,
                        "remaining_time": 31.06779068,
                        "learn": [
                          0.03370434299
                        ]
                      },
                      {
                        "test": [
                          0.9501477376,
                          0.03311064055
                        ],
                        "passed_time": 57.0308465,
                        "iteration": 647,
                        "remaining_time": 30.97971909,
                        "learn": [
                          0.03369997287
                        ]
                      },
                      {
                        "test": [
                          0.9501479676,
                          0.03311072228
                        ],
                        "passed_time": 57.11151035,
                        "iteration": 648,
                        "remaining_time": 30.88773518,
                        "learn": [
                          0.03369691162
                        ]
                      },
                      {
                        "test": [
                          0.9501524401,
                          0.03310964397
                        ],
                        "passed_time": 57.2016958,
                        "iteration": 649,
                        "remaining_time": 30.80091312,
                        "learn": [
                          0.03369519586
                        ]
                      },
                      {
                        "test": [
                          0.9502102035,
                          0.03310551762
                        ],
                        "passed_time": 57.28547832,
                        "iteration": 650,
                        "remaining_time": 30.71064813,
                        "learn": [
                          0.03369093424
                        ]
                      },
                      {
                        "test": [
                          0.9502129514,
                          0.03310411755
                        ],
                        "passed_time": 57.36799093,
                        "iteration": 651,
                        "remaining_time": 30.61972522,
                        "learn": [
                          0.03368762478
                        ]
                      },
                      {
                        "test": [
                          0.9502223334,
                          0.03310314866
                        ],
                        "passed_time": 57.45813609,
                        "iteration": 652,
                        "remaining_time": 30.53288396,
                        "learn": [
                          0.03368340929
                        ]
                      },
                      {
                        "test": [
                          0.9502282776,
                          0.03310141574
                        ],
                        "passed_time": 57.5482333,
                        "iteration": 653,
                        "remaining_time": 30.44600722,
                        "learn": [
                          0.03367953695
                        ]
                      },
                      {
                        "test": [
                          0.9502410628,
                          0.03310035142
                        ],
                        "passed_time": 57.63065757,
                        "iteration": 654,
                        "remaining_time": 30.35507918,
                        "learn": [
                          0.03367804362
                        ]
                      },
                      {
                        "test": [
                          0.9502459262,
                          0.03309868443
                        ],
                        "passed_time": 57.72707307,
                        "iteration": 655,
                        "remaining_time": 30.27151393,
                        "learn": [
                          0.0336757487
                        ]
                      },
                      {
                        "test": [
                          0.9502583665,
                          0.03309759872
                        ],
                        "passed_time": 57.81082439,
                        "iteration": 656,
                        "remaining_time": 30.18129797,
                        "learn": [
                          0.03367246636
                        ]
                      },
                      {
                        "test": [
                          0.9502596887,
                          0.03309731891
                        ],
                        "passed_time": 57.94328552,
                        "iteration": 657,
                        "remaining_time": 30.11641892,
                        "learn": [
                          0.03366805962
                        ]
                      },
                      {
                        "test": [
                          0.9502669092,
                          0.03309579109
                        ],
                        "passed_time": 58.02535775,
                        "iteration": 658,
                        "remaining_time": 30.02526099,
                        "learn": [
                          0.0336651435
                        ]
                      },
                      {
                        "test": [
                          0.9502726924,
                          0.03309492962
                        ],
                        "passed_time": 58.10933693,
                        "iteration": 659,
                        "remaining_time": 29.93511297,
                        "learn": [
                          0.03365993652
                        ]
                      },
                      {
                        "test": [
                          0.950272221,
                          0.03309266272
                        ],
                        "passed_time": 58.20589908,
                        "iteration": 660,
                        "remaining_time": 29.8514369,
                        "learn": [
                          0.0336549452
                        ]
                      },
                      {
                        "test": [
                          0.9502730143,
                          0.03309234693
                        ],
                        "passed_time": 58.28990603,
                        "iteration": 661,
                        "remaining_time": 29.76131154,
                        "learn": [
                          0.03365115289
                        ]
                      },
                      {
                        "test": [
                          0.950281396,
                          0.03309059435
                        ],
                        "passed_time": 58.37168289,
                        "iteration": 662,
                        "remaining_time": 29.67007109,
                        "learn": [
                          0.03364729682
                        ]
                      },
                      {
                        "test": [
                          0.9502868228,
                          0.03308983492
                        ],
                        "passed_time": 58.45523022,
                        "iteration": 663,
                        "remaining_time": 29.57975505,
                        "learn": [
                          0.03364404839
                        ]
                      },
                      {
                        "test": [
                          0.9502934799,
                          0.03308841591
                        ],
                        "passed_time": 58.54684202,
                        "iteration": 664,
                        "remaining_time": 29.49352192,
                        "learn": [
                          0.03364026557
                        ]
                      },
                      {
                        "test": [
                          0.9502982628,
                          0.03308805564
                        ],
                        "passed_time": 58.62849353,
                        "iteration": 665,
                        "remaining_time": 29.40227753,
                        "learn": [
                          0.03363669027
                        ]
                      },
                      {
                        "test": [
                          0.9503016086,
                          0.03308707096
                        ],
                        "passed_time": 58.71138142,
                        "iteration": 666,
                        "remaining_time": 29.31167918,
                        "learn": [
                          0.03363433431
                        ]
                      },
                      {
                        "test": [
                          0.9503010797,
                          0.03308471865
                        ],
                        "passed_time": 58.79278112,
                        "iteration": 667,
                        "remaining_time": 29.22036427,
                        "learn": [
                          0.03363088243
                        ]
                      },
                      {
                        "test": [
                          0.9503097373,
                          0.03308338639
                        ],
                        "passed_time": 58.87915172,
                        "iteration": 668,
                        "remaining_time": 29.13153844,
                        "learn": [
                          0.0336276747
                        ]
                      },
                      {
                        "test": [
                          0.950308898,
                          0.03308376074
                        ],
                        "passed_time": 59.01698964,
                        "iteration": 669,
                        "remaining_time": 29.06806953,
                        "learn": [
                          0.03362299398
                        ]
                      },
                      {
                        "test": [
                          0.9503013212,
                          0.03308300504
                        ],
                        "passed_time": 59.09800144,
                        "iteration": 670,
                        "remaining_time": 28.97651635,
                        "learn": [
                          0.03361860758
                        ]
                      },
                      {
                        "test": [
                          0.9503027928,
                          0.0330831042
                        ],
                        "passed_time": 59.18927109,
                        "iteration": 671,
                        "remaining_time": 28.89000137,
                        "learn": [
                          0.0336153144
                        ]
                      },
                      {
                        "test": [
                          0.9503062421,
                          0.0330815281
                        ],
                        "passed_time": 59.28776949,
                        "iteration": 672,
                        "remaining_time": 28.80698458,
                        "learn": [
                          0.03361254476
                        ]
                      },
                      {
                        "test": [
                          0.950311163,
                          0.03308101167
                        ],
                        "passed_time": 59.36940927,
                        "iteration": 673,
                        "remaining_time": 28.71576769,
                        "learn": [
                          0.03360950521
                        ]
                      },
                      {
                        "test": [
                          0.9503145548,
                          0.03307974456
                        ],
                        "passed_time": 59.45540401,
                        "iteration": 674,
                        "remaining_time": 28.626676,
                        "learn": [
                          0.03360671251
                        ]
                      },
                      {
                        "test": [
                          0.9503169348,
                          0.03307906361
                        ],
                        "passed_time": 59.53665602,
                        "iteration": 675,
                        "remaining_time": 28.53532034,
                        "learn": [
                          0.0336040351
                        ]
                      },
                      {
                        "test": [
                          0.9503122323,
                          0.03307814495
                        ],
                        "passed_time": 59.61518952,
                        "iteration": 676,
                        "remaining_time": 28.44269751,
                        "learn": [
                          0.03360191515
                        ]
                      },
                      {
                        "test": [
                          0.9503154401,
                          0.03307643614
                        ],
                        "passed_time": 59.69374778,
                        "iteration": 677,
                        "remaining_time": 28.350128,
                        "learn": [
                          0.0335997423
                        ]
                      },
                      {
                        "test": [
                          0.9503170612,
                          0.03307486463
                        ],
                        "passed_time": 59.78371281,
                        "iteration": 678,
                        "remaining_time": 28.26299236,
                        "learn": [
                          0.03359489746
                        ]
                      },
                      {
                        "test": [
                          0.9503160839,
                          0.03307369538
                        ],
                        "passed_time": 59.86471199,
                        "iteration": 679,
                        "remaining_time": 28.17162917,
                        "learn": [
                          0.03359208849
                        ]
                      },
                      {
                        "test": [
                          0.9503198666,
                          0.03307344325
                        ],
                        "passed_time": 59.94842242,
                        "iteration": 680,
                        "remaining_time": 28.08156645,
                        "learn": [
                          0.03359010417
                        ]
                      },
                      {
                        "test": [
                          0.9503279034,
                          0.03307169797
                        ],
                        "passed_time": 60.04877999,
                        "iteration": 681,
                        "remaining_time": 27.99928451,
                        "learn": [
                          0.03358769531
                        ]
                      },
                      {
                        "test": [
                          0.9503272365,
                          0.03307108784
                        ],
                        "passed_time": 60.14085641,
                        "iteration": 682,
                        "remaining_time": 27.91310613,
                        "learn": [
                          0.03358467746
                        ]
                      },
                      {
                        "test": [
                          0.9504129273,
                          0.03306594685
                        ],
                        "passed_time": 60.23006676,
                        "iteration": 683,
                        "remaining_time": 27.8255864,
                        "learn": [
                          0.03357735053
                        ]
                      },
                      {
                        "test": [
                          0.950416572,
                          0.03306537069
                        ],
                        "passed_time": 60.31456383,
                        "iteration": 684,
                        "remaining_time": 27.73589431,
                        "learn": [
                          0.03357386068
                        ]
                      },
                      {
                        "test": [
                          0.9504687822,
                          0.03306133846
                        ],
                        "passed_time": 60.39911241,
                        "iteration": 685,
                        "remaining_time": 27.64624096,
                        "learn": [
                          0.03356708442
                        ]
                      },
                      {
                        "test": [
                          0.9504843153,
                          0.03306078943
                        ],
                        "passed_time": 60.48734919,
                        "iteration": 686,
                        "remaining_time": 27.55828282,
                        "learn": [
                          0.03356387804
                        ]
                      },
                      {
                        "test": [
                          0.9504996759,
                          0.03305905639
                        ],
                        "passed_time": 60.57217588,
                        "iteration": 687,
                        "remaining_time": 27.46877743,
                        "learn": [
                          0.03356002469
                        ]
                      },
                      {
                        "test": [
                          0.9505465627,
                          0.03305498432
                        ],
                        "passed_time": 60.65486177,
                        "iteration": 688,
                        "remaining_time": 27.37831932,
                        "learn": [
                          0.03355549723
                        ]
                      },
                      {
                        "test": [
                          0.9505433204,
                          0.03305492173
                        ],
                        "passed_time": 60.73978132,
                        "iteration": 689,
                        "remaining_time": 27.28888726,
                        "learn": [
                          0.03355337999
                        ]
                      },
                      {
                        "test": [
                          0.9505395837,
                          0.03305561563
                        ],
                        "passed_time": 60.82283738,
                        "iteration": 690,
                        "remaining_time": 27.19863495,
                        "learn": [
                          0.0335513265
                        ]
                      },
                      {
                        "test": [
                          0.9506200432,
                          0.03305086961
                        ],
                        "passed_time": 60.91348062,
                        "iteration": 691,
                        "remaining_time": 27.11178039,
                        "learn": [
                          0.03354559597
                        ]
                      },
                      {
                        "test": [
                          0.9506286548,
                          0.03304896049
                        ],
                        "passed_time": 61.05395567,
                        "iteration": 692,
                        "remaining_time": 27.04699046,
                        "learn": [
                          0.03354091119
                        ]
                      },
                      {
                        "test": [
                          0.9506384967,
                          0.03304889884
                        ],
                        "passed_time": 61.15157011,
                        "iteration": 693,
                        "remaining_time": 26.96308423,
                        "learn": [
                          0.03353682997
                        ]
                      },
                      {
                        "test": [
                          0.9506420494,
                          0.0330473746
                        ],
                        "passed_time": 61.2291894,
                        "iteration": 694,
                        "remaining_time": 26.87036369,
                        "learn": [
                          0.03353418376
                        ]
                      },
                      {
                        "test": [
                          0.9506476372,
                          0.03304659373
                        ],
                        "passed_time": 61.32295849,
                        "iteration": 695,
                        "remaining_time": 26.78474049,
                        "learn": [
                          0.03352984755
                        ]
                      },
                      {
                        "test": [
                          0.9506496952,
                          0.03304444502
                        ],
                        "passed_time": 61.40830345,
                        "iteration": 696,
                        "remaining_time": 26.69543177,
                        "learn": [
                          0.03352616102
                        ]
                      },
                      {
                        "test": [
                          0.9506544552,
                          0.03304341832
                        ],
                        "passed_time": 61.49155594,
                        "iteration": 697,
                        "remaining_time": 26.60522907,
                        "learn": [
                          0.03352353244
                        ]
                      },
                      {
                        "test": [
                          0.9506826816,
                          0.03304096351
                        ],
                        "passed_time": 61.57584675,
                        "iteration": 698,
                        "remaining_time": 26.51549338,
                        "learn": [
                          0.03351900363
                        ]
                      },
                      {
                        "test": [
                          0.9506879014,
                          0.03303946663
                        ],
                        "passed_time": 61.66814432,
                        "iteration": 699,
                        "remaining_time": 26.42920471,
                        "learn": [
                          0.03351506755
                        ]
                      },
                      {
                        "test": [
                          0.9506902929,
                          0.03303800579
                        ],
                        "passed_time": 61.7474932,
                        "iteration": 700,
                        "remaining_time": 26.33737584,
                        "learn": [
                          0.0335119439
                        ]
                      },
                      {
                        "test": [
                          0.9507459868,
                          0.03303534391
                        ],
                        "passed_time": 61.8381039,
                        "iteration": 701,
                        "remaining_time": 26.25036319,
                        "learn": [
                          0.03350709635
                        ]
                      },
                      {
                        "test": [
                          0.9507439862,
                          0.03303402994
                        ],
                        "passed_time": 61.93525651,
                        "iteration": 702,
                        "remaining_time": 26.1661041,
                        "learn": [
                          0.03350350749
                        ]
                      },
                      {
                        "test": [
                          0.9507491716,
                          0.03303292526
                        ],
                        "passed_time": 62.06723673,
                        "iteration": 703,
                        "remaining_time": 26.09645181,
                        "learn": [
                          0.03349949544
                        ]
                      },
                      {
                        "test": [
                          0.9507592664,
                          0.03303232865
                        ],
                        "passed_time": 62.17686758,
                        "iteration": 704,
                        "remaining_time": 26.01727083,
                        "learn": [
                          0.03349359809
                        ]
                      },
                      {
                        "test": [
                          0.9507590249,
                          0.03303156831
                        ],
                        "passed_time": 62.25924265,
                        "iteration": 705,
                        "remaining_time": 25.92665345,
                        "learn": [
                          0.03348953586
                        ]
                      },
                      {
                        "test": [
                          0.9507590479,
                          0.0330314082
                        ],
                        "passed_time": 62.33932921,
                        "iteration": 706,
                        "remaining_time": 25.83511097,
                        "learn": [
                          0.0334873291
                        ]
                      },
                      {
                        "test": [
                          0.9507601862,
                          0.03303054849
                        ],
                        "passed_time": 62.43114306,
                        "iteration": 707,
                        "remaining_time": 25.74843753,
                        "learn": [
                          0.0334804145
                        ]
                      },
                      {
                        "test": [
                          0.9507670847,
                          0.03302867626
                        ],
                        "passed_time": 62.51799457,
                        "iteration": 708,
                        "remaining_time": 25.65971286,
                        "learn": [
                          0.03347660726
                        ]
                      },
                      {
                        "test": [
                          0.95076559,
                          0.03302801666
                        ],
                        "passed_time": 62.6062632,
                        "iteration": 709,
                        "remaining_time": 25.57157229,
                        "learn": [
                          0.03347534451
                        ]
                      },
                      {
                        "test": [
                          0.9507666823,
                          0.03302810594
                        ],
                        "passed_time": 62.68952604,
                        "iteration": 710,
                        "remaining_time": 25.48139666,
                        "learn": [
                          0.0334735989
                        ]
                      },
                      {
                        "test": [
                          0.9507759147,
                          0.0330269805
                        ],
                        "passed_time": 62.77977847,
                        "iteration": 711,
                        "remaining_time": 25.3940677,
                        "learn": [
                          0.033470676
                        ]
                      },
                      {
                        "test": [
                          0.9507765816,
                          0.03302623746
                        ],
                        "passed_time": 62.87029919,
                        "iteration": 712,
                        "remaining_time": 25.30683852,
                        "learn": [
                          0.03346697591
                        ]
                      },
                      {
                        "test": [
                          0.9507805827,
                          0.03302498645
                        ],
                        "passed_time": 62.95059119,
                        "iteration": 713,
                        "remaining_time": 25.21550292,
                        "learn": [
                          0.03346451823
                        ]
                      },
                      {
                        "test": [
                          0.950779226,
                          0.03302419236
                        ],
                        "passed_time": 63.03998555,
                        "iteration": 714,
                        "remaining_time": 25.12782641,
                        "learn": [
                          0.03345900743
                        ]
                      },
                      {
                        "test": [
                          0.9507969092,
                          0.03302274083
                        ],
                        "passed_time": 63.16434229,
                        "iteration": 715,
                        "remaining_time": 25.05401286,
                        "learn": [
                          0.03345615913
                        ]
                      },
                      {
                        "test": [
                          0.95080682,
                          0.0330215774
                        ],
                        "passed_time": 63.260745,
                        "iteration": 716,
                        "remaining_time": 24.96902487,
                        "learn": [
                          0.03345199246
                        ]
                      },
                      {
                        "test": [
                          0.9508085331,
                          0.03302072289
                        ],
                        "passed_time": 63.34581532,
                        "iteration": 717,
                        "remaining_time": 24.87955421,
                        "learn": [
                          0.03344928385
                        ]
                      },
                      {
                        "test": [
                          0.9508085331,
                          0.03302017303
                        ],
                        "passed_time": 63.43528062,
                        "iteration": 718,
                        "remaining_time": 24.79181343,
                        "learn": [
                          0.03344673258
                        ]
                      },
                      {
                        "test": [
                          0.9508079698,
                          0.0330194971
                        ],
                        "passed_time": 63.51726381,
                        "iteration": 719,
                        "remaining_time": 24.70115815,
                        "learn": [
                          0.03344399821
                        ]
                      },
                      {
                        "test": [
                          0.9508083952,
                          0.03301941685
                        ],
                        "passed_time": 63.59673715,
                        "iteration": 720,
                        "remaining_time": 24.60955571,
                        "learn": [
                          0.03344173177
                        ]
                      },
                      {
                        "test": [
                          0.9508033018,
                          0.0330190139
                        ],
                        "passed_time": 63.68562133,
                        "iteration": 721,
                        "remaining_time": 24.52161043,
                        "learn": [
                          0.03343812527
                        ]
                      },
                      {
                        "test": [
                          0.9508353913,
                          0.03301674429
                        ],
                        "passed_time": 63.78231883,
                        "iteration": 722,
                        "remaining_time": 24.43665604,
                        "learn": [
                          0.03343275146
                        ]
                      },
                      {
                        "test": [
                          0.9508370814,
                          0.03301615165
                        ],
                        "passed_time": 63.86694321,
                        "iteration": 723,
                        "remaining_time": 24.34706675,
                        "learn": [
                          0.03342883843
                        ]
                      },
                      {
                        "test": [
                          0.9508444973,
                          0.03301496892
                        ],
                        "passed_time": 63.95041768,
                        "iteration": 724,
                        "remaining_time": 24.25705498,
                        "learn": [
                          0.03342502306
                        ]
                      },
                      {
                        "test": [
                          0.9508567651,
                          0.03301453312
                        ],
                        "passed_time": 64.03704447,
                        "iteration": 725,
                        "remaining_time": 24.16825094,
                        "learn": [
                          0.03342156847
                        ]
                      },
                      {
                        "test": [
                          0.9508670899,
                          0.0330139924
                        ],
                        "passed_time": 64.18258392,
                        "iteration": 726,
                        "remaining_time": 24.10157553,
                        "learn": [
                          0.03341921794
                        ]
                      },
                      {
                        "test": [
                          0.9508714819,
                          0.0330137706
                        ],
                        "passed_time": 64.26584767,
                        "iteration": 727,
                        "remaining_time": 24.01141561,
                        "learn": [
                          0.03341597493
                        ]
                      },
                      {
                        "test": [
                          0.9508742873,
                          0.03301340277
                        ],
                        "passed_time": 64.3523275,
                        "iteration": 728,
                        "remaining_time": 23.92247017,
                        "learn": [
                          0.03341442464
                        ]
                      },
                      {
                        "test": [
                          0.9509032955,
                          0.03301085093
                        ],
                        "passed_time": 64.44959921,
                        "iteration": 729,
                        "remaining_time": 23.837523,
                        "learn": [
                          0.03341027696
                        ]
                      },
                      {
                        "test": [
                          0.9509076645,
                          0.03301032008
                        ],
                        "passed_time": 64.52916027,
                        "iteration": 730,
                        "remaining_time": 23.74602478,
                        "learn": [
                          0.03340850152
                        ]
                      },
                      {
                        "test": [
                          0.9509068597,
                          0.03300984343
                        ],
                        "passed_time": 64.61021582,
                        "iteration": 731,
                        "remaining_time": 23.65510634,
                        "learn": [
                          0.03340640598
                        ]
                      },
                      {
                        "test": [
                          0.950912597,
                          0.03300909139
                        ],
                        "passed_time": 64.69077365,
                        "iteration": 732,
                        "remaining_time": 23.56403351,
                        "learn": [
                          0.03340376519
                        ]
                      },
                      {
                        "test": [
                          0.9509159082,
                          0.03300867211
                        ],
                        "passed_time": 64.77493201,
                        "iteration": 733,
                        "remaining_time": 23.47429416,
                        "learn": [
                          0.0334009847
                        ]
                      },
                      {
                        "test": [
                          0.9509221054,
                          0.03300874865
                        ],
                        "passed_time": 64.86248276,
                        "iteration": 734,
                        "remaining_time": 23.38579311,
                        "learn": [
                          0.03339673937
                        ]
                      },
                      {
                        "test": [
                          0.9509238875,
                          0.03300785246
                        ],
                        "passed_time": 64.942813,
                        "iteration": 735,
                        "remaining_time": 23.29470466,
                        "learn": [
                          0.03339457194
                        ]
                      },
                      {
                        "test": [
                          0.9509283025,
                          0.03300743548
                        ],
                        "passed_time": 65.0246646,
                        "iteration": 736,
                        "remaining_time": 23.20418832,
                        "learn": [
                          0.03339219428
                        ]
                      },
                      {
                        "test": [
                          0.9509371786,
                          0.03300571451
                        ],
                        "passed_time": 65.11218132,
                        "iteration": 737,
                        "remaining_time": 23.11570665,
                        "learn": [
                          0.03339015706
                        ]
                      },
                      {
                        "test": [
                          0.9509470205,
                          0.03300456316
                        ],
                        "passed_time": 65.24287404,
                        "iteration": 738,
                        "remaining_time": 23.04247649,
                        "learn": [
                          0.03338694797
                        ]
                      },
                      {
                        "test": [
                          0.9509542754,
                          0.03300332633
                        ],
                        "passed_time": 65.32922544,
                        "iteration": 739,
                        "remaining_time": 22.95351164,
                        "learn": [
                          0.03338365072
                        ]
                      },
                      {
                        "test": [
                          0.9509708433,
                          0.03300153572
                        ],
                        "passed_time": 65.41256303,
                        "iteration": 740,
                        "remaining_time": 22.86350044,
                        "learn": [
                          0.03338084717
                        ]
                      },
                      {
                        "test": [
                          0.9509991731,
                          0.03299802695
                        ],
                        "passed_time": 65.50100207,
                        "iteration": 741,
                        "remaining_time": 22.77528104,
                        "learn": [
                          0.03337461616
                        ]
                      },
                      {
                        "test": [
                          0.9510050023,
                          0.0329974307
                        ],
                        "passed_time": 65.58050443,
                        "iteration": 742,
                        "remaining_time": 22.6839699,
                        "learn": [
                          0.03337175293
                        ]
                      },
                      {
                        "test": [
                          0.9510238007,
                          0.03299680013
                        ],
                        "passed_time": 65.67188325,
                        "iteration": 743,
                        "remaining_time": 22.59677703,
                        "learn": [
                          0.03336781548
                        ]
                      },
                      {
                        "test": [
                          0.9510245711,
                          0.03299609933
                        ],
                        "passed_time": 65.75725124,
                        "iteration": 744,
                        "remaining_time": 22.50751552,
                        "learn": [
                          0.03336508518
                        ]
                      },
                      {
                        "test": [
                          0.9510286987,
                          0.03299669179
                        ],
                        "passed_time": 65.84549028,
                        "iteration": 745,
                        "remaining_time": 22.419242,
                        "learn": [
                          0.03335982259
                        ]
                      },
                      {
                        "test": [
                          0.9510274224,
                          0.03299620621
                        ],
                        "passed_time": 65.92306432,
                        "iteration": 746,
                        "remaining_time": 22.32735646,
                        "learn": [
                          0.03335654161
                        ]
                      },
                      {
                        "test": [
                          0.9510402651,
                          0.03299553459
                        ],
                        "passed_time": 66.0124368,
                        "iteration": 747,
                        "remaining_time": 22.23948406,
                        "learn": [
                          0.03335008274
                        ]
                      },
                      {
                        "test": [
                          0.9510483479,
                          0.03299495917
                        ],
                        "passed_time": 66.09216121,
                        "iteration": 748,
                        "remaining_time": 22.14837445,
                        "learn": [
                          0.03334747721
                        ]
                      },
                      {
                        "test": [
                          0.9510595579,
                          0.0329943648
                        ],
                        "passed_time": 66.24142357,
                        "iteration": 749,
                        "remaining_time": 22.08047452,
                        "learn": [
                          0.03334275038
                        ]
                      },
                      {
                        "test": [
                          0.9510584657,
                          0.0329927629
                        ],
                        "passed_time": 66.33208856,
                        "iteration": 750,
                        "remaining_time": 21.9929295,
                        "learn": [
                          0.03333998074
                        ]
                      },
                      {
                        "test": [
                          0.95106825,
                          0.03299248124
                        ],
                        "passed_time": 66.41341331,
                        "iteration": 751,
                        "remaining_time": 21.90229588,
                        "learn": [
                          0.03333718669
                        ]
                      },
                      {
                        "test": [
                          0.9510756084,
                          0.0329919476
                        ],
                        "passed_time": 66.49909331,
                        "iteration": 752,
                        "remaining_time": 21.8131156,
                        "learn": [
                          0.03333477376
                        ]
                      },
                      {
                        "test": [
                          0.9511064217,
                          0.03298969965
                        ],
                        "passed_time": 66.5852848,
                        "iteration": 753,
                        "remaining_time": 21.72411149,
                        "learn": [
                          0.03333116862
                        ]
                      },
                      {
                        "test": [
                          0.951116459,
                          0.03298816483
                        ],
                        "passed_time": 66.66935151,
                        "iteration": 754,
                        "remaining_time": 21.63442532,
                        "learn": [
                          0.03332820774
                        ]
                      },
                      {
                        "test": [
                          0.9511249097,
                          0.03298723315
                        ],
                        "passed_time": 66.75934252,
                        "iteration": 755,
                        "remaining_time": 21.5466661,
                        "learn": [
                          0.0333252889
                        ]
                      },
                      {
                        "test": [
                          0.9511315897,
                          0.0329866229
                        ],
                        "passed_time": 66.84146911,
                        "iteration": 756,
                        "remaining_time": 21.45637648,
                        "learn": [
                          0.03332297635
                        ]
                      },
                      {
                        "test": [
                          0.951155608,
                          0.03298428234
                        ],
                        "passed_time": 66.92578152,
                        "iteration": 757,
                        "remaining_time": 21.36680624,
                        "learn": [
                          0.03331909858
                        ]
                      },
                      {
                        "test": [
                          0.9511611613,
                          0.03298281976
                        ],
                        "passed_time": 67.01601502,
                        "iteration": 758,
                        "remaining_time": 21.27912994,
                        "learn": [
                          0.03331486545
                        ]
                      },
                      {
                        "test": [
                          0.9511619546,
                          0.03298242996
                        ],
                        "passed_time": 67.09677999,
                        "iteration": 759,
                        "remaining_time": 21.18845684,
                        "learn": [
                          0.03331128743
                        ]
                      },
                      {
                        "test": [
                          0.9511933658,
                          0.03298010506
                        ],
                        "passed_time": 67.17865375,
                        "iteration": 760,
                        "remaining_time": 21.09815801,
                        "learn": [
                          0.03330719672
                        ]
                      },
                      {
                        "test": [
                          0.9511902385,
                          0.03297901636
                        ],
                        "passed_time": 67.32484823,
                        "iteration": 761,
                        "remaining_time": 21.02797097,
                        "learn": [
                          0.033303852
                        ]
                      },
                      {
                        "test": [
                          0.9511972174,
                          0.03297962742
                        ],
                        "passed_time": 67.41253921,
                        "iteration": 762,
                        "remaining_time": 20.93941257,
                        "learn": [
                          0.03330006646
                        ]
                      },
                      {
                        "test": [
                          0.9512004712,
                          0.03297977021
                        ],
                        "passed_time": 67.49609713,
                        "iteration": 763,
                        "remaining_time": 20.84957974,
                        "learn": [
                          0.03329796278
                        ]
                      },
                      {
                        "test": [
                          0.9511999423,
                          0.03297937979
                        ],
                        "passed_time": 67.58456151,
                        "iteration": 764,
                        "remaining_time": 20.76127053,
                        "learn": [
                          0.03329382053
                        ]
                      },
                      {
                        "test": [
                          0.9512007242,
                          0.03297916772
                        ],
                        "passed_time": 67.66689086,
                        "iteration": 765,
                        "remaining_time": 20.67108676,
                        "learn": [
                          0.0332916843
                        ]
                      },
                      {
                        "test": [
                          0.9512012531,
                          0.03297870025
                        ],
                        "passed_time": 67.750532,
                        "iteration": 766,
                        "remaining_time": 20.58132198,
                        "learn": [
                          0.03328943142
                        ]
                      },
                      {
                        "test": [
                          0.9512069903,
                          0.03297792846
                        ],
                        "passed_time": 67.84162768,
                        "iteration": 767,
                        "remaining_time": 20.49382503,
                        "learn": [
                          0.03328411051
                        ]
                      },
                      {
                        "test": [
                          0.9512071513,
                          0.03297766067
                        ],
                        "passed_time": 67.92566309,
                        "iteration": 768,
                        "remaining_time": 20.40419789,
                        "learn": [
                          0.03327995334
                        ]
                      },
                      {
                        "test": [
                          0.9512063694,
                          0.03297563922
                        ],
                        "passed_time": 68.00351119,
                        "iteration": 769,
                        "remaining_time": 20.31273711,
                        "learn": [
                          0.03327648248
                        ]
                      },
                      {
                        "test": [
                          0.9512148661,
                          0.03297452682
                        ],
                        "passed_time": 68.09226428,
                        "iteration": 770,
                        "remaining_time": 20.22455061,
                        "learn": [
                          0.03327208252
                        ]
                      },
                      {
                        "test": [
                          0.9512214427,
                          0.03297359318
                        ],
                        "passed_time": 68.17210151,
                        "iteration": 771,
                        "remaining_time": 20.13372946,
                        "learn": [
                          0.03326998834
                        ]
                      },
                      {
                        "test": [
                          0.951217614,
                          0.03297349001
                        ],
                        "passed_time": 68.3091373,
                        "iteration": 772,
                        "remaining_time": 20.05973372,
                        "learn": [
                          0.03326509874
                        ]
                      },
                      {
                        "test": [
                          0.9512182578,
                          0.03297365903
                        ],
                        "passed_time": 68.41223423,
                        "iteration": 773,
                        "remaining_time": 19.97566529,
                        "learn": [
                          0.03326279297
                        ]
                      },
                      {
                        "test": [
                          0.9512236272,
                          0.03297157023
                        ],
                        "passed_time": 68.49253872,
                        "iteration": 774,
                        "remaining_time": 19.8849306,
                        "learn": [
                          0.03325940755
                        ]
                      },
                      {
                        "test": [
                          0.951222259,
                          0.03297267503
                        ],
                        "passed_time": 68.59157764,
                        "iteration": 775,
                        "remaining_time": 19.79963066,
                        "learn": [
                          0.03325583767
                        ]
                      },
                      {
                        "test": [
                          0.9512236732,
                          0.03297252977
                        ],
                        "passed_time": 68.67240892,
                        "iteration": 776,
                        "remaining_time": 19.70906974,
                        "learn": [
                          0.03325391846
                        ]
                      },
                      {
                        "test": [
                          0.9512273639,
                          0.03297182361
                        ],
                        "passed_time": 68.75471672,
                        "iteration": 777,
                        "remaining_time": 19.61895516,
                        "learn": [
                          0.03325108914
                        ]
                      },
                      {
                        "test": [
                          0.9512286861,
                          0.03297164692
                        ],
                        "passed_time": 68.84445219,
                        "iteration": 778,
                        "remaining_time": 19.53096782,
                        "learn": [
                          0.03324747179
                        ]
                      },
                      {
                        "test": [
                          0.9512452655,
                          0.03296928021
                        ],
                        "passed_time": 68.92953209,
                        "iteration": 779,
                        "remaining_time": 19.4416629,
                        "learn": [
                          0.03324373508
                        ]
                      },
                      {
                        "test": [
                          0.9512475765,
                          0.03296909952
                        ],
                        "passed_time": 69.0095586,
                        "iteration": 780,
                        "remaining_time": 19.35095177,
                        "learn": [
                          0.03324294434
                        ]
                      },
                      {
                        "test": [
                          0.9512578437,
                          0.03296780289
                        ],
                        "passed_time": 69.10187429,
                        "iteration": 781,
                        "remaining_time": 19.26369386,
                        "learn": [
                          0.03323719754
                        ]
                      },
                      {
                        "test": [
                          0.951267996,
                          0.03296718261
                        ],
                        "passed_time": 69.18196944,
                        "iteration": 782,
                        "remaining_time": 19.17303623,
                        "learn": [
                          0.03323471544
                        ]
                      },
                      {
                        "test": [
                          0.9512961994,
                          0.03296384486
                        ],
                        "passed_time": 69.26845331,
                        "iteration": 783,
                        "remaining_time": 19.08416571,
                        "learn": [
                          0.03322907579
                        ]
                      },
                      {
                        "test": [
                          0.9513254605,
                          0.03296066721
                        ],
                        "passed_time": 69.42671157,
                        "iteration": 784,
                        "remaining_time": 19.01495922,
                        "learn": [
                          0.03322239583
                        ]
                      },
                      {
                        "test": [
                          0.9513291742,
                          0.03296041814
                        ],
                        "passed_time": 69.50943181,
                        "iteration": 785,
                        "remaining_time": 18.92495981,
                        "learn": [
                          0.03321889784
                        ]
                      },
                      {
                        "test": [
                          0.9513362796,
                          0.03296005477
                        ],
                        "passed_time": 69.59237509,
                        "iteration": 786,
                        "remaining_time": 18.83503926,
                        "learn": [
                          0.0332157864
                        ]
                      },
                      {
                        "test": [
                          0.9513338652,
                          0.03295965585
                        ],
                        "passed_time": 69.68073525,
                        "iteration": 787,
                        "remaining_time": 18.74659375,
                        "learn": [
                          0.03321215685
                        ]
                      },
                      {
                        "test": [
                          0.951350456,
                          0.0329556345
                        ],
                        "passed_time": 69.77701493,
                        "iteration": 788,
                        "remaining_time": 18.66026635,
                        "learn": [
                          0.03320737712
                        ]
                      },
                      {
                        "test": [
                          0.951357504,
                          0.03295462694
                        ],
                        "passed_time": 69.87532725,
                        "iteration": 789,
                        "remaining_time": 18.57445408,
                        "learn": [
                          0.03320311686
                        ]
                      },
                      {
                        "test": [
                          0.9513685416,
                          0.03295360933
                        ],
                        "passed_time": 69.96722057,
                        "iteration": 790,
                        "remaining_time": 18.48691416,
                        "learn": [
                          0.0331980089
                        ]
                      },
                      {
                        "test": [
                          0.9513844656,
                          0.03295277237
                        ],
                        "passed_time": 70.05298082,
                        "iteration": 791,
                        "remaining_time": 18.39775254,
                        "learn": [
                          0.03319393446
                        ]
                      },
                      {
                        "test": [
                          0.9513998263,
                          0.03295102777
                        ],
                        "passed_time": 70.13773044,
                        "iteration": 792,
                        "remaining_time": 18.30833569,
                        "learn": [
                          0.03318918321
                        ]
                      },
                      {
                        "test": [
                          0.9514047357,
                          0.03295008202
                        ],
                        "passed_time": 70.22791153,
                        "iteration": 793,
                        "remaining_time": 18.22033977,
                        "learn": [
                          0.03318689914
                        ]
                      },
                      {
                        "test": [
                          0.951405552,
                          0.03295031768
                        ],
                        "passed_time": 70.31269491,
                        "iteration": 794,
                        "remaining_time": 18.13094649,
                        "learn": [
                          0.03318419054
                        ]
                      },
                      {
                        "test": [
                          0.9514065293,
                          0.03295013516
                        ],
                        "passed_time": 70.46570718,
                        "iteration": 795,
                        "remaining_time": 18.05905058,
                        "learn": [
                          0.03318191054
                        ]
                      },
                      {
                        "test": [
                          0.9514077366,
                          0.03294919876
                        ],
                        "passed_time": 70.54741184,
                        "iteration": 796,
                        "remaining_time": 17.96878871,
                        "learn": [
                          0.0331796441
                        ]
                      },
                      {
                        "test": [
                          0.9514047357,
                          0.03294894405
                        ],
                        "passed_time": 70.63992255,
                        "iteration": 797,
                        "remaining_time": 17.88128365,
                        "learn": [
                          0.03317613661
                        ]
                      },
                      {
                        "test": [
                          0.9514066213,
                          0.03294820793
                        ],
                        "passed_time": 70.72357017,
                        "iteration": 798,
                        "remaining_time": 17.79153642,
                        "learn": [
                          0.03317357992
                        ]
                      },
                      {
                        "test": [
                          0.9514192685,
                          0.032946844
                        ],
                        "passed_time": 70.80933744,
                        "iteration": 799,
                        "remaining_time": 17.70233436,
                        "learn": [
                          0.03317065294
                        ]
                      },
                      {
                        "test": [
                          0.951423833,
                          0.03294551553
                        ],
                        "passed_time": 70.90031212,
                        "iteration": 800,
                        "remaining_time": 17.6144346,
                        "learn": [
                          0.03316675754
                        ]
                      },
                      {
                        "test": [
                          0.9514292829,
                          0.03294546566
                        ],
                        "passed_time": 70.99193235,
                        "iteration": 801,
                        "remaining_time": 17.52668654,
                        "learn": [
                          0.03316430935
                        ]
                      },
                      {
                        "test": [
                          0.951433261,
                          0.03294324323
                        ],
                        "passed_time": 71.07103971,
                        "iteration": 802,
                        "remaining_time": 17.43585906,
                        "learn": [
                          0.03316168349
                        ]
                      },
                      {
                        "test": [
                          0.9514388833,
                          0.03294298966
                        ],
                        "passed_time": 71.15848671,
                        "iteration": 803,
                        "remaining_time": 17.34709377,
                        "learn": [
                          0.03315854763
                        ]
                      },
                      {
                        "test": [
                          0.9514566009,
                          0.0329415688
                        ],
                        "passed_time": 71.25278653,
                        "iteration": 804,
                        "remaining_time": 17.25999177,
                        "learn": [
                          0.03315578206
                        ]
                      },
                      {
                        "test": [
                          0.9514570263,
                          0.03294122044
                        ],
                        "passed_time": 71.34177268,
                        "iteration": 805,
                        "remaining_time": 17.17159293,
                        "learn": [
                          0.03315192871
                        ]
                      },
                      {
                        "test": [
                          0.9514675695,
                          0.03294092417
                        ],
                        "passed_time": 71.49531729,
                        "iteration": 806,
                        "remaining_time": 17.09863226,
                        "learn": [
                          0.03314827203
                        ]
                      },
                      {
                        "test": [
                          0.9514670176,
                          0.03293895549
                        ],
                        "passed_time": 71.57517359,
                        "iteration": 807,
                        "remaining_time": 17.00796204,
                        "learn": [
                          0.03314491509
                        ]
                      },
                      {
                        "test": [
                          0.9514781012,
                          0.03293705056
                        ],
                        "passed_time": 71.65933329,
                        "iteration": 808,
                        "remaining_time": 16.91833456,
                        "learn": [
                          0.03314234484
                        ]
                      },
                      {
                        "test": [
                          0.9514795154,
                          0.03293631413
                        ],
                        "passed_time": 71.74318917,
                        "iteration": 809,
                        "remaining_time": 16.82864931,
                        "learn": [
                          0.03314011095
                        ]
                      },
                      {
                        "test": [
                          0.9514856666,
                          0.03293622556
                        ],
                        "passed_time": 71.82844162,
                        "iteration": 810,
                        "remaining_time": 16.7393039,
                        "learn": [
                          0.03313751356
                        ]
                      },
                      {
                        "test": [
                          0.9514851147,
                          0.0329346368
                        ],
                        "passed_time": 71.91294098,
                        "iteration": 811,
                        "remaining_time": 16.64979422,
                        "learn": [
                          0.03313387858
                        ]
                      },
                      {
                        "test": [
                          0.9514839649,
                          0.03293402324
                        ],
                        "passed_time": 71.99867813,
                        "iteration": 812,
                        "remaining_time": 16.56058156,
                        "learn": [
                          0.03313141276
                        ]
                      },
                      {
                        "test": [
                          0.9514615908,
                          0.03293320973
                        ],
                        "passed_time": 72.07918558,
                        "iteration": 813,
                        "remaining_time": 16.47018245,
                        "learn": [
                          0.03312782661
                        ]
                      },
                      {
                        "test": [
                          0.9514691677,
                          0.03293280519
                        ],
                        "passed_time": 72.16704709,
                        "iteration": 814,
                        "remaining_time": 16.38147695,
                        "learn": [
                          0.03312565782
                        ]
                      },
                      {
                        "test": [
                          0.9514848388,
                          0.03293155573
                        ],
                        "passed_time": 72.26045641,
                        "iteration": 815,
                        "remaining_time": 16.29402448,
                        "learn": [
                          0.03312186008
                        ]
                      },
                      {
                        "test": [
                          0.9514793085,
                          0.03293130134
                        ],
                        "passed_time": 72.33997356,
                        "iteration": 816,
                        "remaining_time": 16.20344573,
                        "learn": [
                          0.03311914605
                        ]
                      },
                      {
                        "test": [
                          0.951483758,
                          0.03293078557
                        ],
                        "passed_time": 72.44990875,
                        "iteration": 817,
                        "remaining_time": 16.11966185,
                        "learn": [
                          0.03311763102
                        ]
                      },
                      {
                        "test": [
                          0.9514852297,
                          0.03293032351
                        ],
                        "passed_time": 72.57990265,
                        "iteration": 818,
                        "remaining_time": 16.04024711,
                        "learn": [
                          0.03311556125
                        ]
                      },
                      {
                        "test": [
                          0.9514937033,
                          0.03292950638
                        ],
                        "passed_time": 72.66971541,
                        "iteration": 819,
                        "remaining_time": 15.95188875,
                        "learn": [
                          0.03311241048
                        ]
                      },
                      {
                        "test": [
                          0.9514852412,
                          0.03293016649
                        ],
                        "passed_time": 72.75868121,
                        "iteration": 820,
                        "remaining_time": 15.86334219,
                        "learn": [
                          0.03310734185
                        ]
                      },
                      {
                        "test": [
                          0.9514986128,
                          0.03292808691
                        ],
                        "passed_time": 72.84824423,
                        "iteration": 821,
                        "remaining_time": 15.77492393,
                        "learn": [
                          0.03310450439
                        ]
                      },
                      {
                        "test": [
                          0.9515022115,
                          0.03292716691
                        ],
                        "passed_time": 72.93576349,
                        "iteration": 822,
                        "remaining_time": 15.68606335,
                        "learn": [
                          0.03309972738
                        ]
                      },
                      {
                        "test": [
                          0.9514997855,
                          0.03292740925
                        ],
                        "passed_time": 73.01585512,
                        "iteration": 823,
                        "remaining_time": 15.59561954,
                        "learn": [
                          0.03309730089
                        ]
                      },
                      {
                        "test": [
                          0.9515338066,
                          0.03292522781
                        ],
                        "passed_time": 73.1094051,
                        "iteration": 824,
                        "remaining_time": 15.50805563,
                        "learn": [
                          0.03309342312
                        ]
                      },
                      {
                        "test": [
                          0.9515396128,
                          0.03292545609
                        ],
                        "passed_time": 73.2023189,
                        "iteration": 825,
                        "remaining_time": 15.42034321,
                        "learn": [
                          0.03308933377
                        ]
                      },
                      {
                        "test": [
                          0.9515703226,
                          0.03292335225
                        ],
                        "passed_time": 73.29479775,
                        "iteration": 826,
                        "remaining_time": 15.33252722,
                        "learn": [
                          0.03308582899
                        ]
                      },
                      {
                        "test": [
                          0.9515745767,
                          0.0329227868
                        ],
                        "passed_time": 73.38309817,
                        "iteration": 827,
                        "remaining_time": 15.24383199,
                        "learn": [
                          0.03308287218
                        ]
                      },
                      {
                        "test": [
                          0.9515830848,
                          0.03292098601
                        ],
                        "passed_time": 73.48592148,
                        "iteration": 828,
                        "remaining_time": 15.15813338,
                        "learn": [
                          0.03307971463
                        ]
                      },
                      {
                        "test": [
                          0.9515833263,
                          0.03292103526
                        ],
                        "passed_time": 73.63606327,
                        "iteration": 829,
                        "remaining_time": 15.08208525,
                        "learn": [
                          0.03307622613
                        ]
                      },
                      {
                        "test": [
                          0.951605459,
                          0.03291917852
                        ],
                        "passed_time": 73.72546107,
                        "iteration": 830,
                        "remaining_time": 14.99350532,
                        "learn": [
                          0.03307164307
                        ]
                      },
                      {
                        "test": [
                          0.951609736,
                          0.03291843034
                        ],
                        "passed_time": 73.80910125,
                        "iteration": 831,
                        "remaining_time": 14.90376083,
                        "learn": [
                          0.03306943902
                        ]
                      },
                      {
                        "test": [
                          0.9516315353,
                          0.03291749286
                        ],
                        "passed_time": 73.89681914,
                        "iteration": 832,
                        "remaining_time": 14.81484849,
                        "learn": [
                          0.0330651747
                        ]
                      },
                      {
                        "test": [
                          0.9516385947,
                          0.03291778
                        ],
                        "passed_time": 73.99271999,
                        "iteration": 833,
                        "remaining_time": 14.72756777,
                        "learn": [
                          0.03305828722
                        ]
                      },
                      {
                        "test": [
                          0.951639572,
                          0.03291784434
                        ],
                        "passed_time": 74.07743891,
                        "iteration": 834,
                        "remaining_time": 14.63805679,
                        "learn": [
                          0.03305518663
                        ]
                      },
                      {
                        "test": [
                          0.9516414576,
                          0.03291751294
                        ],
                        "passed_time": 74.15953951,
                        "iteration": 835,
                        "remaining_time": 14.54804364,
                        "learn": [
                          0.03305366889
                        ]
                      },
                      {
                        "test": [
                          0.9516424119,
                          0.03291712553
                        ],
                        "passed_time": 74.24440631,
                        "iteration": 836,
                        "remaining_time": 14.45858809,
                        "learn": [
                          0.03305135905
                        ]
                      },
                      {
                        "test": [
                          0.9516473328,
                          0.03291603891
                        ],
                        "passed_time": 74.32770223,
                        "iteration": 837,
                        "remaining_time": 14.36883981,
                        "learn": [
                          0.03304848904
                        ]
                      },
                      {
                        "test": [
                          0.9516506096,
                          0.032915634
                        ],
                        "passed_time": 74.41231249,
                        "iteration": 838,
                        "remaining_time": 14.27935913,
                        "learn": [
                          0.03304549696
                        ]
                      },
                      {
                        "test": [
                          0.9516594742,
                          0.03291541404
                        ],
                        "passed_time": 74.50326189,
                        "iteration": 839,
                        "remaining_time": 14.1910975,
                        "learn": [
                          0.0330432156
                        ]
                      },
                      {
                        "test": [
                          0.9516616127,
                          0.03291568944
                        ],
                        "passed_time": 74.71557503,
                        "iteration": 840,
                        "remaining_time": 14.12577459,
                        "learn": [
                          0.03304021132
                        ]
                      },
                      {
                        "test": [
                          0.9516601985,
                          0.03291538568
                        ],
                        "passed_time": 74.79888709,
                        "iteration": 841,
                        "remaining_time": 14.03589568,
                        "learn": [
                          0.03303883192
                        ]
                      },
                      {
                        "test": [
                          0.9516578071,
                          0.03291373333
                        ],
                        "passed_time": 74.89374047,
                        "iteration": 842,
                        "remaining_time": 13.9481818,
                        "learn": [
                          0.03303476969
                        ]
                      },
                      {
                        "test": [
                          0.9516624635,
                          0.03291296014
                        ],
                        "passed_time": 74.98447568,
                        "iteration": 843,
                        "remaining_time": 13.85968982,
                        "learn": [
                          0.03303242459
                        ]
                      },
                      {
                        "test": [
                          0.9516621071,
                          0.03291305282
                        ],
                        "passed_time": 75.07233219,
                        "iteration": 844,
                        "remaining_time": 13.77066448,
                        "learn": [
                          0.03303084446
                        ]
                      },
                      {
                        "test": [
                          0.9516567148,
                          0.03291197293
                        ],
                        "passed_time": 75.15591227,
                        "iteration": 845,
                        "remaining_time": 13.68086346,
                        "learn": [
                          0.03302822266
                        ]
                      },
                      {
                        "test": [
                          0.9516619117,
                          0.03291175868
                        ],
                        "passed_time": 75.25299044,
                        "iteration": 846,
                        "remaining_time": 13.59351539,
                        "learn": [
                          0.03302414551
                        ]
                      },
                      {
                        "test": [
                          0.9516727078,
                          0.03291087721
                        ],
                        "passed_time": 75.33554988,
                        "iteration": 847,
                        "remaining_time": 13.50354196,
                        "learn": [
                          0.03302066786
                        ]
                      },
                      {
                        "test": [
                          0.9517445902,
                          0.03290630036
                        ],
                        "passed_time": 75.42401555,
                        "iteration": 848,
                        "remaining_time": 13.41463645,
                        "learn": [
                          0.0330148858
                        ]
                      },
                      {
                        "test": [
                          0.9517513047,
                          0.03290500021
                        ],
                        "passed_time": 75.52300093,
                        "iteration": 849,
                        "remaining_time": 13.3275884,
                        "learn": [
                          0.03301284993
                        ]
                      },
                      {
                        "test": [
                          0.9517651592,
                          0.03290395269
                        ],
                        "passed_time": 75.60673448,
                        "iteration": 850,
                        "remaining_time": 13.23784188,
                        "learn": [
                          0.03301014811
                        ]
                      },
                      {
                        "test": [
                          0.9517565131,
                          0.03290438888
                        ],
                        "passed_time": 75.76606519,
                        "iteration": 851,
                        "remaining_time": 13.16124137,
                        "learn": [
                          0.03300655246
                        ]
                      },
                      {
                        "test": [
                          0.95176386,
                          0.03290317078
                        ],
                        "passed_time": 75.85664644,
                        "iteration": 852,
                        "remaining_time": 13.07259909,
                        "learn": [
                          0.0330041748
                        ]
                      },
                      {
                        "test": [
                          0.9517711264,
                          0.03290229249
                        ],
                        "passed_time": 75.94180604,
                        "iteration": 853,
                        "remaining_time": 12.98302539,
                        "learn": [
                          0.033000118
                        ]
                      },
                      {
                        "test": [
                          0.951775093,
                          0.03290173316
                        ],
                        "passed_time": 76.02999818,
                        "iteration": 854,
                        "remaining_time": 12.8939763,
                        "learn": [
                          0.03299782579
                        ]
                      },
                      {
                        "test": [
                          0.9517892694,
                          0.03290010374
                        ],
                        "passed_time": 76.11200553,
                        "iteration": 855,
                        "remaining_time": 12.80388878,
                        "learn": [
                          0.03299549289
                        ]
                      },
                      {
                        "test": [
                          0.9517856247,
                          0.03289958483
                        ],
                        "passed_time": 76.19834823,
                        "iteration": 856,
                        "remaining_time": 12.71454352,
                        "learn": [
                          0.03299204915
                        ]
                      },
                      {
                        "test": [
                          0.9517897638,
                          0.03289879551
                        ],
                        "passed_time": 76.28645957,
                        "iteration": 857,
                        "remaining_time": 12.62549797,
                        "learn": [
                          0.03299055583
                        ]
                      },
                      {
                        "test": [
                          0.9517971682,
                          0.03289793443
                        ],
                        "passed_time": 76.36967225,
                        "iteration": 858,
                        "remaining_time": 12.53565051,
                        "learn": [
                          0.03298648546
                        ]
                      },
                      {
                        "test": [
                          0.9517965243,
                          0.03289776105
                        ],
                        "passed_time": 76.45284697,
                        "iteration": 859,
                        "remaining_time": 12.4458123,
                        "learn": [
                          0.03298373888
                        ]
                      },
                      {
                        "test": [
                          0.9517967198,
                          0.03289810788
                        ],
                        "passed_time": 76.55347947,
                        "iteration": 860,
                        "remaining_time": 12.35880795,
                        "learn": [
                          0.0329810574
                        ]
                      },
                      {
                        "test": [
                          0.9517970992,
                          0.03289873895
                        ],
                        "passed_time": 76.64313095,
                        "iteration": 861,
                        "remaining_time": 12.270014,
                        "learn": [
                          0.03297795817
                        ]
                      },
                      {
                        "test": [
                          0.9518042736,
                          0.03289813589
                        ],
                        "passed_time": 76.77355565,
                        "iteration": 862,
                        "remaining_time": 12.18769076,
                        "learn": [
                          0.03297516412
                        ]
                      },
                      {
                        "test": [
                          0.9518101259,
                          0.032896859
                        ],
                        "passed_time": 76.87068252,
                        "iteration": 863,
                        "remaining_time": 12.10001484,
                        "learn": [
                          0.03297236057
                        ]
                      },
                      {
                        "test": [
                          0.9518218188,
                          0.03289519628
                        ],
                        "passed_time": 76.95432729,
                        "iteration": 864,
                        "remaining_time": 12.01021293,
                        "learn": [
                          0.03297062174
                        ]
                      },
                      {
                        "test": [
                          0.951853115,
                          0.03289301597
                        ],
                        "passed_time": 77.04471334,
                        "iteration": 865,
                        "remaining_time": 11.92146835,
                        "learn": [
                          0.03296571045
                        ]
                      },
                      {
                        "test": [
                          0.9518522067,
                          0.03289205918
                        ],
                        "passed_time": 77.12279305,
                        "iteration": 866,
                        "remaining_time": 11.83083215,
                        "learn": [
                          0.03296253798
                        ]
                      },
                      {
                        "test": [
                          0.9518476307,
                          0.03289156982
                        ],
                        "passed_time": 77.20923805,
                        "iteration": 867,
                        "remaining_time": 11.74149703,
                        "learn": [
                          0.03295956217
                        ]
                      },
                      {
                        "test": [
                          0.9518436756,
                          0.03289055041
                        ],
                        "passed_time": 77.30155819,
                        "iteration": 868,
                        "remaining_time": 11.65305423,
                        "learn": [
                          0.03295663927
                        ]
                      },
                      {
                        "test": [
                          0.9518466304,
                          0.03289042975
                        ],
                        "passed_time": 77.38958738,
                        "iteration": 869,
                        "remaining_time": 11.56396133,
                        "learn": [
                          0.03295300564
                        ]
                      },
                      {
                        "test": [
                          0.9518426753,
                          0.03289115139
                        ],
                        "passed_time": 77.47787714,
                        "iteration": 870,
                        "remaining_time": 11.47490947,
                        "learn": [
                          0.03294967177
                        ]
                      },
                      {
                        "test": [
                          0.9518550696,
                          0.03289057943
                        ],
                        "passed_time": 77.58131101,
                        "iteration": 871,
                        "remaining_time": 11.38808235,
                        "learn": [
                          0.03294614393
                        ]
                      },
                      {
                        "test": [
                          0.9518514364,
                          0.03289032863
                        ],
                        "passed_time": 77.67537064,
                        "iteration": 872,
                        "remaining_time": 11.29985346,
                        "learn": [
                          0.03294157579
                        ]
                      },
                      {
                        "test": [
                          0.9518606114,
                          0.03288934988
                        ],
                        "passed_time": 77.76093628,
                        "iteration": 873,
                        "remaining_time": 11.21038669,
                        "learn": [
                          0.03293792318
                        ]
                      },
                      {
                        "test": [
                          0.9518668545,
                          0.03288843526
                        ],
                        "passed_time": 77.91989217,
                        "iteration": 874,
                        "remaining_time": 11.13141317,
                        "learn": [
                          0.03293465169
                        ]
                      },
                      {
                        "test": [
                          0.9518714535,
                          0.03288837904
                        ],
                        "passed_time": 78.0026162,
                        "iteration": 875,
                        "remaining_time": 11.04146622,
                        "learn": [
                          0.03293194987
                        ]
                      },
                      {
                        "test": [
                          0.9518649804,
                          0.03288881601
                        ],
                        "passed_time": 78.08630427,
                        "iteration": 876,
                        "remaining_time": 10.95167095,
                        "learn": [
                          0.03292835693
                        ]
                      },
                      {
                        "test": [
                          0.9518711891,
                          0.03288913334
                        ],
                        "passed_time": 78.17521714,
                        "iteration": 877,
                        "remaining_time": 10.86261559,
                        "learn": [
                          0.03292453071
                        ]
                      },
                      {
                        "test": [
                          0.9519106025,
                          0.032885506
                        ],
                        "passed_time": 78.26303671,
                        "iteration": 878,
                        "remaining_time": 10.77341006,
                        "learn": [
                          0.03291962348
                        ]
                      },
                      {
                        "test": [
                          0.9519063599,
                          0.03288456261
                        ],
                        "passed_time": 78.35138548,
                        "iteration": 879,
                        "remaining_time": 10.68427984,
                        "learn": [
                          0.03291599664
                        ]
                      },
                      {
                        "test": [
                          0.9519084984,
                          0.03288437872
                        ],
                        "passed_time": 78.44340896,
                        "iteration": 880,
                        "remaining_time": 10.59564775,
                        "learn": [
                          0.03291363661
                        ]
                      },
                      {
                        "test": [
                          0.9519128675,
                          0.03288373611
                        ],
                        "passed_time": 78.52457854,
                        "iteration": 881,
                        "remaining_time": 10.50555586,
                        "learn": [
                          0.03291019694
                        ]
                      },
                      {
                        "test": [
                          0.9519182828,
                          0.03288289157
                        ],
                        "passed_time": 78.61579124,
                        "iteration": 882,
                        "remaining_time": 10.41681492,
                        "learn": [
                          0.03290810411
                        ]
                      },
                      {
                        "test": [
                          0.9519278027,
                          0.03288171414
                        ],
                        "passed_time": 78.70218094,
                        "iteration": 883,
                        "remaining_time": 10.32743551,
                        "learn": [
                          0.03290579291
                        ]
                      },
                      {
                        "test": [
                          0.9519295388,
                          0.0328815731
                        ],
                        "passed_time": 78.78491908,
                        "iteration": 884,
                        "remaining_time": 10.23758836,
                        "learn": [
                          0.03290468072
                        ]
                      },
                      {
                        "test": [
                          0.9519346552,
                          0.03288103656
                        ],
                        "passed_time": 78.92758347,
                        "iteration": 885,
                        "remaining_time": 10.15546785,
                        "learn": [
                          0.03290246446
                        ]
                      },
                      {
                        "test": [
                          0.9519390013,
                          0.03288156996
                        ],
                        "passed_time": 79.01566366,
                        "iteration": 886,
                        "remaining_time": 10.06625704,
                        "learn": [
                          0.03289956733
                        ]
                      },
                      {
                        "test": [
                          0.9519440142,
                          0.03288017453
                        ],
                        "passed_time": 79.10399519,
                        "iteration": 887,
                        "remaining_time": 9.977080475,
                        "learn": [
                          0.03289713949
                        ]
                      },
                      {
                        "test": [
                          0.9519544999,
                          0.03288034601
                        ],
                        "passed_time": 79.18886921,
                        "iteration": 888,
                        "remaining_time": 9.887474108,
                        "learn": [
                          0.03289434543
                        ]
                      },
                      {
                        "test": [
                          0.9519616858,
                          0.03288010308
                        ],
                        "passed_time": 79.27237085,
                        "iteration": 889,
                        "remaining_time": 9.797708757,
                        "learn": [
                          0.03289198405
                        ]
                      },
                      {
                        "test": [
                          0.9519682509,
                          0.03287955477
                        ],
                        "passed_time": 79.35858165,
                        "iteration": 890,
                        "remaining_time": 9.708288889,
                        "learn": [
                          0.03288900282
                        ]
                      },
                      {
                        "test": [
                          0.9519687913,
                          0.03287868912
                        ],
                        "passed_time": 79.45261402,
                        "iteration": 891,
                        "remaining_time": 9.619823222,
                        "learn": [
                          0.03288397352
                        ]
                      },
                      {
                        "test": [
                          0.9519715852,
                          0.03287862107
                        ],
                        "passed_time": 79.54944975,
                        "iteration": 892,
                        "remaining_time": 9.531680989,
                        "learn": [
                          0.03288064914
                        ]
                      },
                      {
                        "test": [
                          0.9520213233,
                          0.03287710765
                        ],
                        "passed_time": 79.64452349,
                        "iteration": 893,
                        "remaining_time": 9.443310392,
                        "learn": [
                          0.03287350125
                        ]
                      },
                      {
                        "test": [
                          0.9520225076,
                          0.03287660501
                        ],
                        "passed_time": 79.73850972,
                        "iteration": 894,
                        "remaining_time": 9.35479723,
                        "learn": [
                          0.03287073025
                        ]
                      },
                      {
                        "test": [
                          0.9520240942,
                          0.03287617376
                        ],
                        "passed_time": 79.83203876,
                        "iteration": 895,
                        "remaining_time": 9.266218784,
                        "learn": [
                          0.03286774495
                        ]
                      },
                      {
                        "test": [
                          0.9520236228,
                          0.03287506382
                        ],
                        "passed_time": 79.98014184,
                        "iteration": 896,
                        "remaining_time": 9.183895885,
                        "learn": [
                          0.03286415066
                        ]
                      },
                      {
                        "test": [
                          0.952022749,
                          0.03287389865
                        ],
                        "passed_time": 80.06128571,
                        "iteration": 897,
                        "remaining_time": 9.093820872,
                        "learn": [
                          0.0328611613
                        ]
                      },
                      {
                        "test": [
                          0.9520392939,
                          0.03287268323
                        ],
                        "passed_time": 80.14263653,
                        "iteration": 898,
                        "remaining_time": 9.003788976,
                        "learn": [
                          0.03285846219
                        ]
                      },
                      {
                        "test": [
                          0.9520422488,
                          0.0328707931
                        ],
                        "passed_time": 80.23392131,
                        "iteration": 899,
                        "remaining_time": 8.914880145,
                        "learn": [
                          0.03285636664
                        ]
                      },
                      {
                        "test": [
                          0.9520424212,
                          0.03287072287
                        ],
                        "passed_time": 80.31443048,
                        "iteration": 900,
                        "remaining_time": 8.82478204,
                        "learn": [
                          0.03285466987
                        ]
                      },
                      {
                        "test": [
                          0.9520562067,
                          0.03286950396
                        ],
                        "passed_time": 80.40595961,
                        "iteration": 901,
                        "remaining_time": 8.735902486,
                        "learn": [
                          0.03285060086
                        ]
                      },
                      {
                        "test": [
                          0.9520661866,
                          0.03286742571
                        ],
                        "passed_time": 80.49293048,
                        "iteration": 902,
                        "remaining_time": 8.646527416,
                        "learn": [
                          0.03284589572
                        ]
                      },
                      {
                        "test": [
                          0.9520609552,
                          0.03286739772
                        ],
                        "passed_time": 80.58567703,
                        "iteration": 903,
                        "remaining_time": 8.557771012,
                        "learn": [
                          0.03284029812
                        ]
                      },
                      {
                        "test": [
                          0.9520707626,
                          0.03286581767
                        ],
                        "passed_time": 80.69368807,
                        "iteration": 904,
                        "remaining_time": 8.470608139,
                        "learn": [
                          0.03283736301
                        ]
                      },
                      {
                        "test": [
                          0.9520773621,
                          0.03286534026
                        ],
                        "passed_time": 80.7860439,
                        "iteration": 905,
                        "remaining_time": 8.381774974,
                        "learn": [
                          0.03283577203
                        ]
                      },
                      {
                        "test": [
                          0.9520881353,
                          0.03286485408
                        ],
                        "passed_time": 80.87002429,
                        "iteration": 906,
                        "remaining_time": 8.292075258,
                        "learn": [
                          0.03283430854
                        ]
                      },
                      {
                        "test": [
                          0.952096448,
                          0.03286506481
                        ],
                        "passed_time": 81.01054206,
                        "iteration": 907,
                        "remaining_time": 8.208116596,
                        "learn": [
                          0.0328308119
                        ]
                      },
                      {
                        "test": [
                          0.9521002077,
                          0.03286423395
                        ],
                        "passed_time": 81.10248038,
                        "iteration": 908,
                        "remaining_time": 8.119170203,
                        "learn": [
                          0.03282912326
                        ]
                      },
                      {
                        "test": [
                          0.9521043812,
                          0.03286309895
                        ],
                        "passed_time": 81.18947163,
                        "iteration": 909,
                        "remaining_time": 8.029727963,
                        "learn": [
                          0.03282715658
                        ]
                      },
                      {
                        "test": [
                          0.9521045077,
                          0.03286338681
                        ],
                        "passed_time": 81.28388597,
                        "iteration": 910,
                        "remaining_time": 7.941016303,
                        "learn": [
                          0.03282469482
                        ]
                      },
                      {
                        "test": [
                          0.9521048641,
                          0.03286230535
                        ],
                        "passed_time": 81.36439271,
                        "iteration": 911,
                        "remaining_time": 7.850950174,
                        "learn": [
                          0.0328226766
                        ]
                      },
                      {
                        "test": [
                          0.9521069337,
                          0.03286226649
                        ],
                        "passed_time": 81.45115551,
                        "iteration": 912,
                        "remaining_time": 7.761501127,
                        "learn": [
                          0.03281978353
                        ]
                      },
                      {
                        "test": [
                          0.9521035649,
                          0.03286224809
                        ],
                        "passed_time": 81.54101078,
                        "iteration": 913,
                        "remaining_time": 7.672348936,
                        "learn": [
                          0.03281801351
                        ]
                      },
                      {
                        "test": [
                          0.9521145795,
                          0.03286108956
                        ],
                        "passed_time": 81.64142437,
                        "iteration": 914,
                        "remaining_time": 7.584176034,
                        "learn": [
                          0.03281553819
                        ]
                      },
                      {
                        "test": [
                          0.9521185117,
                          0.0328602903
                        ],
                        "passed_time": 81.72648914,
                        "iteration": 915,
                        "remaining_time": 7.494568873,
                        "learn": [
                          0.03281251628
                        ]
                      },
                      {
                        "test": [
                          0.9521180978,
                          0.03285930401
                        ],
                        "passed_time": 81.8184415,
                        "iteration": 916,
                        "remaining_time": 7.405595033,
                        "learn": [
                          0.03280853407
                        ]
                      },
                      {
                        "test": [
                          0.9521176953,
                          0.03285834653
                        ],
                        "passed_time": 81.90169348,
                        "iteration": 917,
                        "remaining_time": 7.315837544,
                        "learn": [
                          0.03280637478
                        ]
                      },
                      {
                        "test": [
                          0.9521211561,
                          0.03285757754
                        ],
                        "passed_time": 81.98018045,
                        "iteration": 918,
                        "remaining_time": 7.225674229,
                        "learn": [
                          0.03280337321
                        ]
                      },
                      {
                        "test": [
                          0.9521231337,
                          0.03285759155
                        ],
                        "passed_time": 82.12471055,
                        "iteration": 919,
                        "remaining_time": 7.141279178,
                        "learn": [
                          0.03280106744
                        ]
                      },
                      {
                        "test": [
                          0.9521302391,
                          0.03285740755
                        ],
                        "passed_time": 82.2087088,
                        "iteration": 920,
                        "remaining_time": 7.051561341,
                        "learn": [
                          0.03279951714
                        ]
                      },
                      {
                        "test": [
                          0.9521327916,
                          0.03285584774
                        ],
                        "passed_time": 82.28848604,
                        "iteration": 921,
                        "remaining_time": 6.961498819,
                        "learn": [
                          0.03279594184
                        ]
                      },
                      {
                        "test": [
                          0.9521388162,
                          0.03285592539
                        ],
                        "passed_time": 82.38387473,
                        "iteration": 922,
                        "remaining_time": 6.872760947,
                        "learn": [
                          0.03279366184
                        ]
                      },
                      {
                        "test": [
                          0.9521463356,
                          0.03285606152
                        ],
                        "passed_time": 82.47045587,
                        "iteration": 923,
                        "remaining_time": 6.783284249,
                        "learn": [
                          0.03279130181
                        ]
                      },
                      {
                        "test": [
                          0.9521533721,
                          0.0328557919
                        ],
                        "passed_time": 82.55376309,
                        "iteration": 924,
                        "remaining_time": 6.693548359,
                        "learn": [
                          0.0327878418
                        ]
                      },
                      {
                        "test": [
                          0.952160374,
                          0.03285530049
                        ],
                        "passed_time": 82.65562638,
                        "iteration": 925,
                        "remaining_time": 6.605309236,
                        "learn": [
                          0.03278453776
                        ]
                      },
                      {
                        "test": [
                          0.9521639383,
                          0.03285362082
                        ],
                        "passed_time": 82.74312819,
                        "iteration": 926,
                        "remaining_time": 6.515909771,
                        "learn": [
                          0.03278057726
                        ]
                      },
                      {
                        "test": [
                          0.952167422,
                          0.03285359549
                        ],
                        "passed_time": 82.83124419,
                        "iteration": 927,
                        "remaining_time": 6.426562049,
                        "learn": [
                          0.03277671305
                        ]
                      },
                      {
                        "test": [
                          0.9521712392,
                          0.03285306377
                        ],
                        "passed_time": 82.93795079,
                        "iteration": 928,
                        "remaining_time": 6.338637789,
                        "learn": [
                          0.03277467177
                        ]
                      },
                      {
                        "test": [
                          0.9521702389,
                          0.03285283579
                        ],
                        "passed_time": 83.02894332,
                        "iteration": 929,
                        "remaining_time": 6.249490358,
                        "learn": [
                          0.03277258843
                        ]
                      },
                      {
                        "test": [
                          0.952174148,
                          0.03285099087
                        ],
                        "passed_time": 83.1921659,
                        "iteration": 930,
                        "remaining_time": 6.16569221,
                        "learn": [
                          0.03276960449
                        ]
                      },
                      {
                        "test": [
                          0.9522393043,
                          0.03284762939
                        ],
                        "passed_time": 83.28143108,
                        "iteration": 931,
                        "remaining_time": 6.076327589,
                        "learn": [
                          0.03276389838
                        ]
                      },
                      {
                        "test": [
                          0.95223167,
                          0.03284744694
                        ],
                        "passed_time": 83.36862445,
                        "iteration": 932,
                        "remaining_time": 5.986814403,
                        "learn": [
                          0.03276010335
                        ]
                      },
                      {
                        "test": [
                          0.952231693,
                          0.03284728442
                        ],
                        "passed_time": 83.45828502,
                        "iteration": 933,
                        "remaining_time": 5.897480526,
                        "learn": [
                          0.03275722928
                        ]
                      },
                      {
                        "test": [
                          0.9522371773,
                          0.03284623832
                        ],
                        "passed_time": 83.54642452,
                        "iteration": 934,
                        "remaining_time": 5.808040208,
                        "learn": [
                          0.03275269233
                        ]
                      },
                      {
                        "test": [
                          0.9522398447,
                          0.03284646949
                        ],
                        "passed_time": 83.63344192,
                        "iteration": 935,
                        "remaining_time": 5.718525943,
                        "learn": [
                          0.03274866808
                        ]
                      },
                      {
                        "test": [
                          0.9522604712,
                          0.03284492221
                        ],
                        "passed_time": 83.72660143,
                        "iteration": 936,
                        "remaining_time": 5.629429979,
                        "learn": [
                          0.03274563531
                        ]
                      },
                      {
                        "test": [
                          0.9522485483,
                          0.0328457904
                        ],
                        "passed_time": 83.81631122,
                        "iteration": 937,
                        "remaining_time": 5.54009733,
                        "learn": [
                          0.03274073622
                        ]
                      },
                      {
                        "test": [
                          0.9522484219,
                          0.03284529629
                        ],
                        "passed_time": 83.89960908,
                        "iteration": 938,
                        "remaining_time": 5.450347341,
                        "learn": [
                          0.03273794081
                        ]
                      },
                      {
                        "test": [
                          0.9522500315,
                          0.0328448533
                        ],
                        "passed_time": 83.9868086,
                        "iteration": 939,
                        "remaining_time": 5.360860124,
                        "learn": [
                          0.03273631185
                        ]
                      },
                      {
                        "test": [
                          0.9522538602,
                          0.03284439494
                        ],
                        "passed_time": 84.07670226,
                        "iteration": 940,
                        "remaining_time": 5.271546688,
                        "learn": [
                          0.03273282878
                        ]
                      },
                      {
                        "test": [
                          0.9522635296,
                          0.03284303488
                        ],
                        "passed_time": 84.23097652,
                        "iteration": 941,
                        "remaining_time": 5.186196006,
                        "learn": [
                          0.03272833252
                        ]
                      },
                      {
                        "test": [
                          0.9522631961,
                          0.03284255619
                        ],
                        "passed_time": 84.31599219,
                        "iteration": 942,
                        "remaining_time": 5.096512783,
                        "learn": [
                          0.03272673611
                        ]
                      },
                      {
                        "test": [
                          0.9522543661,
                          0.03284229653
                        ],
                        "passed_time": 84.41165657,
                        "iteration": 943,
                        "remaining_time": 5.007471152,
                        "learn": [
                          0.03272211914
                        ]
                      },
                      {
                        "test": [
                          0.9522589536,
                          0.03284142997
                        ],
                        "passed_time": 84.50096156,
                        "iteration": 944,
                        "remaining_time": 4.918045382,
                        "learn": [
                          0.03271921929
                        ]
                      },
                      {
                        "test": [
                          0.9522585971,
                          0.03284135473
                        ],
                        "passed_time": 84.58404207,
                        "iteration": 945,
                        "remaining_time": 4.828264558,
                        "learn": [
                          0.03271607395
                        ]
                      },
                      {
                        "test": [
                          0.9522802699,
                          0.0328405364
                        ],
                        "passed_time": 84.68159721,
                        "iteration": 946,
                        "remaining_time": 4.739307975,
                        "learn": [
                          0.03271212701
                        ]
                      },
                      {
                        "test": [
                          0.9522877893,
                          0.03283900585
                        ],
                        "passed_time": 84.76899097,
                        "iteration": 947,
                        "remaining_time": 4.649775876,
                        "learn": [
                          0.03270856798
                        ]
                      },
                      {
                        "test": [
                          0.9523842073,
                          0.03283323661
                        ],
                        "passed_time": 84.85958739,
                        "iteration": 948,
                        "remaining_time": 4.560420397,
                        "learn": [
                          0.0327033705
                        ]
                      },
                      {
                        "test": [
                          0.9523833105,
                          0.03283266451
                        ],
                        "passed_time": 84.94444561,
                        "iteration": 949,
                        "remaining_time": 4.470760295,
                        "learn": [
                          0.03270083957
                        ]
                      },
                      {
                        "test": [
                          0.9523928074,
                          0.03283152112
                        ],
                        "passed_time": 85.03200327,
                        "iteration": 950,
                        "remaining_time": 4.38124938,
                        "learn": [
                          0.0326986518
                        ]
                      },
                      {
                        "test": [
                          0.9523912322,
                          0.03283134308
                        ],
                        "passed_time": 85.11336037,
                        "iteration": 951,
                        "remaining_time": 4.291429934,
                        "learn": [
                          0.03269597711
                        ]
                      },
                      {
                        "test": [
                          0.9524026263,
                          0.0328306612
                        ],
                        "passed_time": 85.26937844,
                        "iteration": 952,
                        "remaining_time": 4.205310374,
                        "learn": [
                          0.03269312337
                        ]
                      },
                      {
                        "test": [
                          0.9524054086,
                          0.03283077617
                        ],
                        "passed_time": 85.3603627,
                        "iteration": 953,
                        "remaining_time": 4.115908474,
                        "learn": [
                          0.03268996989
                        ]
                      },
                      {
                        "test": [
                          0.9524167452,
                          0.03282968254
                        ],
                        "passed_time": 85.44783824,
                        "iteration": 954,
                        "remaining_time": 4.026337927,
                        "learn": [
                          0.03268601752
                        ]
                      },
                      {
                        "test": [
                          0.9524167797,
                          0.03282949797
                        ],
                        "passed_time": 85.53379295,
                        "iteration": 955,
                        "remaining_time": 3.936701767,
                        "learn": [
                          0.03268331706
                        ]
                      },
                      {
                        "test": [
                          0.952417504,
                          0.03282940488
                        ],
                        "passed_time": 85.61268408,
                        "iteration": 956,
                        "remaining_time": 3.84675592,
                        "learn": [
                          0.03268022597
                        ]
                      },
                      {
                        "test": [
                          0.9524298293,
                          0.03282832603
                        ],
                        "passed_time": 85.70720238,
                        "iteration": 957,
                        "remaining_time": 3.757518267,
                        "learn": [
                          0.03267739665
                        ]
                      },
                      {
                        "test": [
                          0.9524447761,
                          0.03282835934
                        ],
                        "passed_time": 85.79949299,
                        "iteration": 958,
                        "remaining_time": 3.668174362,
                        "learn": [
                          0.03267327745
                        ]
                      },
                      {
                        "test": [
                          0.9524580787,
                          0.03282787421
                        ],
                        "passed_time": 85.88634824,
                        "iteration": 959,
                        "remaining_time": 3.578597843,
                        "learn": [
                          0.03267015788
                        ]
                      },
                      {
                        "test": [
                          0.9524630456,
                          0.03282680249
                        ],
                        "passed_time": 85.96653962,
                        "iteration": 960,
                        "remaining_time": 3.488756551,
                        "learn": [
                          0.03266649441
                        ]
                      },
                      {
                        "test": [
                          0.9524679435,
                          0.03282560531
                        ],
                        "passed_time": 86.05117984,
                        "iteration": 961,
                        "remaining_time": 3.399111054,
                        "learn": [
                          0.03266353624
                        ]
                      },
                      {
                        "test": [
                          0.9524809357,
                          0.03282479736
                        ],
                        "passed_time": 86.14106092,
                        "iteration": 962,
                        "remaining_time": 3.309677315,
                        "learn": [
                          0.03265951606
                        ]
                      },
                      {
                        "test": [
                          0.9524804528,
                          0.03282413725
                        ],
                        "passed_time": 86.27250039,
                        "iteration": 963,
                        "remaining_time": 3.22179462,
                        "learn": [
                          0.03265720757
                        ]
                      },
                      {
                        "test": [
                          0.9524893978,
                          0.03282272745
                        ],
                        "passed_time": 86.37775521,
                        "iteration": 964,
                        "remaining_time": 3.13287195,
                        "learn": [
                          0.03265421278
                        ]
                      },
                      {
                        "test": [
                          0.9524925137,
                          0.03282282365
                        ],
                        "passed_time": 86.46227816,
                        "iteration": 965,
                        "remaining_time": 3.043185774,
                        "learn": [
                          0.032651435
                        ]
                      },
                      {
                        "test": [
                          0.9525005504,
                          0.03282053961
                        ],
                        "passed_time": 86.56282139,
                        "iteration": 966,
                        "remaining_time": 2.954056986,
                        "learn": [
                          0.03264631212
                        ]
                      },
                      {
                        "test": [
                          0.9524994352,
                          0.03282001125
                        ],
                        "passed_time": 86.65128137,
                        "iteration": 967,
                        "remaining_time": 2.864505169,
                        "learn": [
                          0.03264373372
                        ]
                      },
                      {
                        "test": [
                          0.9525118065,
                          0.03281912655
                        ],
                        "passed_time": 86.74534513,
                        "iteration": 968,
                        "remaining_time": 2.77513488,
                        "learn": [
                          0.03264012044
                        ]
                      },
                      {
                        "test": [
                          0.9525197397,
                          0.03281820121
                        ],
                        "passed_time": 86.83235871,
                        "iteration": 969,
                        "remaining_time": 2.685536867,
                        "learn": [
                          0.03263555773
                        ]
                      },
                      {
                        "test": [
                          0.9525181071,
                          0.03281804849
                        ],
                        "passed_time": 86.9146761,
                        "iteration": 970,
                        "remaining_time": 2.595803921,
                        "learn": [
                          0.03263290609
                        ]
                      },
                      {
                        "test": [
                          0.9525224416,
                          0.03281736363
                        ],
                        "passed_time": 86.99508514,
                        "iteration": 971,
                        "remaining_time": 2.506031259,
                        "learn": [
                          0.03263031141
                        ]
                      },
                      {
                        "test": [
                          0.9525211999,
                          0.03281715207
                        ],
                        "passed_time": 87.08598448,
                        "iteration": 972,
                        "remaining_time": 2.416568942,
                        "learn": [
                          0.03262812771
                        ]
                      },
                      {
                        "test": [
                          0.9525193603,
                          0.03281603285
                        ],
                        "passed_time": 87.16971489,
                        "iteration": 973,
                        "remaining_time": 2.326912307,
                        "learn": [
                          0.03262435438
                        ]
                      },
                      {
                        "test": [
                          0.9525284433,
                          0.03281549717
                        ],
                        "passed_time": 87.25643118,
                        "iteration": 974,
                        "remaining_time": 2.237344389,
                        "learn": [
                          0.03262135959
                        ]
                      },
                      {
                        "test": [
                          0.9525340656,
                          0.03281448802
                        ],
                        "passed_time": 87.40863242,
                        "iteration": 975,
                        "remaining_time": 2.1493926,
                        "learn": [
                          0.03261919759
                        ]
                      },
                      {
                        "test": [
                          0.9525348819,
                          0.03281373957
                        ],
                        "passed_time": 87.50034753,
                        "iteration": 976,
                        "remaining_time": 2.059885356,
                        "learn": [
                          0.03261657308
                        ]
                      },
                      {
                        "test": [
                          0.9525357442,
                          0.03281191795
                        ],
                        "passed_time": 87.58302074,
                        "iteration": 977,
                        "remaining_time": 1.970170201,
                        "learn": [
                          0.03261245253
                        ]
                      },
                      {
                        "test": [
                          0.9525361352,
                          0.03281235735
                        ],
                        "passed_time": 87.67526902,
                        "iteration": 978,
                        "remaining_time": 1.880674821,
                        "learn": [
                          0.03261012099
                        ]
                      },
                      {
                        "test": [
                          0.9525592681,
                          0.03280934514
                        ],
                        "passed_time": 87.76726654,
                        "iteration": 979,
                        "remaining_time": 1.791168705,
                        "learn": [
                          0.0326038859
                        ]
                      },
                      {
                        "test": [
                          0.9525786069,
                          0.03280792345
                        ],
                        "passed_time": 87.85178163,
                        "iteration": 980,
                        "remaining_time": 1.70151259,
                        "learn": [
                          0.03259905463
                        ]
                      },
                      {
                        "test": [
                          0.9526000612,
                          0.03280609085
                        ],
                        "passed_time": 87.93621828,
                        "iteration": 981,
                        "remaining_time": 1.611865508,
                        "learn": [
                          0.03259605442
                        ]
                      },
                      {
                        "test": [
                          0.9526267239,
                          0.03280509037
                        ],
                        "passed_time": 88.01968172,
                        "iteration": 982,
                        "remaining_time": 1.522212197,
                        "learn": [
                          0.03259206679
                        ]
                      },
                      {
                        "test": [
                          0.9526325072,
                          0.03280367585
                        ],
                        "passed_time": 88.1051115,
                        "iteration": 983,
                        "remaining_time": 1.432603439,
                        "learn": [
                          0.03258800456
                        ]
                      },
                      {
                        "test": [
                          0.9526323577,
                          0.03280312694
                        ],
                        "passed_time": 88.19732688,
                        "iteration": 984,
                        "remaining_time": 1.343106501,
                        "learn": [
                          0.03258471544
                        ]
                      },
                      {
                        "test": [
                          0.9526341973,
                          0.03280315057
                        ],
                        "passed_time": 88.27553101,
                        "iteration": 985,
                        "remaining_time": 1.253405106,
                        "learn": [
                          0.0325825887
                        ]
                      },
                      {
                        "test": [
                          0.9526396241,
                          0.03280211702
                        ],
                        "passed_time": 88.4460146,
                        "iteration": 986,
                        "remaining_time": 1.164942442,
                        "learn": [
                          0.0325786716
                        ]
                      },
                      {
                        "test": [
                          0.9526486956,
                          0.03280195643
                        ],
                        "passed_time": 88.56066149,
                        "iteration": 987,
                        "remaining_time": 1.075635565,
                        "learn": [
                          0.03257479384
                        ]
                      },
                      {
                        "test": [
                          0.9526530187,
                          0.03280059395
                        ],
                        "passed_time": 88.64476874,
                        "iteration": 988,
                        "remaining_time": 0.9859377716,
                        "learn": [
                          0.03256961534
                        ]
                      },
                      {
                        "test": [
                          0.952649075,
                          0.03280049775
                        ],
                        "passed_time": 88.73715392,
                        "iteration": 989,
                        "remaining_time": 0.8963348881,
                        "learn": [
                          0.03256752387
                        ]
                      },
                      {
                        "test": [
                          0.9526474884,
                          0.03280094413
                        ],
                        "passed_time": 88.81835444,
                        "iteration": 990,
                        "remaining_time": 0.8066248132,
                        "learn": [
                          0.03256379937
                        ]
                      },
                      {
                        "test": [
                          0.9526464536,
                          0.0328010786
                        ],
                        "passed_time": 88.90151386,
                        "iteration": 991,
                        "remaining_time": 0.7169476924,
                        "learn": [
                          0.03255985243
                        ]
                      },
                      {
                        "test": [
                          0.9526486841,
                          0.03280036748
                        ],
                        "passed_time": 88.98761512,
                        "iteration": 992,
                        "remaining_time": 0.6273044369,
                        "learn": [
                          0.03255788981
                        ]
                      },
                      {
                        "test": [
                          0.9526452119,
                          0.03280054739
                        ],
                        "passed_time": 89.07068746,
                        "iteration": 993,
                        "remaining_time": 0.5376500249,
                        "learn": [
                          0.03255412191
                        ]
                      },
                      {
                        "test": [
                          0.9526468905,
                          0.03280034358
                        ],
                        "passed_time": 89.15374358,
                        "iteration": 994,
                        "remaining_time": 0.4480087617,
                        "learn": [
                          0.0325513699
                        ]
                      },
                      {
                        "test": [
                          0.9526504892,
                          0.03279978507
                        ],
                        "passed_time": 89.24448714,
                        "iteration": 995,
                        "remaining_time": 0.3584115949,
                        "learn": [
                          0.03254917806
                        ]
                      },
                      {
                        "test": [
                          0.9526547433,
                          0.03279914474
                        ],
                        "passed_time": 89.33070091,
                        "iteration": 996,
                        "remaining_time": 0.2687984982,
                        "learn": [
                          0.0325465549
                        ]
                      },
                      {
                        "test": [
                          0.952667839,
                          0.03279827573
                        ],
                        "passed_time": 89.41538051,
                        "iteration": 997,
                        "remaining_time": 0.1791891393,
                        "learn": [
                          0.03254306641
                        ]
                      },
                      {
                        "test": [
                          0.9526694601,
                          0.0327978029
                        ],
                        "passed_time": 89.56583166,
                        "iteration": 998,
                        "remaining_time": 0.08965548715,
                        "learn": [
                          0.03253935954
                        ]
                      },
                      {
                        "test": [
                          0.9526719551,
                          0.03279643583
                        ],
                        "passed_time": 89.66120331,
                        "iteration": 999,
                        "remaining_time": 0,
                        "learn": [
                          0.03253598497
                        ]
                      }
                    ]
                  },
                  "total_iterations": 1000,
                  "passed_iterations": 999
                },
                "path": "catboost_info",
                "name": "catboost_info"
              }
            },
            "_view_module": "catboost-widget",
            "_model_module_version": "^1.0.0",
            "_view_count": null,
            "_view_module_version": "^1.0.0",
            "layout": "IPY_MODEL_ee690490fe024fc28f97b26db2082a3d",
            "_model_module": "catboost-widget"
          }
        }
      }
    },
    "accelerator": "GPU"
  },
  "cells": [
    {
      "cell_type": "markdown",
      "source": [
        "### TEAM NAME : Brute_force\n",
        "### MEMBER1 : Khushal Rathi\n",
        "### MEMBER 2 : Siddharth Nilol \n"
      ],
      "metadata": {
        "id": "d-EUXukZ4EXh"
      }
    },
    {
      "cell_type": "markdown",
      "source": [
        "## INSTALLING LIBRARIES"
      ],
      "metadata": {
        "id": "9E-EfavEt74O"
      }
    },
    {
      "cell_type": "code",
      "source": [
        "!pip install --quiet  catboost optuna lightgbm scikit-optimize\n"
      ],
      "metadata": {
        "id": "SEuiALbFyCV2"
      },
      "execution_count": 2,
      "outputs": []
    },
    {
      "cell_type": "code",
      "source": [
        "import pandas as pd\n",
        "import matplotlib.pyplot as plt\n",
        "import numpy as np\n",
        "from sklearn.model_selection import train_test_split\n",
        "import sklearn\n",
        "from sklearn.model_selection import KFold\n",
        "from sklearn.metrics import roc_auc_score as auc\n",
        "from sklearn.model_selection import RepeatedStratifiedKFold\n",
        "from catboost import Pool, CatBoostClassifier\n"
      ],
      "metadata": {
        "id": "ohzS8QMOyKT7"
      },
      "execution_count": 3,
      "outputs": []
    },
    {
      "cell_type": "markdown",
      "source": [
        "## LOADING DATA"
      ],
      "metadata": {
        "id": "IlDwwZCAtXKz"
      }
    },
    {
      "cell_type": "code",
      "source": [
        "## Adjust the directories accordingly before loading data\n",
        "train_full=pd.read_csv('drive/MyDrive/Cascade cup/train.csv')\n",
        "test_full=pd.read_csv('drive/MyDrive/Cascade cup/test.csv')\n"
      ],
      "metadata": {
        "id": "ffKO3PTStWu2"
      },
      "execution_count": 4,
      "outputs": []
    },
    {
      "cell_type": "markdown",
      "source": [
        "## DATA PREPROCESSING AND FEATURE ENGINEERING"
      ],
      "metadata": {
        "id": "_9wERjnCtgai"
      }
    },
    {
      "cell_type": "code",
      "source": [
        "order_id = test_full['order_id']\n",
        "y_train=train_full['cancelled']\n",
        "\n",
        "train_full.drop(columns=['order_id','pickup_time','delivered_time','reassignment_reason','cancelled_time'],axis=1,inplace=True)\n",
        "test_full.drop(columns=['order_id','reassignment_reason'],axis=1,inplace=True)\n",
        "\n",
        "train_full.loc[:, 'order_time'] = pd.to_datetime(train_full['order_time'], format='%Y-%m-%d %H:%M:%S')\n",
        "train_full.loc[:, 'allot_time'] = pd.to_datetime(train_full['allot_time'], format='%Y-%m-%d %H:%M:%S')\n",
        "train_full.loc[:, 'accept_time'] = pd.to_datetime(train_full['accept_time'], format='%Y-%m-%d %H:%M:%S')\n",
        "train_full.loc[:, 'order_date'] = pd.to_datetime(train_full['order_date'], format='%Y-%m-%d %H:%M:%S')\n",
        "\n",
        "test_full.loc[:, 'order_time'] = pd.to_datetime(test_full['order_time'], format='%Y-%m-%d %H:%M:%S')\n",
        "test_full.loc[:, 'allot_time'] = pd.to_datetime(test_full['allot_time'], format='%Y-%m-%d %H:%M:%S')\n",
        "test_full.loc[:, 'accept_time'] = pd.to_datetime(test_full['accept_time'], format='%Y-%m-%d %H:%M:%S')\n",
        "test_full.loc[:, 'order_date'] = pd.to_datetime(test_full['order_date'], format='%Y-%m-%d %H:%M:%S')\n",
        "\n",
        "train_full.loc[:, 'order_day'] = train_full['order_time'].apply(lambda x: x.day)\n",
        "train_full.loc[:, 'order_month'] = train_full['order_time'].apply(lambda x: x.month)\n",
        "\n",
        "test_full.loc[:, 'order_day'] = test_full['order_time'].apply(lambda x: x.day)\n",
        "test_full.loc[:, 'order_month'] = test_full['order_time'].apply(lambda x: x.month)\n"
      ],
      "metadata": {
        "id": "FQ0MwMM7yP2b"
      },
      "execution_count": 5,
      "outputs": []
    },
    {
      "cell_type": "code",
      "source": [
        "x_train = train_full.drop(['cancelled'],axis=1)\n",
        "y_train=train_full['cancelled']\n",
        "x_test=test_full\n"
      ],
      "metadata": {
        "id": "v5L3Txa9yWau"
      },
      "execution_count": 6,
      "outputs": []
    },
    {
      "cell_type": "code",
      "source": [
        "def func1(reassignment_method):\n",
        "  if(reassignment_method=='auto'):\n",
        "    return 1\n",
        "  elif(reassignment_method=='manual'):\n",
        "    return 2\n",
        "  else:\n",
        "    return 3\n",
        "\n",
        "def func2(reassigned_order):\n",
        "  if(reassigned_order==1):\n",
        "    return 1\n",
        "  else:\n",
        "    return 2\n",
        "\n",
        "df1=train_full.apply(lambda row : func1(row['reassignment_method']), axis = 1)\n",
        "df2=train_full.apply(lambda row : func2(row['reassigned_order']), axis = 1)\n",
        "\n",
        "df1=pd.DataFrame(df1)\n",
        "df1.columns=['reassignment_method']\n",
        "\n",
        "df2=pd.DataFrame(df2)\n",
        "df2.columns=['reassigned_order']\n",
        "\n",
        "x_train.loc[:,'reassignment_method']=df1\n",
        "x_train.loc[:,'reassigned_order']=df2\n",
        "\n",
        "df1=test_full.apply(lambda row : func1(row['reassignment_method']), axis = 1)\n",
        "df2=test_full.apply(lambda row : func2(row['reassigned_order']), axis = 1)\n",
        "\n",
        "df1=pd.DataFrame(df1)\n",
        "df1.columns=['reassignment_method']\n",
        "\n",
        "df2=pd.DataFrame(df2)\n",
        "df2.columns=['reassigned_order']\n",
        "\n",
        "x_test.loc[:,'reassignment_method']=df1\n",
        "x_test.loc[:,'reassigned_order']=df2\n"
      ],
      "metadata": {
        "id": "Vg4x_CEeyWVr"
      },
      "execution_count": 7,
      "outputs": []
    },
    {
      "cell_type": "code",
      "source": [
        "x_train.loc[:, 'avg_mile_distance'] = (((x_train['first_mile_distance'] + x_train['last_mile_distance'])/2).apply(lambda x:x))\n",
        "x_train.loc[:, 'diff1'] = ((x_train['allot_time'] - x_train['order_time']).apply(lambda x: x.total_seconds()))\n",
        "x_train.loc[:, 'diff2'] = ((x_train['accept_time'] - x_train['allot_time']).apply(lambda x: x.total_seconds()))\n",
        "\n",
        "x_test.loc[:, 'avg_mile_distance'] = (((x_test['first_mile_distance'] + x_test['last_mile_distance'])/2).apply(lambda x:x))\n",
        "x_test.loc[:, 'diff1'] = ((x_test['allot_time'] - x_test['order_time']).apply(lambda x: x.total_seconds()))\n",
        "x_test.loc[:, 'diff2'] = ((x_test['accept_time'] - x_test['allot_time']).apply(lambda x: x.total_seconds()))\n"
      ],
      "metadata": {
        "id": "TBvGRxFCzK6V"
      },
      "execution_count": 8,
      "outputs": []
    },
    {
      "cell_type": "code",
      "source": [
        "orders_train=x_train[['rider_id','order_date','undelivered_orders']].fillna(0)\n",
        "orders_test=x_test[['rider_id','order_date','undelivered_orders']].fillna(0)\n",
        "orders_train['days_diff']=(x_train['order_time']-x_train['order_time'].iloc[0]).dt.days\n",
        "orders_test['days_diff']=(x_test['order_time']-x_test['order_time'].iloc[0]).dt.days\n"
      ],
      "metadata": {
        "id": "3P43b5m40lDI"
      },
      "execution_count": 9,
      "outputs": []
    },
    {
      "cell_type": "code",
      "source": [
        "groups=orders_train.groupby(['rider_id'])\n",
        "key = groups.groups.keys()\n",
        "order_train={}\n",
        "\n",
        "for i in key:\n",
        "    df=groups.get_group(i)\n",
        "    order_train[df['rider_id'].iloc[0]]=df['undelivered_orders'].iloc[0]\n",
        "\n",
        "def func1(undelivered_order,rider_id):\n",
        "    if(undelivered_order>order_train[rider_id]):\n",
        "      order_train[rider_id]=undelivered_order\n",
        "      return 1\n",
        "    else:\n",
        "      return 0\n",
        "\n",
        "df1 = orders_train.apply(lambda row : func1(row['undelivered_orders'],row['rider_id']), axis = 1)\n",
        "df_orders = pd.DataFrame(df1)\n",
        "df_orders.columns=['orders_change']\n",
        "orders_train.loc[:,'orders_change']=df_orders\n",
        "\n",
        "groups=orders_train.groupby(['rider_id'])\n",
        "key = groups.groups.keys()\n",
        "list_train=[]\n",
        "dates_train={}\n",
        "\n",
        "for i in key:\n",
        "    df=groups.get_group(i)\n",
        "    dates_train[df['rider_id'].iloc[0]]=df['order_date'].unique()\n",
        "    rows_where_order_change=df[df['orders_change']==1]\n",
        "    for index, row in rows_where_order_change.iterrows():\n",
        "        list_train.append([row['rider_id'],row['order_date']])\n",
        "\n",
        "list_train1=[]\n",
        "\n",
        "for i in list_train:\n",
        "  for j in range(len(dates_train[i[0]])):\n",
        "    if(dates_train[i[0]][j]==i[1]):\n",
        "      list_train1.append([i[0],dates_train[i[0]][j-1]])\n",
        "\n",
        "orders_train.loc[:,'order_change_final']=0\n",
        "for i in list_train1:\n",
        "  rows=orders_train[(orders_train['rider_id']==i[0])& (orders_train['order_date']==i[1])]\n",
        "  for index, row in rows.iterrows():\n",
        "    orders_train.at[index,'order_change_final']=1\n",
        "\n"
      ],
      "metadata": {
        "id": "LH5tNdmr0k8X"
      },
      "execution_count": 10,
      "outputs": []
    },
    {
      "cell_type": "code",
      "source": [
        "groups=orders_test.groupby(['rider_id'])\n",
        "key = groups.groups.keys()\n",
        "order_test={}\n",
        "\n",
        "for i in key:\n",
        "    df=groups.get_group(i)\n",
        "    order_test[df['rider_id'].iloc[0]]=df['undelivered_orders'].iloc[0]\n",
        "\n",
        "def func1(undelivered_order,rider_id):\n",
        "    if(undelivered_order>order_test[rider_id]):\n",
        "      order_test[rider_id]=undelivered_order\n",
        "      return 1\n",
        "    else:\n",
        "      return 0\n",
        "\n",
        "df1 = orders_test.apply(lambda row : func1(row['undelivered_orders'],row['rider_id']), axis = 1)\n",
        "df_orders = pd.DataFrame(df1)\n",
        "df_orders.columns=['orders_change']\n",
        "orders_test.loc[:,'orders_change']=df_orders\n",
        "\n",
        "groups=orders_test.groupby(['rider_id'])\n",
        "key = groups.groups.keys()\n",
        "list_test=[]\n",
        "dates_test={}\n",
        "\n",
        "for i in key:\n",
        "    df=groups.get_group(i)\n",
        "    dates_test[df['rider_id'].iloc[0]]=df['order_date'].unique()\n",
        "    rows_where_order_change=df[df['orders_change']==1]\n",
        "    for index, row in rows_where_order_change.iterrows():\n",
        "        list_test.append([row['rider_id'],row['order_date']])\n",
        "\n",
        "list_test1=[]\n",
        "\n",
        "for i in list_test:\n",
        "  for j in range(len(dates_test[i[0]])):\n",
        "    if(dates_test[i[0]][j]==i[1]):\n",
        "      list_test1.append([i[0],dates_test[i[0]][j-1]])\n",
        "\n",
        "\n",
        "orders_test.loc[:,'order_change_final']=0\n",
        "for i in list_test1:\n",
        "  rows=orders_test[(orders_test['rider_id']==i[0])& (orders_test['order_date']==i[1])]\n",
        "  for index, row in rows.iterrows():\n",
        "    orders_test.at[index,'order_change_final']=1\n"
      ],
      "metadata": {
        "id": "_gHVh7Bi0k2Y"
      },
      "execution_count": 11,
      "outputs": []
    },
    {
      "cell_type": "code",
      "source": [
        "x_train['order_change_final']=orders_train['order_change_final']\n",
        "x_test['order_change_final']=orders_test['order_change_final']\n"
      ],
      "metadata": {
        "id": "M-3ZZHEp0kv6"
      },
      "execution_count": 12,
      "outputs": []
    },
    {
      "cell_type": "code",
      "source": [
        "x_train.drop(columns=['order_time','allot_time','accept_time','order_date'],axis=1,inplace=True)\n",
        "x_test.drop(columns=['order_time','allot_time','accept_time','order_date'],axis=1,inplace=True)\n"
      ],
      "metadata": {
        "id": "p1lxt-Vx1Kfs"
      },
      "execution_count": 13,
      "outputs": []
    },
    {
      "cell_type": "code",
      "source": [
        "riders={}\n",
        "\n",
        "for index, row in x_train.iterrows():\n",
        "  if row['rider_id'] in riders.keys():\n",
        "    riders[row['rider_id']]+=1\n",
        "  else:\n",
        "    riders[row['rider_id']]=1\n",
        "  \n",
        "for index, row in x_test.iterrows():\n",
        "  if row['rider_id'] in riders.keys():\n",
        "    riders[row['rider_id']]+=1\n",
        "  else:\n",
        "    riders[row['rider_id']]=1\n"
      ],
      "metadata": {
        "id": "olwcEd8lSEyz"
      },
      "execution_count": 14,
      "outputs": []
    },
    {
      "cell_type": "code",
      "source": [
        "x_train['riders'] = x_train['rider_id'].apply(lambda x: riders[x])\n",
        "x_test['riders'] = x_test['rider_id'].apply(lambda x: riders[x])\n"
      ],
      "metadata": {
        "id": "5-Rfj3GhS8k2"
      },
      "execution_count": 15,
      "outputs": []
    },
    {
      "cell_type": "markdown",
      "source": [
        "## MODEL TRAINING"
      ],
      "metadata": {
        "id": "15EwT8K8trUU"
      }
    },
    {
      "cell_type": "code",
      "source": [
        "X_train, X_valid, Y_train, Y_valid = train_test_split(x_train, y_train,train_size=0.8, test_size=0.2,random_state=42) \n",
        "\n",
        "from catboost import Pool, CatBoostClassifier\n",
        "\n",
        "train_label = Y_train\n",
        "eval_label = Y_valid\n",
        "\n",
        "train_dataset = Pool(data=X_train,label=train_label)\n",
        "eval_dataset = Pool(data=X_valid,label=eval_label)\n",
        "\n",
        "# Initialize CatBoostClassifier\n",
        "model = CatBoostClassifier(iterations=1000,learning_rate=0.01,depth=8,loss_function='Logloss',\n",
        "                           eval_metric='AUC',use_best_model=True,random_seed=42\n",
        "                          ,l2_leaf_reg=8,early_stopping_rounds=100)\n",
        "\n",
        "model.fit(train_dataset,plot=True,eval_set=eval_dataset)\n",
        "pred_val=model.predict(X_valid)\n",
        "pred_test=model.predict(x_test)\n",
        "pred_probab_cat=model.predict_proba(x_test)\n"
      ],
      "metadata": {
        "colab": {
          "base_uri": "https://localhost:8080/",
          "height": 1000,
          "referenced_widgets": [
            "4dc2d9d8ab424804bf43b7a2a71efe26"
          ]
        },
        "id": "odi-VgVV1KZb",
        "outputId": "701e7707-c3a8-40bd-8dae-525f51a28445"
      },
      "execution_count": 16,
      "outputs": [
        {
          "output_type": "display_data",
          "data": {
            "application/vnd.jupyter.widget-view+json": {
              "model_id": "4dc2d9d8ab424804bf43b7a2a71efe26",
              "version_minor": 0,
              "version_major": 2
            },
            "text/plain": [
              "MetricVisualizer(layout=Layout(align_self='stretch', height='500px'))"
            ]
          },
          "metadata": {}
        },
        {
          "output_type": "stream",
          "name": "stdout",
          "text": [
            "0:\ttest: 0.8929456\tbest: 0.8929456 (0)\ttotal: 145ms\tremaining: 2m 25s\n",
            "1:\ttest: 0.9258365\tbest: 0.9258365 (1)\ttotal: 232ms\tremaining: 1m 55s\n",
            "2:\ttest: 0.9260263\tbest: 0.9260263 (2)\ttotal: 335ms\tremaining: 1m 51s\n",
            "3:\ttest: 0.9288127\tbest: 0.9288127 (3)\ttotal: 410ms\tremaining: 1m 42s\n",
            "4:\ttest: 0.9272901\tbest: 0.9288127 (3)\ttotal: 496ms\tremaining: 1m 38s\n",
            "5:\ttest: 0.9275245\tbest: 0.9288127 (3)\ttotal: 578ms\tremaining: 1m 35s\n",
            "6:\ttest: 0.9261876\tbest: 0.9288127 (3)\ttotal: 673ms\tremaining: 1m 35s\n",
            "7:\ttest: 0.9250331\tbest: 0.9288127 (3)\ttotal: 743ms\tremaining: 1m 32s\n",
            "8:\ttest: 0.9250509\tbest: 0.9288127 (3)\ttotal: 830ms\tremaining: 1m 31s\n",
            "9:\ttest: 0.9278561\tbest: 0.9288127 (3)\ttotal: 911ms\tremaining: 1m 30s\n",
            "10:\ttest: 0.9327554\tbest: 0.9327554 (10)\ttotal: 1s\tremaining: 1m 30s\n",
            "11:\ttest: 0.9313910\tbest: 0.9327554 (10)\ttotal: 1.09s\tremaining: 1m 29s\n",
            "12:\ttest: 0.9317338\tbest: 0.9327554 (10)\ttotal: 1.18s\tremaining: 1m 29s\n",
            "13:\ttest: 0.9301855\tbest: 0.9327554 (10)\ttotal: 1.25s\tremaining: 1m 28s\n",
            "14:\ttest: 0.9294963\tbest: 0.9327554 (10)\ttotal: 1.35s\tremaining: 1m 28s\n",
            "15:\ttest: 0.9307492\tbest: 0.9327554 (10)\ttotal: 1.44s\tremaining: 1m 28s\n",
            "16:\ttest: 0.9301745\tbest: 0.9327554 (10)\ttotal: 1.52s\tremaining: 1m 28s\n",
            "17:\ttest: 0.9306870\tbest: 0.9327554 (10)\ttotal: 1.61s\tremaining: 1m 27s\n",
            "18:\ttest: 0.9309819\tbest: 0.9327554 (10)\ttotal: 1.7s\tremaining: 1m 27s\n",
            "19:\ttest: 0.9315433\tbest: 0.9327554 (10)\ttotal: 1.79s\tremaining: 1m 27s\n",
            "20:\ttest: 0.9322006\tbest: 0.9327554 (10)\ttotal: 1.87s\tremaining: 1m 27s\n",
            "21:\ttest: 0.9320490\tbest: 0.9327554 (10)\ttotal: 1.95s\tremaining: 1m 26s\n",
            "22:\ttest: 0.9320428\tbest: 0.9327554 (10)\ttotal: 2.02s\tremaining: 1m 25s\n",
            "23:\ttest: 0.9323876\tbest: 0.9327554 (10)\ttotal: 2.11s\tremaining: 1m 25s\n",
            "24:\ttest: 0.9321219\tbest: 0.9327554 (10)\ttotal: 2.2s\tremaining: 1m 25s\n",
            "25:\ttest: 0.9317441\tbest: 0.9327554 (10)\ttotal: 2.29s\tremaining: 1m 25s\n",
            "26:\ttest: 0.9322848\tbest: 0.9327554 (10)\ttotal: 2.37s\tremaining: 1m 25s\n",
            "27:\ttest: 0.9317794\tbest: 0.9327554 (10)\ttotal: 2.46s\tremaining: 1m 25s\n",
            "28:\ttest: 0.9318998\tbest: 0.9327554 (10)\ttotal: 2.56s\tremaining: 1m 25s\n",
            "29:\ttest: 0.9322731\tbest: 0.9327554 (10)\ttotal: 2.65s\tremaining: 1m 25s\n",
            "30:\ttest: 0.9326504\tbest: 0.9327554 (10)\ttotal: 2.73s\tremaining: 1m 25s\n",
            "31:\ttest: 0.9324422\tbest: 0.9327554 (10)\ttotal: 2.83s\tremaining: 1m 25s\n",
            "32:\ttest: 0.9323007\tbest: 0.9327554 (10)\ttotal: 2.92s\tremaining: 1m 25s\n",
            "33:\ttest: 0.9318374\tbest: 0.9327554 (10)\ttotal: 2.99s\tremaining: 1m 24s\n",
            "34:\ttest: 0.9317774\tbest: 0.9327554 (10)\ttotal: 3.06s\tremaining: 1m 24s\n",
            "35:\ttest: 0.9318181\tbest: 0.9327554 (10)\ttotal: 3.15s\tremaining: 1m 24s\n",
            "36:\ttest: 0.9313608\tbest: 0.9327554 (10)\ttotal: 3.23s\tremaining: 1m 24s\n",
            "37:\ttest: 0.9315092\tbest: 0.9327554 (10)\ttotal: 3.33s\tremaining: 1m 24s\n",
            "38:\ttest: 0.9311911\tbest: 0.9327554 (10)\ttotal: 3.42s\tremaining: 1m 24s\n",
            "39:\ttest: 0.9312598\tbest: 0.9327554 (10)\ttotal: 3.5s\tremaining: 1m 24s\n",
            "40:\ttest: 0.9314186\tbest: 0.9327554 (10)\ttotal: 3.59s\tremaining: 1m 23s\n",
            "41:\ttest: 0.9317057\tbest: 0.9327554 (10)\ttotal: 3.69s\tremaining: 1m 24s\n",
            "42:\ttest: 0.9314172\tbest: 0.9327554 (10)\ttotal: 3.78s\tremaining: 1m 24s\n",
            "43:\ttest: 0.9314496\tbest: 0.9327554 (10)\ttotal: 3.86s\tremaining: 1m 23s\n",
            "44:\ttest: 0.9313399\tbest: 0.9327554 (10)\ttotal: 3.95s\tremaining: 1m 23s\n",
            "45:\ttest: 0.9310587\tbest: 0.9327554 (10)\ttotal: 4.04s\tremaining: 1m 23s\n",
            "46:\ttest: 0.9307058\tbest: 0.9327554 (10)\ttotal: 4.12s\tremaining: 1m 23s\n",
            "47:\ttest: 0.9309840\tbest: 0.9327554 (10)\ttotal: 4.2s\tremaining: 1m 23s\n",
            "48:\ttest: 0.9314499\tbest: 0.9327554 (10)\ttotal: 4.3s\tremaining: 1m 23s\n",
            "49:\ttest: 0.9315850\tbest: 0.9327554 (10)\ttotal: 4.4s\tremaining: 1m 23s\n",
            "50:\ttest: 0.9316669\tbest: 0.9327554 (10)\ttotal: 4.48s\tremaining: 1m 23s\n",
            "51:\ttest: 0.9318507\tbest: 0.9327554 (10)\ttotal: 4.56s\tremaining: 1m 23s\n",
            "52:\ttest: 0.9320886\tbest: 0.9327554 (10)\ttotal: 4.66s\tremaining: 1m 23s\n",
            "53:\ttest: 0.9319057\tbest: 0.9327554 (10)\ttotal: 4.75s\tremaining: 1m 23s\n",
            "54:\ttest: 0.9320276\tbest: 0.9327554 (10)\ttotal: 4.83s\tremaining: 1m 23s\n",
            "55:\ttest: 0.9321524\tbest: 0.9327554 (10)\ttotal: 4.9s\tremaining: 1m 22s\n",
            "56:\ttest: 0.9323812\tbest: 0.9327554 (10)\ttotal: 4.99s\tremaining: 1m 22s\n",
            "57:\ttest: 0.9325221\tbest: 0.9327554 (10)\ttotal: 5.08s\tremaining: 1m 22s\n",
            "58:\ttest: 0.9326524\tbest: 0.9327554 (10)\ttotal: 5.17s\tremaining: 1m 22s\n",
            "59:\ttest: 0.9328394\tbest: 0.9328394 (59)\ttotal: 5.26s\tremaining: 1m 22s\n",
            "60:\ttest: 0.9330742\tbest: 0.9330742 (60)\ttotal: 5.35s\tremaining: 1m 22s\n",
            "61:\ttest: 0.9333521\tbest: 0.9333521 (61)\ttotal: 5.44s\tremaining: 1m 22s\n",
            "62:\ttest: 0.9334302\tbest: 0.9334302 (62)\ttotal: 5.52s\tremaining: 1m 22s\n",
            "63:\ttest: 0.9335111\tbest: 0.9335111 (63)\ttotal: 5.6s\tremaining: 1m 21s\n",
            "64:\ttest: 0.9335984\tbest: 0.9335984 (64)\ttotal: 5.69s\tremaining: 1m 21s\n",
            "65:\ttest: 0.9338320\tbest: 0.9338320 (65)\ttotal: 5.79s\tremaining: 1m 21s\n",
            "66:\ttest: 0.9338642\tbest: 0.9338642 (66)\ttotal: 5.87s\tremaining: 1m 21s\n",
            "67:\ttest: 0.9339163\tbest: 0.9339163 (67)\ttotal: 5.95s\tremaining: 1m 21s\n",
            "68:\ttest: 0.9339977\tbest: 0.9339977 (68)\ttotal: 6.03s\tremaining: 1m 21s\n",
            "69:\ttest: 0.9342054\tbest: 0.9342054 (69)\ttotal: 6.12s\tremaining: 1m 21s\n",
            "70:\ttest: 0.9345337\tbest: 0.9345337 (70)\ttotal: 6.2s\tremaining: 1m 21s\n",
            "71:\ttest: 0.9346148\tbest: 0.9346148 (71)\ttotal: 6.28s\tremaining: 1m 20s\n",
            "72:\ttest: 0.9346642\tbest: 0.9346642 (72)\ttotal: 6.37s\tremaining: 1m 20s\n",
            "73:\ttest: 0.9348373\tbest: 0.9348373 (73)\ttotal: 6.45s\tremaining: 1m 20s\n",
            "74:\ttest: 0.9348812\tbest: 0.9348812 (74)\ttotal: 6.53s\tremaining: 1m 20s\n",
            "75:\ttest: 0.9350497\tbest: 0.9350497 (75)\ttotal: 6.61s\tremaining: 1m 20s\n",
            "76:\ttest: 0.9352376\tbest: 0.9352376 (76)\ttotal: 6.71s\tremaining: 1m 20s\n",
            "77:\ttest: 0.9354179\tbest: 0.9354179 (77)\ttotal: 6.79s\tremaining: 1m 20s\n",
            "78:\ttest: 0.9354371\tbest: 0.9354371 (78)\ttotal: 6.87s\tremaining: 1m 20s\n",
            "79:\ttest: 0.9355337\tbest: 0.9355337 (79)\ttotal: 6.96s\tremaining: 1m 19s\n",
            "80:\ttest: 0.9355683\tbest: 0.9355683 (80)\ttotal: 7.04s\tremaining: 1m 19s\n",
            "81:\ttest: 0.9357792\tbest: 0.9357792 (81)\ttotal: 7.12s\tremaining: 1m 19s\n",
            "82:\ttest: 0.9358579\tbest: 0.9358579 (82)\ttotal: 7.2s\tremaining: 1m 19s\n",
            "83:\ttest: 0.9359396\tbest: 0.9359396 (83)\ttotal: 7.28s\tremaining: 1m 19s\n",
            "84:\ttest: 0.9359676\tbest: 0.9359676 (84)\ttotal: 7.36s\tremaining: 1m 19s\n",
            "85:\ttest: 0.9360975\tbest: 0.9360975 (85)\ttotal: 7.45s\tremaining: 1m 19s\n",
            "86:\ttest: 0.9361199\tbest: 0.9361199 (86)\ttotal: 7.53s\tremaining: 1m 19s\n",
            "87:\ttest: 0.9362445\tbest: 0.9362445 (87)\ttotal: 7.62s\tremaining: 1m 18s\n",
            "88:\ttest: 0.9364283\tbest: 0.9364283 (88)\ttotal: 7.71s\tremaining: 1m 18s\n",
            "89:\ttest: 0.9364505\tbest: 0.9364505 (89)\ttotal: 7.79s\tremaining: 1m 18s\n",
            "90:\ttest: 0.9364959\tbest: 0.9364959 (90)\ttotal: 7.87s\tremaining: 1m 18s\n",
            "91:\ttest: 0.9365255\tbest: 0.9365255 (91)\ttotal: 7.95s\tremaining: 1m 18s\n",
            "92:\ttest: 0.9366624\tbest: 0.9366624 (92)\ttotal: 8.04s\tremaining: 1m 18s\n",
            "93:\ttest: 0.9366913\tbest: 0.9366913 (93)\ttotal: 8.12s\tremaining: 1m 18s\n",
            "94:\ttest: 0.9368157\tbest: 0.9368157 (94)\ttotal: 8.2s\tremaining: 1m 18s\n",
            "95:\ttest: 0.9368829\tbest: 0.9368829 (95)\ttotal: 8.28s\tremaining: 1m 17s\n",
            "96:\ttest: 0.9369045\tbest: 0.9369045 (96)\ttotal: 8.36s\tremaining: 1m 17s\n",
            "97:\ttest: 0.9370121\tbest: 0.9370121 (97)\ttotal: 8.45s\tremaining: 1m 17s\n",
            "98:\ttest: 0.9371693\tbest: 0.9371693 (98)\ttotal: 8.53s\tremaining: 1m 17s\n",
            "99:\ttest: 0.9371943\tbest: 0.9371943 (99)\ttotal: 8.61s\tremaining: 1m 17s\n",
            "100:\ttest: 0.9373062\tbest: 0.9373062 (100)\ttotal: 8.7s\tremaining: 1m 17s\n",
            "101:\ttest: 0.9373529\tbest: 0.9373529 (101)\ttotal: 8.78s\tremaining: 1m 17s\n",
            "102:\ttest: 0.9374457\tbest: 0.9374457 (102)\ttotal: 8.86s\tremaining: 1m 17s\n",
            "103:\ttest: 0.9375980\tbest: 0.9375980 (103)\ttotal: 8.95s\tremaining: 1m 17s\n",
            "104:\ttest: 0.9376378\tbest: 0.9376378 (104)\ttotal: 9.03s\tremaining: 1m 16s\n",
            "105:\ttest: 0.9377740\tbest: 0.9377740 (105)\ttotal: 9.11s\tremaining: 1m 16s\n",
            "106:\ttest: 0.9378210\tbest: 0.9378210 (106)\ttotal: 9.19s\tremaining: 1m 16s\n",
            "107:\ttest: 0.9379215\tbest: 0.9379215 (107)\ttotal: 9.27s\tremaining: 1m 16s\n",
            "108:\ttest: 0.9379573\tbest: 0.9379573 (108)\ttotal: 9.35s\tremaining: 1m 16s\n",
            "109:\ttest: 0.9379853\tbest: 0.9379853 (109)\ttotal: 9.45s\tremaining: 1m 16s\n",
            "110:\ttest: 0.9380598\tbest: 0.9380598 (110)\ttotal: 9.54s\tremaining: 1m 16s\n",
            "111:\ttest: 0.9381596\tbest: 0.9381596 (111)\ttotal: 9.62s\tremaining: 1m 16s\n",
            "112:\ttest: 0.9382107\tbest: 0.9382107 (112)\ttotal: 9.72s\tremaining: 1m 16s\n",
            "113:\ttest: 0.9382748\tbest: 0.9382748 (113)\ttotal: 9.8s\tremaining: 1m 16s\n",
            "114:\ttest: 0.9383688\tbest: 0.9383688 (114)\ttotal: 9.88s\tremaining: 1m 16s\n",
            "115:\ttest: 0.9385074\tbest: 0.9385074 (115)\ttotal: 9.97s\tremaining: 1m 15s\n",
            "116:\ttest: 0.9385730\tbest: 0.9385730 (116)\ttotal: 10.1s\tremaining: 1m 15s\n",
            "117:\ttest: 0.9386837\tbest: 0.9386837 (117)\ttotal: 10.1s\tremaining: 1m 15s\n",
            "118:\ttest: 0.9387669\tbest: 0.9387669 (118)\ttotal: 10.2s\tremaining: 1m 15s\n",
            "119:\ttest: 0.9388044\tbest: 0.9388044 (119)\ttotal: 10.3s\tremaining: 1m 15s\n",
            "120:\ttest: 0.9388675\tbest: 0.9388675 (120)\ttotal: 10.4s\tremaining: 1m 15s\n",
            "121:\ttest: 0.9389013\tbest: 0.9389013 (121)\ttotal: 10.5s\tremaining: 1m 15s\n",
            "122:\ttest: 0.9389409\tbest: 0.9389409 (122)\ttotal: 10.5s\tremaining: 1m 15s\n",
            "123:\ttest: 0.9390310\tbest: 0.9390310 (123)\ttotal: 10.6s\tremaining: 1m 15s\n",
            "124:\ttest: 0.9390910\tbest: 0.9390910 (124)\ttotal: 10.7s\tremaining: 1m 15s\n",
            "125:\ttest: 0.9391620\tbest: 0.9391620 (125)\ttotal: 10.8s\tremaining: 1m 14s\n",
            "126:\ttest: 0.9391997\tbest: 0.9391997 (126)\ttotal: 10.9s\tremaining: 1m 14s\n",
            "127:\ttest: 0.9392669\tbest: 0.9392669 (127)\ttotal: 11s\tremaining: 1m 14s\n",
            "128:\ttest: 0.9393027\tbest: 0.9393027 (128)\ttotal: 11.1s\tremaining: 1m 14s\n",
            "129:\ttest: 0.9393546\tbest: 0.9393546 (129)\ttotal: 11.1s\tremaining: 1m 14s\n",
            "130:\ttest: 0.9393944\tbest: 0.9393944 (130)\ttotal: 11.2s\tremaining: 1m 14s\n",
            "131:\ttest: 0.9394874\tbest: 0.9394874 (131)\ttotal: 11.3s\tremaining: 1m 14s\n",
            "132:\ttest: 0.9395287\tbest: 0.9395287 (132)\ttotal: 11.4s\tremaining: 1m 14s\n",
            "133:\ttest: 0.9395681\tbest: 0.9395681 (133)\ttotal: 11.5s\tremaining: 1m 14s\n",
            "134:\ttest: 0.9396046\tbest: 0.9396046 (134)\ttotal: 11.6s\tremaining: 1m 14s\n",
            "135:\ttest: 0.9396788\tbest: 0.9396788 (135)\ttotal: 11.6s\tremaining: 1m 13s\n",
            "136:\ttest: 0.9396829\tbest: 0.9396829 (136)\ttotal: 11.7s\tremaining: 1m 13s\n",
            "137:\ttest: 0.9397603\tbest: 0.9397603 (137)\ttotal: 11.8s\tremaining: 1m 13s\n",
            "138:\ttest: 0.9397490\tbest: 0.9397603 (137)\ttotal: 11.9s\tremaining: 1m 13s\n",
            "139:\ttest: 0.9397900\tbest: 0.9397900 (139)\ttotal: 12s\tremaining: 1m 13s\n",
            "140:\ttest: 0.9398459\tbest: 0.9398459 (140)\ttotal: 12.1s\tremaining: 1m 13s\n",
            "141:\ttest: 0.9398815\tbest: 0.9398815 (141)\ttotal: 12.2s\tremaining: 1m 13s\n",
            "142:\ttest: 0.9399555\tbest: 0.9399555 (142)\ttotal: 12.2s\tremaining: 1m 13s\n",
            "143:\ttest: 0.9399994\tbest: 0.9399994 (143)\ttotal: 12.3s\tremaining: 1m 13s\n",
            "144:\ttest: 0.9400167\tbest: 0.9400167 (144)\ttotal: 12.4s\tremaining: 1m 13s\n",
            "145:\ttest: 0.9401290\tbest: 0.9401290 (145)\ttotal: 12.5s\tremaining: 1m 13s\n",
            "146:\ttest: 0.9401361\tbest: 0.9401361 (146)\ttotal: 12.6s\tremaining: 1m 12s\n",
            "147:\ttest: 0.9401552\tbest: 0.9401552 (147)\ttotal: 12.6s\tremaining: 1m 12s\n",
            "148:\ttest: 0.9401900\tbest: 0.9401900 (148)\ttotal: 12.7s\tremaining: 1m 12s\n",
            "149:\ttest: 0.9402280\tbest: 0.9402280 (149)\ttotal: 12.8s\tremaining: 1m 12s\n",
            "150:\ttest: 0.9401308\tbest: 0.9402280 (149)\ttotal: 12.9s\tremaining: 1m 12s\n",
            "151:\ttest: 0.9402342\tbest: 0.9402342 (151)\ttotal: 13s\tremaining: 1m 12s\n",
            "152:\ttest: 0.9403144\tbest: 0.9403144 (152)\ttotal: 13.1s\tremaining: 1m 12s\n",
            "153:\ttest: 0.9403331\tbest: 0.9403331 (153)\ttotal: 13.2s\tremaining: 1m 12s\n",
            "154:\ttest: 0.9403604\tbest: 0.9403604 (154)\ttotal: 13.2s\tremaining: 1m 12s\n",
            "155:\ttest: 0.9403461\tbest: 0.9403604 (154)\ttotal: 13.3s\tremaining: 1m 12s\n",
            "156:\ttest: 0.9403484\tbest: 0.9403604 (154)\ttotal: 13.4s\tremaining: 1m 11s\n",
            "157:\ttest: 0.9403557\tbest: 0.9403604 (154)\ttotal: 13.5s\tremaining: 1m 11s\n",
            "158:\ttest: 0.9404423\tbest: 0.9404423 (158)\ttotal: 13.6s\tremaining: 1m 11s\n",
            "159:\ttest: 0.9404562\tbest: 0.9404562 (159)\ttotal: 13.7s\tremaining: 1m 11s\n",
            "160:\ttest: 0.9405014\tbest: 0.9405014 (160)\ttotal: 13.8s\tremaining: 1m 11s\n",
            "161:\ttest: 0.9405475\tbest: 0.9405475 (161)\ttotal: 13.8s\tremaining: 1m 11s\n",
            "162:\ttest: 0.9406203\tbest: 0.9406203 (162)\ttotal: 13.9s\tremaining: 1m 11s\n",
            "163:\ttest: 0.9405713\tbest: 0.9406203 (162)\ttotal: 14s\tremaining: 1m 11s\n",
            "164:\ttest: 0.9406001\tbest: 0.9406203 (162)\ttotal: 14.1s\tremaining: 1m 11s\n",
            "165:\ttest: 0.9406285\tbest: 0.9406285 (165)\ttotal: 14.2s\tremaining: 1m 11s\n",
            "166:\ttest: 0.9406458\tbest: 0.9406458 (166)\ttotal: 14.3s\tremaining: 1m 11s\n",
            "167:\ttest: 0.9406525\tbest: 0.9406525 (167)\ttotal: 14.3s\tremaining: 1m 10s\n",
            "168:\ttest: 0.9407109\tbest: 0.9407109 (168)\ttotal: 14.4s\tremaining: 1m 10s\n",
            "169:\ttest: 0.9406583\tbest: 0.9407109 (168)\ttotal: 14.5s\tremaining: 1m 10s\n",
            "170:\ttest: 0.9407332\tbest: 0.9407332 (170)\ttotal: 14.6s\tremaining: 1m 10s\n",
            "171:\ttest: 0.9407016\tbest: 0.9407332 (170)\ttotal: 14.7s\tremaining: 1m 10s\n",
            "172:\ttest: 0.9407482\tbest: 0.9407482 (172)\ttotal: 14.8s\tremaining: 1m 10s\n",
            "173:\ttest: 0.9408209\tbest: 0.9408209 (173)\ttotal: 14.9s\tremaining: 1m 10s\n",
            "174:\ttest: 0.9408781\tbest: 0.9408781 (174)\ttotal: 14.9s\tremaining: 1m 10s\n",
            "175:\ttest: 0.9408447\tbest: 0.9408781 (174)\ttotal: 15s\tremaining: 1m 10s\n",
            "176:\ttest: 0.9408589\tbest: 0.9408781 (174)\ttotal: 15.1s\tremaining: 1m 10s\n",
            "177:\ttest: 0.9408662\tbest: 0.9408781 (174)\ttotal: 15.2s\tremaining: 1m 10s\n",
            "178:\ttest: 0.9409157\tbest: 0.9409157 (178)\ttotal: 15.3s\tremaining: 1m 10s\n",
            "179:\ttest: 0.9409474\tbest: 0.9409474 (179)\ttotal: 15.3s\tremaining: 1m 9s\n",
            "180:\ttest: 0.9412095\tbest: 0.9412095 (180)\ttotal: 15.4s\tremaining: 1m 9s\n",
            "181:\ttest: 0.9411969\tbest: 0.9412095 (180)\ttotal: 15.5s\tremaining: 1m 9s\n",
            "182:\ttest: 0.9412200\tbest: 0.9412200 (182)\ttotal: 15.6s\tremaining: 1m 9s\n",
            "183:\ttest: 0.9412470\tbest: 0.9412470 (183)\ttotal: 15.7s\tremaining: 1m 9s\n",
            "184:\ttest: 0.9412361\tbest: 0.9412470 (183)\ttotal: 15.8s\tremaining: 1m 9s\n",
            "185:\ttest: 0.9412772\tbest: 0.9412772 (185)\ttotal: 15.9s\tremaining: 1m 9s\n",
            "186:\ttest: 0.9412711\tbest: 0.9412772 (185)\ttotal: 16s\tremaining: 1m 9s\n",
            "187:\ttest: 0.9412637\tbest: 0.9412772 (185)\ttotal: 16s\tremaining: 1m 9s\n",
            "188:\ttest: 0.9413190\tbest: 0.9413190 (188)\ttotal: 16.1s\tremaining: 1m 9s\n",
            "189:\ttest: 0.9415234\tbest: 0.9415234 (189)\ttotal: 16.2s\tremaining: 1m 9s\n",
            "190:\ttest: 0.9415282\tbest: 0.9415282 (190)\ttotal: 16.3s\tremaining: 1m 9s\n",
            "191:\ttest: 0.9415833\tbest: 0.9415833 (191)\ttotal: 16.4s\tremaining: 1m 8s\n",
            "192:\ttest: 0.9416282\tbest: 0.9416282 (192)\ttotal: 16.5s\tremaining: 1m 8s\n",
            "193:\ttest: 0.9416072\tbest: 0.9416282 (192)\ttotal: 16.5s\tremaining: 1m 8s\n",
            "194:\ttest: 0.9416595\tbest: 0.9416595 (194)\ttotal: 16.6s\tremaining: 1m 8s\n",
            "195:\ttest: 0.9416707\tbest: 0.9416707 (195)\ttotal: 16.7s\tremaining: 1m 8s\n",
            "196:\ttest: 0.9416957\tbest: 0.9416957 (196)\ttotal: 16.8s\tremaining: 1m 8s\n",
            "197:\ttest: 0.9417606\tbest: 0.9417606 (197)\ttotal: 16.9s\tremaining: 1m 8s\n",
            "198:\ttest: 0.9418231\tbest: 0.9418231 (198)\ttotal: 17s\tremaining: 1m 8s\n",
            "199:\ttest: 0.9418216\tbest: 0.9418231 (198)\ttotal: 17.1s\tremaining: 1m 8s\n",
            "200:\ttest: 0.9418755\tbest: 0.9418755 (200)\ttotal: 17.1s\tremaining: 1m 8s\n",
            "201:\ttest: 0.9418953\tbest: 0.9418953 (201)\ttotal: 17.2s\tremaining: 1m 8s\n",
            "202:\ttest: 0.9419282\tbest: 0.9419282 (202)\ttotal: 17.3s\tremaining: 1m 7s\n",
            "203:\ttest: 0.9418946\tbest: 0.9419282 (202)\ttotal: 17.4s\tremaining: 1m 7s\n",
            "204:\ttest: 0.9419848\tbest: 0.9419848 (204)\ttotal: 17.5s\tremaining: 1m 7s\n",
            "205:\ttest: 0.9420780\tbest: 0.9420780 (205)\ttotal: 17.6s\tremaining: 1m 7s\n",
            "206:\ttest: 0.9420467\tbest: 0.9420780 (205)\ttotal: 17.6s\tremaining: 1m 7s\n",
            "207:\ttest: 0.9420943\tbest: 0.9420943 (207)\ttotal: 17.7s\tremaining: 1m 7s\n",
            "208:\ttest: 0.9421104\tbest: 0.9421104 (208)\ttotal: 17.8s\tremaining: 1m 7s\n",
            "209:\ttest: 0.9421624\tbest: 0.9421624 (209)\ttotal: 17.9s\tremaining: 1m 7s\n",
            "210:\ttest: 0.9421602\tbest: 0.9421624 (209)\ttotal: 18s\tremaining: 1m 7s\n",
            "211:\ttest: 0.9421903\tbest: 0.9421903 (211)\ttotal: 18.1s\tremaining: 1m 7s\n",
            "212:\ttest: 0.9422002\tbest: 0.9422002 (212)\ttotal: 18.2s\tremaining: 1m 7s\n",
            "213:\ttest: 0.9422092\tbest: 0.9422092 (213)\ttotal: 18.3s\tremaining: 1m 7s\n",
            "214:\ttest: 0.9424247\tbest: 0.9424247 (214)\ttotal: 18.3s\tremaining: 1m 6s\n",
            "215:\ttest: 0.9424043\tbest: 0.9424247 (214)\ttotal: 18.4s\tremaining: 1m 6s\n",
            "216:\ttest: 0.9424171\tbest: 0.9424247 (214)\ttotal: 18.5s\tremaining: 1m 6s\n",
            "217:\ttest: 0.9424655\tbest: 0.9424655 (217)\ttotal: 18.6s\tremaining: 1m 6s\n",
            "218:\ttest: 0.9424969\tbest: 0.9424969 (218)\ttotal: 18.7s\tremaining: 1m 6s\n",
            "219:\ttest: 0.9425226\tbest: 0.9425226 (219)\ttotal: 18.8s\tremaining: 1m 6s\n",
            "220:\ttest: 0.9424903\tbest: 0.9425226 (219)\ttotal: 18.9s\tremaining: 1m 6s\n",
            "221:\ttest: 0.9424910\tbest: 0.9425226 (219)\ttotal: 18.9s\tremaining: 1m 6s\n",
            "222:\ttest: 0.9424965\tbest: 0.9425226 (219)\ttotal: 19s\tremaining: 1m 6s\n",
            "223:\ttest: 0.9425121\tbest: 0.9425226 (219)\ttotal: 19.1s\tremaining: 1m 6s\n",
            "224:\ttest: 0.9425536\tbest: 0.9425536 (224)\ttotal: 19.2s\tremaining: 1m 6s\n",
            "225:\ttest: 0.9425328\tbest: 0.9425536 (224)\ttotal: 19.3s\tremaining: 1m 6s\n",
            "226:\ttest: 0.9425956\tbest: 0.9425956 (226)\ttotal: 19.4s\tremaining: 1m 5s\n",
            "227:\ttest: 0.9426107\tbest: 0.9426107 (227)\ttotal: 19.5s\tremaining: 1m 5s\n",
            "228:\ttest: 0.9426276\tbest: 0.9426276 (228)\ttotal: 19.5s\tremaining: 1m 5s\n",
            "229:\ttest: 0.9425898\tbest: 0.9426276 (228)\ttotal: 19.6s\tremaining: 1m 5s\n",
            "230:\ttest: 0.9426003\tbest: 0.9426276 (228)\ttotal: 19.7s\tremaining: 1m 5s\n",
            "231:\ttest: 0.9426243\tbest: 0.9426276 (228)\ttotal: 19.8s\tremaining: 1m 5s\n",
            "232:\ttest: 0.9426595\tbest: 0.9426595 (232)\ttotal: 19.9s\tremaining: 1m 5s\n",
            "233:\ttest: 0.9426786\tbest: 0.9426786 (233)\ttotal: 20s\tremaining: 1m 5s\n",
            "234:\ttest: 0.9426929\tbest: 0.9426929 (234)\ttotal: 20.1s\tremaining: 1m 5s\n",
            "235:\ttest: 0.9427065\tbest: 0.9427065 (235)\ttotal: 20.2s\tremaining: 1m 5s\n",
            "236:\ttest: 0.9427278\tbest: 0.9427278 (236)\ttotal: 20.3s\tremaining: 1m 5s\n",
            "237:\ttest: 0.9427650\tbest: 0.9427650 (237)\ttotal: 20.4s\tremaining: 1m 5s\n",
            "238:\ttest: 0.9427729\tbest: 0.9427729 (238)\ttotal: 20.4s\tremaining: 1m 5s\n",
            "239:\ttest: 0.9427976\tbest: 0.9427976 (239)\ttotal: 20.5s\tremaining: 1m 4s\n",
            "240:\ttest: 0.9428186\tbest: 0.9428186 (240)\ttotal: 20.6s\tremaining: 1m 4s\n",
            "241:\ttest: 0.9428087\tbest: 0.9428186 (240)\ttotal: 20.7s\tremaining: 1m 4s\n",
            "242:\ttest: 0.9428154\tbest: 0.9428186 (240)\ttotal: 20.8s\tremaining: 1m 4s\n",
            "243:\ttest: 0.9428103\tbest: 0.9428186 (240)\ttotal: 20.9s\tremaining: 1m 4s\n",
            "244:\ttest: 0.9428509\tbest: 0.9428509 (244)\ttotal: 21s\tremaining: 1m 4s\n",
            "245:\ttest: 0.9428854\tbest: 0.9428854 (245)\ttotal: 21.1s\tremaining: 1m 4s\n",
            "246:\ttest: 0.9429118\tbest: 0.9429118 (246)\ttotal: 21.2s\tremaining: 1m 4s\n",
            "247:\ttest: 0.9429172\tbest: 0.9429172 (247)\ttotal: 21.2s\tremaining: 1m 4s\n",
            "248:\ttest: 0.9430473\tbest: 0.9430473 (248)\ttotal: 21.3s\tremaining: 1m 4s\n",
            "249:\ttest: 0.9430738\tbest: 0.9430738 (249)\ttotal: 21.4s\tremaining: 1m 4s\n",
            "250:\ttest: 0.9430808\tbest: 0.9430808 (250)\ttotal: 21.5s\tremaining: 1m 4s\n",
            "251:\ttest: 0.9430924\tbest: 0.9430924 (251)\ttotal: 21.6s\tremaining: 1m 4s\n",
            "252:\ttest: 0.9430661\tbest: 0.9430924 (251)\ttotal: 21.7s\tremaining: 1m 3s\n",
            "253:\ttest: 0.9430627\tbest: 0.9430924 (251)\ttotal: 21.7s\tremaining: 1m 3s\n",
            "254:\ttest: 0.9430716\tbest: 0.9430924 (251)\ttotal: 21.8s\tremaining: 1m 3s\n",
            "255:\ttest: 0.9430545\tbest: 0.9430924 (251)\ttotal: 21.9s\tremaining: 1m 3s\n",
            "256:\ttest: 0.9430359\tbest: 0.9430924 (251)\ttotal: 22s\tremaining: 1m 3s\n",
            "257:\ttest: 0.9430554\tbest: 0.9430924 (251)\ttotal: 22.1s\tremaining: 1m 3s\n",
            "258:\ttest: 0.9430827\tbest: 0.9430924 (251)\ttotal: 22.2s\tremaining: 1m 3s\n",
            "259:\ttest: 0.9431009\tbest: 0.9431009 (259)\ttotal: 22.3s\tremaining: 1m 3s\n",
            "260:\ttest: 0.9431147\tbest: 0.9431147 (260)\ttotal: 22.4s\tremaining: 1m 3s\n",
            "261:\ttest: 0.9431008\tbest: 0.9431147 (260)\ttotal: 22.4s\tremaining: 1m 3s\n",
            "262:\ttest: 0.9431252\tbest: 0.9431252 (262)\ttotal: 22.5s\tremaining: 1m 3s\n",
            "263:\ttest: 0.9433071\tbest: 0.9433071 (263)\ttotal: 22.6s\tremaining: 1m 3s\n",
            "264:\ttest: 0.9434005\tbest: 0.9434005 (264)\ttotal: 22.7s\tremaining: 1m 2s\n",
            "265:\ttest: 0.9434152\tbest: 0.9434152 (265)\ttotal: 22.8s\tremaining: 1m 2s\n",
            "266:\ttest: 0.9434287\tbest: 0.9434287 (266)\ttotal: 22.9s\tremaining: 1m 2s\n",
            "267:\ttest: 0.9434206\tbest: 0.9434287 (266)\ttotal: 23s\tremaining: 1m 2s\n",
            "268:\ttest: 0.9434405\tbest: 0.9434405 (268)\ttotal: 23.1s\tremaining: 1m 2s\n",
            "269:\ttest: 0.9434684\tbest: 0.9434684 (269)\ttotal: 23.1s\tremaining: 1m 2s\n",
            "270:\ttest: 0.9435488\tbest: 0.9435488 (270)\ttotal: 23.2s\tremaining: 1m 2s\n",
            "271:\ttest: 0.9435677\tbest: 0.9435677 (271)\ttotal: 23.3s\tremaining: 1m 2s\n",
            "272:\ttest: 0.9435763\tbest: 0.9435763 (272)\ttotal: 23.4s\tremaining: 1m 2s\n",
            "273:\ttest: 0.9435970\tbest: 0.9435970 (273)\ttotal: 23.5s\tremaining: 1m 2s\n",
            "274:\ttest: 0.9435794\tbest: 0.9435970 (273)\ttotal: 23.5s\tremaining: 1m 2s\n",
            "275:\ttest: 0.9436241\tbest: 0.9436241 (275)\ttotal: 23.6s\tremaining: 1m 2s\n",
            "276:\ttest: 0.9436493\tbest: 0.9436493 (276)\ttotal: 23.7s\tremaining: 1m 1s\n",
            "277:\ttest: 0.9436662\tbest: 0.9436662 (277)\ttotal: 23.8s\tremaining: 1m 1s\n",
            "278:\ttest: 0.9436601\tbest: 0.9436662 (277)\ttotal: 23.9s\tremaining: 1m 1s\n",
            "279:\ttest: 0.9436811\tbest: 0.9436811 (279)\ttotal: 24s\tremaining: 1m 1s\n",
            "280:\ttest: 0.9437010\tbest: 0.9437010 (280)\ttotal: 24.1s\tremaining: 1m 1s\n",
            "281:\ttest: 0.9437286\tbest: 0.9437286 (281)\ttotal: 24.2s\tremaining: 1m 1s\n",
            "282:\ttest: 0.9437356\tbest: 0.9437356 (282)\ttotal: 24.3s\tremaining: 1m 1s\n",
            "283:\ttest: 0.9437433\tbest: 0.9437433 (283)\ttotal: 24.3s\tremaining: 1m 1s\n",
            "284:\ttest: 0.9437519\tbest: 0.9437519 (284)\ttotal: 24.4s\tremaining: 1m 1s\n",
            "285:\ttest: 0.9438338\tbest: 0.9438338 (285)\ttotal: 24.5s\tremaining: 1m 1s\n",
            "286:\ttest: 0.9438400\tbest: 0.9438400 (286)\ttotal: 24.6s\tremaining: 1m 1s\n",
            "287:\ttest: 0.9438580\tbest: 0.9438580 (287)\ttotal: 24.7s\tremaining: 1m 1s\n",
            "288:\ttest: 0.9438746\tbest: 0.9438746 (288)\ttotal: 24.8s\tremaining: 1m\n",
            "289:\ttest: 0.9438688\tbest: 0.9438746 (288)\ttotal: 24.9s\tremaining: 1m\n",
            "290:\ttest: 0.9439819\tbest: 0.9439819 (290)\ttotal: 25s\tremaining: 1m\n",
            "291:\ttest: 0.9439978\tbest: 0.9439978 (291)\ttotal: 25.1s\tremaining: 1m\n",
            "292:\ttest: 0.9440326\tbest: 0.9440326 (292)\ttotal: 25.1s\tremaining: 1m\n",
            "293:\ttest: 0.9440703\tbest: 0.9440703 (293)\ttotal: 25.2s\tremaining: 1m\n",
            "294:\ttest: 0.9440750\tbest: 0.9440750 (294)\ttotal: 25.3s\tremaining: 1m\n",
            "295:\ttest: 0.9440818\tbest: 0.9440818 (295)\ttotal: 25.4s\tremaining: 1m\n",
            "296:\ttest: 0.9442302\tbest: 0.9442302 (296)\ttotal: 25.5s\tremaining: 1m\n",
            "297:\ttest: 0.9442092\tbest: 0.9442302 (296)\ttotal: 25.6s\tremaining: 1m\n",
            "298:\ttest: 0.9442131\tbest: 0.9442302 (296)\ttotal: 25.6s\tremaining: 1m\n",
            "299:\ttest: 0.9442718\tbest: 0.9442718 (299)\ttotal: 25.7s\tremaining: 1m\n",
            "300:\ttest: 0.9443127\tbest: 0.9443127 (300)\ttotal: 25.8s\tremaining: 60s\n",
            "301:\ttest: 0.9443180\tbest: 0.9443180 (301)\ttotal: 25.9s\tremaining: 59.9s\n",
            "302:\ttest: 0.9443309\tbest: 0.9443309 (302)\ttotal: 26s\tremaining: 59.8s\n",
            "303:\ttest: 0.9443347\tbest: 0.9443347 (303)\ttotal: 26.1s\tremaining: 59.7s\n",
            "304:\ttest: 0.9443716\tbest: 0.9443716 (304)\ttotal: 26.2s\tremaining: 59.7s\n",
            "305:\ttest: 0.9443597\tbest: 0.9443716 (304)\ttotal: 26.3s\tremaining: 59.6s\n",
            "306:\ttest: 0.9444292\tbest: 0.9444292 (306)\ttotal: 26.4s\tremaining: 59.5s\n",
            "307:\ttest: 0.9444852\tbest: 0.9444852 (307)\ttotal: 26.4s\tremaining: 59.4s\n",
            "308:\ttest: 0.9445012\tbest: 0.9445012 (308)\ttotal: 26.5s\tremaining: 59.3s\n",
            "309:\ttest: 0.9445145\tbest: 0.9445145 (309)\ttotal: 26.6s\tremaining: 59.2s\n",
            "310:\ttest: 0.9445387\tbest: 0.9445387 (310)\ttotal: 26.7s\tremaining: 59.2s\n",
            "311:\ttest: 0.9445513\tbest: 0.9445513 (311)\ttotal: 26.8s\tremaining: 59.1s\n",
            "312:\ttest: 0.9445621\tbest: 0.9445621 (312)\ttotal: 26.9s\tremaining: 59s\n",
            "313:\ttest: 0.9445726\tbest: 0.9445726 (313)\ttotal: 27s\tremaining: 59s\n",
            "314:\ttest: 0.9445836\tbest: 0.9445836 (314)\ttotal: 27.1s\tremaining: 58.9s\n",
            "315:\ttest: 0.9445758\tbest: 0.9445836 (314)\ttotal: 27.2s\tremaining: 58.8s\n",
            "316:\ttest: 0.9446600\tbest: 0.9446600 (316)\ttotal: 27.2s\tremaining: 58.7s\n",
            "317:\ttest: 0.9446775\tbest: 0.9446775 (317)\ttotal: 27.3s\tremaining: 58.6s\n",
            "318:\ttest: 0.9446867\tbest: 0.9446867 (318)\ttotal: 27.4s\tremaining: 58.5s\n",
            "319:\ttest: 0.9446983\tbest: 0.9446983 (319)\ttotal: 27.5s\tremaining: 58.4s\n",
            "320:\ttest: 0.9447142\tbest: 0.9447142 (320)\ttotal: 27.6s\tremaining: 58.3s\n",
            "321:\ttest: 0.9447020\tbest: 0.9447142 (320)\ttotal: 27.7s\tremaining: 58.2s\n",
            "322:\ttest: 0.9447341\tbest: 0.9447341 (322)\ttotal: 27.8s\tremaining: 58.2s\n",
            "323:\ttest: 0.9447407\tbest: 0.9447407 (323)\ttotal: 27.8s\tremaining: 58.1s\n",
            "324:\ttest: 0.9447732\tbest: 0.9447732 (324)\ttotal: 27.9s\tremaining: 58s\n",
            "325:\ttest: 0.9448040\tbest: 0.9448040 (325)\ttotal: 28s\tremaining: 58s\n",
            "326:\ttest: 0.9448344\tbest: 0.9448344 (326)\ttotal: 28.1s\tremaining: 57.9s\n",
            "327:\ttest: 0.9448441\tbest: 0.9448441 (327)\ttotal: 28.2s\tremaining: 57.8s\n",
            "328:\ttest: 0.9448489\tbest: 0.9448489 (328)\ttotal: 28.3s\tremaining: 57.7s\n",
            "329:\ttest: 0.9448606\tbest: 0.9448606 (329)\ttotal: 28.4s\tremaining: 57.6s\n",
            "330:\ttest: 0.9448835\tbest: 0.9448835 (330)\ttotal: 28.4s\tremaining: 57.5s\n",
            "331:\ttest: 0.9449018\tbest: 0.9449018 (331)\ttotal: 28.5s\tremaining: 57.4s\n",
            "332:\ttest: 0.9449349\tbest: 0.9449349 (332)\ttotal: 28.6s\tremaining: 57.3s\n",
            "333:\ttest: 0.9449397\tbest: 0.9449397 (333)\ttotal: 28.7s\tremaining: 57.2s\n",
            "334:\ttest: 0.9449676\tbest: 0.9449676 (334)\ttotal: 28.8s\tremaining: 57.2s\n",
            "335:\ttest: 0.9449724\tbest: 0.9449724 (335)\ttotal: 28.9s\tremaining: 57.1s\n",
            "336:\ttest: 0.9449942\tbest: 0.9449942 (336)\ttotal: 29.1s\tremaining: 57.2s\n",
            "337:\ttest: 0.9449892\tbest: 0.9449942 (336)\ttotal: 29.1s\tremaining: 57.1s\n",
            "338:\ttest: 0.9450077\tbest: 0.9450077 (338)\ttotal: 29.2s\tremaining: 57s\n",
            "339:\ttest: 0.9450244\tbest: 0.9450244 (339)\ttotal: 29.3s\tremaining: 56.9s\n",
            "340:\ttest: 0.9450314\tbest: 0.9450314 (340)\ttotal: 29.4s\tremaining: 56.8s\n",
            "341:\ttest: 0.9450535\tbest: 0.9450535 (341)\ttotal: 29.5s\tremaining: 56.7s\n",
            "342:\ttest: 0.9450802\tbest: 0.9450802 (342)\ttotal: 29.5s\tremaining: 56.6s\n",
            "343:\ttest: 0.9451154\tbest: 0.9451154 (343)\ttotal: 29.6s\tremaining: 56.5s\n",
            "344:\ttest: 0.9451925\tbest: 0.9451925 (344)\ttotal: 29.7s\tremaining: 56.4s\n",
            "345:\ttest: 0.9451984\tbest: 0.9451984 (345)\ttotal: 29.8s\tremaining: 56.4s\n",
            "346:\ttest: 0.9452134\tbest: 0.9452134 (346)\ttotal: 29.9s\tremaining: 56.3s\n",
            "347:\ttest: 0.9452343\tbest: 0.9452343 (347)\ttotal: 30s\tremaining: 56.2s\n",
            "348:\ttest: 0.9452732\tbest: 0.9452732 (348)\ttotal: 30.1s\tremaining: 56.2s\n",
            "349:\ttest: 0.9452853\tbest: 0.9452853 (349)\ttotal: 30.2s\tremaining: 56.1s\n",
            "350:\ttest: 0.9452966\tbest: 0.9452966 (350)\ttotal: 30.3s\tremaining: 56s\n",
            "351:\ttest: 0.9453158\tbest: 0.9453158 (351)\ttotal: 30.4s\tremaining: 55.9s\n",
            "352:\ttest: 0.9453211\tbest: 0.9453211 (352)\ttotal: 30.5s\tremaining: 55.8s\n",
            "353:\ttest: 0.9453320\tbest: 0.9453320 (353)\ttotal: 30.5s\tremaining: 55.7s\n",
            "354:\ttest: 0.9453351\tbest: 0.9453351 (354)\ttotal: 30.6s\tremaining: 55.6s\n",
            "355:\ttest: 0.9453480\tbest: 0.9453480 (355)\ttotal: 30.7s\tremaining: 55.6s\n",
            "356:\ttest: 0.9453583\tbest: 0.9453583 (356)\ttotal: 30.8s\tremaining: 55.5s\n",
            "357:\ttest: 0.9453467\tbest: 0.9453583 (356)\ttotal: 30.9s\tremaining: 55.4s\n",
            "358:\ttest: 0.9453670\tbest: 0.9453670 (358)\ttotal: 31s\tremaining: 55.3s\n",
            "359:\ttest: 0.9453698\tbest: 0.9453698 (359)\ttotal: 31.1s\tremaining: 55.2s\n",
            "360:\ttest: 0.9454021\tbest: 0.9454021 (360)\ttotal: 31.1s\tremaining: 55.1s\n",
            "361:\ttest: 0.9454146\tbest: 0.9454146 (361)\ttotal: 31.2s\tremaining: 55s\n",
            "362:\ttest: 0.9454050\tbest: 0.9454146 (361)\ttotal: 31.3s\tremaining: 54.9s\n",
            "363:\ttest: 0.9453851\tbest: 0.9454146 (361)\ttotal: 31.4s\tremaining: 54.8s\n",
            "364:\ttest: 0.9453797\tbest: 0.9454146 (361)\ttotal: 31.5s\tremaining: 54.8s\n",
            "365:\ttest: 0.9454076\tbest: 0.9454146 (361)\ttotal: 31.6s\tremaining: 54.7s\n",
            "366:\ttest: 0.9454228\tbest: 0.9454228 (366)\ttotal: 31.7s\tremaining: 54.6s\n",
            "367:\ttest: 0.9454396\tbest: 0.9454396 (367)\ttotal: 31.7s\tremaining: 54.5s\n",
            "368:\ttest: 0.9454466\tbest: 0.9454466 (368)\ttotal: 31.8s\tremaining: 54.4s\n",
            "369:\ttest: 0.9454357\tbest: 0.9454466 (368)\ttotal: 31.9s\tremaining: 54.3s\n",
            "370:\ttest: 0.9454382\tbest: 0.9454466 (368)\ttotal: 32s\tremaining: 54.3s\n",
            "371:\ttest: 0.9454405\tbest: 0.9454466 (368)\ttotal: 32.1s\tremaining: 54.2s\n",
            "372:\ttest: 0.9454505\tbest: 0.9454505 (372)\ttotal: 32.2s\tremaining: 54.1s\n",
            "373:\ttest: 0.9455155\tbest: 0.9455155 (373)\ttotal: 32.3s\tremaining: 54s\n",
            "374:\ttest: 0.9455222\tbest: 0.9455222 (374)\ttotal: 32.4s\tremaining: 53.9s\n",
            "375:\ttest: 0.9456149\tbest: 0.9456149 (375)\ttotal: 32.4s\tremaining: 53.8s\n",
            "376:\ttest: 0.9458500\tbest: 0.9458500 (376)\ttotal: 32.5s\tremaining: 53.8s\n",
            "377:\ttest: 0.9458441\tbest: 0.9458500 (376)\ttotal: 32.6s\tremaining: 53.7s\n",
            "378:\ttest: 0.9458362\tbest: 0.9458500 (376)\ttotal: 32.7s\tremaining: 53.6s\n",
            "379:\ttest: 0.9458263\tbest: 0.9458500 (376)\ttotal: 32.8s\tremaining: 53.5s\n",
            "380:\ttest: 0.9459242\tbest: 0.9459242 (380)\ttotal: 32.9s\tremaining: 53.4s\n",
            "381:\ttest: 0.9459319\tbest: 0.9459319 (381)\ttotal: 33s\tremaining: 53.3s\n",
            "382:\ttest: 0.9459185\tbest: 0.9459319 (381)\ttotal: 33s\tremaining: 53.2s\n",
            "383:\ttest: 0.9459253\tbest: 0.9459319 (381)\ttotal: 33.2s\tremaining: 53.2s\n",
            "384:\ttest: 0.9459310\tbest: 0.9459319 (381)\ttotal: 33.2s\tremaining: 53.1s\n",
            "385:\ttest: 0.9459339\tbest: 0.9459339 (385)\ttotal: 33.3s\tremaining: 53s\n",
            "386:\ttest: 0.9459586\tbest: 0.9459586 (386)\ttotal: 33.4s\tremaining: 52.9s\n",
            "387:\ttest: 0.9459767\tbest: 0.9459767 (387)\ttotal: 33.5s\tremaining: 52.8s\n",
            "388:\ttest: 0.9459861\tbest: 0.9459861 (388)\ttotal: 33.6s\tremaining: 52.8s\n",
            "389:\ttest: 0.9460858\tbest: 0.9460858 (389)\ttotal: 33.7s\tremaining: 52.7s\n",
            "390:\ttest: 0.9460814\tbest: 0.9460858 (389)\ttotal: 33.8s\tremaining: 52.6s\n",
            "391:\ttest: 0.9460844\tbest: 0.9460858 (389)\ttotal: 33.8s\tremaining: 52.5s\n",
            "392:\ttest: 0.9461016\tbest: 0.9461016 (392)\ttotal: 33.9s\tremaining: 52.4s\n",
            "393:\ttest: 0.9461241\tbest: 0.9461241 (393)\ttotal: 34s\tremaining: 52.3s\n",
            "394:\ttest: 0.9461399\tbest: 0.9461399 (394)\ttotal: 34.1s\tremaining: 52.3s\n",
            "395:\ttest: 0.9461534\tbest: 0.9461534 (395)\ttotal: 34.2s\tremaining: 52.2s\n",
            "396:\ttest: 0.9461825\tbest: 0.9461825 (396)\ttotal: 34.3s\tremaining: 52.1s\n",
            "397:\ttest: 0.9463104\tbest: 0.9463104 (397)\ttotal: 34.4s\tremaining: 52s\n",
            "398:\ttest: 0.9462982\tbest: 0.9463104 (397)\ttotal: 34.5s\tremaining: 52s\n",
            "399:\ttest: 0.9462990\tbest: 0.9463104 (397)\ttotal: 34.6s\tremaining: 51.9s\n",
            "400:\ttest: 0.9463129\tbest: 0.9463129 (400)\ttotal: 34.7s\tremaining: 51.8s\n",
            "401:\ttest: 0.9463438\tbest: 0.9463438 (401)\ttotal: 34.8s\tremaining: 51.7s\n",
            "402:\ttest: 0.9463674\tbest: 0.9463674 (402)\ttotal: 34.9s\tremaining: 51.6s\n",
            "403:\ttest: 0.9465934\tbest: 0.9465934 (403)\ttotal: 34.9s\tremaining: 51.5s\n",
            "404:\ttest: 0.9465958\tbest: 0.9465958 (404)\ttotal: 35s\tremaining: 51.5s\n",
            "405:\ttest: 0.9465840\tbest: 0.9465958 (404)\ttotal: 35.1s\tremaining: 51.4s\n",
            "406:\ttest: 0.9465976\tbest: 0.9465976 (406)\ttotal: 35.2s\tremaining: 51.3s\n",
            "407:\ttest: 0.9466112\tbest: 0.9466112 (407)\ttotal: 35.3s\tremaining: 51.2s\n",
            "408:\ttest: 0.9466142\tbest: 0.9466142 (408)\ttotal: 35.4s\tremaining: 51.1s\n",
            "409:\ttest: 0.9466338\tbest: 0.9466338 (409)\ttotal: 35.5s\tremaining: 51.1s\n",
            "410:\ttest: 0.9466348\tbest: 0.9466348 (410)\ttotal: 35.6s\tremaining: 51s\n",
            "411:\ttest: 0.9466375\tbest: 0.9466375 (411)\ttotal: 35.7s\tremaining: 50.9s\n",
            "412:\ttest: 0.9466512\tbest: 0.9466512 (412)\ttotal: 35.8s\tremaining: 50.8s\n",
            "413:\ttest: 0.9466573\tbest: 0.9466573 (413)\ttotal: 35.8s\tremaining: 50.7s\n",
            "414:\ttest: 0.9466555\tbest: 0.9466573 (413)\ttotal: 35.9s\tremaining: 50.6s\n",
            "415:\ttest: 0.9466728\tbest: 0.9466728 (415)\ttotal: 36s\tremaining: 50.6s\n",
            "416:\ttest: 0.9466714\tbest: 0.9466728 (415)\ttotal: 36.1s\tremaining: 50.5s\n",
            "417:\ttest: 0.9466889\tbest: 0.9466889 (417)\ttotal: 36.2s\tremaining: 50.4s\n",
            "418:\ttest: 0.9466912\tbest: 0.9466912 (418)\ttotal: 36.3s\tremaining: 50.3s\n",
            "419:\ttest: 0.9466918\tbest: 0.9466918 (419)\ttotal: 36.4s\tremaining: 50.3s\n",
            "420:\ttest: 0.9466984\tbest: 0.9466984 (420)\ttotal: 36.5s\tremaining: 50.2s\n",
            "421:\ttest: 0.9466960\tbest: 0.9466984 (420)\ttotal: 36.6s\tremaining: 50.1s\n",
            "422:\ttest: 0.9467761\tbest: 0.9467761 (422)\ttotal: 36.6s\tremaining: 50s\n",
            "423:\ttest: 0.9468593\tbest: 0.9468593 (423)\ttotal: 36.7s\tremaining: 49.9s\n",
            "424:\ttest: 0.9468520\tbest: 0.9468593 (423)\ttotal: 36.8s\tremaining: 49.8s\n",
            "425:\ttest: 0.9468626\tbest: 0.9468626 (425)\ttotal: 36.9s\tremaining: 49.7s\n",
            "426:\ttest: 0.9468677\tbest: 0.9468677 (426)\ttotal: 37s\tremaining: 49.7s\n",
            "427:\ttest: 0.9468686\tbest: 0.9468686 (427)\ttotal: 37.1s\tremaining: 49.6s\n",
            "428:\ttest: 0.9468638\tbest: 0.9468686 (427)\ttotal: 37.2s\tremaining: 49.5s\n",
            "429:\ttest: 0.9468878\tbest: 0.9468878 (429)\ttotal: 37.3s\tremaining: 49.5s\n",
            "430:\ttest: 0.9468948\tbest: 0.9468948 (430)\ttotal: 37.4s\tremaining: 49.4s\n",
            "431:\ttest: 0.9468978\tbest: 0.9468978 (431)\ttotal: 37.5s\tremaining: 49.3s\n",
            "432:\ttest: 0.9469042\tbest: 0.9469042 (432)\ttotal: 37.6s\tremaining: 49.2s\n",
            "433:\ttest: 0.9469708\tbest: 0.9469708 (433)\ttotal: 37.6s\tremaining: 49.1s\n",
            "434:\ttest: 0.9469681\tbest: 0.9469708 (433)\ttotal: 37.7s\tremaining: 49s\n",
            "435:\ttest: 0.9469795\tbest: 0.9469795 (435)\ttotal: 37.8s\tremaining: 48.9s\n",
            "436:\ttest: 0.9470018\tbest: 0.9470018 (436)\ttotal: 37.9s\tremaining: 48.9s\n",
            "437:\ttest: 0.9470042\tbest: 0.9470042 (437)\ttotal: 38s\tremaining: 48.8s\n",
            "438:\ttest: 0.9470126\tbest: 0.9470126 (438)\ttotal: 38.1s\tremaining: 48.7s\n",
            "439:\ttest: 0.9470115\tbest: 0.9470126 (438)\ttotal: 38.2s\tremaining: 48.6s\n",
            "440:\ttest: 0.9470164\tbest: 0.9470164 (440)\ttotal: 38.3s\tremaining: 48.6s\n",
            "441:\ttest: 0.9470158\tbest: 0.9470164 (440)\ttotal: 38.4s\tremaining: 48.5s\n",
            "442:\ttest: 0.9470403\tbest: 0.9470403 (442)\ttotal: 38.5s\tremaining: 48.4s\n",
            "443:\ttest: 0.9470497\tbest: 0.9470497 (443)\ttotal: 38.6s\tremaining: 48.3s\n",
            "444:\ttest: 0.9470537\tbest: 0.9470537 (444)\ttotal: 38.7s\tremaining: 48.2s\n",
            "445:\ttest: 0.9471022\tbest: 0.9471022 (445)\ttotal: 38.8s\tremaining: 48.1s\n",
            "446:\ttest: 0.9471698\tbest: 0.9471698 (446)\ttotal: 38.9s\tremaining: 48.1s\n",
            "447:\ttest: 0.9471871\tbest: 0.9471871 (447)\ttotal: 38.9s\tremaining: 48s\n",
            "448:\ttest: 0.9472674\tbest: 0.9472674 (448)\ttotal: 39s\tremaining: 47.9s\n",
            "449:\ttest: 0.9472916\tbest: 0.9472916 (449)\ttotal: 39.1s\tremaining: 47.8s\n",
            "450:\ttest: 0.9473635\tbest: 0.9473635 (450)\ttotal: 39.2s\tremaining: 47.7s\n",
            "451:\ttest: 0.9473697\tbest: 0.9473697 (451)\ttotal: 39.3s\tremaining: 47.7s\n",
            "452:\ttest: 0.9473597\tbest: 0.9473697 (451)\ttotal: 39.4s\tremaining: 47.6s\n",
            "453:\ttest: 0.9474072\tbest: 0.9474072 (453)\ttotal: 39.5s\tremaining: 47.5s\n",
            "454:\ttest: 0.9474165\tbest: 0.9474165 (454)\ttotal: 39.6s\tremaining: 47.4s\n",
            "455:\ttest: 0.9474894\tbest: 0.9474894 (455)\ttotal: 39.7s\tremaining: 47.3s\n",
            "456:\ttest: 0.9474914\tbest: 0.9474914 (456)\ttotal: 39.8s\tremaining: 47.2s\n",
            "457:\ttest: 0.9474939\tbest: 0.9474939 (457)\ttotal: 39.8s\tremaining: 47.1s\n",
            "458:\ttest: 0.9475808\tbest: 0.9475808 (458)\ttotal: 39.9s\tremaining: 47.1s\n",
            "459:\ttest: 0.9475849\tbest: 0.9475849 (459)\ttotal: 40s\tremaining: 47s\n",
            "460:\ttest: 0.9476717\tbest: 0.9476717 (460)\ttotal: 40.1s\tremaining: 46.9s\n",
            "461:\ttest: 0.9476698\tbest: 0.9476717 (460)\ttotal: 40.2s\tremaining: 46.8s\n",
            "462:\ttest: 0.9476746\tbest: 0.9476746 (462)\ttotal: 40.3s\tremaining: 46.7s\n",
            "463:\ttest: 0.9476632\tbest: 0.9476746 (462)\ttotal: 40.4s\tremaining: 46.7s\n",
            "464:\ttest: 0.9476675\tbest: 0.9476746 (462)\ttotal: 40.5s\tremaining: 46.6s\n",
            "465:\ttest: 0.9476763\tbest: 0.9476763 (465)\ttotal: 40.6s\tremaining: 46.5s\n",
            "466:\ttest: 0.9476876\tbest: 0.9476876 (466)\ttotal: 40.7s\tremaining: 46.4s\n",
            "467:\ttest: 0.9476802\tbest: 0.9476876 (466)\ttotal: 40.7s\tremaining: 46.3s\n",
            "468:\ttest: 0.9476899\tbest: 0.9476899 (468)\ttotal: 40.8s\tremaining: 46.2s\n",
            "469:\ttest: 0.9476976\tbest: 0.9476976 (469)\ttotal: 40.9s\tremaining: 46.1s\n",
            "470:\ttest: 0.9476952\tbest: 0.9476976 (469)\ttotal: 41s\tremaining: 46s\n",
            "471:\ttest: 0.9477041\tbest: 0.9477041 (471)\ttotal: 41.1s\tremaining: 46s\n",
            "472:\ttest: 0.9477073\tbest: 0.9477073 (472)\ttotal: 41.2s\tremaining: 45.9s\n",
            "473:\ttest: 0.9477128\tbest: 0.9477128 (473)\ttotal: 41.3s\tremaining: 45.8s\n",
            "474:\ttest: 0.9477069\tbest: 0.9477128 (473)\ttotal: 41.4s\tremaining: 45.7s\n",
            "475:\ttest: 0.9477139\tbest: 0.9477139 (475)\ttotal: 41.5s\tremaining: 45.7s\n",
            "476:\ttest: 0.9477187\tbest: 0.9477187 (476)\ttotal: 41.6s\tremaining: 45.6s\n",
            "477:\ttest: 0.9477246\tbest: 0.9477246 (477)\ttotal: 41.6s\tremaining: 45.5s\n",
            "478:\ttest: 0.9477254\tbest: 0.9477254 (478)\ttotal: 41.7s\tremaining: 45.4s\n",
            "479:\ttest: 0.9477386\tbest: 0.9477386 (479)\ttotal: 41.8s\tremaining: 45.3s\n",
            "480:\ttest: 0.9477917\tbest: 0.9477917 (480)\ttotal: 41.9s\tremaining: 45.2s\n",
            "481:\ttest: 0.9477944\tbest: 0.9477944 (481)\ttotal: 42s\tremaining: 45.1s\n",
            "482:\ttest: 0.9477933\tbest: 0.9477944 (481)\ttotal: 42.1s\tremaining: 45s\n",
            "483:\ttest: 0.9477986\tbest: 0.9477986 (483)\ttotal: 42.2s\tremaining: 45s\n",
            "484:\ttest: 0.9478128\tbest: 0.9478128 (484)\ttotal: 42.3s\tremaining: 44.9s\n",
            "485:\ttest: 0.9478007\tbest: 0.9478128 (484)\ttotal: 42.4s\tremaining: 44.8s\n",
            "486:\ttest: 0.9478020\tbest: 0.9478128 (484)\ttotal: 42.5s\tremaining: 44.7s\n",
            "487:\ttest: 0.9478034\tbest: 0.9478128 (484)\ttotal: 42.6s\tremaining: 44.6s\n",
            "488:\ttest: 0.9478212\tbest: 0.9478212 (488)\ttotal: 42.6s\tremaining: 44.6s\n",
            "489:\ttest: 0.9478227\tbest: 0.9478227 (489)\ttotal: 42.7s\tremaining: 44.5s\n",
            "490:\ttest: 0.9478301\tbest: 0.9478301 (490)\ttotal: 42.8s\tremaining: 44.4s\n",
            "491:\ttest: 0.9479927\tbest: 0.9479927 (491)\ttotal: 42.9s\tremaining: 44.3s\n",
            "492:\ttest: 0.9479942\tbest: 0.9479942 (492)\ttotal: 43s\tremaining: 44.2s\n",
            "493:\ttest: 0.9480035\tbest: 0.9480035 (493)\ttotal: 43.1s\tremaining: 44.1s\n",
            "494:\ttest: 0.9480330\tbest: 0.9480330 (494)\ttotal: 43.2s\tremaining: 44s\n",
            "495:\ttest: 0.9481017\tbest: 0.9481017 (495)\ttotal: 43.3s\tremaining: 43.9s\n",
            "496:\ttest: 0.9481020\tbest: 0.9481020 (496)\ttotal: 43.3s\tremaining: 43.9s\n",
            "497:\ttest: 0.9481057\tbest: 0.9481057 (497)\ttotal: 43.5s\tremaining: 43.8s\n",
            "498:\ttest: 0.9481124\tbest: 0.9481124 (498)\ttotal: 43.5s\tremaining: 43.7s\n",
            "499:\ttest: 0.9481139\tbest: 0.9481139 (499)\ttotal: 43.6s\tremaining: 43.6s\n",
            "500:\ttest: 0.9481144\tbest: 0.9481144 (500)\ttotal: 43.7s\tremaining: 43.6s\n",
            "501:\ttest: 0.9481234\tbest: 0.9481234 (501)\ttotal: 43.8s\tremaining: 43.5s\n",
            "502:\ttest: 0.9481192\tbest: 0.9481234 (501)\ttotal: 43.9s\tremaining: 43.4s\n",
            "503:\ttest: 0.9482355\tbest: 0.9482355 (503)\ttotal: 44s\tremaining: 43.3s\n",
            "504:\ttest: 0.9482299\tbest: 0.9482355 (503)\ttotal: 44.1s\tremaining: 43.2s\n",
            "505:\ttest: 0.9482513\tbest: 0.9482513 (505)\ttotal: 44.2s\tremaining: 43.1s\n",
            "506:\ttest: 0.9482714\tbest: 0.9482714 (506)\ttotal: 44.3s\tremaining: 43s\n",
            "507:\ttest: 0.9482701\tbest: 0.9482714 (506)\ttotal: 44.3s\tremaining: 42.9s\n",
            "508:\ttest: 0.9483744\tbest: 0.9483744 (508)\ttotal: 44.5s\tremaining: 42.9s\n",
            "509:\ttest: 0.9483896\tbest: 0.9483896 (509)\ttotal: 44.6s\tremaining: 42.8s\n",
            "510:\ttest: 0.9484044\tbest: 0.9484044 (510)\ttotal: 44.6s\tremaining: 42.7s\n",
            "511:\ttest: 0.9484199\tbest: 0.9484199 (511)\ttotal: 44.7s\tremaining: 42.6s\n",
            "512:\ttest: 0.9484233\tbest: 0.9484233 (512)\ttotal: 44.8s\tremaining: 42.5s\n",
            "513:\ttest: 0.9484256\tbest: 0.9484256 (513)\ttotal: 44.9s\tremaining: 42.5s\n",
            "514:\ttest: 0.9484244\tbest: 0.9484256 (513)\ttotal: 45s\tremaining: 42.4s\n",
            "515:\ttest: 0.9484352\tbest: 0.9484352 (515)\ttotal: 45.1s\tremaining: 42.3s\n",
            "516:\ttest: 0.9484378\tbest: 0.9484378 (516)\ttotal: 45.2s\tremaining: 42.2s\n",
            "517:\ttest: 0.9484529\tbest: 0.9484529 (517)\ttotal: 45.2s\tremaining: 42.1s\n",
            "518:\ttest: 0.9484301\tbest: 0.9484529 (517)\ttotal: 45.3s\tremaining: 42s\n",
            "519:\ttest: 0.9484306\tbest: 0.9484529 (517)\ttotal: 45.4s\tremaining: 42s\n",
            "520:\ttest: 0.9484478\tbest: 0.9484529 (517)\ttotal: 45.5s\tremaining: 41.9s\n",
            "521:\ttest: 0.9484564\tbest: 0.9484564 (521)\ttotal: 45.6s\tremaining: 41.8s\n",
            "522:\ttest: 0.9484870\tbest: 0.9484870 (522)\ttotal: 45.7s\tremaining: 41.7s\n",
            "523:\ttest: 0.9484888\tbest: 0.9484888 (523)\ttotal: 45.8s\tremaining: 41.6s\n",
            "524:\ttest: 0.9484959\tbest: 0.9484959 (524)\ttotal: 45.9s\tremaining: 41.5s\n",
            "525:\ttest: 0.9484980\tbest: 0.9484980 (525)\ttotal: 46s\tremaining: 41.4s\n",
            "526:\ttest: 0.9485171\tbest: 0.9485171 (526)\ttotal: 46.1s\tremaining: 41.3s\n",
            "527:\ttest: 0.9486802\tbest: 0.9486802 (527)\ttotal: 46.1s\tremaining: 41.3s\n",
            "528:\ttest: 0.9486882\tbest: 0.9486882 (528)\ttotal: 46.2s\tremaining: 41.2s\n",
            "529:\ttest: 0.9486935\tbest: 0.9486935 (529)\ttotal: 46.3s\tremaining: 41.1s\n",
            "530:\ttest: 0.9487537\tbest: 0.9487537 (530)\ttotal: 46.4s\tremaining: 41s\n",
            "531:\ttest: 0.9487552\tbest: 0.9487552 (531)\ttotal: 46.5s\tremaining: 40.9s\n",
            "532:\ttest: 0.9487615\tbest: 0.9487615 (532)\ttotal: 46.6s\tremaining: 40.8s\n",
            "533:\ttest: 0.9487609\tbest: 0.9487615 (532)\ttotal: 46.7s\tremaining: 40.8s\n",
            "534:\ttest: 0.9487702\tbest: 0.9487702 (534)\ttotal: 46.8s\tremaining: 40.7s\n",
            "535:\ttest: 0.9487769\tbest: 0.9487769 (535)\ttotal: 46.9s\tremaining: 40.6s\n",
            "536:\ttest: 0.9487945\tbest: 0.9487945 (536)\ttotal: 47s\tremaining: 40.5s\n",
            "537:\ttest: 0.9487916\tbest: 0.9487945 (536)\ttotal: 47.1s\tremaining: 40.4s\n",
            "538:\ttest: 0.9487848\tbest: 0.9487945 (536)\ttotal: 47.1s\tremaining: 40.3s\n",
            "539:\ttest: 0.9488497\tbest: 0.9488497 (539)\ttotal: 47.2s\tremaining: 40.2s\n",
            "540:\ttest: 0.9488579\tbest: 0.9488579 (540)\ttotal: 47.3s\tremaining: 40.1s\n",
            "541:\ttest: 0.9488676\tbest: 0.9488676 (541)\ttotal: 47.4s\tremaining: 40.1s\n",
            "542:\ttest: 0.9488683\tbest: 0.9488683 (542)\ttotal: 47.5s\tremaining: 40s\n",
            "543:\ttest: 0.9488720\tbest: 0.9488720 (543)\ttotal: 47.6s\tremaining: 39.9s\n",
            "544:\ttest: 0.9488696\tbest: 0.9488720 (543)\ttotal: 47.7s\tremaining: 39.8s\n",
            "545:\ttest: 0.9488665\tbest: 0.9488720 (543)\ttotal: 47.8s\tremaining: 39.7s\n",
            "546:\ttest: 0.9488741\tbest: 0.9488741 (546)\ttotal: 47.9s\tremaining: 39.6s\n",
            "547:\ttest: 0.9488826\tbest: 0.9488826 (547)\ttotal: 48s\tremaining: 39.6s\n",
            "548:\ttest: 0.9488788\tbest: 0.9488826 (547)\ttotal: 48.1s\tremaining: 39.5s\n",
            "549:\ttest: 0.9488775\tbest: 0.9488826 (547)\ttotal: 48.1s\tremaining: 39.4s\n",
            "550:\ttest: 0.9488863\tbest: 0.9488863 (550)\ttotal: 48.2s\tremaining: 39.3s\n",
            "551:\ttest: 0.9489332\tbest: 0.9489332 (551)\ttotal: 48.3s\tremaining: 39.2s\n",
            "552:\ttest: 0.9489372\tbest: 0.9489372 (552)\ttotal: 48.4s\tremaining: 39.1s\n",
            "553:\ttest: 0.9489399\tbest: 0.9489399 (553)\ttotal: 48.5s\tremaining: 39s\n",
            "554:\ttest: 0.9489521\tbest: 0.9489521 (554)\ttotal: 48.6s\tremaining: 39s\n",
            "555:\ttest: 0.9489846\tbest: 0.9489846 (555)\ttotal: 48.7s\tremaining: 38.9s\n",
            "556:\ttest: 0.9489936\tbest: 0.9489936 (556)\ttotal: 48.8s\tremaining: 38.8s\n",
            "557:\ttest: 0.9490362\tbest: 0.9490362 (557)\ttotal: 48.9s\tremaining: 38.7s\n",
            "558:\ttest: 0.9490835\tbest: 0.9490835 (558)\ttotal: 49s\tremaining: 38.6s\n",
            "559:\ttest: 0.9491062\tbest: 0.9491062 (559)\ttotal: 49s\tremaining: 38.5s\n",
            "560:\ttest: 0.9491030\tbest: 0.9491062 (559)\ttotal: 49.1s\tremaining: 38.4s\n",
            "561:\ttest: 0.9491081\tbest: 0.9491081 (561)\ttotal: 49.2s\tremaining: 38.4s\n",
            "562:\ttest: 0.9491628\tbest: 0.9491628 (562)\ttotal: 49.3s\tremaining: 38.3s\n",
            "563:\ttest: 0.9491673\tbest: 0.9491673 (563)\ttotal: 49.4s\tremaining: 38.2s\n",
            "564:\ttest: 0.9491674\tbest: 0.9491674 (564)\ttotal: 49.5s\tremaining: 38.1s\n",
            "565:\ttest: 0.9491725\tbest: 0.9491725 (565)\ttotal: 49.5s\tremaining: 38s\n",
            "566:\ttest: 0.9491735\tbest: 0.9491735 (566)\ttotal: 49.7s\tremaining: 37.9s\n",
            "567:\ttest: 0.9492091\tbest: 0.9492091 (567)\ttotal: 49.8s\tremaining: 37.8s\n",
            "568:\ttest: 0.9492113\tbest: 0.9492113 (568)\ttotal: 49.8s\tremaining: 37.8s\n",
            "569:\ttest: 0.9492104\tbest: 0.9492113 (568)\ttotal: 49.9s\tremaining: 37.7s\n",
            "570:\ttest: 0.9492139\tbest: 0.9492139 (570)\ttotal: 50s\tremaining: 37.6s\n",
            "571:\ttest: 0.9492220\tbest: 0.9492220 (571)\ttotal: 50.1s\tremaining: 37.5s\n",
            "572:\ttest: 0.9492188\tbest: 0.9492220 (571)\ttotal: 50.2s\tremaining: 37.4s\n",
            "573:\ttest: 0.9492130\tbest: 0.9492220 (571)\ttotal: 50.3s\tremaining: 37.3s\n",
            "574:\ttest: 0.9492235\tbest: 0.9492235 (574)\ttotal: 50.4s\tremaining: 37.2s\n",
            "575:\ttest: 0.9492862\tbest: 0.9492862 (575)\ttotal: 50.4s\tremaining: 37.1s\n",
            "576:\ttest: 0.9492849\tbest: 0.9492862 (575)\ttotal: 50.5s\tremaining: 37s\n",
            "577:\ttest: 0.9493003\tbest: 0.9493003 (577)\ttotal: 50.7s\tremaining: 37s\n",
            "578:\ttest: 0.9493055\tbest: 0.9493055 (578)\ttotal: 50.8s\tremaining: 36.9s\n",
            "579:\ttest: 0.9493068\tbest: 0.9493068 (579)\ttotal: 50.9s\tremaining: 36.8s\n",
            "580:\ttest: 0.9493053\tbest: 0.9493068 (579)\ttotal: 50.9s\tremaining: 36.7s\n",
            "581:\ttest: 0.9493075\tbest: 0.9493075 (581)\ttotal: 51s\tremaining: 36.6s\n",
            "582:\ttest: 0.9492917\tbest: 0.9493075 (581)\ttotal: 51.1s\tremaining: 36.6s\n",
            "583:\ttest: 0.9493026\tbest: 0.9493075 (581)\ttotal: 51.2s\tremaining: 36.5s\n",
            "584:\ttest: 0.9493476\tbest: 0.9493476 (584)\ttotal: 51.3s\tremaining: 36.4s\n",
            "585:\ttest: 0.9493854\tbest: 0.9493854 (585)\ttotal: 51.4s\tremaining: 36.3s\n",
            "586:\ttest: 0.9494087\tbest: 0.9494087 (586)\ttotal: 51.5s\tremaining: 36.2s\n",
            "587:\ttest: 0.9494017\tbest: 0.9494087 (586)\ttotal: 51.6s\tremaining: 36.1s\n",
            "588:\ttest: 0.9494198\tbest: 0.9494198 (588)\ttotal: 51.7s\tremaining: 36.1s\n",
            "589:\ttest: 0.9494299\tbest: 0.9494299 (589)\ttotal: 51.8s\tremaining: 36s\n",
            "590:\ttest: 0.9494347\tbest: 0.9494347 (590)\ttotal: 51.9s\tremaining: 35.9s\n",
            "591:\ttest: 0.9494314\tbest: 0.9494347 (590)\ttotal: 52s\tremaining: 35.8s\n",
            "592:\ttest: 0.9494416\tbest: 0.9494416 (592)\ttotal: 52s\tremaining: 35.7s\n",
            "593:\ttest: 0.9494510\tbest: 0.9494510 (593)\ttotal: 52.1s\tremaining: 35.6s\n",
            "594:\ttest: 0.9494428\tbest: 0.9494510 (593)\ttotal: 52.2s\tremaining: 35.5s\n",
            "595:\ttest: 0.9494478\tbest: 0.9494510 (593)\ttotal: 52.3s\tremaining: 35.5s\n",
            "596:\ttest: 0.9494525\tbest: 0.9494525 (596)\ttotal: 52.4s\tremaining: 35.4s\n",
            "597:\ttest: 0.9495146\tbest: 0.9495146 (597)\ttotal: 52.5s\tremaining: 35.3s\n",
            "598:\ttest: 0.9495187\tbest: 0.9495187 (598)\ttotal: 52.6s\tremaining: 35.2s\n",
            "599:\ttest: 0.9495365\tbest: 0.9495365 (599)\ttotal: 52.6s\tremaining: 35.1s\n",
            "600:\ttest: 0.9495388\tbest: 0.9495388 (600)\ttotal: 52.8s\tremaining: 35s\n",
            "601:\ttest: 0.9495462\tbest: 0.9495462 (601)\ttotal: 52.8s\tremaining: 34.9s\n",
            "602:\ttest: 0.9495634\tbest: 0.9495634 (602)\ttotal: 52.9s\tremaining: 34.8s\n",
            "603:\ttest: 0.9495710\tbest: 0.9495710 (603)\ttotal: 53s\tremaining: 34.8s\n",
            "604:\ttest: 0.9496373\tbest: 0.9496373 (604)\ttotal: 53.1s\tremaining: 34.7s\n",
            "605:\ttest: 0.9496376\tbest: 0.9496376 (605)\ttotal: 53.2s\tremaining: 34.6s\n",
            "606:\ttest: 0.9496367\tbest: 0.9496376 (605)\ttotal: 53.3s\tremaining: 34.5s\n",
            "607:\ttest: 0.9496398\tbest: 0.9496398 (607)\ttotal: 53.4s\tremaining: 34.4s\n",
            "608:\ttest: 0.9496504\tbest: 0.9496504 (608)\ttotal: 53.5s\tremaining: 34.3s\n",
            "609:\ttest: 0.9497036\tbest: 0.9497036 (609)\ttotal: 53.6s\tremaining: 34.2s\n",
            "610:\ttest: 0.9497126\tbest: 0.9497126 (610)\ttotal: 53.6s\tremaining: 34.2s\n",
            "611:\ttest: 0.9497117\tbest: 0.9497126 (610)\ttotal: 53.8s\tremaining: 34.1s\n",
            "612:\ttest: 0.9497203\tbest: 0.9497203 (612)\ttotal: 53.9s\tremaining: 34s\n",
            "613:\ttest: 0.9497186\tbest: 0.9497203 (612)\ttotal: 53.9s\tremaining: 33.9s\n",
            "614:\ttest: 0.9497183\tbest: 0.9497203 (612)\ttotal: 54s\tremaining: 33.8s\n",
            "615:\ttest: 0.9497115\tbest: 0.9497203 (612)\ttotal: 54.1s\tremaining: 33.7s\n",
            "616:\ttest: 0.9497236\tbest: 0.9497236 (616)\ttotal: 54.2s\tremaining: 33.7s\n",
            "617:\ttest: 0.9497319\tbest: 0.9497319 (617)\ttotal: 54.3s\tremaining: 33.6s\n",
            "618:\ttest: 0.9497328\tbest: 0.9497328 (618)\ttotal: 54.4s\tremaining: 33.5s\n",
            "619:\ttest: 0.9497372\tbest: 0.9497372 (619)\ttotal: 54.5s\tremaining: 33.4s\n",
            "620:\ttest: 0.9497565\tbest: 0.9497565 (620)\ttotal: 54.6s\tremaining: 33.3s\n",
            "621:\ttest: 0.9497591\tbest: 0.9497591 (621)\ttotal: 54.6s\tremaining: 33.2s\n",
            "622:\ttest: 0.9498530\tbest: 0.9498530 (622)\ttotal: 54.7s\tremaining: 33.1s\n",
            "623:\ttest: 0.9498516\tbest: 0.9498530 (622)\ttotal: 54.9s\tremaining: 33.1s\n",
            "624:\ttest: 0.9498638\tbest: 0.9498638 (624)\ttotal: 54.9s\tremaining: 33s\n",
            "625:\ttest: 0.9498752\tbest: 0.9498752 (625)\ttotal: 55s\tremaining: 32.9s\n",
            "626:\ttest: 0.9499285\tbest: 0.9499285 (626)\ttotal: 55.1s\tremaining: 32.8s\n",
            "627:\ttest: 0.9499360\tbest: 0.9499360 (627)\ttotal: 55.2s\tremaining: 32.7s\n",
            "628:\ttest: 0.9499525\tbest: 0.9499525 (628)\ttotal: 55.3s\tremaining: 32.6s\n",
            "629:\ttest: 0.9499875\tbest: 0.9499875 (629)\ttotal: 55.4s\tremaining: 32.5s\n",
            "630:\ttest: 0.9499913\tbest: 0.9499913 (630)\ttotal: 55.5s\tremaining: 32.4s\n",
            "631:\ttest: 0.9500036\tbest: 0.9500036 (631)\ttotal: 55.6s\tremaining: 32.3s\n",
            "632:\ttest: 0.9499967\tbest: 0.9500036 (631)\ttotal: 55.6s\tremaining: 32.3s\n",
            "633:\ttest: 0.9500120\tbest: 0.9500120 (633)\ttotal: 55.7s\tremaining: 32.2s\n",
            "634:\ttest: 0.9500204\tbest: 0.9500204 (634)\ttotal: 55.8s\tremaining: 32.1s\n",
            "635:\ttest: 0.9500679\tbest: 0.9500679 (635)\ttotal: 55.9s\tremaining: 32s\n",
            "636:\ttest: 0.9500674\tbest: 0.9500679 (635)\ttotal: 56s\tremaining: 31.9s\n",
            "637:\ttest: 0.9500626\tbest: 0.9500679 (635)\ttotal: 56.1s\tremaining: 31.9s\n",
            "638:\ttest: 0.9500662\tbest: 0.9500679 (635)\ttotal: 56.2s\tremaining: 31.8s\n",
            "639:\ttest: 0.9500710\tbest: 0.9500710 (639)\ttotal: 56.3s\tremaining: 31.7s\n",
            "640:\ttest: 0.9500757\tbest: 0.9500757 (640)\ttotal: 56.4s\tremaining: 31.6s\n",
            "641:\ttest: 0.9501258\tbest: 0.9501258 (641)\ttotal: 56.5s\tremaining: 31.5s\n",
            "642:\ttest: 0.9501314\tbest: 0.9501314 (642)\ttotal: 56.6s\tremaining: 31.4s\n",
            "643:\ttest: 0.9501336\tbest: 0.9501336 (643)\ttotal: 56.6s\tremaining: 31.3s\n",
            "644:\ttest: 0.9501392\tbest: 0.9501392 (644)\ttotal: 56.7s\tremaining: 31.2s\n",
            "645:\ttest: 0.9501427\tbest: 0.9501427 (645)\ttotal: 56.8s\tremaining: 31.1s\n",
            "646:\ttest: 0.9501461\tbest: 0.9501461 (646)\ttotal: 56.9s\tremaining: 31.1s\n",
            "647:\ttest: 0.9501477\tbest: 0.9501477 (647)\ttotal: 57s\tremaining: 31s\n",
            "648:\ttest: 0.9501480\tbest: 0.9501480 (648)\ttotal: 57.1s\tremaining: 30.9s\n",
            "649:\ttest: 0.9501524\tbest: 0.9501524 (649)\ttotal: 57.2s\tremaining: 30.8s\n",
            "650:\ttest: 0.9502102\tbest: 0.9502102 (650)\ttotal: 57.3s\tremaining: 30.7s\n",
            "651:\ttest: 0.9502130\tbest: 0.9502130 (651)\ttotal: 57.4s\tremaining: 30.6s\n",
            "652:\ttest: 0.9502223\tbest: 0.9502223 (652)\ttotal: 57.5s\tremaining: 30.5s\n",
            "653:\ttest: 0.9502283\tbest: 0.9502283 (653)\ttotal: 57.5s\tremaining: 30.4s\n",
            "654:\ttest: 0.9502411\tbest: 0.9502411 (654)\ttotal: 57.6s\tremaining: 30.4s\n",
            "655:\ttest: 0.9502459\tbest: 0.9502459 (655)\ttotal: 57.7s\tremaining: 30.3s\n",
            "656:\ttest: 0.9502584\tbest: 0.9502584 (656)\ttotal: 57.8s\tremaining: 30.2s\n",
            "657:\ttest: 0.9502597\tbest: 0.9502597 (657)\ttotal: 57.9s\tremaining: 30.1s\n",
            "658:\ttest: 0.9502669\tbest: 0.9502669 (658)\ttotal: 58s\tremaining: 30s\n",
            "659:\ttest: 0.9502727\tbest: 0.9502727 (659)\ttotal: 58.1s\tremaining: 29.9s\n",
            "660:\ttest: 0.9502722\tbest: 0.9502727 (659)\ttotal: 58.2s\tremaining: 29.9s\n",
            "661:\ttest: 0.9502730\tbest: 0.9502730 (661)\ttotal: 58.3s\tremaining: 29.8s\n",
            "662:\ttest: 0.9502814\tbest: 0.9502814 (662)\ttotal: 58.4s\tremaining: 29.7s\n",
            "663:\ttest: 0.9502868\tbest: 0.9502868 (663)\ttotal: 58.5s\tremaining: 29.6s\n",
            "664:\ttest: 0.9502935\tbest: 0.9502935 (664)\ttotal: 58.5s\tremaining: 29.5s\n",
            "665:\ttest: 0.9502983\tbest: 0.9502983 (665)\ttotal: 58.6s\tremaining: 29.4s\n",
            "666:\ttest: 0.9503016\tbest: 0.9503016 (666)\ttotal: 58.7s\tremaining: 29.3s\n",
            "667:\ttest: 0.9503011\tbest: 0.9503016 (666)\ttotal: 58.8s\tremaining: 29.2s\n",
            "668:\ttest: 0.9503097\tbest: 0.9503097 (668)\ttotal: 58.9s\tremaining: 29.1s\n",
            "669:\ttest: 0.9503089\tbest: 0.9503097 (668)\ttotal: 59s\tremaining: 29.1s\n",
            "670:\ttest: 0.9503013\tbest: 0.9503097 (668)\ttotal: 59.1s\tremaining: 29s\n",
            "671:\ttest: 0.9503028\tbest: 0.9503097 (668)\ttotal: 59.2s\tremaining: 28.9s\n",
            "672:\ttest: 0.9503062\tbest: 0.9503097 (668)\ttotal: 59.3s\tremaining: 28.8s\n",
            "673:\ttest: 0.9503112\tbest: 0.9503112 (673)\ttotal: 59.4s\tremaining: 28.7s\n",
            "674:\ttest: 0.9503146\tbest: 0.9503146 (674)\ttotal: 59.5s\tremaining: 28.6s\n",
            "675:\ttest: 0.9503169\tbest: 0.9503169 (675)\ttotal: 59.5s\tremaining: 28.5s\n",
            "676:\ttest: 0.9503122\tbest: 0.9503169 (675)\ttotal: 59.6s\tremaining: 28.4s\n",
            "677:\ttest: 0.9503154\tbest: 0.9503169 (675)\ttotal: 59.7s\tremaining: 28.4s\n",
            "678:\ttest: 0.9503171\tbest: 0.9503171 (678)\ttotal: 59.8s\tremaining: 28.3s\n",
            "679:\ttest: 0.9503161\tbest: 0.9503171 (678)\ttotal: 59.9s\tremaining: 28.2s\n",
            "680:\ttest: 0.9503199\tbest: 0.9503199 (680)\ttotal: 59.9s\tremaining: 28.1s\n",
            "681:\ttest: 0.9503279\tbest: 0.9503279 (681)\ttotal: 1m\tremaining: 28s\n",
            "682:\ttest: 0.9503272\tbest: 0.9503279 (681)\ttotal: 1m\tremaining: 27.9s\n",
            "683:\ttest: 0.9504129\tbest: 0.9504129 (683)\ttotal: 1m\tremaining: 27.8s\n",
            "684:\ttest: 0.9504166\tbest: 0.9504166 (684)\ttotal: 1m\tremaining: 27.7s\n",
            "685:\ttest: 0.9504688\tbest: 0.9504688 (685)\ttotal: 1m\tremaining: 27.6s\n",
            "686:\ttest: 0.9504843\tbest: 0.9504843 (686)\ttotal: 1m\tremaining: 27.6s\n",
            "687:\ttest: 0.9504997\tbest: 0.9504997 (687)\ttotal: 1m\tremaining: 27.5s\n",
            "688:\ttest: 0.9505466\tbest: 0.9505466 (688)\ttotal: 1m\tremaining: 27.4s\n",
            "689:\ttest: 0.9505433\tbest: 0.9505466 (688)\ttotal: 1m\tremaining: 27.3s\n",
            "690:\ttest: 0.9505396\tbest: 0.9505466 (688)\ttotal: 1m\tremaining: 27.2s\n",
            "691:\ttest: 0.9506200\tbest: 0.9506200 (691)\ttotal: 1m\tremaining: 27.1s\n",
            "692:\ttest: 0.9506287\tbest: 0.9506287 (692)\ttotal: 1m 1s\tremaining: 27s\n",
            "693:\ttest: 0.9506385\tbest: 0.9506385 (693)\ttotal: 1m 1s\tremaining: 27s\n",
            "694:\ttest: 0.9506420\tbest: 0.9506420 (694)\ttotal: 1m 1s\tremaining: 26.9s\n",
            "695:\ttest: 0.9506476\tbest: 0.9506476 (695)\ttotal: 1m 1s\tremaining: 26.8s\n",
            "696:\ttest: 0.9506497\tbest: 0.9506497 (696)\ttotal: 1m 1s\tremaining: 26.7s\n",
            "697:\ttest: 0.9506545\tbest: 0.9506545 (697)\ttotal: 1m 1s\tremaining: 26.6s\n",
            "698:\ttest: 0.9506827\tbest: 0.9506827 (698)\ttotal: 1m 1s\tremaining: 26.5s\n",
            "699:\ttest: 0.9506879\tbest: 0.9506879 (699)\ttotal: 1m 1s\tremaining: 26.4s\n",
            "700:\ttest: 0.9506903\tbest: 0.9506903 (700)\ttotal: 1m 1s\tremaining: 26.3s\n",
            "701:\ttest: 0.9507460\tbest: 0.9507460 (701)\ttotal: 1m 1s\tremaining: 26.3s\n",
            "702:\ttest: 0.9507440\tbest: 0.9507460 (701)\ttotal: 1m 1s\tremaining: 26.2s\n",
            "703:\ttest: 0.9507492\tbest: 0.9507492 (703)\ttotal: 1m 2s\tremaining: 26.1s\n",
            "704:\ttest: 0.9507593\tbest: 0.9507593 (704)\ttotal: 1m 2s\tremaining: 26s\n",
            "705:\ttest: 0.9507590\tbest: 0.9507593 (704)\ttotal: 1m 2s\tremaining: 25.9s\n",
            "706:\ttest: 0.9507590\tbest: 0.9507593 (704)\ttotal: 1m 2s\tremaining: 25.8s\n",
            "707:\ttest: 0.9507602\tbest: 0.9507602 (707)\ttotal: 1m 2s\tremaining: 25.7s\n",
            "708:\ttest: 0.9507671\tbest: 0.9507671 (708)\ttotal: 1m 2s\tremaining: 25.7s\n",
            "709:\ttest: 0.9507656\tbest: 0.9507671 (708)\ttotal: 1m 2s\tremaining: 25.6s\n",
            "710:\ttest: 0.9507667\tbest: 0.9507671 (708)\ttotal: 1m 2s\tremaining: 25.5s\n",
            "711:\ttest: 0.9507759\tbest: 0.9507759 (711)\ttotal: 1m 2s\tremaining: 25.4s\n",
            "712:\ttest: 0.9507766\tbest: 0.9507766 (712)\ttotal: 1m 2s\tremaining: 25.3s\n",
            "713:\ttest: 0.9507806\tbest: 0.9507806 (713)\ttotal: 1m 2s\tremaining: 25.2s\n",
            "714:\ttest: 0.9507792\tbest: 0.9507806 (713)\ttotal: 1m 3s\tremaining: 25.1s\n",
            "715:\ttest: 0.9507969\tbest: 0.9507969 (715)\ttotal: 1m 3s\tremaining: 25.1s\n",
            "716:\ttest: 0.9508068\tbest: 0.9508068 (716)\ttotal: 1m 3s\tremaining: 25s\n",
            "717:\ttest: 0.9508085\tbest: 0.9508085 (717)\ttotal: 1m 3s\tremaining: 24.9s\n",
            "718:\ttest: 0.9508085\tbest: 0.9508085 (717)\ttotal: 1m 3s\tremaining: 24.8s\n",
            "719:\ttest: 0.9508080\tbest: 0.9508085 (717)\ttotal: 1m 3s\tremaining: 24.7s\n",
            "720:\ttest: 0.9508084\tbest: 0.9508085 (717)\ttotal: 1m 3s\tremaining: 24.6s\n",
            "721:\ttest: 0.9508033\tbest: 0.9508085 (717)\ttotal: 1m 3s\tremaining: 24.5s\n",
            "722:\ttest: 0.9508354\tbest: 0.9508354 (722)\ttotal: 1m 3s\tremaining: 24.4s\n",
            "723:\ttest: 0.9508371\tbest: 0.9508371 (723)\ttotal: 1m 3s\tremaining: 24.3s\n",
            "724:\ttest: 0.9508445\tbest: 0.9508445 (724)\ttotal: 1m 3s\tremaining: 24.3s\n",
            "725:\ttest: 0.9508568\tbest: 0.9508568 (725)\ttotal: 1m 4s\tremaining: 24.2s\n",
            "726:\ttest: 0.9508671\tbest: 0.9508671 (726)\ttotal: 1m 4s\tremaining: 24.1s\n",
            "727:\ttest: 0.9508715\tbest: 0.9508715 (727)\ttotal: 1m 4s\tremaining: 24s\n",
            "728:\ttest: 0.9508743\tbest: 0.9508743 (728)\ttotal: 1m 4s\tremaining: 23.9s\n",
            "729:\ttest: 0.9509033\tbest: 0.9509033 (729)\ttotal: 1m 4s\tremaining: 23.8s\n",
            "730:\ttest: 0.9509077\tbest: 0.9509077 (730)\ttotal: 1m 4s\tremaining: 23.7s\n",
            "731:\ttest: 0.9509069\tbest: 0.9509077 (730)\ttotal: 1m 4s\tremaining: 23.7s\n",
            "732:\ttest: 0.9509126\tbest: 0.9509126 (732)\ttotal: 1m 4s\tremaining: 23.6s\n",
            "733:\ttest: 0.9509159\tbest: 0.9509159 (733)\ttotal: 1m 4s\tremaining: 23.5s\n",
            "734:\ttest: 0.9509221\tbest: 0.9509221 (734)\ttotal: 1m 4s\tremaining: 23.4s\n",
            "735:\ttest: 0.9509239\tbest: 0.9509239 (735)\ttotal: 1m 4s\tremaining: 23.3s\n",
            "736:\ttest: 0.9509283\tbest: 0.9509283 (736)\ttotal: 1m 5s\tremaining: 23.2s\n",
            "737:\ttest: 0.9509372\tbest: 0.9509372 (737)\ttotal: 1m 5s\tremaining: 23.1s\n",
            "738:\ttest: 0.9509470\tbest: 0.9509470 (738)\ttotal: 1m 5s\tremaining: 23s\n",
            "739:\ttest: 0.9509543\tbest: 0.9509543 (739)\ttotal: 1m 5s\tremaining: 23s\n",
            "740:\ttest: 0.9509708\tbest: 0.9509708 (740)\ttotal: 1m 5s\tremaining: 22.9s\n",
            "741:\ttest: 0.9509992\tbest: 0.9509992 (741)\ttotal: 1m 5s\tremaining: 22.8s\n",
            "742:\ttest: 0.9510050\tbest: 0.9510050 (742)\ttotal: 1m 5s\tremaining: 22.7s\n",
            "743:\ttest: 0.9510238\tbest: 0.9510238 (743)\ttotal: 1m 5s\tremaining: 22.6s\n",
            "744:\ttest: 0.9510246\tbest: 0.9510246 (744)\ttotal: 1m 5s\tremaining: 22.5s\n",
            "745:\ttest: 0.9510287\tbest: 0.9510287 (745)\ttotal: 1m 5s\tremaining: 22.4s\n",
            "746:\ttest: 0.9510274\tbest: 0.9510287 (745)\ttotal: 1m 5s\tremaining: 22.3s\n",
            "747:\ttest: 0.9510403\tbest: 0.9510403 (747)\ttotal: 1m 6s\tremaining: 22.2s\n",
            "748:\ttest: 0.9510483\tbest: 0.9510483 (748)\ttotal: 1m 6s\tremaining: 22.1s\n",
            "749:\ttest: 0.9510596\tbest: 0.9510596 (749)\ttotal: 1m 6s\tremaining: 22.1s\n",
            "750:\ttest: 0.9510585\tbest: 0.9510596 (749)\ttotal: 1m 6s\tremaining: 22s\n",
            "751:\ttest: 0.9510683\tbest: 0.9510683 (751)\ttotal: 1m 6s\tremaining: 21.9s\n",
            "752:\ttest: 0.9510756\tbest: 0.9510756 (752)\ttotal: 1m 6s\tremaining: 21.8s\n",
            "753:\ttest: 0.9511064\tbest: 0.9511064 (753)\ttotal: 1m 6s\tremaining: 21.7s\n",
            "754:\ttest: 0.9511165\tbest: 0.9511165 (754)\ttotal: 1m 6s\tremaining: 21.6s\n",
            "755:\ttest: 0.9511249\tbest: 0.9511249 (755)\ttotal: 1m 6s\tremaining: 21.5s\n",
            "756:\ttest: 0.9511316\tbest: 0.9511316 (756)\ttotal: 1m 6s\tremaining: 21.5s\n",
            "757:\ttest: 0.9511556\tbest: 0.9511556 (757)\ttotal: 1m 6s\tremaining: 21.4s\n",
            "758:\ttest: 0.9511612\tbest: 0.9511612 (758)\ttotal: 1m 7s\tremaining: 21.3s\n",
            "759:\ttest: 0.9511620\tbest: 0.9511620 (759)\ttotal: 1m 7s\tremaining: 21.2s\n",
            "760:\ttest: 0.9511934\tbest: 0.9511934 (760)\ttotal: 1m 7s\tremaining: 21.1s\n",
            "761:\ttest: 0.9511902\tbest: 0.9511934 (760)\ttotal: 1m 7s\tremaining: 21s\n",
            "762:\ttest: 0.9511972\tbest: 0.9511972 (762)\ttotal: 1m 7s\tremaining: 20.9s\n",
            "763:\ttest: 0.9512005\tbest: 0.9512005 (763)\ttotal: 1m 7s\tremaining: 20.8s\n",
            "764:\ttest: 0.9511999\tbest: 0.9512005 (763)\ttotal: 1m 7s\tremaining: 20.8s\n",
            "765:\ttest: 0.9512007\tbest: 0.9512007 (765)\ttotal: 1m 7s\tremaining: 20.7s\n",
            "766:\ttest: 0.9512013\tbest: 0.9512013 (766)\ttotal: 1m 7s\tremaining: 20.6s\n",
            "767:\ttest: 0.9512070\tbest: 0.9512070 (767)\ttotal: 1m 7s\tremaining: 20.5s\n",
            "768:\ttest: 0.9512072\tbest: 0.9512072 (768)\ttotal: 1m 7s\tremaining: 20.4s\n",
            "769:\ttest: 0.9512064\tbest: 0.9512072 (768)\ttotal: 1m 8s\tremaining: 20.3s\n",
            "770:\ttest: 0.9512149\tbest: 0.9512149 (770)\ttotal: 1m 8s\tremaining: 20.2s\n",
            "771:\ttest: 0.9512214\tbest: 0.9512214 (771)\ttotal: 1m 8s\tremaining: 20.1s\n",
            "772:\ttest: 0.9512176\tbest: 0.9512214 (771)\ttotal: 1m 8s\tremaining: 20.1s\n",
            "773:\ttest: 0.9512183\tbest: 0.9512214 (771)\ttotal: 1m 8s\tremaining: 20s\n",
            "774:\ttest: 0.9512236\tbest: 0.9512236 (774)\ttotal: 1m 8s\tremaining: 19.9s\n",
            "775:\ttest: 0.9512223\tbest: 0.9512236 (774)\ttotal: 1m 8s\tremaining: 19.8s\n",
            "776:\ttest: 0.9512237\tbest: 0.9512237 (776)\ttotal: 1m 8s\tremaining: 19.7s\n",
            "777:\ttest: 0.9512274\tbest: 0.9512274 (777)\ttotal: 1m 8s\tremaining: 19.6s\n",
            "778:\ttest: 0.9512287\tbest: 0.9512287 (778)\ttotal: 1m 8s\tremaining: 19.5s\n",
            "779:\ttest: 0.9512453\tbest: 0.9512453 (779)\ttotal: 1m 8s\tremaining: 19.4s\n",
            "780:\ttest: 0.9512476\tbest: 0.9512476 (780)\ttotal: 1m 9s\tremaining: 19.4s\n",
            "781:\ttest: 0.9512578\tbest: 0.9512578 (781)\ttotal: 1m 9s\tremaining: 19.3s\n",
            "782:\ttest: 0.9512680\tbest: 0.9512680 (782)\ttotal: 1m 9s\tremaining: 19.2s\n",
            "783:\ttest: 0.9512962\tbest: 0.9512962 (783)\ttotal: 1m 9s\tremaining: 19.1s\n",
            "784:\ttest: 0.9513255\tbest: 0.9513255 (784)\ttotal: 1m 9s\tremaining: 19s\n",
            "785:\ttest: 0.9513292\tbest: 0.9513292 (785)\ttotal: 1m 9s\tremaining: 18.9s\n",
            "786:\ttest: 0.9513363\tbest: 0.9513363 (786)\ttotal: 1m 9s\tremaining: 18.8s\n",
            "787:\ttest: 0.9513339\tbest: 0.9513363 (786)\ttotal: 1m 9s\tremaining: 18.7s\n",
            "788:\ttest: 0.9513505\tbest: 0.9513505 (788)\ttotal: 1m 9s\tremaining: 18.7s\n",
            "789:\ttest: 0.9513575\tbest: 0.9513575 (789)\ttotal: 1m 9s\tremaining: 18.6s\n",
            "790:\ttest: 0.9513685\tbest: 0.9513685 (790)\ttotal: 1m 9s\tremaining: 18.5s\n",
            "791:\ttest: 0.9513845\tbest: 0.9513845 (791)\ttotal: 1m 10s\tremaining: 18.4s\n",
            "792:\ttest: 0.9513998\tbest: 0.9513998 (792)\ttotal: 1m 10s\tremaining: 18.3s\n",
            "793:\ttest: 0.9514047\tbest: 0.9514047 (793)\ttotal: 1m 10s\tremaining: 18.2s\n",
            "794:\ttest: 0.9514056\tbest: 0.9514056 (794)\ttotal: 1m 10s\tremaining: 18.1s\n",
            "795:\ttest: 0.9514065\tbest: 0.9514065 (795)\ttotal: 1m 10s\tremaining: 18.1s\n",
            "796:\ttest: 0.9514077\tbest: 0.9514077 (796)\ttotal: 1m 10s\tremaining: 18s\n",
            "797:\ttest: 0.9514047\tbest: 0.9514077 (796)\ttotal: 1m 10s\tremaining: 17.9s\n",
            "798:\ttest: 0.9514066\tbest: 0.9514077 (796)\ttotal: 1m 10s\tremaining: 17.8s\n",
            "799:\ttest: 0.9514193\tbest: 0.9514193 (799)\ttotal: 1m 10s\tremaining: 17.7s\n",
            "800:\ttest: 0.9514238\tbest: 0.9514238 (800)\ttotal: 1m 10s\tremaining: 17.6s\n",
            "801:\ttest: 0.9514293\tbest: 0.9514293 (801)\ttotal: 1m 10s\tremaining: 17.5s\n",
            "802:\ttest: 0.9514333\tbest: 0.9514333 (802)\ttotal: 1m 11s\tremaining: 17.4s\n",
            "803:\ttest: 0.9514389\tbest: 0.9514389 (803)\ttotal: 1m 11s\tremaining: 17.3s\n",
            "804:\ttest: 0.9514566\tbest: 0.9514566 (804)\ttotal: 1m 11s\tremaining: 17.3s\n",
            "805:\ttest: 0.9514570\tbest: 0.9514570 (805)\ttotal: 1m 11s\tremaining: 17.2s\n",
            "806:\ttest: 0.9514676\tbest: 0.9514676 (806)\ttotal: 1m 11s\tremaining: 17.1s\n",
            "807:\ttest: 0.9514670\tbest: 0.9514676 (806)\ttotal: 1m 11s\tremaining: 17s\n",
            "808:\ttest: 0.9514781\tbest: 0.9514781 (808)\ttotal: 1m 11s\tremaining: 16.9s\n",
            "809:\ttest: 0.9514795\tbest: 0.9514795 (809)\ttotal: 1m 11s\tremaining: 16.8s\n",
            "810:\ttest: 0.9514857\tbest: 0.9514857 (810)\ttotal: 1m 11s\tremaining: 16.7s\n",
            "811:\ttest: 0.9514851\tbest: 0.9514857 (810)\ttotal: 1m 11s\tremaining: 16.6s\n",
            "812:\ttest: 0.9514840\tbest: 0.9514857 (810)\ttotal: 1m 11s\tremaining: 16.6s\n",
            "813:\ttest: 0.9514616\tbest: 0.9514857 (810)\ttotal: 1m 12s\tremaining: 16.5s\n",
            "814:\ttest: 0.9514692\tbest: 0.9514857 (810)\ttotal: 1m 12s\tremaining: 16.4s\n",
            "815:\ttest: 0.9514848\tbest: 0.9514857 (810)\ttotal: 1m 12s\tremaining: 16.3s\n",
            "816:\ttest: 0.9514793\tbest: 0.9514857 (810)\ttotal: 1m 12s\tremaining: 16.2s\n",
            "817:\ttest: 0.9514838\tbest: 0.9514857 (810)\ttotal: 1m 12s\tremaining: 16.1s\n",
            "818:\ttest: 0.9514852\tbest: 0.9514857 (810)\ttotal: 1m 12s\tremaining: 16s\n",
            "819:\ttest: 0.9514937\tbest: 0.9514937 (819)\ttotal: 1m 12s\tremaining: 16s\n",
            "820:\ttest: 0.9514852\tbest: 0.9514937 (819)\ttotal: 1m 12s\tremaining: 15.9s\n",
            "821:\ttest: 0.9514986\tbest: 0.9514986 (821)\ttotal: 1m 12s\tremaining: 15.8s\n",
            "822:\ttest: 0.9515022\tbest: 0.9515022 (822)\ttotal: 1m 12s\tremaining: 15.7s\n",
            "823:\ttest: 0.9514998\tbest: 0.9515022 (822)\ttotal: 1m 13s\tremaining: 15.6s\n",
            "824:\ttest: 0.9515338\tbest: 0.9515338 (824)\ttotal: 1m 13s\tremaining: 15.5s\n",
            "825:\ttest: 0.9515396\tbest: 0.9515396 (825)\ttotal: 1m 13s\tremaining: 15.4s\n",
            "826:\ttest: 0.9515703\tbest: 0.9515703 (826)\ttotal: 1m 13s\tremaining: 15.3s\n",
            "827:\ttest: 0.9515746\tbest: 0.9515746 (827)\ttotal: 1m 13s\tremaining: 15.2s\n",
            "828:\ttest: 0.9515831\tbest: 0.9515831 (828)\ttotal: 1m 13s\tremaining: 15.2s\n",
            "829:\ttest: 0.9515833\tbest: 0.9515833 (829)\ttotal: 1m 13s\tremaining: 15.1s\n",
            "830:\ttest: 0.9516055\tbest: 0.9516055 (830)\ttotal: 1m 13s\tremaining: 15s\n",
            "831:\ttest: 0.9516097\tbest: 0.9516097 (831)\ttotal: 1m 13s\tremaining: 14.9s\n",
            "832:\ttest: 0.9516315\tbest: 0.9516315 (832)\ttotal: 1m 13s\tremaining: 14.8s\n",
            "833:\ttest: 0.9516386\tbest: 0.9516386 (833)\ttotal: 1m 13s\tremaining: 14.7s\n",
            "834:\ttest: 0.9516396\tbest: 0.9516396 (834)\ttotal: 1m 14s\tremaining: 14.6s\n",
            "835:\ttest: 0.9516415\tbest: 0.9516415 (835)\ttotal: 1m 14s\tremaining: 14.5s\n",
            "836:\ttest: 0.9516424\tbest: 0.9516424 (836)\ttotal: 1m 14s\tremaining: 14.5s\n",
            "837:\ttest: 0.9516473\tbest: 0.9516473 (837)\ttotal: 1m 14s\tremaining: 14.4s\n",
            "838:\ttest: 0.9516506\tbest: 0.9516506 (838)\ttotal: 1m 14s\tremaining: 14.3s\n",
            "839:\ttest: 0.9516595\tbest: 0.9516595 (839)\ttotal: 1m 14s\tremaining: 14.2s\n",
            "840:\ttest: 0.9516616\tbest: 0.9516616 (840)\ttotal: 1m 14s\tremaining: 14.1s\n",
            "841:\ttest: 0.9516602\tbest: 0.9516616 (840)\ttotal: 1m 14s\tremaining: 14s\n",
            "842:\ttest: 0.9516578\tbest: 0.9516616 (840)\ttotal: 1m 14s\tremaining: 13.9s\n",
            "843:\ttest: 0.9516625\tbest: 0.9516625 (843)\ttotal: 1m 14s\tremaining: 13.9s\n",
            "844:\ttest: 0.9516621\tbest: 0.9516625 (843)\ttotal: 1m 15s\tremaining: 13.8s\n",
            "845:\ttest: 0.9516567\tbest: 0.9516625 (843)\ttotal: 1m 15s\tremaining: 13.7s\n",
            "846:\ttest: 0.9516619\tbest: 0.9516625 (843)\ttotal: 1m 15s\tremaining: 13.6s\n",
            "847:\ttest: 0.9516727\tbest: 0.9516727 (847)\ttotal: 1m 15s\tremaining: 13.5s\n",
            "848:\ttest: 0.9517446\tbest: 0.9517446 (848)\ttotal: 1m 15s\tremaining: 13.4s\n",
            "849:\ttest: 0.9517513\tbest: 0.9517513 (849)\ttotal: 1m 15s\tremaining: 13.3s\n",
            "850:\ttest: 0.9517652\tbest: 0.9517652 (850)\ttotal: 1m 15s\tremaining: 13.2s\n",
            "851:\ttest: 0.9517565\tbest: 0.9517652 (850)\ttotal: 1m 15s\tremaining: 13.2s\n",
            "852:\ttest: 0.9517639\tbest: 0.9517652 (850)\ttotal: 1m 15s\tremaining: 13.1s\n",
            "853:\ttest: 0.9517711\tbest: 0.9517711 (853)\ttotal: 1m 15s\tremaining: 13s\n",
            "854:\ttest: 0.9517751\tbest: 0.9517751 (854)\ttotal: 1m 16s\tremaining: 12.9s\n",
            "855:\ttest: 0.9517893\tbest: 0.9517893 (855)\ttotal: 1m 16s\tremaining: 12.8s\n",
            "856:\ttest: 0.9517856\tbest: 0.9517893 (855)\ttotal: 1m 16s\tremaining: 12.7s\n",
            "857:\ttest: 0.9517898\tbest: 0.9517898 (857)\ttotal: 1m 16s\tremaining: 12.6s\n",
            "858:\ttest: 0.9517972\tbest: 0.9517972 (858)\ttotal: 1m 16s\tremaining: 12.5s\n",
            "859:\ttest: 0.9517965\tbest: 0.9517972 (858)\ttotal: 1m 16s\tremaining: 12.4s\n",
            "860:\ttest: 0.9517967\tbest: 0.9517972 (858)\ttotal: 1m 16s\tremaining: 12.4s\n",
            "861:\ttest: 0.9517971\tbest: 0.9517972 (858)\ttotal: 1m 16s\tremaining: 12.3s\n",
            "862:\ttest: 0.9518043\tbest: 0.9518043 (862)\ttotal: 1m 16s\tremaining: 12.2s\n",
            "863:\ttest: 0.9518101\tbest: 0.9518101 (863)\ttotal: 1m 16s\tremaining: 12.1s\n",
            "864:\ttest: 0.9518218\tbest: 0.9518218 (864)\ttotal: 1m 16s\tremaining: 12s\n",
            "865:\ttest: 0.9518531\tbest: 0.9518531 (865)\ttotal: 1m 17s\tremaining: 11.9s\n",
            "866:\ttest: 0.9518522\tbest: 0.9518531 (865)\ttotal: 1m 17s\tremaining: 11.8s\n",
            "867:\ttest: 0.9518476\tbest: 0.9518531 (865)\ttotal: 1m 17s\tremaining: 11.7s\n",
            "868:\ttest: 0.9518437\tbest: 0.9518531 (865)\ttotal: 1m 17s\tremaining: 11.7s\n",
            "869:\ttest: 0.9518466\tbest: 0.9518531 (865)\ttotal: 1m 17s\tremaining: 11.6s\n",
            "870:\ttest: 0.9518427\tbest: 0.9518531 (865)\ttotal: 1m 17s\tremaining: 11.5s\n",
            "871:\ttest: 0.9518551\tbest: 0.9518551 (871)\ttotal: 1m 17s\tremaining: 11.4s\n",
            "872:\ttest: 0.9518514\tbest: 0.9518551 (871)\ttotal: 1m 17s\tremaining: 11.3s\n",
            "873:\ttest: 0.9518606\tbest: 0.9518606 (873)\ttotal: 1m 17s\tremaining: 11.2s\n",
            "874:\ttest: 0.9518669\tbest: 0.9518669 (874)\ttotal: 1m 17s\tremaining: 11.1s\n",
            "875:\ttest: 0.9518715\tbest: 0.9518715 (875)\ttotal: 1m 18s\tremaining: 11s\n",
            "876:\ttest: 0.9518650\tbest: 0.9518715 (875)\ttotal: 1m 18s\tremaining: 11s\n",
            "877:\ttest: 0.9518712\tbest: 0.9518715 (875)\ttotal: 1m 18s\tremaining: 10.9s\n",
            "878:\ttest: 0.9519106\tbest: 0.9519106 (878)\ttotal: 1m 18s\tremaining: 10.8s\n",
            "879:\ttest: 0.9519064\tbest: 0.9519106 (878)\ttotal: 1m 18s\tremaining: 10.7s\n",
            "880:\ttest: 0.9519085\tbest: 0.9519106 (878)\ttotal: 1m 18s\tremaining: 10.6s\n",
            "881:\ttest: 0.9519129\tbest: 0.9519129 (881)\ttotal: 1m 18s\tremaining: 10.5s\n",
            "882:\ttest: 0.9519183\tbest: 0.9519183 (882)\ttotal: 1m 18s\tremaining: 10.4s\n",
            "883:\ttest: 0.9519278\tbest: 0.9519278 (883)\ttotal: 1m 18s\tremaining: 10.3s\n",
            "884:\ttest: 0.9519295\tbest: 0.9519295 (884)\ttotal: 1m 18s\tremaining: 10.2s\n",
            "885:\ttest: 0.9519347\tbest: 0.9519347 (885)\ttotal: 1m 18s\tremaining: 10.2s\n",
            "886:\ttest: 0.9519390\tbest: 0.9519390 (886)\ttotal: 1m 19s\tremaining: 10.1s\n",
            "887:\ttest: 0.9519440\tbest: 0.9519440 (887)\ttotal: 1m 19s\tremaining: 9.98s\n",
            "888:\ttest: 0.9519545\tbest: 0.9519545 (888)\ttotal: 1m 19s\tremaining: 9.89s\n",
            "889:\ttest: 0.9519617\tbest: 0.9519617 (889)\ttotal: 1m 19s\tremaining: 9.8s\n",
            "890:\ttest: 0.9519683\tbest: 0.9519683 (890)\ttotal: 1m 19s\tremaining: 9.71s\n",
            "891:\ttest: 0.9519688\tbest: 0.9519688 (891)\ttotal: 1m 19s\tremaining: 9.62s\n",
            "892:\ttest: 0.9519716\tbest: 0.9519716 (892)\ttotal: 1m 19s\tremaining: 9.53s\n",
            "893:\ttest: 0.9520213\tbest: 0.9520213 (893)\ttotal: 1m 19s\tremaining: 9.44s\n",
            "894:\ttest: 0.9520225\tbest: 0.9520225 (894)\ttotal: 1m 19s\tremaining: 9.35s\n",
            "895:\ttest: 0.9520241\tbest: 0.9520241 (895)\ttotal: 1m 19s\tremaining: 9.27s\n",
            "896:\ttest: 0.9520236\tbest: 0.9520241 (895)\ttotal: 1m 19s\tremaining: 9.18s\n",
            "897:\ttest: 0.9520227\tbest: 0.9520241 (895)\ttotal: 1m 20s\tremaining: 9.09s\n",
            "898:\ttest: 0.9520393\tbest: 0.9520393 (898)\ttotal: 1m 20s\tremaining: 9s\n",
            "899:\ttest: 0.9520422\tbest: 0.9520422 (899)\ttotal: 1m 20s\tremaining: 8.91s\n",
            "900:\ttest: 0.9520424\tbest: 0.9520424 (900)\ttotal: 1m 20s\tremaining: 8.82s\n",
            "901:\ttest: 0.9520562\tbest: 0.9520562 (901)\ttotal: 1m 20s\tremaining: 8.73s\n",
            "902:\ttest: 0.9520662\tbest: 0.9520662 (902)\ttotal: 1m 20s\tremaining: 8.65s\n",
            "903:\ttest: 0.9520610\tbest: 0.9520662 (902)\ttotal: 1m 20s\tremaining: 8.56s\n",
            "904:\ttest: 0.9520708\tbest: 0.9520708 (904)\ttotal: 1m 20s\tremaining: 8.47s\n",
            "905:\ttest: 0.9520774\tbest: 0.9520774 (905)\ttotal: 1m 20s\tremaining: 8.38s\n",
            "906:\ttest: 0.9520881\tbest: 0.9520881 (906)\ttotal: 1m 20s\tremaining: 8.29s\n",
            "907:\ttest: 0.9520964\tbest: 0.9520964 (907)\ttotal: 1m 21s\tremaining: 8.21s\n",
            "908:\ttest: 0.9521002\tbest: 0.9521002 (908)\ttotal: 1m 21s\tremaining: 8.12s\n",
            "909:\ttest: 0.9521044\tbest: 0.9521044 (909)\ttotal: 1m 21s\tremaining: 8.03s\n",
            "910:\ttest: 0.9521045\tbest: 0.9521045 (910)\ttotal: 1m 21s\tremaining: 7.94s\n",
            "911:\ttest: 0.9521049\tbest: 0.9521049 (911)\ttotal: 1m 21s\tremaining: 7.85s\n",
            "912:\ttest: 0.9521069\tbest: 0.9521069 (912)\ttotal: 1m 21s\tremaining: 7.76s\n",
            "913:\ttest: 0.9521036\tbest: 0.9521069 (912)\ttotal: 1m 21s\tremaining: 7.67s\n",
            "914:\ttest: 0.9521146\tbest: 0.9521146 (914)\ttotal: 1m 21s\tremaining: 7.58s\n",
            "915:\ttest: 0.9521185\tbest: 0.9521185 (915)\ttotal: 1m 21s\tremaining: 7.49s\n",
            "916:\ttest: 0.9521181\tbest: 0.9521185 (915)\ttotal: 1m 21s\tremaining: 7.41s\n",
            "917:\ttest: 0.9521177\tbest: 0.9521185 (915)\ttotal: 1m 21s\tremaining: 7.32s\n",
            "918:\ttest: 0.9521212\tbest: 0.9521212 (918)\ttotal: 1m 21s\tremaining: 7.22s\n",
            "919:\ttest: 0.9521231\tbest: 0.9521231 (919)\ttotal: 1m 22s\tremaining: 7.14s\n",
            "920:\ttest: 0.9521302\tbest: 0.9521302 (920)\ttotal: 1m 22s\tremaining: 7.05s\n",
            "921:\ttest: 0.9521328\tbest: 0.9521328 (921)\ttotal: 1m 22s\tremaining: 6.96s\n",
            "922:\ttest: 0.9521388\tbest: 0.9521388 (922)\ttotal: 1m 22s\tremaining: 6.87s\n",
            "923:\ttest: 0.9521463\tbest: 0.9521463 (923)\ttotal: 1m 22s\tremaining: 6.78s\n",
            "924:\ttest: 0.9521534\tbest: 0.9521534 (924)\ttotal: 1m 22s\tremaining: 6.69s\n",
            "925:\ttest: 0.9521604\tbest: 0.9521604 (925)\ttotal: 1m 22s\tremaining: 6.61s\n",
            "926:\ttest: 0.9521639\tbest: 0.9521639 (926)\ttotal: 1m 22s\tremaining: 6.51s\n",
            "927:\ttest: 0.9521674\tbest: 0.9521674 (927)\ttotal: 1m 22s\tremaining: 6.43s\n",
            "928:\ttest: 0.9521712\tbest: 0.9521712 (928)\ttotal: 1m 22s\tremaining: 6.34s\n",
            "929:\ttest: 0.9521702\tbest: 0.9521712 (928)\ttotal: 1m 23s\tremaining: 6.25s\n",
            "930:\ttest: 0.9521741\tbest: 0.9521741 (930)\ttotal: 1m 23s\tremaining: 6.17s\n",
            "931:\ttest: 0.9522393\tbest: 0.9522393 (931)\ttotal: 1m 23s\tremaining: 6.08s\n",
            "932:\ttest: 0.9522317\tbest: 0.9522393 (931)\ttotal: 1m 23s\tremaining: 5.99s\n",
            "933:\ttest: 0.9522317\tbest: 0.9522393 (931)\ttotal: 1m 23s\tremaining: 5.9s\n",
            "934:\ttest: 0.9522372\tbest: 0.9522393 (931)\ttotal: 1m 23s\tremaining: 5.81s\n",
            "935:\ttest: 0.9522398\tbest: 0.9522398 (935)\ttotal: 1m 23s\tremaining: 5.72s\n",
            "936:\ttest: 0.9522605\tbest: 0.9522605 (936)\ttotal: 1m 23s\tremaining: 5.63s\n",
            "937:\ttest: 0.9522485\tbest: 0.9522605 (936)\ttotal: 1m 23s\tremaining: 5.54s\n",
            "938:\ttest: 0.9522484\tbest: 0.9522605 (936)\ttotal: 1m 23s\tremaining: 5.45s\n",
            "939:\ttest: 0.9522500\tbest: 0.9522605 (936)\ttotal: 1m 23s\tremaining: 5.36s\n",
            "940:\ttest: 0.9522539\tbest: 0.9522605 (936)\ttotal: 1m 24s\tremaining: 5.27s\n",
            "941:\ttest: 0.9522635\tbest: 0.9522635 (941)\ttotal: 1m 24s\tremaining: 5.19s\n",
            "942:\ttest: 0.9522632\tbest: 0.9522635 (941)\ttotal: 1m 24s\tremaining: 5.1s\n",
            "943:\ttest: 0.9522544\tbest: 0.9522635 (941)\ttotal: 1m 24s\tremaining: 5.01s\n",
            "944:\ttest: 0.9522590\tbest: 0.9522635 (941)\ttotal: 1m 24s\tremaining: 4.92s\n",
            "945:\ttest: 0.9522586\tbest: 0.9522635 (941)\ttotal: 1m 24s\tremaining: 4.83s\n",
            "946:\ttest: 0.9522803\tbest: 0.9522803 (946)\ttotal: 1m 24s\tremaining: 4.74s\n",
            "947:\ttest: 0.9522878\tbest: 0.9522878 (947)\ttotal: 1m 24s\tremaining: 4.65s\n",
            "948:\ttest: 0.9523842\tbest: 0.9523842 (948)\ttotal: 1m 24s\tremaining: 4.56s\n",
            "949:\ttest: 0.9523833\tbest: 0.9523842 (948)\ttotal: 1m 24s\tremaining: 4.47s\n",
            "950:\ttest: 0.9523928\tbest: 0.9523928 (950)\ttotal: 1m 25s\tremaining: 4.38s\n",
            "951:\ttest: 0.9523912\tbest: 0.9523928 (950)\ttotal: 1m 25s\tremaining: 4.29s\n",
            "952:\ttest: 0.9524026\tbest: 0.9524026 (952)\ttotal: 1m 25s\tremaining: 4.21s\n",
            "953:\ttest: 0.9524054\tbest: 0.9524054 (953)\ttotal: 1m 25s\tremaining: 4.12s\n",
            "954:\ttest: 0.9524167\tbest: 0.9524167 (954)\ttotal: 1m 25s\tremaining: 4.03s\n",
            "955:\ttest: 0.9524168\tbest: 0.9524168 (955)\ttotal: 1m 25s\tremaining: 3.94s\n",
            "956:\ttest: 0.9524175\tbest: 0.9524175 (956)\ttotal: 1m 25s\tremaining: 3.85s\n",
            "957:\ttest: 0.9524298\tbest: 0.9524298 (957)\ttotal: 1m 25s\tremaining: 3.76s\n",
            "958:\ttest: 0.9524448\tbest: 0.9524448 (958)\ttotal: 1m 25s\tremaining: 3.67s\n",
            "959:\ttest: 0.9524581\tbest: 0.9524581 (959)\ttotal: 1m 25s\tremaining: 3.58s\n",
            "960:\ttest: 0.9524630\tbest: 0.9524630 (960)\ttotal: 1m 25s\tremaining: 3.49s\n",
            "961:\ttest: 0.9524679\tbest: 0.9524679 (961)\ttotal: 1m 26s\tremaining: 3.4s\n",
            "962:\ttest: 0.9524809\tbest: 0.9524809 (962)\ttotal: 1m 26s\tremaining: 3.31s\n",
            "963:\ttest: 0.9524805\tbest: 0.9524809 (962)\ttotal: 1m 26s\tremaining: 3.22s\n",
            "964:\ttest: 0.9524894\tbest: 0.9524894 (964)\ttotal: 1m 26s\tremaining: 3.13s\n",
            "965:\ttest: 0.9524925\tbest: 0.9524925 (965)\ttotal: 1m 26s\tremaining: 3.04s\n",
            "966:\ttest: 0.9525006\tbest: 0.9525006 (966)\ttotal: 1m 26s\tremaining: 2.95s\n",
            "967:\ttest: 0.9524994\tbest: 0.9525006 (966)\ttotal: 1m 26s\tremaining: 2.86s\n",
            "968:\ttest: 0.9525118\tbest: 0.9525118 (968)\ttotal: 1m 26s\tremaining: 2.77s\n",
            "969:\ttest: 0.9525197\tbest: 0.9525197 (969)\ttotal: 1m 26s\tremaining: 2.69s\n",
            "970:\ttest: 0.9525181\tbest: 0.9525197 (969)\ttotal: 1m 26s\tremaining: 2.6s\n",
            "971:\ttest: 0.9525224\tbest: 0.9525224 (971)\ttotal: 1m 26s\tremaining: 2.51s\n",
            "972:\ttest: 0.9525212\tbest: 0.9525224 (971)\ttotal: 1m 27s\tremaining: 2.42s\n",
            "973:\ttest: 0.9525194\tbest: 0.9525224 (971)\ttotal: 1m 27s\tremaining: 2.33s\n",
            "974:\ttest: 0.9525284\tbest: 0.9525284 (974)\ttotal: 1m 27s\tremaining: 2.24s\n",
            "975:\ttest: 0.9525341\tbest: 0.9525341 (975)\ttotal: 1m 27s\tremaining: 2.15s\n",
            "976:\ttest: 0.9525349\tbest: 0.9525349 (976)\ttotal: 1m 27s\tremaining: 2.06s\n",
            "977:\ttest: 0.9525357\tbest: 0.9525357 (977)\ttotal: 1m 27s\tremaining: 1.97s\n",
            "978:\ttest: 0.9525361\tbest: 0.9525361 (978)\ttotal: 1m 27s\tremaining: 1.88s\n",
            "979:\ttest: 0.9525593\tbest: 0.9525593 (979)\ttotal: 1m 27s\tremaining: 1.79s\n",
            "980:\ttest: 0.9525786\tbest: 0.9525786 (980)\ttotal: 1m 27s\tremaining: 1.7s\n",
            "981:\ttest: 0.9526001\tbest: 0.9526001 (981)\ttotal: 1m 27s\tremaining: 1.61s\n",
            "982:\ttest: 0.9526267\tbest: 0.9526267 (982)\ttotal: 1m 28s\tremaining: 1.52s\n",
            "983:\ttest: 0.9526325\tbest: 0.9526325 (983)\ttotal: 1m 28s\tremaining: 1.43s\n",
            "984:\ttest: 0.9526324\tbest: 0.9526325 (983)\ttotal: 1m 28s\tremaining: 1.34s\n",
            "985:\ttest: 0.9526342\tbest: 0.9526342 (985)\ttotal: 1m 28s\tremaining: 1.25s\n",
            "986:\ttest: 0.9526396\tbest: 0.9526396 (986)\ttotal: 1m 28s\tremaining: 1.16s\n",
            "987:\ttest: 0.9526487\tbest: 0.9526487 (987)\ttotal: 1m 28s\tremaining: 1.07s\n",
            "988:\ttest: 0.9526530\tbest: 0.9526530 (988)\ttotal: 1m 28s\tremaining: 986ms\n",
            "989:\ttest: 0.9526491\tbest: 0.9526530 (988)\ttotal: 1m 28s\tremaining: 896ms\n",
            "990:\ttest: 0.9526475\tbest: 0.9526530 (988)\ttotal: 1m 28s\tremaining: 807ms\n",
            "991:\ttest: 0.9526465\tbest: 0.9526530 (988)\ttotal: 1m 28s\tremaining: 717ms\n",
            "992:\ttest: 0.9526487\tbest: 0.9526530 (988)\ttotal: 1m 28s\tremaining: 627ms\n",
            "993:\ttest: 0.9526452\tbest: 0.9526530 (988)\ttotal: 1m 29s\tremaining: 538ms\n",
            "994:\ttest: 0.9526469\tbest: 0.9526530 (988)\ttotal: 1m 29s\tremaining: 448ms\n",
            "995:\ttest: 0.9526505\tbest: 0.9526530 (988)\ttotal: 1m 29s\tremaining: 358ms\n",
            "996:\ttest: 0.9526547\tbest: 0.9526547 (996)\ttotal: 1m 29s\tremaining: 269ms\n",
            "997:\ttest: 0.9526678\tbest: 0.9526678 (997)\ttotal: 1m 29s\tremaining: 179ms\n",
            "998:\ttest: 0.9526695\tbest: 0.9526695 (998)\ttotal: 1m 29s\tremaining: 89.7ms\n",
            "999:\ttest: 0.9526720\tbest: 0.9526720 (999)\ttotal: 1m 29s\tremaining: 0us\n",
            "\n",
            "bestTest = 0.9526719551\n",
            "bestIteration = 999\n",
            "\n"
          ]
        }
      ]
    },
    {
      "cell_type": "code",
      "source": [
        "pred_probab_cat=pd.DataFrame(pred_probab_cat)\n",
        "pred_probab_cat.columns=['probab_0','probab_1']\n",
        "pred_probab_cat.drop(columns=['probab_0'],inplace=True)\n",
        "pred_probab_cat.columns=['cancelled']\n",
        "result = pd.concat([order_id, pred_probab_cat], axis=1, join='inner')\n"
      ],
      "metadata": {
        "id": "lvH-T_Bv1KSb"
      },
      "execution_count": 17,
      "outputs": []
    },
    {
      "cell_type": "markdown",
      "source": [
        "## FINAL SUBMISSION"
      ],
      "metadata": {
        "id": "EVS8Ka7stvUa"
      }
    },
    {
      "cell_type": "code",
      "source": [
        "## Adjust the directories accordingly before saving data\n",
        "result.to_csv('drive/MyDrive/Cascade cup/final/final_sub.csv',index=False)\n"
      ],
      "metadata": {
        "id": "SrEHmAeRQLIw"
      },
      "execution_count": 18,
      "outputs": []
    },
    {
      "cell_type": "code",
      "source": [
        ""
      ],
      "metadata": {
        "id": "A3a-Akgzz5V5"
      },
      "execution_count": 18,
      "outputs": []
    }
  ]
}